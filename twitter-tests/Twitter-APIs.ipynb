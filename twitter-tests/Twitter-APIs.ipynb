{
 "cells": [
  {
   "cell_type": "code",
   "execution_count": 3,
   "metadata": {
    "colab": {
     "base_uri": "https://localhost:8080/",
     "height": 178
    },
    "colab_type": "code",
    "executionInfo": {
     "elapsed": 3060,
     "status": "ok",
     "timestamp": 1590975090784,
     "user": {
      "displayName": "Gaurav Deshpande",
      "photoUrl": "",
      "userId": "18245162799623495207"
     },
     "user_tz": 240
    },
    "id": "Y351bOVBuUNV",
    "outputId": "bfb21544-4509-4037-ea62-719fe820cc7d"
   },
   "outputs": [],
   "source": [
    "#     !pip install python-twitter"
   ]
  },
  {
   "cell_type": "code",
   "execution_count": 18,
   "metadata": {
    "colab": {},
    "colab_type": "code",
    "id": "JoPu84FoxXRu"
   },
   "outputs": [],
   "source": [
    "import twitter"
   ]
  },
  {
   "cell_type": "code",
   "execution_count": 19,
   "metadata": {
    "colab": {
     "base_uri": "https://localhost:8080/",
     "height": 35
    },
    "colab_type": "code",
    "executionInfo": {
     "elapsed": 353,
     "status": "ok",
     "timestamp": 1590975177843,
     "user": {
      "displayName": "Gaurav Deshpande",
      "photoUrl": "",
      "userId": "18245162799623495207"
     },
     "user_tz": 240
    },
    "id": "HPbXdSCNxcvt",
    "outputId": "148b0c15-4a25-45cf-c36d-e89f80f94546"
   },
   "outputs": [
    {
     "data": {
      "text/plain": [
       "<twitter.api.Api at 0x1cfdb332608>"
      ]
     },
     "execution_count": 19,
     "metadata": {},
     "output_type": "execute_result"
    }
   ],
   "source": [
    "# api = twitter.Api(consumer_key='',\n",
    "#                   consumer_secret='',\n",
    "#                   access_token_key='',\n",
    "#                   access_token_secret='')\n",
    "\n",
    "api = twitter.Api(access_token_key = \"\",\n",
    "access_token_secret = \"\",\n",
    "consumer_key = \"\",\n",
    "consumer_secret = \"\")\n",
    "api"
   ]
  },
  {
   "cell_type": "code",
   "execution_count": 20,
   "metadata": {
    "colab": {
     "base_uri": "https://localhost:8080/",
     "height": 55
    },
    "colab_type": "code",
    "executionInfo": {
     "elapsed": 501,
     "status": "ok",
     "timestamp": 1590975181067,
     "user": {
      "displayName": "Gaurav Deshpande",
      "photoUrl": "",
      "userId": "18245162799623495207"
     },
     "user_tz": 240
    },
    "id": "dm72kMg-xuzs",
    "outputId": "93e7b238-7f9c-4524-b44f-d70d7b7e02c2"
   },
   "outputs": [
    {
     "name": "stdout",
     "output_type": "stream",
     "text": [
      "{\"created_at\": \"Sun Mar 22 21:11:05 +0000 2020\", \"default_profile\": true, \"default_profile_image\": true, \"id\": 1241834718041079813, \"id_str\": \"1241834718041079813\", \"name\": \"Gaurav\", \"profile_background_color\": \"F5F8FA\", \"profile_image_url\": \"http://abs.twimg.com/sticky/default_profile_images/default_profile_normal.png\", \"profile_image_url_https\": \"https://abs.twimg.com/sticky/default_profile_images/default_profile_normal.png\", \"profile_link_color\": \"1DA1F2\", \"profile_sidebar_border_color\": \"C0DEED\", \"profile_sidebar_fill_color\": \"DDEEF6\", \"profile_text_color\": \"333333\", \"profile_use_background_image\": true, \"screen_name\": \"Gaurav23173827\", \"status\": {\"created_at\": \"Mon Apr 13 17:30:49 +0000 2020\", \"id\": 1249751909331861511, \"id_str\": \"1249751909331861511\", \"lang\": \"en\", \"retweet_count\": 537, \"retweeted\": true, \"retweeted_status\": {\"created_at\": \"Wed Jan 22 00:23:57 +0000 2020\", \"favorite_count\": 565, \"id\": 1219777687138422785, \"id_str\": \"1219777687138422785\", \"lang\": \"en\", \"retweet_count\": 537, \"retweeted\": true, \"source\": \"<a href=\\\"http://twitter.com/download/iphone\\\" rel=\\\"nofollow\\\">Twitter for iPhone</a>\", \"text\": \"\\ud83c\\udde8\\ud83c\\uddf3 #ChinaPneumonia\\n\\u2014 The CDC has confirmed the FIRST #US case of Wuhan #coronavirus after a traveler was diagnosed\\u2026 https://t.co/YLplWNg6WO\", \"truncated\": true}, \"source\": \"<a href=\\\"https://mobile.twitter.com\\\" rel=\\\"nofollow\\\">Twitter Web App</a>\", \"text\": \"RT @Dystopia992: \\ud83c\\udde8\\ud83c\\uddf3 #ChinaPneumonia\\n\\u2014 The CDC has confirmed the FIRST #US case of Wuhan #coronavirus after a traveler was diagnosed in Seat\\u2026\"}, \"statuses_count\": 1}\n"
     ]
    }
   ],
   "source": [
    "print(api.VerifyCredentials())"
   ]
  },
  {
   "cell_type": "code",
   "execution_count": null,
   "metadata": {
    "colab": {},
    "colab_type": "code",
    "id": "e9xHrn473HoO"
   },
   "outputs": [],
   "source": []
  },
  {
   "cell_type": "code",
   "execution_count": 21,
   "metadata": {
    "colab": {},
    "colab_type": "code",
    "id": "RU1ag5IRzHOO"
   },
   "outputs": [],
   "source": [
    "search = api.GetSearch(\"https://www.nytimes.com/2020/05/31/us/george-floyd-protests-live-updates.html\")\n"
   ]
  },
  {
   "cell_type": "code",
   "execution_count": 22,
   "metadata": {
    "colab": {
     "base_uri": "https://localhost:8080/",
     "height": 35
    },
    "colab_type": "code",
    "executionInfo": {
     "elapsed": 411,
     "status": "ok",
     "timestamp": 1590976232911,
     "user": {
      "displayName": "Gaurav Deshpande",
      "photoUrl": "",
      "userId": "18245162799623495207"
     },
     "user_tz": 240
    },
    "id": "Dc321BUMj_rE",
    "outputId": "7127f065-381d-47ba-a9dd-39db60b13706"
   },
   "outputs": [
    {
     "data": {
      "text/plain": [
       "15"
      ]
     },
     "execution_count": 22,
     "metadata": {},
     "output_type": "execute_result"
    }
   ],
   "source": [
    "len(search)"
   ]
  },
  {
   "cell_type": "code",
   "execution_count": 23,
   "metadata": {
    "colab": {
     "base_uri": "https://localhost:8080/",
     "height": 198
    },
    "colab_type": "code",
    "executionInfo": {
     "elapsed": 343,
     "status": "ok",
     "timestamp": 1590975312132,
     "user": {
      "displayName": "Gaurav Deshpande",
      "photoUrl": "",
      "userId": "18245162799623495207"
     },
     "user_tz": 240
    },
    "id": "L_8udUbq2VhN",
    "outputId": "0c87ecea-2b2b-4af6-d342-fad4cdbc78a4"
   },
   "outputs": [
    {
     "data": {
      "text/plain": [
       "[Status(ID=1267366725588185091, ScreenName=MRodOfficial, Created=Mon Jun 01 08:05:48 +0000 2020, Text='Love you New York Times but under article ‘Trump heard not seen’ you say this:’Moreover, American law applies terro… https://t.co/NaFjtXwJd5'),\n",
       " Status(ID=1268724473768947712, ScreenName=TvqkjVV5FGfJSbU, Created=Fri Jun 05 02:01:00 +0000 2020, Text='RT @MRodOfficial: Love you New York Times but under article ‘Trump heard not seen’ you say this:’Moreover, American law applies terrorist d…'),\n",
       " Status(ID=1268256360707350529, ScreenName=4rsYouth, Created=Wed Jun 03 19:00:54 +0000 2020, Text=\"Here's a live update on movements in the states surrounding the murder of George Floyd and #BlackLivesMatter from t… https://t.co/qeJtSaVbDY\"),\n",
       " Status(ID=1267882302706577408, ScreenName=Kushwaha0106355, Created=Tue Jun 02 18:14:31 +0000 2020, Text='@PMOIndia @narendramodi https://t.co/JSCnREAZV9 अश्वेत युवक की श्वेत पुलिस द्वारा गला दबाकर मार डालने के विरोध में… https://t.co/PzEv1T7SIP'),\n",
       " Status(ID=1267881868524785665, ScreenName=Kushwaha0106355, Created=Tue Jun 02 18:12:48 +0000 2020, Text='@Profdilipmandal https://t.co/JSCnREAZV9 अश्वेत युवक की श्वेत पुलिस द्वारा गला दबाकर मार डालने के विरोध में जो रा… https://t.co/SROKYRq1VI'),\n",
       " Status(ID=1267863632978853888, ScreenName=dslybacon, Created=Tue Jun 02 17:00:20 +0000 2020, Text='NYTimes https://t.co/EtXZcFebYU'),\n",
       " Status(ID=1267782259614126080, ScreenName=GullstrandPer, Created=Tue Jun 02 11:36:59 +0000 2020, Text='RT @BylineBelife: Alla ljusen i Vita Huset har släckts ner och det rapporteras att Trump har tagit sin tillflykt till en bunker i närheten.…'),\n",
       " Status(ID=1267746559384522753, ScreenName=rpstranslations, Created=Tue Jun 02 09:15:08 +0000 2020, Text='Cities on Edge as Fires Burn Near White House https://t.co/vfKsuNA52l'),\n",
       " Status(ID=1267715697926443009, ScreenName=viorelpatru, Created=Tue Jun 02 07:12:30 +0000 2020, Text='\"Cities on Edge as Fires Burn Near White House\" by Unknown Author via NYT https://t.co/gN1IhpkpLt https://t.co/Mp4L9llbgu'),\n",
       " Status(ID=1267698827018022912, ScreenName=LadySnow26, Created=Tue Jun 02 06:05:27 +0000 2020, Text='RT @MRodOfficial: Love you New York Times but under article ‘Trump heard not seen’ you say this:’Moreover, American law applies terrorist d…'),\n",
       " Status(ID=1267693139638341634, ScreenName=GrindLife234, Created=Tue Jun 02 05:42:51 +0000 2020, Text='RT @MRodOfficial: Love you New York Times but under article ‘Trump heard not seen’ you say this:’Moreover, American law applies terrorist d…'),\n",
       " Status(ID=1267692203318611968, ScreenName=AriPregen1, Created=Tue Jun 02 05:39:08 +0000 2020, Text='New York Times Most Viewed Stories: Live George Floyd Protest Updates and Video https://t.co/MdVm5SKU1b Ari Pregen'),\n",
       " Status(ID=1267689620403376129, ScreenName=GoldenFlamez101, Created=Tue Jun 02 05:28:52 +0000 2020, Text='RT @MRodOfficial: Love you New York Times but under article ‘Trump heard not seen’ you say this:’Moreover, American law applies terrorist d…'),\n",
       " Status(ID=1267688943849537536, ScreenName=Jerry_Sandoval, Created=Tue Jun 02 05:26:11 +0000 2020, Text='Live George Floyd Protest Updates and Video https://t.co/lDC45BHGVr'),\n",
       " Status(ID=1267686196022595592, ScreenName=DivaMentality1, Created=Tue Jun 02 05:15:16 +0000 2020, Text='RT @MRodOfficial: Love you New York Times but under article ‘Trump heard not seen’ you say this:’Moreover, American law applies terrorist d…')]"
      ]
     },
     "execution_count": 23,
     "metadata": {},
     "output_type": "execute_result"
    }
   ],
   "source": [
    "search"
   ]
  },
  {
   "cell_type": "code",
   "execution_count": 0,
   "metadata": {
    "colab": {
     "base_uri": "https://localhost:8080/",
     "height": 1000
    },
    "colab_type": "code",
    "executionInfo": {
     "elapsed": 1417,
     "status": "ok",
     "timestamp": 1585603592639,
     "user": {
      "displayName": "Rahul Suresh Salla",
      "photoUrl": "",
      "userId": "09858844239403294552"
     },
     "user_tz": 240
    },
    "id": "8BNGRDkTzOAY",
    "outputId": "4c7e5147-887e-46f3-ffe0-5a16b785eed3"
   },
   "outputs": [
    {
     "data": {
      "text/plain": [
       "['AsDict',\n",
       " 'AsJsonString',\n",
       " 'NewFromJsonDict',\n",
       " '__class__',\n",
       " '__delattr__',\n",
       " '__dict__',\n",
       " '__dir__',\n",
       " '__doc__',\n",
       " '__eq__',\n",
       " '__format__',\n",
       " '__ge__',\n",
       " '__getattribute__',\n",
       " '__gt__',\n",
       " '__hash__',\n",
       " '__init__',\n",
       " '__init_subclass__',\n",
       " '__le__',\n",
       " '__lt__',\n",
       " '__module__',\n",
       " '__ne__',\n",
       " '__new__',\n",
       " '__reduce__',\n",
       " '__reduce_ex__',\n",
       " '__repr__',\n",
       " '__setattr__',\n",
       " '__sizeof__',\n",
       " '__str__',\n",
       " '__subclasshook__',\n",
       " '__weakref__',\n",
       " '_json',\n",
       " 'contributors',\n",
       " 'coordinates',\n",
       " 'created_at',\n",
       " 'created_at_in_seconds',\n",
       " 'current_user_retweet',\n",
       " 'favorite_count',\n",
       " 'favorited',\n",
       " 'full_text',\n",
       " 'geo',\n",
       " 'hashtags',\n",
       " 'id',\n",
       " 'id_str',\n",
       " 'in_reply_to_screen_name',\n",
       " 'in_reply_to_status_id',\n",
       " 'in_reply_to_user_id',\n",
       " 'lang',\n",
       " 'location',\n",
       " 'media',\n",
       " 'param_defaults',\n",
       " 'place',\n",
       " 'possibly_sensitive',\n",
       " 'quoted_status',\n",
       " 'quoted_status_id',\n",
       " 'quoted_status_id_str',\n",
       " 'retweet_count',\n",
       " 'retweeted',\n",
       " 'retweeted_status',\n",
       " 'scopes',\n",
       " 'source',\n",
       " 'text',\n",
       " 'truncated',\n",
       " 'tweet_mode',\n",
       " 'urls',\n",
       " 'user',\n",
       " 'user_mentions',\n",
       " 'withheld_copyright',\n",
       " 'withheld_in_countries',\n",
       " 'withheld_scope']"
      ]
     },
     "execution_count": 16,
     "metadata": {
      "tags": []
     },
     "output_type": "execute_result"
    }
   ],
   "source": [
    "dir(search[1])"
   ]
  },
  {
   "cell_type": "code",
   "execution_count": 0,
   "metadata": {
    "colab": {
     "base_uri": "https://localhost:8080/",
     "height": 34
    },
    "colab_type": "code",
    "executionInfo": {
     "elapsed": 579,
     "status": "ok",
     "timestamp": 1585603594270,
     "user": {
      "displayName": "Rahul Suresh Salla",
      "photoUrl": "",
      "userId": "09858844239403294552"
     },
     "user_tz": 240
    },
    "id": "Zus1KO9I1Rjx",
    "outputId": "f91d96d6-bee4-4749-f599-59ed5e9ee6b0"
   },
   "outputs": [
    {
     "data": {
      "text/plain": [
       "231"
      ]
     },
     "execution_count": 17,
     "metadata": {
      "tags": []
     },
     "output_type": "execute_result"
    }
   ],
   "source": [
    "search[0].retweet_count"
   ]
  },
  {
   "cell_type": "code",
   "execution_count": 0,
   "metadata": {
    "colab": {
     "base_uri": "https://localhost:8080/",
     "height": 164
    },
    "colab_type": "code",
    "executionInfo": {
     "elapsed": 586,
     "status": "error",
     "timestamp": 1585603624952,
     "user": {
      "displayName": "Rahul Suresh Salla",
      "photoUrl": "",
      "userId": "09858844239403294552"
     },
     "user_tz": 240
    },
    "id": "Ue4TF-Ri3KrV",
    "outputId": "064f4fbb-3f7b-430c-f822-0485f656d89c"
   },
   "outputs": [
    {
     "ename": "AttributeError",
     "evalue": "ignored",
     "output_type": "error",
     "traceback": [
      "\u001b[0;31m---------------------------------------------------------------------------\u001b[0m",
      "\u001b[0;31mAttributeError\u001b[0m                            Traceback (most recent call last)",
      "\u001b[0;32m<ipython-input-20-a88876b755f8>\u001b[0m in \u001b[0;36m<module>\u001b[0;34m()\u001b[0m\n\u001b[0;32m----> 1\u001b[0;31m \u001b[0msearch\u001b[0m\u001b[0;34m[\u001b[0m\u001b[0;36m0\u001b[0m\u001b[0;34m]\u001b[0m\u001b[0;34m.\u001b[0m\u001b[0mfavourite_count\u001b[0m\u001b[0;34m\u001b[0m\u001b[0;34m\u001b[0m\u001b[0m\n\u001b[0m",
      "\u001b[0;31mAttributeError\u001b[0m: 'Status' object has no attribute 'favourite_count'"
     ]
    }
   ],
   "source": [
    "search[0].favourite_count"
   ]
  },
  {
   "cell_type": "code",
   "execution_count": 0,
   "metadata": {
    "colab": {},
    "colab_type": "code",
    "id": "b-EEMrMD3Xim"
   },
   "outputs": [],
   "source": []
  },
  {
   "cell_type": "code",
   "execution_count": 0,
   "metadata": {
    "colab": {},
    "colab_type": "code",
    "id": "xmQiZ5zyWwvT"
   },
   "outputs": [],
   "source": []
  },
  {
   "cell_type": "code",
   "execution_count": 0,
   "metadata": {
    "colab": {},
    "colab_type": "code",
    "id": "kS_goa8dWwxq"
   },
   "outputs": [],
   "source": []
  },
  {
   "cell_type": "code",
   "execution_count": 0,
   "metadata": {
    "colab": {},
    "colab_type": "code",
    "id": "PmmFdFbZWw0P"
   },
   "outputs": [],
   "source": []
  },
  {
   "cell_type": "markdown",
   "metadata": {
    "colab_type": "text",
    "id": "hZ1rDq5oWw_W"
   },
   "source": [
    "Tweepy\n"
   ]
  },
  {
   "cell_type": "code",
   "execution_count": 7,
   "metadata": {
    "colab": {
     "base_uri": "https://localhost:8080/",
     "height": 187
    },
    "colab_type": "code",
    "executionInfo": {
     "elapsed": 3930,
     "status": "ok",
     "timestamp": 1585603976676,
     "user": {
      "displayName": "Rahul Suresh Salla",
      "photoUrl": "",
      "userId": "09858844239403294552"
     },
     "user_tz": 240
    },
    "id": "ftzJ_7mvWzuh",
    "outputId": "73e4a698-d2d3-49a7-8d79-23d13aa023e5"
   },
   "outputs": [],
   "source": [
    "# !pip install tweepy"
   ]
  },
  {
   "cell_type": "code",
   "execution_count": 1,
   "metadata": {
    "colab": {},
    "colab_type": "code",
    "id": "i5yh3Zz0X9i1"
   },
   "outputs": [],
   "source": [
    "import tweepy"
   ]
  },
  {
   "cell_type": "code",
   "execution_count": 2,
   "metadata": {
    "colab": {},
    "colab_type": "code",
    "id": "vzST_6gKXZuU"
   },
   "outputs": [],
   "source": [
    "consumer_key=''\n",
    "consumer_secret=''\n",
    "access_token_key=''\n",
    "access_token_secret=''"
   ]
  },
  {
   "cell_type": "code",
   "execution_count": 3,
   "metadata": {
    "colab": {},
    "colab_type": "code",
    "id": "T0XQ1FSwXMwi"
   },
   "outputs": [],
   "source": [
    "def get_api():\n",
    "    auth=tweepy.OAuthHandler(consumer_key, consumer_secret)\n",
    "    auth.set_access_token(access_token_key, access_token_secret)\n",
    "    api = tweepy.API(auth, wait_on_rate_limit=True)\n",
    "    return api\n",
    "\n",
    "def get_tweet(url):\n",
    "    tweet_id = url.split('/')[-1]\n",
    "    api = get_api()\n",
    "    tweet = api.get_status(tweet_id, tweet_mode=\"extended\")\n",
    "    return tweet\n",
    "\n",
    "def get_twitter_url(user_name, status_id):\n",
    "    return \"https://twitter.com/\" + str(user_name) + \"/status/\" + str(status_id)"
   ]
  },
  {
   "cell_type": "code",
   "execution_count": 4,
   "metadata": {
    "colab": {},
    "colab_type": "code",
    "id": "3UT6ZCZMXTXv"
   },
   "outputs": [],
   "source": [
    "def update_urls(tweet, api, urls):\n",
    "    tweet_id = tweet.id\n",
    "    user_name = tweet.user.screen_name\n",
    "    max_id = None\n",
    "    replies = tweepy.Cursor(api.search, q='to:{}'.format(user_name),\n",
    "                                since_id=tweet_id, max_id=max_id, tweet_mode='extended').items()\n",
    "\n",
    "    for reply in replies:\n",
    "        if(reply.in_reply_to_status_id == tweet_id):\n",
    "            urls.append(get_twitter_url(user_name, reply.id))\n",
    "            try:\n",
    "                for reply_to_reply in update_urls(reply, api, urls):\n",
    "                    pass\n",
    "            except Exception:\n",
    "                pass\n",
    "        max_id = reply.id\n",
    "    return urls"
   ]
  },
  {
   "cell_type": "code",
   "execution_count": null,
   "metadata": {
    "colab": {},
    "colab_type": "code",
    "id": "H7R8rV0qWyk0"
   },
   "outputs": [],
   "source": []
  },
  {
   "cell_type": "code",
   "execution_count": 5,
   "metadata": {
    "colab": {},
    "colab_type": "code",
    "id": "RQwN9LLPXmyl"
   },
   "outputs": [],
   "source": [
    "url = 'https://twitter.com/nytimes/status/1267366725588185091'\n",
    "api = get_api()\n",
    "tweet = get_tweet(url)\n",
    "# print(tweet.author)\n",
    "# print(tweet.created_at)\n",
    "# print(tweet.entities)\n",
    "# print(tweet.favorite)\n",
    "# print(tweet.favorite_count)\n",
    "# print(tweet.favorited)\n",
    "# print(tweet.id_str)\n",
    "# print(tweet.in_reply_to_screen_name)\n",
    "# print(tweet.in_reply_to_status_id_str)\n",
    "# print(tweet.in_reply_to_user_id_str)\n",
    "# print(tweet.is_quote_status)\n",
    "# print(tweet.lang)\n",
    "# print(tweet.parse)\n",
    "# print(tweet.parse_list)\n",
    "# print(tweet.retweet)\n",
    "# print(tweet.retweet_count)\n",
    "# print(tweet.retweeted)\n",
    "# print(tweet.retweets)\n",
    "# print(tweet.source)\n",
    "# print(tweet.text)\n",
    "# print(tweet.truncated)\n",
    "# print(tweet.user)\n",
    "# dir(tweet)\n",
    "urls = [url]\n",
    "urls = update_urls(tweet, api, urls)"
   ]
  },
  {
   "cell_type": "code",
   "execution_count": 46,
   "metadata": {},
   "outputs": [
    {
     "ename": "AttributeError",
     "evalue": "'Status' object has no attribute 'json'",
     "output_type": "error",
     "traceback": [
      "\u001b[1;31m---------------------------------------------------------------------------\u001b[0m",
      "\u001b[1;31mAttributeError\u001b[0m                            Traceback (most recent call last)",
      "\u001b[1;32m<ipython-input-46-2f4cf48972ad>\u001b[0m in \u001b[0;36m<module>\u001b[1;34m\u001b[0m\n\u001b[0;32m     23\u001b[0m \u001b[1;31m# dir(tweet)\u001b[0m\u001b[1;33m\u001b[0m\u001b[1;33m\u001b[0m\u001b[1;33m\u001b[0m\u001b[0m\n\u001b[0;32m     24\u001b[0m \u001b[1;31m# tweet.entities, type(tweet.entities)\u001b[0m\u001b[1;33m\u001b[0m\u001b[1;33m\u001b[0m\u001b[1;33m\u001b[0m\u001b[0m\n\u001b[1;32m---> 25\u001b[1;33m \u001b[0mtweet\u001b[0m\u001b[1;33m.\u001b[0m\u001b[0mjson\u001b[0m\u001b[1;33m(\u001b[0m\u001b[1;33m)\u001b[0m\u001b[1;33m\u001b[0m\u001b[1;33m\u001b[0m\u001b[0m\n\u001b[0m",
      "\u001b[1;31mAttributeError\u001b[0m: 'Status' object has no attribute 'json'"
     ]
    }
   ],
   "source": [
    "# print(tweet.author.name)\n",
    "# print(tweet.created_at)\n",
    "# print(tweet.entities)\n",
    "# print(tweet.favorite)\n",
    "# print(tweet.favorite_count)\n",
    "# print(tweet.favorited)\n",
    "# print(tweet.id_str)\n",
    "# print(tweet.in_reply_to_screen_name)\n",
    "# print(tweet.in_reply_to_status_id_str)\n",
    "# print(tweet.in_reply_to_user_id_str)\n",
    "# print(tweet.is_quote_status)\n",
    "# print(tweet.lang)\n",
    "# print(tweet.parse)\n",
    "# print(tweet.parse_list)\n",
    "# print(tweet.retweet)\n",
    "# print(tweet.retweet_count)\n",
    "# print(tweet.retweeted)\n",
    "# print(tweet.retweets)\n",
    "# print(tweet.source)\n",
    "# print(tweet.text)\n",
    "# print(tweet.truncated)\n",
    "# print(tweet.user.name)\n",
    "# dir(tweet)\n",
    "# tweet.entities, type(tweet.entities)\n",
    "tweet.json()"
   ]
  },
  {
   "cell_type": "code",
   "execution_count": 6,
   "metadata": {
    "colab": {
     "base_uri": "https://localhost:8080/",
     "height": 595
    },
    "colab_type": "code",
    "executionInfo": {
     "elapsed": 314,
     "status": "ok",
     "timestamp": 1585606168990,
     "user": {
      "displayName": "Rahul Suresh Salla",
      "photoUrl": "",
      "userId": "09858844239403294552"
     },
     "user_tz": 240
    },
    "id": "QeSJ3PsOatuY",
    "outputId": "8c92cc2c-a76a-4e7e-ab55-dcf125c15119"
   },
   "outputs": [
    {
     "data": {
      "text/plain": [
       "['https://twitter.com/nytimes/status/1267366725588185091',\n",
       " 'https://twitter.com/MRodOfficial/status/1267650187411042305',\n",
       " 'https://twitter.com/MRodOfficial/status/1267381473243475968',\n",
       " 'https://twitter.com/MRodOfficial/status/1267381407778832384',\n",
       " 'https://twitter.com/MRodOfficial/status/1267366950826639361']"
      ]
     },
     "execution_count": 6,
     "metadata": {},
     "output_type": "execute_result"
    }
   ],
   "source": [
    "urls"
   ]
  },
  {
   "cell_type": "code",
   "execution_count": 52,
   "metadata": {
    "colab": {},
    "colab_type": "code",
    "id": "8OhkjnMJcOHp"
   },
   "outputs": [
    {
     "name": "stdout",
     "output_type": "stream",
     "text": [
      "<class 'tweepy.models.Status'>\n",
      "<class 'tweepy.models.Status'>\n",
      "<class 'tweepy.models.Status'>\n",
      "<class 'tweepy.models.Status'>\n",
      "<class 'tweepy.models.Status'>\n"
     ]
    }
   ],
   "source": [
    "comments = []\n",
    "for url in urls:\n",
    "    tweet = get_tweet(url)\n",
    "    print(type(tweet))\n",
    "    try:\n",
    "        comments.append(tweet.retweeted_status.full_text)\n",
    "    except AttributeError:  # Not a Retweet\n",
    "        comments.append(tweet.full_text)"
   ]
  },
  {
   "cell_type": "code",
   "execution_count": 53,
   "metadata": {
    "colab": {
     "base_uri": "https://localhost:8080/",
     "height": 615
    },
    "colab_type": "code",
    "executionInfo": {
     "elapsed": 350,
     "status": "ok",
     "timestamp": 1585606250549,
     "user": {
      "displayName": "Rahul Suresh Salla",
      "photoUrl": "",
      "userId": "09858844239403294552"
     },
     "user_tz": 240
    },
    "id": "_vsDOJjZdZW7",
    "outputId": "3e8d551b-5fb8-4016-8fed-e0bab9055d14"
   },
   "outputs": [
    {
     "data": {
      "text/plain": [
       "['Love you New York Times but under article ‘Trump heard not seen’ you say this:’Moreover, American law applies terrorist designations to foreign entities, not domestic groups.’ REVISIT THE PATRIOT act guidelines misdemeanors grant Civilians terrorist status https://t.co/lXeey61u6A',\n",
       " \"@MRodOfficial Regardless, it can be determined domestic terrorism under other stipulated laws of the land. Not exclusive to foreign related acts of terror. But i get your point. Please don't condone their destructive behavior over your disapproval of the president.\",\n",
       " '@MRodOfficial Loved seeing you in Overalls Michelle.',\n",
       " '@MRodOfficial Nice outfit Michelle.',\n",
       " '@MRodOfficial 👁👁']"
      ]
     },
     "execution_count": 53,
     "metadata": {},
     "output_type": "execute_result"
    }
   ],
   "source": [
    "comments"
   ]
  },
  {
   "cell_type": "code",
   "execution_count": 18,
   "metadata": {},
   "outputs": [],
   "source": [
    "consumer_key=''\n",
    "consumer_secret=''\n",
    "access_token_key=''\n",
    "access_token_secret=''"
   ]
  },
  {
   "cell_type": "code",
   "execution_count": 19,
   "metadata": {},
   "outputs": [
    {
     "name": "stdout",
     "output_type": "stream",
     "text": [
      "Error! Failed to get request token.\n"
     ]
    }
   ],
   "source": [
    "auth = tweepy.OAuthHandler(\"\", \"\")\n",
    "try:\n",
    "    redirect_url = auth.get_authorization_url()\n",
    "    print(redirect_url)\n",
    "except tweepy.TweepError:\n",
    "    print('Error! Failed to get request token.')"
   ]
  },
  {
   "cell_type": "code",
   "execution_count": 20,
   "metadata": {},
   "outputs": [
    {
     "name": "stdout",
     "output_type": "stream",
     "text": [
      "https://api.twitter.com/oauth/authorize?oauth_token=n3hwiAAAAAABDRhgAAABcoT5BxU\n"
     ]
    }
   ],
   "source": [
    "auth2 = tweepy.OAuthHandler(consumer_key, consumer_secret)\n",
    "try:\n",
    "    redirect_url2 = auth2.get_authorization_url()\n",
    "    print(redirect_url2)\n",
    "except tweepy.TweepError:\n",
    "    print('Error! Failed to get request token.')"
   ]
  },
  {
   "cell_type": "code",
   "execution_count": 21,
   "metadata": {},
   "outputs": [
    {
     "name": "stdout",
     "output_type": "stream",
     "text": [
      "{'oauth_token': 'n3hwiAAAAAABDRhgAAABcoT5BxU', 'oauth_token_secret': 'ap1ttiC1qAdnZtSFCHhyvFGS7w5LvR3u', 'oauth_callback_confirmed': 'true'}\n"
     ]
    }
   ],
   "source": [
    "acess_token = auth2.request_token\n",
    "print(acess_token)"
   ]
  },
  {
   "cell_type": "code",
   "execution_count": 49,
   "metadata": {},
   "outputs": [],
   "source": [
    "auth2.set_access_token(access_token_key, access_token_secret)"
   ]
  },
  {
   "cell_type": "code",
   "execution_count": 50,
   "metadata": {},
   "outputs": [],
   "source": [
    "api = tweepy.API(auth2)"
   ]
  },
  {
   "cell_type": "code",
   "execution_count": 51,
   "metadata": {},
   "outputs": [
    {
     "data": {
      "text/plain": [
       "Status(_api=<tweepy.api.API object at 0x00000229029E2A48>, _json={'created_at': 'Mon Jun 01 08:05:48 +0000 2020', 'id': 1267366725588185091, 'id_str': '1267366725588185091', 'text': 'Love you New York Times but under article ‘Trump heard not seen’ you say this:’Moreover, American law applies terro… https://t.co/NaFjtXwJd5', 'truncated': True, 'entities': {'hashtags': [], 'symbols': [], 'user_mentions': [], 'urls': [{'url': 'https://t.co/NaFjtXwJd5', 'expanded_url': 'https://twitter.com/i/web/status/1267366725588185091', 'display_url': 'twitter.com/i/web/status/1…', 'indices': [117, 140]}]}, 'source': '<a href=\"http://twitter.com/download/iphone\" rel=\"nofollow\">Twitter for iPhone</a>', 'in_reply_to_status_id': None, 'in_reply_to_status_id_str': None, 'in_reply_to_user_id': None, 'in_reply_to_user_id_str': None, 'in_reply_to_screen_name': None, 'user': {'id': 51219631, 'id_str': '51219631', 'name': 'Michelle Rodriguez', 'screen_name': 'MRodOfficial', 'location': 'Earth', 'description': 'Student Of Life... ❤️ Goes out to 🇵🇷', 'url': 'https://t.co/d7oMGfmtyP', 'entities': {'url': {'urls': [{'url': 'https://t.co/d7oMGfmtyP', 'expanded_url': 'http://michellerodriguez.com', 'display_url': 'michellerodriguez.com', 'indices': [0, 23]}]}, 'description': {'urls': []}}, 'protected': False, 'followers_count': 1005457, 'friends_count': 154, 'listed_count': 4103, 'created_at': 'Fri Jun 26 20:49:43 +0000 2009', 'favourites_count': 61, 'utc_offset': None, 'time_zone': None, 'geo_enabled': True, 'verified': True, 'statuses_count': 5891, 'lang': None, 'contributors_enabled': False, 'is_translator': False, 'is_translation_enabled': False, 'profile_background_color': '131516', 'profile_background_image_url': 'http://abs.twimg.com/images/themes/theme14/bg.gif', 'profile_background_image_url_https': 'https://abs.twimg.com/images/themes/theme14/bg.gif', 'profile_background_tile': True, 'profile_image_url': 'http://pbs.twimg.com/profile_images/683089216268537857/IjLglLlk_normal.jpg', 'profile_image_url_https': 'https://pbs.twimg.com/profile_images/683089216268537857/IjLglLlk_normal.jpg', 'profile_banner_url': 'https://pbs.twimg.com/profile_banners/51219631/1417426662', 'profile_link_color': '800099', 'profile_sidebar_border_color': 'FFFFFF', 'profile_sidebar_fill_color': 'EFEFEF', 'profile_text_color': '333333', 'profile_use_background_image': True, 'has_extended_profile': False, 'default_profile': False, 'default_profile_image': False, 'following': False, 'follow_request_sent': False, 'notifications': False, 'translator_type': 'none'}, 'geo': None, 'coordinates': None, 'place': None, 'contributors': None, 'is_quote_status': False, 'retweet_count': 36, 'favorite_count': 178, 'favorited': False, 'retweeted': False, 'possibly_sensitive': False, 'possibly_sensitive_appealable': False, 'lang': 'en'}, created_at=datetime.datetime(2020, 6, 1, 8, 5, 48), id=1267366725588185091, id_str='1267366725588185091', text='Love you New York Times but under article ‘Trump heard not seen’ you say this:’Moreover, American law applies terro… https://t.co/NaFjtXwJd5', truncated=True, entities={'hashtags': [], 'symbols': [], 'user_mentions': [], 'urls': [{'url': 'https://t.co/NaFjtXwJd5', 'expanded_url': 'https://twitter.com/i/web/status/1267366725588185091', 'display_url': 'twitter.com/i/web/status/1…', 'indices': [117, 140]}]}, source='Twitter for iPhone', source_url='http://twitter.com/download/iphone', in_reply_to_status_id=None, in_reply_to_status_id_str=None, in_reply_to_user_id=None, in_reply_to_user_id_str=None, in_reply_to_screen_name=None, author=User(_api=<tweepy.api.API object at 0x00000229029E2A48>, _json={'id': 51219631, 'id_str': '51219631', 'name': 'Michelle Rodriguez', 'screen_name': 'MRodOfficial', 'location': 'Earth', 'description': 'Student Of Life... ❤️ Goes out to 🇵🇷', 'url': 'https://t.co/d7oMGfmtyP', 'entities': {'url': {'urls': [{'url': 'https://t.co/d7oMGfmtyP', 'expanded_url': 'http://michellerodriguez.com', 'display_url': 'michellerodriguez.com', 'indices': [0, 23]}]}, 'description': {'urls': []}}, 'protected': False, 'followers_count': 1005457, 'friends_count': 154, 'listed_count': 4103, 'created_at': 'Fri Jun 26 20:49:43 +0000 2009', 'favourites_count': 61, 'utc_offset': None, 'time_zone': None, 'geo_enabled': True, 'verified': True, 'statuses_count': 5891, 'lang': None, 'contributors_enabled': False, 'is_translator': False, 'is_translation_enabled': False, 'profile_background_color': '131516', 'profile_background_image_url': 'http://abs.twimg.com/images/themes/theme14/bg.gif', 'profile_background_image_url_https': 'https://abs.twimg.com/images/themes/theme14/bg.gif', 'profile_background_tile': True, 'profile_image_url': 'http://pbs.twimg.com/profile_images/683089216268537857/IjLglLlk_normal.jpg', 'profile_image_url_https': 'https://pbs.twimg.com/profile_images/683089216268537857/IjLglLlk_normal.jpg', 'profile_banner_url': 'https://pbs.twimg.com/profile_banners/51219631/1417426662', 'profile_link_color': '800099', 'profile_sidebar_border_color': 'FFFFFF', 'profile_sidebar_fill_color': 'EFEFEF', 'profile_text_color': '333333', 'profile_use_background_image': True, 'has_extended_profile': False, 'default_profile': False, 'default_profile_image': False, 'following': False, 'follow_request_sent': False, 'notifications': False, 'translator_type': 'none'}, id=51219631, id_str='51219631', name='Michelle Rodriguez', screen_name='MRodOfficial', location='Earth', description='Student Of Life... ❤️ Goes out to 🇵🇷', url='https://t.co/d7oMGfmtyP', entities={'url': {'urls': [{'url': 'https://t.co/d7oMGfmtyP', 'expanded_url': 'http://michellerodriguez.com', 'display_url': 'michellerodriguez.com', 'indices': [0, 23]}]}, 'description': {'urls': []}}, protected=False, followers_count=1005457, friends_count=154, listed_count=4103, created_at=datetime.datetime(2009, 6, 26, 20, 49, 43), favourites_count=61, utc_offset=None, time_zone=None, geo_enabled=True, verified=True, statuses_count=5891, lang=None, contributors_enabled=False, is_translator=False, is_translation_enabled=False, profile_background_color='131516', profile_background_image_url='http://abs.twimg.com/images/themes/theme14/bg.gif', profile_background_image_url_https='https://abs.twimg.com/images/themes/theme14/bg.gif', profile_background_tile=True, profile_image_url='http://pbs.twimg.com/profile_images/683089216268537857/IjLglLlk_normal.jpg', profile_image_url_https='https://pbs.twimg.com/profile_images/683089216268537857/IjLglLlk_normal.jpg', profile_banner_url='https://pbs.twimg.com/profile_banners/51219631/1417426662', profile_link_color='800099', profile_sidebar_border_color='FFFFFF', profile_sidebar_fill_color='EFEFEF', profile_text_color='333333', profile_use_background_image=True, has_extended_profile=False, default_profile=False, default_profile_image=False, following=False, follow_request_sent=False, notifications=False, translator_type='none'), user=User(_api=<tweepy.api.API object at 0x00000229029E2A48>, _json={'id': 51219631, 'id_str': '51219631', 'name': 'Michelle Rodriguez', 'screen_name': 'MRodOfficial', 'location': 'Earth', 'description': 'Student Of Life... ❤️ Goes out to 🇵🇷', 'url': 'https://t.co/d7oMGfmtyP', 'entities': {'url': {'urls': [{'url': 'https://t.co/d7oMGfmtyP', 'expanded_url': 'http://michellerodriguez.com', 'display_url': 'michellerodriguez.com', 'indices': [0, 23]}]}, 'description': {'urls': []}}, 'protected': False, 'followers_count': 1005457, 'friends_count': 154, 'listed_count': 4103, 'created_at': 'Fri Jun 26 20:49:43 +0000 2009', 'favourites_count': 61, 'utc_offset': None, 'time_zone': None, 'geo_enabled': True, 'verified': True, 'statuses_count': 5891, 'lang': None, 'contributors_enabled': False, 'is_translator': False, 'is_translation_enabled': False, 'profile_background_color': '131516', 'profile_background_image_url': 'http://abs.twimg.com/images/themes/theme14/bg.gif', 'profile_background_image_url_https': 'https://abs.twimg.com/images/themes/theme14/bg.gif', 'profile_background_tile': True, 'profile_image_url': 'http://pbs.twimg.com/profile_images/683089216268537857/IjLglLlk_normal.jpg', 'profile_image_url_https': 'https://pbs.twimg.com/profile_images/683089216268537857/IjLglLlk_normal.jpg', 'profile_banner_url': 'https://pbs.twimg.com/profile_banners/51219631/1417426662', 'profile_link_color': '800099', 'profile_sidebar_border_color': 'FFFFFF', 'profile_sidebar_fill_color': 'EFEFEF', 'profile_text_color': '333333', 'profile_use_background_image': True, 'has_extended_profile': False, 'default_profile': False, 'default_profile_image': False, 'following': False, 'follow_request_sent': False, 'notifications': False, 'translator_type': 'none'}, id=51219631, id_str='51219631', name='Michelle Rodriguez', screen_name='MRodOfficial', location='Earth', description='Student Of Life... ❤️ Goes out to 🇵🇷', url='https://t.co/d7oMGfmtyP', entities={'url': {'urls': [{'url': 'https://t.co/d7oMGfmtyP', 'expanded_url': 'http://michellerodriguez.com', 'display_url': 'michellerodriguez.com', 'indices': [0, 23]}]}, 'description': {'urls': []}}, protected=False, followers_count=1005457, friends_count=154, listed_count=4103, created_at=datetime.datetime(2009, 6, 26, 20, 49, 43), favourites_count=61, utc_offset=None, time_zone=None, geo_enabled=True, verified=True, statuses_count=5891, lang=None, contributors_enabled=False, is_translator=False, is_translation_enabled=False, profile_background_color='131516', profile_background_image_url='http://abs.twimg.com/images/themes/theme14/bg.gif', profile_background_image_url_https='https://abs.twimg.com/images/themes/theme14/bg.gif', profile_background_tile=True, profile_image_url='http://pbs.twimg.com/profile_images/683089216268537857/IjLglLlk_normal.jpg', profile_image_url_https='https://pbs.twimg.com/profile_images/683089216268537857/IjLglLlk_normal.jpg', profile_banner_url='https://pbs.twimg.com/profile_banners/51219631/1417426662', profile_link_color='800099', profile_sidebar_border_color='FFFFFF', profile_sidebar_fill_color='EFEFEF', profile_text_color='333333', profile_use_background_image=True, has_extended_profile=False, default_profile=False, default_profile_image=False, following=False, follow_request_sent=False, notifications=False, translator_type='none'), geo=None, coordinates=None, place=None, contributors=None, is_quote_status=False, retweet_count=36, favorite_count=178, favorited=False, retweeted=False, possibly_sensitive=False, possibly_sensitive_appealable=False, lang='en')"
      ]
     },
     "execution_count": 51,
     "metadata": {},
     "output_type": "execute_result"
    }
   ],
   "source": [
    "api.get_status(\"1267366725588185091\")"
   ]
  },
  {
   "cell_type": "code",
   "execution_count": null,
   "metadata": {},
   "outputs": [],
   "source": []
  }
 ],
 "metadata": {
  "colab": {
   "collapsed_sections": [],
   "name": "Twitter-APIs.ipynb",
   "provenance": []
  },
  "kernelspec": {
   "display_name": "Python 3",
   "language": "python",
   "name": "python3"
  },
  "language_info": {
   "codemirror_mode": {
    "name": "ipython",
    "version": 3
   },
   "file_extension": ".py",
   "mimetype": "text/x-python",
   "name": "python",
   "nbconvert_exporter": "python",
   "pygments_lexer": "ipython3",
   "version": "3.7.6"
  }
 },
 "nbformat": 4,
 "nbformat_minor": 1
}
