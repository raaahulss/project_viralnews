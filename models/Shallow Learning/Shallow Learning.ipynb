{
 "cells": [
  {
   "cell_type": "markdown",
   "metadata": {},
   "source": [
    "Baseline 1"
   ]
  },
  {
   "cell_type": "code",
   "execution_count": 93,
   "metadata": {},
   "outputs": [],
   "source": [
    "import spacy\n",
    "import pandas as pd\n",
    "import re\n",
    "import string\n",
    "import numpy as np"
   ]
  },
  {
   "cell_type": "markdown",
   "metadata": {},
   "source": [
    "## Dataset preparation\n",
    "Importing data"
   ]
  },
  {
   "cell_type": "code",
   "execution_count": 94,
   "metadata": {},
   "outputs": [
    {
     "data": {
      "text/plain": [
       "(Index(['tweet_id', 'created_time', 'count', '1', '2', '3', '4', '5', '6',\n",
       "        'user_id', 'screen_name', 'url', 'follower_count', 'title', 'content',\n",
       "        'expanded_url', 'title_len', 'content_len'],\n",
       "       dtype='object'),\n",
       " 12341)"
      ]
     },
     "execution_count": 94,
     "metadata": {},
     "output_type": "execute_result"
    }
   ],
   "source": [
    "tokens = spacy.load(\"en_core_web_sm\")\n",
    "dataset = pd.read_csv(\"../data/Organic_extended_finalv2.csv\",sep=\"|\", index_col=0)\n",
    "dataset.columns, len(dataset)"
   ]
  },
  {
   "cell_type": "code",
   "execution_count": 95,
   "metadata": {},
   "outputs": [
    {
     "data": {
      "text/plain": [
       "0    ‘All Black Lives Matter’ painted on Hollywood ...\n",
       "1    Millions in lawsuit settlements are another hi...\n",
       "2    Woman becomes first observant Sikh to graduate...\n",
       "3    As Social Distancing Wanes, Cuomo Warns of Ano...\n",
       "4    They lost loved ones to police violence. Georg...\n",
       "Name: title, dtype: object"
      ]
     },
     "execution_count": 95,
     "metadata": {},
     "output_type": "execute_result"
    }
   ],
   "source": [
    "dataset['title'].head()"
   ]
  },
  {
   "cell_type": "markdown",
   "metadata": {},
   "source": [
    "Cleaning text\n",
    "- remove numbers\n",
    "- remove punctutations\n",
    "- remove tabs, next lines\n",
    "- convert text to lower"
   ]
  },
  {
   "cell_type": "code",
   "execution_count": 96,
   "metadata": {},
   "outputs": [],
   "source": [
    "def clean_text(text):\n",
    "    text = re.sub(r\"[^\\x00-\\x7F]+\", \" \", text)\n",
    "    regex = re.compile('[' + re.escape(string.punctuation) + '0-9\\\\r\\\\t\\\\n]')\n",
    "    nopunct = regex.sub(\" \", text.lower())\n",
    "    return nopunct.strip()"
   ]
  },
  {
   "cell_type": "code",
   "execution_count": 97,
   "metadata": {},
   "outputs": [
    {
     "data": {
      "text/plain": [
       "0    all black lives matter  painted on hollywood b...\n",
       "1    millions in lawsuit settlements are another hi...\n",
       "2    woman becomes first observant sikh to graduate...\n",
       "3    as social distancing wanes  cuomo warns of ano...\n",
       "4    they lost loved ones to police violence  georg...\n",
       "Name: title, dtype: object"
      ]
     },
     "execution_count": 97,
     "metadata": {},
     "output_type": "execute_result"
    }
   ],
   "source": [
    "dataset['title'] = dataset['title'].apply(clean_text)\n",
    "dataset['title'].head()"
   ]
  },
  {
   "cell_type": "markdown",
   "metadata": {},
   "source": [
    "Getting max tweets for a row"
   ]
  },
  {
   "cell_type": "code",
   "execution_count": 98,
   "metadata": {},
   "outputs": [
    {
     "name": "stdout",
     "output_type": "stream",
     "text": [
      "{'1', '3', '5', '4', '6', '2'}\n"
     ]
    }
   ],
   "source": [
    "possible_cols = {str(x) for x in range(1,101)}\n",
    "actual_cols = set(dataset.columns).intersection(possible_cols)\n",
    "print(actual_cols)\n",
    "dataset['max_retweets']= dataset[actual_cols].max(axis=1)\n",
    "# dataset[[x for x in actual_cols] + ['max_retweets']].head()"
   ]
  },
  {
   "cell_type": "markdown",
   "metadata": {},
   "source": [
    "Setting labels"
   ]
  },
  {
   "cell_type": "code",
   "execution_count": 130,
   "metadata": {},
   "outputs": [
    {
     "data": {
      "text/html": [
       "<div>\n",
       "<style scoped>\n",
       "    .dataframe tbody tr th:only-of-type {\n",
       "        vertical-align: middle;\n",
       "    }\n",
       "\n",
       "    .dataframe tbody tr th {\n",
       "        vertical-align: top;\n",
       "    }\n",
       "\n",
       "    .dataframe thead th {\n",
       "        text-align: right;\n",
       "    }\n",
       "</style>\n",
       "<table border=\"1\" class=\"dataframe\">\n",
       "  <thead>\n",
       "    <tr style=\"text-align: right;\">\n",
       "      <th></th>\n",
       "      <th>user_id</th>\n",
       "      <th>max_retweets</th>\n",
       "      <th>median</th>\n",
       "      <th>label</th>\n",
       "    </tr>\n",
       "  </thead>\n",
       "  <tbody>\n",
       "    <tr>\n",
       "      <th>0</th>\n",
       "      <td>16664681.0</td>\n",
       "      <td>466.0</td>\n",
       "      <td>18.0</td>\n",
       "      <td>1</td>\n",
       "    </tr>\n",
       "    <tr>\n",
       "      <th>1</th>\n",
       "      <td>28785486.0</td>\n",
       "      <td>163.0</td>\n",
       "      <td>77.0</td>\n",
       "      <td>1</td>\n",
       "    </tr>\n",
       "    <tr>\n",
       "      <th>2</th>\n",
       "      <td>759251.0</td>\n",
       "      <td>936.0</td>\n",
       "      <td>141.0</td>\n",
       "      <td>1</td>\n",
       "    </tr>\n",
       "    <tr>\n",
       "      <th>3</th>\n",
       "      <td>807095.0</td>\n",
       "      <td>2381.0</td>\n",
       "      <td>113.0</td>\n",
       "      <td>1</td>\n",
       "    </tr>\n",
       "    <tr>\n",
       "      <th>4</th>\n",
       "      <td>16664681.0</td>\n",
       "      <td>267.0</td>\n",
       "      <td>18.0</td>\n",
       "      <td>1</td>\n",
       "    </tr>\n",
       "    <tr>\n",
       "      <th>5</th>\n",
       "      <td>5392522.0</td>\n",
       "      <td>938.0</td>\n",
       "      <td>117.0</td>\n",
       "      <td>1</td>\n",
       "    </tr>\n",
       "    <tr>\n",
       "      <th>6</th>\n",
       "      <td>16664681.0</td>\n",
       "      <td>33.0</td>\n",
       "      <td>18.0</td>\n",
       "      <td>1</td>\n",
       "    </tr>\n",
       "    <tr>\n",
       "      <th>7</th>\n",
       "      <td>16664681.0</td>\n",
       "      <td>72.0</td>\n",
       "      <td>18.0</td>\n",
       "      <td>1</td>\n",
       "    </tr>\n",
       "    <tr>\n",
       "      <th>8</th>\n",
       "      <td>16664681.0</td>\n",
       "      <td>48.0</td>\n",
       "      <td>18.0</td>\n",
       "      <td>1</td>\n",
       "    </tr>\n",
       "    <tr>\n",
       "      <th>9</th>\n",
       "      <td>16664681.0</td>\n",
       "      <td>70.0</td>\n",
       "      <td>18.0</td>\n",
       "      <td>1</td>\n",
       "    </tr>\n",
       "    <tr>\n",
       "      <th>10</th>\n",
       "      <td>28785486.0</td>\n",
       "      <td>634.0</td>\n",
       "      <td>77.0</td>\n",
       "      <td>1</td>\n",
       "    </tr>\n",
       "    <tr>\n",
       "      <th>11</th>\n",
       "      <td>5392522.0</td>\n",
       "      <td>151.0</td>\n",
       "      <td>117.0</td>\n",
       "      <td>1</td>\n",
       "    </tr>\n",
       "    <tr>\n",
       "      <th>12</th>\n",
       "      <td>807095.0</td>\n",
       "      <td>759.0</td>\n",
       "      <td>113.0</td>\n",
       "      <td>1</td>\n",
       "    </tr>\n",
       "    <tr>\n",
       "      <th>13</th>\n",
       "      <td>3108351.0</td>\n",
       "      <td>31.0</td>\n",
       "      <td>36.0</td>\n",
       "      <td>0</td>\n",
       "    </tr>\n",
       "    <tr>\n",
       "      <th>14</th>\n",
       "      <td>51241574.0</td>\n",
       "      <td>2649.0</td>\n",
       "      <td>149.0</td>\n",
       "      <td>1</td>\n",
       "    </tr>\n",
       "  </tbody>\n",
       "</table>\n",
       "</div>"
      ],
      "text/plain": [
       "       user_id  max_retweets  median  label\n",
       "0   16664681.0         466.0    18.0      1\n",
       "1   28785486.0         163.0    77.0      1\n",
       "2     759251.0         936.0   141.0      1\n",
       "3     807095.0        2381.0   113.0      1\n",
       "4   16664681.0         267.0    18.0      1\n",
       "5    5392522.0         938.0   117.0      1\n",
       "6   16664681.0          33.0    18.0      1\n",
       "7   16664681.0          72.0    18.0      1\n",
       "8   16664681.0          48.0    18.0      1\n",
       "9   16664681.0          70.0    18.0      1\n",
       "10  28785486.0         634.0    77.0      1\n",
       "11   5392522.0         151.0   117.0      1\n",
       "12    807095.0         759.0   113.0      1\n",
       "13   3108351.0          31.0    36.0      0\n",
       "14  51241574.0        2649.0   149.0      1"
      ]
     },
     "execution_count": 130,
     "metadata": {},
     "output_type": "execute_result"
    }
   ],
   "source": [
    "dataset['label'] = 0\n",
    "dataset['median'] = dataset.groupby('user_id')['max_retweets'].transform('median')\n",
    "dataset.loc[dataset['max_retweets']>=dataset['median'],'label'] = 1\n",
    "dataset[['user_id','max_retweets','median','label']].head(15)"
   ]
  },
  {
   "cell_type": "markdown",
   "metadata": {},
   "source": [
    "default baseline - using median threshold"
   ]
  },
  {
   "cell_type": "code",
   "execution_count": 100,
   "metadata": {},
   "outputs": [
    {
     "data": {
      "text/plain": [
       "(0.5073332793128595, 0.4926667206871404)"
      ]
     },
     "execution_count": 100,
     "metadata": {},
     "output_type": "execute_result"
    }
   ],
   "source": [
    "len(dataset.loc[dataset['label']==1])/len(dataset),len(dataset.loc[dataset['label']==0])/len(dataset)"
   ]
  },
  {
   "cell_type": "markdown",
   "metadata": {},
   "source": [
    "## Baseline coding"
   ]
  },
  {
   "cell_type": "code",
   "execution_count": 101,
   "metadata": {},
   "outputs": [],
   "source": [
    "from sklearn.model_selection import train_test_split\n",
    "from sklearn.feature_extraction.text import CountVectorizer, TfidfVectorizer\n",
    "from sklearn.svm import LinearSVC\n",
    "from sklearn.metrics import classification_report\n"
   ]
  },
  {
   "cell_type": "markdown",
   "metadata": {},
   "source": [
    "- dataset vectorization\n",
    "- shuffling dataset and creating train test split"
   ]
  },
  {
   "cell_type": "code",
   "execution_count": 117,
   "metadata": {},
   "outputs": [
    {
     "name": "stdout",
     "output_type": "stream",
     "text": [
      "(7404, 9178) (7404,) (4937, 9178) (4937,)\n"
     ]
    }
   ],
   "source": [
    "vectorizer = CountVectorizer()\n",
    "\n",
    "X_train, X_test, y_train, y_test = train_test_split(dataset['title'],dataset['label'],\n",
    "                                                    test_size=0.4, random_state=12345,shuffle=True)\n",
    "# vectorizer.fit(X_train)\n",
    "# print(vectorizer.vocabulary_)\n",
    "X_train = vectorizer.fit_transform(X_train)\n",
    "X_test = vectorizer.transform(X_test)\n",
    "print(X_train.shape, y_train.shape, X_test.shape, y_test.shape)"
   ]
  },
  {
   "cell_type": "markdown",
   "metadata": {},
   "source": [
    "training the model"
   ]
  },
  {
   "cell_type": "code",
   "execution_count": 118,
   "metadata": {},
   "outputs": [
    {
     "data": {
      "text/plain": [
       "LinearSVC(C=1.0, class_weight=None, dual=True, fit_intercept=True,\n",
       "          intercept_scaling=1, loss='squared_hinge', max_iter=1000,\n",
       "          multi_class='ovr', penalty='l2', random_state=12345, tol=0.0001,\n",
       "          verbose=0)"
      ]
     },
     "execution_count": 118,
     "metadata": {},
     "output_type": "execute_result"
    }
   ],
   "source": [
    "classifier = LinearSVC(random_state=12345)\n",
    "classifier.fit(X_train, y_train)"
   ]
  },
  {
   "cell_type": "markdown",
   "metadata": {},
   "source": [
    "evaluation"
   ]
  },
  {
   "cell_type": "code",
   "execution_count": 119,
   "metadata": {},
   "outputs": [],
   "source": [
    "y_pred = classifier.predict(X_test)"
   ]
  },
  {
   "cell_type": "code",
   "execution_count": 120,
   "metadata": {},
   "outputs": [
    {
     "name": "stdout",
     "output_type": "stream",
     "text": [
      "              precision    recall  f1-score   support\n",
      "\n",
      "   Non Viral       0.68      0.65      0.66      2416\n",
      "       Viral       0.68      0.70      0.69      2521\n",
      "\n",
      "    accuracy                           0.68      4937\n",
      "   macro avg       0.68      0.68      0.68      4937\n",
      "weighted avg       0.68      0.68      0.68      4937\n",
      "\n"
     ]
    }
   ],
   "source": [
    "print(classification_report(y_test, y_pred,target_names=['Non Viral', 'Viral']))"
   ]
  },
  {
   "cell_type": "code",
   "execution_count": 121,
   "metadata": {},
   "outputs": [
    {
     "name": "stdout",
     "output_type": "stream",
     "text": [
      "              precision    recall  f1-score   support\n",
      "\n",
      "   Non Viral       0.94      0.93      0.94      3664\n",
      "       Viral       0.93      0.95      0.94      3740\n",
      "\n",
      "    accuracy                           0.94      7404\n",
      "   macro avg       0.94      0.94      0.94      7404\n",
      "weighted avg       0.94      0.94      0.94      7404\n",
      "\n"
     ]
    }
   ],
   "source": [
    "print(classification_report(y_train,classifier.predict(X_train) ,target_names=['Non Viral', 'Viral']))"
   ]
  }
 ],
 "metadata": {
  "kernelspec": {
   "display_name": "Python 3",
   "language": "python",
   "name": "python3"
  },
  "language_info": {
   "codemirror_mode": {
    "name": "ipython",
    "version": 3
   },
   "file_extension": ".py",
   "mimetype": "text/x-python",
   "name": "python",
   "nbconvert_exporter": "python",
   "pygments_lexer": "ipython3",
   "version": "3.7.6"
  }
 },
 "nbformat": 4,
 "nbformat_minor": 4
}
