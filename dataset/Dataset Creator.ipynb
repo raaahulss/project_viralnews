{
 "cells": [
  {
   "cell_type": "code",
   "execution_count": 1,
   "metadata": {},
   "outputs": [],
   "source": [
    "import pandas as pd\n",
    "import numpy as np\n",
    "from twarc import Twarc\n",
    "import constants as cnst\n",
    "from newspaper import Article, ArticleException\n",
    "from tqdm import tqdm\n",
    "import string\n",
    "import matplotlib.pylab as plt\n"
   ]
  },
  {
   "cell_type": "code",
   "execution_count": 2,
   "metadata": {},
   "outputs": [],
   "source": [
    "primary = pd.read_csv('./retweet_main.csv', na_values=-1)\n",
    "secondary = pd.read_csv('./retweet_secondary.csv', na_values=-1)\n",
    "t = Twarc(cnst.consumer_key, cnst.consumer_secret,cnst.access_token, cnst.access_token_secret)"
   ]
  },
  {
   "cell_type": "markdown",
   "metadata": {},
   "source": [
    "Identify unpopulated columns"
   ]
  },
  {
   "cell_type": "code",
   "execution_count": 3,
   "metadata": {},
   "outputs": [],
   "source": [
    "columns = {str(i) for i in range(1,101)}\n",
    "unpop_primary = set()\n",
    "unpop_secondary = set()\n",
    "for col in columns:\n",
    "    if (primary[col].isna()).all():\n",
    "        unpop_primary.add(col)\n",
    "    if (secondary[col].isna()).all():\n",
    "        unpop_secondary.add(col)\n",
    "# print(unpop_primary)\n",
    "# print(unpop_secondary)\n",
    "unpop_union = unpop_primary |unpop_secondary\n",
    "pop_cols = columns.difference(unpop_union)"
   ]
  },
  {
   "cell_type": "markdown",
   "metadata": {},
   "source": [
    "Removing unpopulated columns"
   ]
  },
  {
   "cell_type": "code",
   "execution_count": 4,
   "metadata": {},
   "outputs": [
    {
     "name": "stdout",
     "output_type": "stream",
     "text": [
      "Index(['1', 'count', 'created_time', '9', '4', '2', '6', '8', 'next_update',\n",
      "       'tweet_id', '10', '7', '5', '11', '3'],\n",
      "      dtype='object')\n",
      "Index(['1', 'count', 'created_time', '9', '4', '2', '6', '8', 'next_update',\n",
      "       'tweet_id', '10', '7', '5', '11', '3'],\n",
      "      dtype='object')\n"
     ]
    }
   ],
   "source": [
    "primary = primary[set(primary.columns).difference(unpop_union)]\n",
    "print(primary.columns)\n",
    "secondary = secondary[set(secondary.columns).difference(unpop_union)]\n",
    "print(secondary.columns)"
   ]
  },
  {
   "cell_type": "markdown",
   "metadata": {},
   "source": [
    "## Stats 1 :  Tweets per day"
   ]
  },
  {
   "cell_type": "code",
   "execution_count": 5,
   "metadata": {},
   "outputs": [],
   "source": [
    "primary_stats = {}\n",
    "secondary_stats = {}\n",
    "for col in pop_cols:\n",
    "    if col in primary:\n",
    "        primary_stats[int(col)] = len(primary.loc[primary[col].notna()])\n",
    "        secondary_stats[int(col)] = len(secondary.loc[secondary[col].notna()])"
   ]
  },
  {
   "cell_type": "code",
   "execution_count": 6,
   "metadata": {},
   "outputs": [
    {
     "name": "stdout",
     "output_type": "stream",
     "text": [
      "[(1, 14521), (2, 12855), (3, 11166), (4, 9642), (5, 8652), (6, 7543), (7, 5846), (8, 4066), (9, 2377), (10, 1120), (11, 189)]\n",
      "[(1, 14343), (2, 12308), (3, 10614), (4, 9014), (5, 8001), (6, 7300), (7, 6071), (8, 4333), (9, 2666), (10, 1291), (11, 177)]\n"
     ]
    },
    {
     "data": {
      "image/png": "[encoded data removed]",
      "text/plain": [
       "<Figure size 432x288 with 1 Axes>"
      ]
     },
     "metadata": {
      "needs_background": "light"
     },
     "output_type": "display_data"
    }
   ],
   "source": [
    "for stat_list in (primary_stats,secondary_stats):\n",
    "    print(sorted(stat_list.items()))\n",
    "    lists = sorted(stat_list.items()) # sorted by key, return a list of tuples\n",
    "    x, y = zip(*lists) # unpack a list of pairs into two tuples\n",
    "    plt.plot(x, y)\n",
    "plt.show()"
   ]
  },
  {
   "cell_type": "markdown",
   "metadata": {},
   "source": [
    "## Removing columns\n",
    "\n",
    "### Setting column counts"
   ]
  },
  {
   "cell_type": "code",
   "execution_count": 7,
   "metadata": {},
   "outputs": [],
   "source": [
    "column_count = 7"
   ]
  },
  {
   "cell_type": "code",
   "execution_count": 8,
   "metadata": {},
   "outputs": [],
   "source": [
    "valid_columns = [\"tweet_id\",\"created_time\",\"count\"]+[str(i) for i in range(1, column_count)]\n",
    "primary = primary.loc[primary['count'] >= column_count, valid_columns]\n",
    "secondary = secondary.loc[secondary['count'] >= column_count, valid_columns]"
   ]
  },
  {
   "cell_type": "markdown",
   "metadata": {},
   "source": [
    "Dropping rows with na"
   ]
  },
  {
   "cell_type": "code",
   "execution_count": 9,
   "metadata": {},
   "outputs": [],
   "source": [
    "primary = primary.dropna()\n",
    "secondary = secondary.dropna()"
   ]
  },
  {
   "cell_type": "markdown",
   "metadata": {},
   "source": [
    "## Stats 2 : Difference"
   ]
  },
  {
   "cell_type": "code",
   "execution_count": 10,
   "metadata": {},
   "outputs": [
    {
     "data": {
      "text/plain": [
       "(5716, 1827, 373)"
      ]
     },
     "execution_count": 10,
     "metadata": {},
     "output_type": "execute_result"
    }
   ],
   "source": [
    "intersec_ids = set(secondary['tweet_id']).intersection(set(primary['tweet_id']))\n",
    "diff_pri = set(primary['tweet_id']).difference(set(secondary['tweet_id']))\n",
    "diff_sec = set(secondary['tweet_id']).difference(set(primary['tweet_id']))\n",
    "len(intersec_ids),len(diff_pri),len(diff_sec)"
   ]
  },
  {
   "cell_type": "code",
   "execution_count": 11,
   "metadata": {},
   "outputs": [],
   "source": [
    "df = primary.loc[primary['tweet_id'].isin(intersec_ids)].copy()\n",
    "df = df.append(primary.loc[primary['tweet_id'].isin(diff_pri)])\n",
    "df = df.append(secondary.loc[secondary['tweet_id'].isin(diff_sec)])"
   ]
  },
  {
   "cell_type": "code",
   "execution_count": 12,
   "metadata": {},
   "outputs": [],
   "source": [
    "df = df.reset_index().drop('index', axis=1)"
   ]
  },
  {
   "cell_type": "code",
   "execution_count": 13,
   "metadata": {},
   "outputs": [],
   "source": [
    "df['user_id'] = np.nan\n",
    "df['screen_name'] = np.nan\n",
    "df['url'] = np.nan\n",
    "df['follower_count'] = np.nan\n",
    "df['title'] = np.nan\n",
    "df['content'] = np.nan\n",
    "df['author'] = np.nan\n",
    "df['published_data'] = np.nan"
   ]
  },
  {
   "cell_type": "code",
   "execution_count": 14,
   "metadata": {},
   "outputs": [
    {
     "name": "stderr",
     "output_type": "stream",
     "text": [
      "100%|█████████████████████████████████████████████████████████████████████████████████████████████████████████████████| 7916/7916 [01:16<00:00, 103.71it/s]\n"
     ]
    },
    {
     "data": {
      "text/plain": [
       "365"
      ]
     },
     "execution_count": 14,
     "metadata": {},
     "output_type": "execute_result"
    }
   ],
   "source": [
    "not_found = list()\n",
    "for tweet in tqdm(t.hydrate(intersec_ids | diff_pri | diff_sec),total=len(intersec_ids | diff_pri | diff_sec)) :   \n",
    "    df.loc[(df.tweet_id == tweet[\"id\"]), \"user_id\"] = tweet[\"user\"][\"id\"]\n",
    "    df.loc[(df.tweet_id == tweet[\"id\"]), \"screen_name\"] = tweet[\"user\"][\"name\"]\n",
    "    df.loc[(df.tweet_id == tweet[\"id\"]), \"follower_count\"] = tweet[\"user\"][\"followers_count\"]\n",
    "    try:\n",
    "        df.loc[(df.tweet_id == tweet[\"id\"]), \"url\"] = tweet[\"entities\"][\"urls\"][0][\"expanded_url\"]\n",
    "    except:\n",
    "        not_found.append(tweet[\"id\"])\n",
    "len(not_found)"
   ]
  },
  {
   "cell_type": "code",
   "execution_count": 15,
   "metadata": {},
   "outputs": [],
   "source": [
    "# df.to_csv(\"./partial.csv\")"
   ]
  },
  {
   "cell_type": "code",
   "execution_count": 16,
   "metadata": {},
   "outputs": [
    {
     "data": {
      "text/html": [
       "<div>\n",
       "<style scoped>\n",
       "    .dataframe tbody tr th:only-of-type {\n",
       "        vertical-align: middle;\n",
       "    }\n",
       "\n",
       "    .dataframe tbody tr th {\n",
       "        vertical-align: top;\n",
       "    }\n",
       "\n",
       "    .dataframe thead th {\n",
       "        text-align: right;\n",
       "    }\n",
       "</style>\n",
       "<table border=\"1\" class=\"dataframe\">\n",
       "  <thead>\n",
       "    <tr style=\"text-align: right;\">\n",
       "      <th></th>\n",
       "      <th>tweet_id</th>\n",
       "      <th>created_time</th>\n",
       "      <th>count</th>\n",
       "      <th>1</th>\n",
       "      <th>2</th>\n",
       "      <th>3</th>\n",
       "      <th>4</th>\n",
       "      <th>5</th>\n",
       "      <th>6</th>\n",
       "      <th>user_id</th>\n",
       "      <th>screen_name</th>\n",
       "      <th>url</th>\n",
       "      <th>follower_count</th>\n",
       "      <th>title</th>\n",
       "      <th>content</th>\n",
       "      <th>author</th>\n",
       "      <th>published_data</th>\n",
       "    </tr>\n",
       "  </thead>\n",
       "  <tbody>\n",
       "    <tr>\n",
       "      <th>0</th>\n",
       "      <td>1272217655630458881</td>\n",
       "      <td>2020-06-14 17:21:40+00:00</td>\n",
       "      <td>12</td>\n",
       "      <td>454</td>\n",
       "      <td>463.0</td>\n",
       "      <td>462.0</td>\n",
       "      <td>464.0</td>\n",
       "      <td>464.0</td>\n",
       "      <td>466.0</td>\n",
       "      <td>16664681.0</td>\n",
       "      <td>Los Angeles Times</td>\n",
       "      <td>https://lat.ms/3hro9wq</td>\n",
       "      <td>3633869.0</td>\n",
       "      <td>NaN</td>\n",
       "      <td>NaN</td>\n",
       "      <td>NaN</td>\n",
       "      <td>NaN</td>\n",
       "    </tr>\n",
       "    <tr>\n",
       "      <th>1</th>\n",
       "      <td>1272216897237516289</td>\n",
       "      <td>2020-06-14 17:18:39+00:00</td>\n",
       "      <td>12</td>\n",
       "      <td>163</td>\n",
       "      <td>163.0</td>\n",
       "      <td>163.0</td>\n",
       "      <td>163.0</td>\n",
       "      <td>162.0</td>\n",
       "      <td>162.0</td>\n",
       "      <td>28785486.0</td>\n",
       "      <td>ABC News</td>\n",
       "      <td>https://abcn.ws/2UGkIrQ</td>\n",
       "      <td>15735133.0</td>\n",
       "      <td>NaN</td>\n",
       "      <td>NaN</td>\n",
       "      <td>NaN</td>\n",
       "      <td>NaN</td>\n",
       "    </tr>\n",
       "    <tr>\n",
       "      <th>2</th>\n",
       "      <td>1272220034065186817</td>\n",
       "      <td>2020-06-14 17:31:07+00:00</td>\n",
       "      <td>12</td>\n",
       "      <td>910</td>\n",
       "      <td>927.0</td>\n",
       "      <td>929.0</td>\n",
       "      <td>933.0</td>\n",
       "      <td>934.0</td>\n",
       "      <td>936.0</td>\n",
       "      <td>759251.0</td>\n",
       "      <td>CNN</td>\n",
       "      <td>https://cnn.it/3d4Az9Y</td>\n",
       "      <td>48809294.0</td>\n",
       "      <td>NaN</td>\n",
       "      <td>NaN</td>\n",
       "      <td>NaN</td>\n",
       "      <td>NaN</td>\n",
       "    </tr>\n",
       "    <tr>\n",
       "      <th>3</th>\n",
       "      <td>1272219784743202816</td>\n",
       "      <td>2020-06-14 17:30:08+00:00</td>\n",
       "      <td>12</td>\n",
       "      <td>2352</td>\n",
       "      <td>2377.0</td>\n",
       "      <td>2381.0</td>\n",
       "      <td>2378.0</td>\n",
       "      <td>2376.0</td>\n",
       "      <td>2373.0</td>\n",
       "      <td>807095.0</td>\n",
       "      <td>The New York Times</td>\n",
       "      <td>https://nyti.ms/2YDi6vY</td>\n",
       "      <td>46858869.0</td>\n",
       "      <td>NaN</td>\n",
       "      <td>NaN</td>\n",
       "      <td>NaN</td>\n",
       "      <td>NaN</td>\n",
       "    </tr>\n",
       "    <tr>\n",
       "      <th>4</th>\n",
       "      <td>1272220746014572545</td>\n",
       "      <td>2020-06-14 17:33:57+00:00</td>\n",
       "      <td>12</td>\n",
       "      <td>241</td>\n",
       "      <td>267.0</td>\n",
       "      <td>267.0</td>\n",
       "      <td>267.0</td>\n",
       "      <td>267.0</td>\n",
       "      <td>267.0</td>\n",
       "      <td>16664681.0</td>\n",
       "      <td>Los Angeles Times</td>\n",
       "      <td>https://www.latimes.com/california/story/2020-...</td>\n",
       "      <td>3633869.0</td>\n",
       "      <td>NaN</td>\n",
       "      <td>NaN</td>\n",
       "      <td>NaN</td>\n",
       "      <td>NaN</td>\n",
       "    </tr>\n",
       "    <tr>\n",
       "      <th>...</th>\n",
       "      <td>...</td>\n",
       "      <td>...</td>\n",
       "      <td>...</td>\n",
       "      <td>...</td>\n",
       "      <td>...</td>\n",
       "      <td>...</td>\n",
       "      <td>...</td>\n",
       "      <td>...</td>\n",
       "      <td>...</td>\n",
       "      <td>...</td>\n",
       "      <td>...</td>\n",
       "      <td>...</td>\n",
       "      <td>...</td>\n",
       "      <td>...</td>\n",
       "      <td>...</td>\n",
       "      <td>...</td>\n",
       "      <td>...</td>\n",
       "    </tr>\n",
       "    <tr>\n",
       "      <th>7911</th>\n",
       "      <td>1274241839852290048</td>\n",
       "      <td>2020-06-20 07:25:03+00:00</td>\n",
       "      <td>7</td>\n",
       "      <td>46</td>\n",
       "      <td>46.0</td>\n",
       "      <td>46.0</td>\n",
       "      <td>46.0</td>\n",
       "      <td>46.0</td>\n",
       "      <td>46.0</td>\n",
       "      <td>1652541.0</td>\n",
       "      <td>Reuters</td>\n",
       "      <td>https://reut.rs/2zMexez</td>\n",
       "      <td>22071108.0</td>\n",
       "      <td>NaN</td>\n",
       "      <td>NaN</td>\n",
       "      <td>NaN</td>\n",
       "      <td>NaN</td>\n",
       "    </tr>\n",
       "    <tr>\n",
       "      <th>7912</th>\n",
       "      <td>1274243117902856192</td>\n",
       "      <td>2020-06-20 07:30:08+00:00</td>\n",
       "      <td>7</td>\n",
       "      <td>44</td>\n",
       "      <td>46.0</td>\n",
       "      <td>48.0</td>\n",
       "      <td>50.0</td>\n",
       "      <td>50.0</td>\n",
       "      <td>49.0</td>\n",
       "      <td>3108351.0</td>\n",
       "      <td>The Wall Street Journal</td>\n",
       "      <td>https://on.wsj.com/3hNWAxl</td>\n",
       "      <td>17861980.0</td>\n",
       "      <td>NaN</td>\n",
       "      <td>NaN</td>\n",
       "      <td>NaN</td>\n",
       "      <td>NaN</td>\n",
       "    </tr>\n",
       "    <tr>\n",
       "      <th>7913</th>\n",
       "      <td>1274243372828569601</td>\n",
       "      <td>2020-06-20 07:31:09+00:00</td>\n",
       "      <td>7</td>\n",
       "      <td>98</td>\n",
       "      <td>102.0</td>\n",
       "      <td>101.0</td>\n",
       "      <td>99.0</td>\n",
       "      <td>95.0</td>\n",
       "      <td>97.0</td>\n",
       "      <td>759251.0</td>\n",
       "      <td>CNN</td>\n",
       "      <td>https://cnn.it/2NdvWjt</td>\n",
       "      <td>48809287.0</td>\n",
       "      <td>NaN</td>\n",
       "      <td>NaN</td>\n",
       "      <td>NaN</td>\n",
       "      <td>NaN</td>\n",
       "    </tr>\n",
       "    <tr>\n",
       "      <th>7914</th>\n",
       "      <td>1274243580563988481</td>\n",
       "      <td>2020-06-20 07:31:58+00:00</td>\n",
       "      <td>7</td>\n",
       "      <td>22</td>\n",
       "      <td>22.0</td>\n",
       "      <td>23.0</td>\n",
       "      <td>23.0</td>\n",
       "      <td>21.0</td>\n",
       "      <td>22.0</td>\n",
       "      <td>14293310.0</td>\n",
       "      <td>TIME</td>\n",
       "      <td>https://ti.me/3dbSNq3</td>\n",
       "      <td>17288080.0</td>\n",
       "      <td>NaN</td>\n",
       "      <td>NaN</td>\n",
       "      <td>NaN</td>\n",
       "      <td>NaN</td>\n",
       "    </tr>\n",
       "    <tr>\n",
       "      <th>7915</th>\n",
       "      <td>1274243592563933184</td>\n",
       "      <td>2020-06-20 07:32:01+00:00</td>\n",
       "      <td>7</td>\n",
       "      <td>34</td>\n",
       "      <td>35.0</td>\n",
       "      <td>35.0</td>\n",
       "      <td>35.0</td>\n",
       "      <td>35.0</td>\n",
       "      <td>35.0</td>\n",
       "      <td>14173315.0</td>\n",
       "      <td>NBC News</td>\n",
       "      <td>https://nbcnews.to/2NhT5Ba</td>\n",
       "      <td>7669032.0</td>\n",
       "      <td>NaN</td>\n",
       "      <td>NaN</td>\n",
       "      <td>NaN</td>\n",
       "      <td>NaN</td>\n",
       "    </tr>\n",
       "  </tbody>\n",
       "</table>\n",
       "<p>7551 rows × 17 columns</p>\n",
       "</div>"
      ],
      "text/plain": [
       "                 tweet_id               created_time  count     1       2  \\\n",
       "0     1272217655630458881  2020-06-14 17:21:40+00:00     12   454   463.0   \n",
       "1     1272216897237516289  2020-06-14 17:18:39+00:00     12   163   163.0   \n",
       "2     1272220034065186817  2020-06-14 17:31:07+00:00     12   910   927.0   \n",
       "3     1272219784743202816  2020-06-14 17:30:08+00:00     12  2352  2377.0   \n",
       "4     1272220746014572545  2020-06-14 17:33:57+00:00     12   241   267.0   \n",
       "...                   ...                        ...    ...   ...     ...   \n",
       "7911  1274241839852290048  2020-06-20 07:25:03+00:00      7    46    46.0   \n",
       "7912  1274243117902856192  2020-06-20 07:30:08+00:00      7    44    46.0   \n",
       "7913  1274243372828569601  2020-06-20 07:31:09+00:00      7    98   102.0   \n",
       "7914  1274243580563988481  2020-06-20 07:31:58+00:00      7    22    22.0   \n",
       "7915  1274243592563933184  2020-06-20 07:32:01+00:00      7    34    35.0   \n",
       "\n",
       "           3       4       5       6     user_id              screen_name  \\\n",
       "0      462.0   464.0   464.0   466.0  16664681.0        Los Angeles Times   \n",
       "1      163.0   163.0   162.0   162.0  28785486.0                 ABC News   \n",
       "2      929.0   933.0   934.0   936.0    759251.0                      CNN   \n",
       "3     2381.0  2378.0  2376.0  2373.0    807095.0       The New York Times   \n",
       "4      267.0   267.0   267.0   267.0  16664681.0        Los Angeles Times   \n",
       "...      ...     ...     ...     ...         ...                      ...   \n",
       "7911    46.0    46.0    46.0    46.0   1652541.0                  Reuters   \n",
       "7912    48.0    50.0    50.0    49.0   3108351.0  The Wall Street Journal   \n",
       "7913   101.0    99.0    95.0    97.0    759251.0                      CNN   \n",
       "7914    23.0    23.0    21.0    22.0  14293310.0                     TIME   \n",
       "7915    35.0    35.0    35.0    35.0  14173315.0                 NBC News   \n",
       "\n",
       "                                                    url  follower_count  \\\n",
       "0                                https://lat.ms/3hro9wq       3633869.0   \n",
       "1                               https://abcn.ws/2UGkIrQ      15735133.0   \n",
       "2                                https://cnn.it/3d4Az9Y      48809294.0   \n",
       "3                               https://nyti.ms/2YDi6vY      46858869.0   \n",
       "4     https://www.latimes.com/california/story/2020-...       3633869.0   \n",
       "...                                                 ...             ...   \n",
       "7911                            https://reut.rs/2zMexez      22071108.0   \n",
       "7912                         https://on.wsj.com/3hNWAxl      17861980.0   \n",
       "7913                             https://cnn.it/2NdvWjt      48809287.0   \n",
       "7914                              https://ti.me/3dbSNq3      17288080.0   \n",
       "7915                         https://nbcnews.to/2NhT5Ba       7669032.0   \n",
       "\n",
       "      title  content  author  published_data  \n",
       "0       NaN      NaN     NaN             NaN  \n",
       "1       NaN      NaN     NaN             NaN  \n",
       "2       NaN      NaN     NaN             NaN  \n",
       "3       NaN      NaN     NaN             NaN  \n",
       "4       NaN      NaN     NaN             NaN  \n",
       "...     ...      ...     ...             ...  \n",
       "7911    NaN      NaN     NaN             NaN  \n",
       "7912    NaN      NaN     NaN             NaN  \n",
       "7913    NaN      NaN     NaN             NaN  \n",
       "7914    NaN      NaN     NaN             NaN  \n",
       "7915    NaN      NaN     NaN             NaN  \n",
       "\n",
       "[7551 rows x 17 columns]"
      ]
     },
     "execution_count": 16,
     "metadata": {},
     "output_type": "execute_result"
    }
   ],
   "source": [
    "df = df.dropna(subset=['url'])\n",
    "df"
   ]
  },
  {
   "cell_type": "code",
   "execution_count": null,
   "metadata": {},
   "outputs": [
    {
     "name": "stderr",
     "output_type": "stream",
     "text": [
      "  4%|████▊                                                                                                            | 325/7551 [04:12<1:08:45,  1.75it/s]"
     ]
    }
   ],
   "source": [
    "not_parsed = set()\n",
    "for idx, row in tqdm(df.iterrows(), total=len(df)):\n",
    "#     row = uci.loc[idx]  \n",
    "    article = Article(row.url)\n",
    "    article.download()\n",
    "    try:\n",
    "        article.parse()\n",
    "        df.loc[df.url == row.url, 'title']=article.title.replace(\"|\", \" \")\n",
    "        df.loc[df.url == row.url, 'content']=article.text.replace(\"|\", \" \")\n",
    "        df.loc[df.url == row.url, 'author']=\",\".join(article.authors)\n",
    "        df.loc[df.url == row.url, 'published_data']=article.publish_date\n",
    "        if idx%100 == 0 and idx != 0:\n",
    "            df[:idx].to_csv(\"./Organic_extended1_{}.csv\".format(idx), sep=\"|\")\n",
    "#             break\n",
    "    except ArticleException as e:\n",
    "        not_parsed.add(row['url'])\n",
    "#         print(str(e))\n",
    "#         print(row['url'])\n",
    "df.to_csv(\"./Organic_extended.csv\")        \n",
    "print(not_parsed)"
   ]
  },
  {
   "cell_type": "markdown",
   "metadata": {},
   "source": [
    "## Cleaning based on title len"
   ]
  },
  {
   "cell_type": "code",
   "execution_count": null,
   "metadata": {},
   "outputs": [],
   "source": [
    "dataframe = pd.read_csv(\"./Organic_extended.csv\", sep=\"|\") "
   ]
  },
  {
   "cell_type": "code",
   "execution_count": null,
   "metadata": {},
   "outputs": [],
   "source": [
    "dataframe['title_len'] = dataframe['title'].str.len()\n",
    "dataframe['content_len'] = dataframe['content'].str.len()\n",
    "# length = dataframe['content'].str.len()\n",
    "# length.min(), length.max(), length.mean()"
   ]
  },
  {
   "cell_type": "code",
   "execution_count": null,
   "metadata": {},
   "outputs": [],
   "source": [
    "print(dataframe['title_len'].aggregate([np.mean, np.min, np.max]))\n",
    "dataframe['title_len'].plot.hist(bins=500)"
   ]
  },
  {
   "cell_type": "code",
   "execution_count": null,
   "metadata": {},
   "outputs": [],
   "source": [
    "print(dataframe.loc[dataframe['title_len']>=68, ['tweet_id','title']])"
   ]
  },
  {
   "cell_type": "code",
   "execution_count": null,
   "metadata": {},
   "outputs": [],
   "source": [
    "print(dataframe['content_len'].aggregate([np.mean, np.min, np.max]))\n",
    "dataframe['content_len'].plot.hist(bins=500)"
   ]
  },
  {
   "cell_type": "code",
   "execution_count": null,
   "metadata": {},
   "outputs": [],
   "source": [
    "dataframe['']"
   ]
  }
 ],
 "metadata": {
  "kernelspec": {
   "display_name": "Python 3",
   "language": "python",
   "name": "python3"
  },
  "language_info": {
   "codemirror_mode": {
    "name": "ipython",
    "version": 3
   },
   "file_extension": ".py",
   "mimetype": "text/x-python",
   "name": "python",
   "nbconvert_exporter": "python",
   "pygments_lexer": "ipython3",
   "version": "3.7.6"
  }
 },
 "nbformat": 4,
 "nbformat_minor": 4
}
