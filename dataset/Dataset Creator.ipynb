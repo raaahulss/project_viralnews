{
 "cells": [
  {
   "cell_type": "code",
   "execution_count": 1,
   "metadata": {},
   "outputs": [],
   "source": [
    "import pandas as pd\n",
    "import numpy as np\n",
    "from twarc import Twarc\n",
    "import constants as cnst\n",
    "from newspaper import Article, ArticleException\n",
    "from tqdm import tqdm\n",
    "import string\n",
    "import matplotlib.pylab as plt\n",
    "import requests"
   ]
  },
  {
   "cell_type": "code",
   "execution_count": 2,
   "metadata": {},
   "outputs": [],
   "source": [
    "primary = pd.read_csv('./retweet_June_30_20_22_main.csv', na_values=-1)\n",
    "secondary = pd.read_csv('./retweet_June_30_20_20_secondary.csv', na_values=-1)\n",
    "t = Twarc(cnst.consumer_key, cnst.consumer_secret,cnst.access_token, cnst.access_token_secret)"
   ]
  },
  {
   "cell_type": "markdown",
   "metadata": {},
   "source": [
    "Identify unpopulated columns"
   ]
  },
  {
   "cell_type": "code",
   "execution_count": 3,
   "metadata": {},
   "outputs": [],
   "source": [
    "columns = {str(i) for i in range(1,101)}\n",
    "unpop_primary = set()\n",
    "unpop_secondary = set()\n",
    "for col in columns:\n",
    "    if (primary[col].isna()).all():\n",
    "        unpop_primary.add(col)\n",
    "    if (secondary[col].isna()).all():\n",
    "        unpop_secondary.add(col)\n",
    "# print(unpop_primary)\n",
    "# print(unpop_secondary)\n",
    "unpop_union = unpop_primary |unpop_secondary\n",
    "pop_cols = columns.difference(unpop_union)"
   ]
  },
  {
   "cell_type": "markdown",
   "metadata": {},
   "source": [
    "Removing unpopulated columns"
   ]
  },
  {
   "cell_type": "code",
   "execution_count": 4,
   "metadata": {},
   "outputs": [
    {
     "name": "stdout",
     "output_type": "stream",
     "text": [
      "Index(['3', '8', '4', '7', '6', '13', '14', '2', 'next_update', 'created_time',\n",
      "       '11', '9', '5', '12', 'tweet_id', '15', '1', 'count', '16', '10'],\n",
      "      dtype='object')\n",
      "Index(['3', '8', '4', '7', '6', '13', '14', '2', 'next_update', 'created_time',\n",
      "       '11', '9', '5', '12', 'tweet_id', '15', '1', 'count', '16', '10'],\n",
      "      dtype='object')\n"
     ]
    }
   ],
   "source": [
    "primary = primary[set(primary.columns).difference(unpop_union)]\n",
    "print(primary.columns)\n",
    "secondary = secondary[set(secondary.columns).difference(unpop_union)]\n",
    "print(secondary.columns)"
   ]
  },
  {
   "cell_type": "markdown",
   "metadata": {},
   "source": [
    "## Stats 1 :  Tweets per day"
   ]
  },
  {
   "cell_type": "code",
   "execution_count": 5,
   "metadata": {},
   "outputs": [],
   "source": [
    "primary_stats = {}\n",
    "secondary_stats = {}\n",
    "for col in pop_cols:\n",
    "    if col in primary:\n",
    "        primary_stats[int(col)] = len(primary.loc[primary[col].notna()])\n",
    "        secondary_stats[int(col)] = len(secondary.loc[secondary[col].notna()])"
   ]
  },
  {
   "cell_type": "code",
   "execution_count": 6,
   "metadata": {},
   "outputs": [
    {
     "name": "stdout",
     "output_type": "stream",
     "text": [
      "[(1, 21022), (2, 19635), (3, 18679), (4, 17520), (5, 15854), (6, 14111), (7, 12489), (8, 10826), (9, 9407), (10, 8412), (11, 7182), (12, 5448), (13, 3708), (14, 2011), (15, 778), (16, 104)]\n",
      "[(1, 20071), (2, 17818), (3, 16380), (4, 14836), (5, 13223), (6, 11904), (7, 10382), (8, 8729), (9, 7206), (10, 6409), (11, 5639), (12, 4512), (13, 3246), (14, 2013), (15, 900), (16, 101)]\n"
     ]
    },
    {
     "data": {
      "image/png": "[encoded data removed]",
      "text/plain": [
       "<Figure size 432x288 with 1 Axes>"
      ]
     },
     "metadata": {
      "needs_background": "light"
     },
     "output_type": "display_data"
    }
   ],
   "source": [
    "for stat_list in (primary_stats,secondary_stats):\n",
    "    print(sorted(stat_list.items()))\n",
    "    lists = sorted(stat_list.items()) # sorted by key, return a list of tuples\n",
    "    x, y = zip(*lists) # unpack a list of pairs into two tuples\n",
    "    plt.plot(x, y)\n",
    "plt.show()"
   ]
  },
  {
   "cell_type": "markdown",
   "metadata": {},
   "source": [
    "## Removing columns\n",
    "\n",
    "### Setting column counts"
   ]
  },
  {
   "cell_type": "code",
   "execution_count": 7,
   "metadata": {},
   "outputs": [],
   "source": [
    "column_count = 7"
   ]
  },
  {
   "cell_type": "markdown",
   "metadata": {},
   "source": [
    "Weeds out columns that are not populated at all, and removes rows that are not above the defined threshold of column count"
   ]
  },
  {
   "cell_type": "code",
   "execution_count": 8,
   "metadata": {},
   "outputs": [],
   "source": [
    "valid_columns = [\"tweet_id\",\"created_time\",\"count\"]+[str(i) for i in range(1, column_count)]\n",
    "primary = primary.loc[primary['count'] >= column_count, valid_columns]\n",
    "secondary = secondary.loc[secondary['count'] >= column_count, valid_columns]"
   ]
  },
  {
   "cell_type": "markdown",
   "metadata": {},
   "source": [
    "Dropping rows with na"
   ]
  },
  {
   "cell_type": "code",
   "execution_count": 9,
   "metadata": {},
   "outputs": [],
   "source": [
    "primary = primary.dropna()\n",
    "secondary = secondary.dropna()"
   ]
  },
  {
   "cell_type": "markdown",
   "metadata": {},
   "source": [
    "## Stats 2 : Difference"
   ]
  },
  {
   "cell_type": "code",
   "execution_count": 10,
   "metadata": {},
   "outputs": [
    {
     "data": {
      "text/plain": [
       "(10249, 3862, 444)"
      ]
     },
     "execution_count": 10,
     "metadata": {},
     "output_type": "execute_result"
    }
   ],
   "source": [
    "intersec_ids = set(secondary['tweet_id']).intersection(set(primary['tweet_id']))\n",
    "diff_pri = set(primary['tweet_id']).difference(set(secondary['tweet_id']))\n",
    "diff_sec = set(secondary['tweet_id']).difference(set(primary['tweet_id']))\n",
    "len(intersec_ids),len(diff_pri),len(diff_sec)"
   ]
  },
  {
   "cell_type": "code",
   "execution_count": 11,
   "metadata": {},
   "outputs": [],
   "source": [
    "df = primary.loc[primary['tweet_id'].isin(intersec_ids)].copy()\n",
    "df = df.append(primary.loc[primary['tweet_id'].isin(diff_pri)])\n",
    "df = df.append(secondary.loc[secondary['tweet_id'].isin(diff_sec)])"
   ]
  },
  {
   "cell_type": "code",
   "execution_count": 12,
   "metadata": {},
   "outputs": [
    {
     "data": {
      "text/plain": [
       "14555"
      ]
     },
     "execution_count": 12,
     "metadata": {},
     "output_type": "execute_result"
    }
   ],
   "source": [
    "df = df.reset_index().drop('index', axis=1)\n",
    "len(df)"
   ]
  },
  {
   "cell_type": "code",
   "execution_count": 13,
   "metadata": {},
   "outputs": [],
   "source": [
    "df['user_id'] = np.nan\n",
    "df['screen_name'] = np.nan\n",
    "df['url'] = np.nan\n",
    "df['follower_count'] = np.nan\n",
    "df['title'] = np.nan\n",
    "df['content'] = np.nan\n",
    "df['expanded_url'] = np.nan\n"
   ]
  },
  {
   "cell_type": "code",
   "execution_count": 14,
   "metadata": {},
   "outputs": [
    {
     "name": "stderr",
     "output_type": "stream",
     "text": [
      "100%|███████████████████████████████████████████████████████████████████████████████████████████████████████████████| 14555/14555 [01:57<00:00, 123.71it/s]\n"
     ]
    }
   ],
   "source": [
    "not_found = list()\n",
    "for tweet in tqdm(t.hydrate(intersec_ids | diff_pri | diff_sec),total=len(intersec_ids | diff_pri | diff_sec)) :   \n",
    "    df.loc[(df.tweet_id == tweet[\"id\"]), \"user_id\"] = tweet[\"user\"][\"id\"]\n",
    "    df.loc[(df.tweet_id == tweet[\"id\"]), \"screen_name\"] = tweet[\"user\"][\"name\"]\n",
    "    df.loc[(df.tweet_id == tweet[\"id\"]), \"follower_count\"] = tweet[\"user\"][\"followers_count\"]\n",
    "    try:\n",
    "        df.loc[(df.tweet_id == tweet[\"id\"]), \"url\"] = tweet[\"entities\"][\"urls\"][0][\"expanded_url\"]\n",
    "    except:\n",
    "        pass"
   ]
  },
  {
   "cell_type": "code",
   "execution_count": 15,
   "metadata": {},
   "outputs": [],
   "source": [
    "df.to_csv(\"./partial3.csv\")"
   ]
  },
  {
   "cell_type": "code",
   "execution_count": 16,
   "metadata": {},
   "outputs": [
    {
     "data": {
      "text/html": [
       "<div>\n",
       "<style scoped>\n",
       "    .dataframe tbody tr th:only-of-type {\n",
       "        vertical-align: middle;\n",
       "    }\n",
       "\n",
       "    .dataframe tbody tr th {\n",
       "        vertical-align: top;\n",
       "    }\n",
       "\n",
       "    .dataframe thead th {\n",
       "        text-align: right;\n",
       "    }\n",
       "</style>\n",
       "<table border=\"1\" class=\"dataframe\">\n",
       "  <thead>\n",
       "    <tr style=\"text-align: right;\">\n",
       "      <th></th>\n",
       "      <th>tweet_id</th>\n",
       "      <th>created_time</th>\n",
       "      <th>count</th>\n",
       "      <th>1</th>\n",
       "      <th>2</th>\n",
       "      <th>3</th>\n",
       "      <th>4</th>\n",
       "      <th>5</th>\n",
       "      <th>6</th>\n",
       "      <th>user_id</th>\n",
       "      <th>screen_name</th>\n",
       "      <th>url</th>\n",
       "      <th>follower_count</th>\n",
       "      <th>title</th>\n",
       "      <th>content</th>\n",
       "      <th>expanded_url</th>\n",
       "    </tr>\n",
       "  </thead>\n",
       "  <tbody>\n",
       "    <tr>\n",
       "      <th>0</th>\n",
       "      <td>1272217655630458881</td>\n",
       "      <td>2020-06-14 17:21:40+00:00</td>\n",
       "      <td>17</td>\n",
       "      <td>454</td>\n",
       "      <td>463.0</td>\n",
       "      <td>462.0</td>\n",
       "      <td>464.0</td>\n",
       "      <td>464.0</td>\n",
       "      <td>466.0</td>\n",
       "      <td>16664681.0</td>\n",
       "      <td>Los Angeles Times</td>\n",
       "      <td>https://lat.ms/3hro9wq</td>\n",
       "      <td>3634414.0</td>\n",
       "      <td>NaN</td>\n",
       "      <td>NaN</td>\n",
       "      <td>NaN</td>\n",
       "    </tr>\n",
       "    <tr>\n",
       "      <th>1</th>\n",
       "      <td>1272216897237516289</td>\n",
       "      <td>2020-06-14 17:18:39+00:00</td>\n",
       "      <td>17</td>\n",
       "      <td>163</td>\n",
       "      <td>163.0</td>\n",
       "      <td>163.0</td>\n",
       "      <td>163.0</td>\n",
       "      <td>162.0</td>\n",
       "      <td>162.0</td>\n",
       "      <td>28785486.0</td>\n",
       "      <td>ABC News</td>\n",
       "      <td>https://abcn.ws/2UGkIrQ</td>\n",
       "      <td>15737230.0</td>\n",
       "      <td>NaN</td>\n",
       "      <td>NaN</td>\n",
       "      <td>NaN</td>\n",
       "    </tr>\n",
       "    <tr>\n",
       "      <th>2</th>\n",
       "      <td>1272220034065186817</td>\n",
       "      <td>2020-06-14 17:31:07+00:00</td>\n",
       "      <td>17</td>\n",
       "      <td>910</td>\n",
       "      <td>927.0</td>\n",
       "      <td>929.0</td>\n",
       "      <td>933.0</td>\n",
       "      <td>934.0</td>\n",
       "      <td>936.0</td>\n",
       "      <td>759251.0</td>\n",
       "      <td>CNN</td>\n",
       "      <td>https://cnn.it/3d4Az9Y</td>\n",
       "      <td>48830532.0</td>\n",
       "      <td>NaN</td>\n",
       "      <td>NaN</td>\n",
       "      <td>NaN</td>\n",
       "    </tr>\n",
       "    <tr>\n",
       "      <th>3</th>\n",
       "      <td>1272219784743202816</td>\n",
       "      <td>2020-06-14 17:30:08+00:00</td>\n",
       "      <td>17</td>\n",
       "      <td>2352</td>\n",
       "      <td>2377.0</td>\n",
       "      <td>2381.0</td>\n",
       "      <td>2378.0</td>\n",
       "      <td>2376.0</td>\n",
       "      <td>2373.0</td>\n",
       "      <td>807095.0</td>\n",
       "      <td>The New York Times</td>\n",
       "      <td>https://nyti.ms/2YDi6vY</td>\n",
       "      <td>46864681.0</td>\n",
       "      <td>NaN</td>\n",
       "      <td>NaN</td>\n",
       "      <td>NaN</td>\n",
       "    </tr>\n",
       "    <tr>\n",
       "      <th>4</th>\n",
       "      <td>1272220746014572545</td>\n",
       "      <td>2020-06-14 17:33:57+00:00</td>\n",
       "      <td>17</td>\n",
       "      <td>241</td>\n",
       "      <td>267.0</td>\n",
       "      <td>267.0</td>\n",
       "      <td>267.0</td>\n",
       "      <td>267.0</td>\n",
       "      <td>267.0</td>\n",
       "      <td>16664681.0</td>\n",
       "      <td>Los Angeles Times</td>\n",
       "      <td>https://www.latimes.com/california/story/2020-...</td>\n",
       "      <td>3634413.0</td>\n",
       "      <td>NaN</td>\n",
       "      <td>NaN</td>\n",
       "      <td>NaN</td>\n",
       "    </tr>\n",
       "  </tbody>\n",
       "</table>\n",
       "</div>"
      ],
      "text/plain": [
       "              tweet_id               created_time  count     1       2  \\\n",
       "0  1272217655630458881  2020-06-14 17:21:40+00:00     17   454   463.0   \n",
       "1  1272216897237516289  2020-06-14 17:18:39+00:00     17   163   163.0   \n",
       "2  1272220034065186817  2020-06-14 17:31:07+00:00     17   910   927.0   \n",
       "3  1272219784743202816  2020-06-14 17:30:08+00:00     17  2352  2377.0   \n",
       "4  1272220746014572545  2020-06-14 17:33:57+00:00     17   241   267.0   \n",
       "\n",
       "        3       4       5       6     user_id         screen_name  \\\n",
       "0   462.0   464.0   464.0   466.0  16664681.0   Los Angeles Times   \n",
       "1   163.0   163.0   162.0   162.0  28785486.0            ABC News   \n",
       "2   929.0   933.0   934.0   936.0    759251.0                 CNN   \n",
       "3  2381.0  2378.0  2376.0  2373.0    807095.0  The New York Times   \n",
       "4   267.0   267.0   267.0   267.0  16664681.0   Los Angeles Times   \n",
       "\n",
       "                                                 url  follower_count  title  \\\n",
       "0                             https://lat.ms/3hro9wq       3634414.0    NaN   \n",
       "1                            https://abcn.ws/2UGkIrQ      15737230.0    NaN   \n",
       "2                             https://cnn.it/3d4Az9Y      48830532.0    NaN   \n",
       "3                            https://nyti.ms/2YDi6vY      46864681.0    NaN   \n",
       "4  https://www.latimes.com/california/story/2020-...       3634413.0    NaN   \n",
       "\n",
       "   content  expanded_url  \n",
       "0      NaN           NaN  \n",
       "1      NaN           NaN  \n",
       "2      NaN           NaN  \n",
       "3      NaN           NaN  \n",
       "4      NaN           NaN  "
      ]
     },
     "execution_count": 16,
     "metadata": {},
     "output_type": "execute_result"
    }
   ],
   "source": [
    "df = df.dropna(subset=['url'])\n",
    "df.head(5)"
   ]
  },
  {
   "cell_type": "code",
   "execution_count": null,
   "metadata": {},
   "outputs": [
    {
     "name": "stderr",
     "output_type": "stream",
     "text": [
      "  1%|▉                                                                                                               | 112/13866 [02:06<4:09:16,  1.09s/it]"
     ]
    }
   ],
   "source": [
    "http = requests.Session()\n",
    "for idx, row in tqdm(df.iterrows(), total=len(df)):\n",
    "#     row = uci.loc[idx]  \n",
    "    article = Article(row.url)\n",
    "    article.download()\n",
    "    try:\n",
    "        article.parse()\n",
    "        df.loc[df.url == row.url, 'title']=article.title.replace(\"|\", \" \")\n",
    "        df.loc[df.url == row.url, 'content']=article.text.replace(\"|\", \" \")\n",
    "        df.loc[df['url']==row.url,'expanded_url'] = http.get(row.url, timeout=15).url\n",
    "        if idx%400 == 0 and idx != 0:\n",
    "            df[:idx].to_csv(\"./Organic_extended4_{}.csv\".format(idx), sep=\"|\")\n",
    "#             break\n",
    "    except Exception as e:\n",
    "        pass\n",
    "#         print(str(e))\n",
    "#         print(row['url'])\n",
    "df.to_csv(\"./Organic_extended4.csv\", sep=\"|\")        \n",
    "# print(not_parsed)"
   ]
  },
  {
   "cell_type": "code",
   "execution_count": null,
   "metadata": {},
   "outputs": [],
   "source": [
    "# df.to_csv(\"./Organic_extended3.csv\", sep=\"|\") "
   ]
  },
  {
   "cell_type": "markdown",
   "metadata": {},
   "source": [
    "Taking care of unresolved urls"
   ]
  },
  {
   "cell_type": "code",
   "execution_count": null,
   "metadata": {},
   "outputs": [],
   "source": [
    "# dataframe = pd.read_csv(\"./Organic_extended3.csv\", sep=\"|\", index_col=0) "
   ]
  },
  {
   "cell_type": "code",
   "execution_count": null,
   "metadata": {},
   "outputs": [],
   "source": [
    "# goal = dataframe.loc[dataframe['expanded_url'].isnull(),'url']\n",
    "# for x in tqdm(goal, total=len(goal)):\n",
    "#     try:\n",
    "#         dataframe.loc[dataframe['url']== x,'expanded_url'] = requests.get(x, timeout=15).url\n",
    "#     except Exception:\n",
    "#         pass\n",
    "    "
   ]
  },
  {
   "cell_type": "code",
   "execution_count": null,
   "metadata": {},
   "outputs": [],
   "source": [
    "# condition = dataframe['title'].isnull() | dataframe['content'].isnull() | dataframe['expanded_url'].isnull()\n",
    "# print(len(dataframe), dataframe.loc[condition,['tweet_id']].count())\n",
    "\n",
    "# dataframe.loc[condition,['screen_name', 'tweet_id']].groupby(['screen_name']).count()"
   ]
  },
  {
   "cell_type": "code",
   "execution_count": null,
   "metadata": {},
   "outputs": [],
   "source": [
    "# dataframe.to_csv(\"./Organic_extended3_2.csv\", sep=\"|\") "
   ]
  },
  {
   "cell_type": "code",
   "execution_count": null,
   "metadata": {},
   "outputs": [],
   "source": []
  }
 ],
 "metadata": {
  "kernelspec": {
   "display_name": "Python 3",
   "language": "python",
   "name": "python3"
  },
  "language_info": {
   "codemirror_mode": {
    "name": "ipython",
    "version": 3
   },
   "file_extension": ".py",
   "mimetype": "text/x-python",
   "name": "python",
   "nbconvert_exporter": "python",
   "pygments_lexer": "ipython3",
   "version": "3.7.6"
  }
 },
 "nbformat": 4,
 "nbformat_minor": 4
}
