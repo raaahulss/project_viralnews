{
 "cells": [
  {
   "cell_type": "code",
   "execution_count": 1,
   "metadata": {},
   "outputs": [],
   "source": [
    "import pandas as pd\n",
    "import numpy as np\n",
    "from twarc import Twarc\n",
    "import constants as cnst\n",
    "from newspaper import Article, ArticleException\n",
    "from tqdm import tqdm\n",
    "import string\n",
    "import matplotlib.pylab as plt\n",
    "import requests"
   ]
  },
  {
   "cell_type": "code",
   "execution_count": 2,
   "metadata": {},
   "outputs": [],
   "source": [
    "primary = pd.read_csv('./retweet_July_13_20_22_main.csv', na_values=-1)\n",
    "secondary = pd.read_csv('./retweet_July_13_20_13_secondary.csv', na_values=-1)\n",
    "actual = pd.read_csv(\"./Organic_extended_finalv2.csv\", na_values=-1,index_col=0, sep=\"|\")\n",
    "t = Twarc(cnst.consumer_key, cnst.consumer_secret,cnst.access_token, cnst.access_token_secret)"
   ]
  },
  {
   "cell_type": "markdown",
   "metadata": {},
   "source": [
    "Identify unpopulated columns"
   ]
  },
  {
   "cell_type": "code",
   "execution_count": 3,
   "metadata": {},
   "outputs": [],
   "source": [
    "columns = {str(i) for i in range(1,101)}\n",
    "unpop_primary = set()\n",
    "unpop_secondary = set()\n",
    "for col in columns:\n",
    "    if (primary[col].isna()).all():\n",
    "        unpop_primary.add(col)\n",
    "    if (secondary[col].isna()).all():\n",
    "        unpop_secondary.add(col)\n",
    "# print(unpop_primary)\n",
    "# print(unpop_secondary)\n",
    "unpop_union = unpop_primary |unpop_secondary\n",
    "pop_cols = columns.difference(unpop_union)"
   ]
  },
  {
   "cell_type": "markdown",
   "metadata": {},
   "source": [
    "Removing unpopulated columns"
   ]
  },
  {
   "cell_type": "code",
   "execution_count": 4,
   "metadata": {},
   "outputs": [
    {
     "name": "stdout",
     "output_type": "stream",
     "text": [
      "Index(['tweet_id', '12', '9', '5', '4', '28', '29', '23', '14', '6', '15',\n",
      "       '11', '1', '3', '2', 'created_time', 'count', '10', '18', '16', '25',\n",
      "       '20', '24', '13', 'next_update', '8', '26', '27', '7', '19', '22', '21',\n",
      "       '17'],\n",
      "      dtype='object')\n",
      "Index(['tweet_id', '12', '9', '5', '4', '28', '29', '23', '14', '6', '15',\n",
      "       '11', '1', '3', '2', 'created_time', 'count', '10', '18', '16', '25',\n",
      "       '20', '24', '13', 'next_update', '8', '26', '27', '7', '19', '22', '21',\n",
      "       '17'],\n",
      "      dtype='object')\n"
     ]
    }
   ],
   "source": [
    "primary = primary[set(primary.columns).difference(unpop_union)]\n",
    "print(primary.columns)\n",
    "secondary = secondary[set(secondary.columns).difference(unpop_union)]\n",
    "print(secondary.columns)"
   ]
  },
  {
   "cell_type": "markdown",
   "metadata": {},
   "source": [
    "## Stats 1 :  Tweets per day"
   ]
  },
  {
   "cell_type": "code",
   "execution_count": 5,
   "metadata": {},
   "outputs": [],
   "source": [
    "primary_stats = {}\n",
    "secondary_stats = {}\n",
    "for col in pop_cols:\n",
    "    if col in primary:\n",
    "        primary_stats[int(col)] = len(primary.loc[primary[col].notna()])\n",
    "        secondary_stats[int(col)] = len(secondary.loc[secondary[col].notna()])"
   ]
  },
  {
   "cell_type": "code",
   "execution_count": 6,
   "metadata": {},
   "outputs": [
    {
     "name": "stdout",
     "output_type": "stream",
     "text": [
      "[(1, 39662), (2, 38679), (3, 37495), (4, 35859), (5, 34089), (6, 32409), (7, 30831), (8, 29437), (9, 28524), (10, 27463), (11, 25992), (12, 24306), (13, 22653), (14, 21009), (15, 19628), (16, 18672), (17, 17514), (18, 15843), (19, 14102), (20, 12476), (21, 10820), (22, 9398), (23, 8406), (24, 7175), (25, 5441), (26, 3695), (27, 2002), (28, 769), (29, 102)]\n",
      "[(1, 37795), (2, 35686), (3, 33644), (4, 31294), (5, 29094), (6, 27196), (7, 25034), (8, 23021), (9, 21472), (10, 19997), (11, 18361), (12, 16789), (13, 15365), (14, 13809), (15, 12428), (16, 11321), (17, 10054), (18, 8817), (19, 7735), (20, 6800), (21, 5858), (22, 5224), (23, 4702), (24, 4032), (25, 2999), (26, 2004), (27, 1089), (28, 264), (29, 1)]\n"
     ]
    },
    {
     "data": {
      "image/png": "[encoded data removed]",
      "text/plain": [
       "<Figure size 432x288 with 1 Axes>"
      ]
     },
     "metadata": {
      "needs_background": "light"
     },
     "output_type": "display_data"
    }
   ],
   "source": [
    "for stat_list in (primary_stats,secondary_stats):\n",
    "    print(sorted(stat_list.items()))\n",
    "    lists = sorted(stat_list.items()) # sorted by key, return a list of tuples\n",
    "    x, y = zip(*lists) # unpack a list of pairs into two tuples\n",
    "    plt.plot(x, y)\n",
    "plt.show()"
   ]
  },
  {
   "cell_type": "markdown",
   "metadata": {},
   "source": [
    "## Removing columns\n",
    "\n",
    "### Setting column counts"
   ]
  },
  {
   "cell_type": "code",
   "execution_count": 7,
   "metadata": {},
   "outputs": [],
   "source": [
    "column_count = 7"
   ]
  },
  {
   "cell_type": "markdown",
   "metadata": {},
   "source": [
    "Weeds out columns that are not populated at all, and removes rows that are not above the defined threshold of column count"
   ]
  },
  {
   "cell_type": "code",
   "execution_count": 8,
   "metadata": {},
   "outputs": [],
   "source": [
    "valid_columns = [\"tweet_id\",\"created_time\",\"count\"]+[str(i) for i in range(1, column_count)]\n",
    "primary = primary.loc[primary['count'] >= column_count, valid_columns]\n",
    "secondary = secondary.loc[secondary['count'] >= column_count, valid_columns]"
   ]
  },
  {
   "cell_type": "markdown",
   "metadata": {},
   "source": [
    "Dropping rows with na"
   ]
  },
  {
   "cell_type": "code",
   "execution_count": 9,
   "metadata": {},
   "outputs": [],
   "source": [
    "primary = primary.dropna()\n",
    "secondary = secondary.dropna()"
   ]
  },
  {
   "cell_type": "markdown",
   "metadata": {},
   "source": [
    "## Stats 2 : Difference"
   ]
  },
  {
   "cell_type": "code",
   "execution_count": 10,
   "metadata": {},
   "outputs": [
    {
     "data": {
      "text/plain": [
       "(25693, 6716, 292)"
      ]
     },
     "execution_count": 10,
     "metadata": {},
     "output_type": "execute_result"
    }
   ],
   "source": [
    "intersec_ids = set(secondary['tweet_id']).intersection(set(primary['tweet_id']))\n",
    "diff_pri = set(primary['tweet_id']).difference(set(secondary['tweet_id']))\n",
    "diff_sec = set(secondary['tweet_id']).difference(set(primary['tweet_id']))\n",
    "len(intersec_ids),len(diff_pri),len(diff_sec)"
   ]
  },
  {
   "cell_type": "code",
   "execution_count": 11,
   "metadata": {},
   "outputs": [
    {
     "data": {
      "text/plain": [
       "(12341, 16838, 3461, 61)"
      ]
     },
     "execution_count": 11,
     "metadata": {},
     "output_type": "execute_result"
    }
   ],
   "source": [
    "captured_tweets = set(actual.tweet_id)\n",
    "not_captured_intersection = intersec_ids.difference(captured_tweets)\n",
    "not_captured_diff_pri = diff_pri.difference(captured_tweets)\n",
    "not_captured_diff_sec = diff_sec.difference(captured_tweets)\n",
    "len(captured_tweets), len(not_captured_intersection), len(not_captured_diff_pri), len(not_captured_diff_sec)"
   ]
  },
  {
   "cell_type": "code",
   "execution_count": 12,
   "metadata": {},
   "outputs": [],
   "source": [
    "df = primary.loc[primary['tweet_id'].isin(not_captured_intersection)].copy()\n",
    "df = df.append(primary.loc[primary['tweet_id'].isin(not_captured_diff_pri)])\n",
    "df = df.append(secondary.loc[secondary['tweet_id'].isin(not_captured_diff_sec)])"
   ]
  },
  {
   "cell_type": "code",
   "execution_count": 13,
   "metadata": {},
   "outputs": [
    {
     "data": {
      "text/plain": [
       "20360"
      ]
     },
     "execution_count": 13,
     "metadata": {},
     "output_type": "execute_result"
    }
   ],
   "source": [
    "df = df.reset_index().drop('index', axis=1)\n",
    "len(df)"
   ]
  },
  {
   "cell_type": "code",
   "execution_count": 14,
   "metadata": {},
   "outputs": [],
   "source": [
    "df['user_id'] = np.nan\n",
    "df['screen_name'] = np.nan\n",
    "df['url'] = np.nan\n",
    "df['follower_count'] = np.nan\n",
    "df['title'] = np.nan\n",
    "df['content'] = np.nan\n",
    "df['expanded_url'] = np.nan\n"
   ]
  },
  {
   "cell_type": "code",
   "execution_count": 15,
   "metadata": {},
   "outputs": [
    {
     "name": "stderr",
     "output_type": "stream",
     "text": [
      "100%|██████████████████████████████████████████████████████████████████████████████████████████████████████████████████████████████████| 20360/20360 [02:45<00:00, 122.80it/s]\n"
     ]
    }
   ],
   "source": [
    "not_found = list()\n",
    "for tweet in tqdm(t.hydrate(list(df['tweet_id'])),total=len(df['tweet_id'])) :   \n",
    "    df.loc[(df.tweet_id == tweet[\"id\"]), \"user_id\"] = tweet[\"user\"][\"id\"]\n",
    "    df.loc[(df.tweet_id == tweet[\"id\"]), \"screen_name\"] = tweet[\"user\"][\"name\"]\n",
    "    df.loc[(df.tweet_id == tweet[\"id\"]), \"follower_count\"] = tweet[\"user\"][\"followers_count\"]\n",
    "    try:\n",
    "        df.loc[(df.tweet_id == tweet[\"id\"]), \"url\"] = tweet[\"entities\"][\"urls\"][0][\"expanded_url\"]\n",
    "    except:\n",
    "        pass"
   ]
  },
  {
   "cell_type": "code",
   "execution_count": 16,
   "metadata": {},
   "outputs": [],
   "source": [
    "df.to_csv(\"./partial4.csv\")"
   ]
  },
  {
   "cell_type": "code",
   "execution_count": 17,
   "metadata": {},
   "outputs": [
    {
     "data": {
      "text/plain": [
       "18949"
      ]
     },
     "execution_count": 17,
     "metadata": {},
     "output_type": "execute_result"
    }
   ],
   "source": [
    "df = df.dropna(subset=['url'])\n",
    "len(df)"
   ]
  },
  {
   "cell_type": "code",
   "execution_count": 18,
   "metadata": {},
   "outputs": [
    {
     "name": "stderr",
     "output_type": "stream",
     "text": [
      "100%|████████████████████████████████████████████████████████████████████████████████████████████████████████████████████████████████| 18949/18949 [10:47:34<00:00,  2.05s/it]\n"
     ]
    }
   ],
   "source": [
    "http = requests.Session()\n",
    "for idx, row in tqdm(df.iterrows(), total=len(df)):\n",
    "#     row = uci.loc[idx]  \n",
    "    \n",
    "    try:\n",
    "        exp_url = http.get(row.url, timeout=15).url\n",
    "        df.loc[df['url']==row.url,'expanded_url'] = exp_url\n",
    "        article = Article(exp_url)\n",
    "        article.download()\n",
    "        article.parse()\n",
    "        df.loc[df.url == row.url, 'title']=article.title.replace(\"|\", \" \")\n",
    "        df.loc[df.url == row.url, 'content']=article.text.replace(\"|\", \" \")\n",
    "        if idx%400 == 0 and idx != 0:\n",
    "            df[:idx].to_csv(\"./Organic_extended_v2_{}.csv\".format(idx), sep=\"|\")\n",
    "#             break\n",
    "    except Exception as e:\n",
    "        pass\n",
    "#         print(str(e))\n",
    "#         print(row['url'])\n",
    "df.to_csv(\"./Organic_extended_v2.csv\", sep=\"|\")        \n",
    "# print(not_parsed)"
   ]
  },
  {
   "cell_type": "code",
   "execution_count": 19,
   "metadata": {},
   "outputs": [],
   "source": [
    "actual = actual.append(df, ignore_index=True)"
   ]
  },
  {
   "cell_type": "code",
   "execution_count": 20,
   "metadata": {},
   "outputs": [
    {
     "data": {
      "text/plain": [
       "31290"
      ]
     },
     "execution_count": 20,
     "metadata": {},
     "output_type": "execute_result"
    }
   ],
   "source": [
    "len(actual)"
   ]
  },
  {
   "cell_type": "code",
   "execution_count": 21,
   "metadata": {},
   "outputs": [],
   "source": [
    "actual.to_csv(\"Organic_extended_final.csv\", sep=\"|\")"
   ]
  },
  {
   "cell_type": "code",
   "execution_count": null,
   "metadata": {},
   "outputs": [],
   "source": []
  }
 ],
 "metadata": {
  "kernelspec": {
   "display_name": "Python 3",
   "language": "python",
   "name": "python3"
  },
  "language_info": {
   "codemirror_mode": {
    "name": "ipython",
    "version": 3
   },
   "file_extension": ".py",
   "mimetype": "text/x-python",
   "name": "python",
   "nbconvert_exporter": "python",
   "pygments_lexer": "ipython3",
   "version": "3.7.6"
  }
 },
 "nbformat": 4,
 "nbformat_minor": 4
}
