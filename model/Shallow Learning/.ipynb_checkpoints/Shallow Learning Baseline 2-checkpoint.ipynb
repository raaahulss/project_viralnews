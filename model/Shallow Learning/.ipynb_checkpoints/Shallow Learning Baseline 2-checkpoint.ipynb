{
 "cells": [
  {
   "cell_type": "markdown",
   "metadata": {},
   "source": [
    "# Baseline 2 with word embedding"
   ]
  },
  {
   "cell_type": "markdown",
   "metadata": {},
   "source": [
    "## Creating Vocabulary"
   ]
  },
  {
   "cell_type": "code",
   "execution_count": 1,
   "metadata": {},
   "outputs": [],
   "source": [
    "import pandas as pd\n",
    "import re\n",
    "import string\n",
    "from collections import Counter\n",
    "from nltk.corpus import stopwords\n",
    "from nltk.tokenize import ToktokTokenizer"
   ]
  },
  {
   "cell_type": "code",
   "execution_count": 2,
   "metadata": {},
   "outputs": [
    {
     "data": {
      "text/plain": [
       "(Index(['tweet_id', 'created_time', 'count', '1', '2', '3', '4', '5', '6',\n",
       "        'user_id', 'screen_name', 'url', 'follower_count', 'title', 'content',\n",
       "        'expanded_url', 'title_len', 'content_len', 'max_retweets', 'label',\n",
       "        'median'],\n",
       "       dtype='object'),\n",
       " ['i', 'me', 'my', 'myself', 'we'])"
      ]
     },
     "execution_count": 2,
     "metadata": {},
     "output_type": "execute_result"
    }
   ],
   "source": [
    "df = pd.read_csv(\"./train.csv\",sep=\"|\", index_col=0)\n",
    "stopwords = stopwords.words('english')\n",
    "df.columns, stopwords[:5]"
   ]
  },
  {
   "cell_type": "code",
   "execution_count": 3,
   "metadata": {},
   "outputs": [],
   "source": [
    "# Remove stop words\n",
    "# remove punctuations and numbers\n",
    "# remove single alphabets\n",
    "def clean_text(text):\n",
    "    text = \" \".join([word for word in text.split() if word not in stopwords])\n",
    "    text = re.sub(r\"[^\\x00-\\x7F]+\", \" \", text)\n",
    "    regex = re.compile('[' + re.escape(string.punctuation) + '0-9\\\\r\\\\t\\\\n]')\n",
    "    nopunct_num = regex.sub(\" \", text.lower()) \n",
    "    # Removing the odd apostrophes\n",
    "    tokens = [token for token in nopunct_num.split() if len(token)>=2 and token not in stopwords]\n",
    "    return tokens"
   ]
  },
  {
   "cell_type": "code",
   "execution_count": 4,
   "metadata": {},
   "outputs": [
    {
     "name": "stdout",
     "output_type": "stream",
     "text": [
      "[('trump', 1079), ('coronavirus', 979), ('says', 668), ('new', 628), ('covid', 625)]\n"
     ]
    }
   ],
   "source": [
    "counter = Counter()\n",
    "def update_counter(text):\n",
    "    counter.update(clean_text(text))\n",
    "df['title'].apply(update_counter)\n",
    "print(counter.most_common(5))"
   ]
  },
  {
   "cell_type": "code",
   "execution_count": 8,
   "metadata": {},
   "outputs": [],
   "source": [
    "from torchtext import data"
   ]
  },
  {
   "cell_type": "code",
   "execution_count": null,
   "metadata": {},
   "outputs": [],
   "source": []
  }
 ],
 "metadata": {
  "kernelspec": {
   "display_name": "Python 3",
   "language": "python",
   "name": "python3"
  },
  "language_info": {
   "codemirror_mode": {
    "name": "ipython",
    "version": 3
   },
   "file_extension": ".py",
   "mimetype": "text/x-python",
   "name": "python",
   "nbconvert_exporter": "python",
   "pygments_lexer": "ipython3",
   "version": "3.7.6"
  }
 },
 "nbformat": 4,
 "nbformat_minor": 4
}
