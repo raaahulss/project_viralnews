{
 "cells": [
  {
   "cell_type": "code",
   "execution_count": 1,
   "metadata": {},
   "outputs": [],
   "source": [
    "import fasttext\n",
    "import pandas"
   ]
  },
  {
   "cell_type": "code",
   "execution_count": 5,
   "metadata": {},
   "outputs": [],
   "source": [
    "def restructure_file_format(in_f, out_f):\n",
    "    data = pandas.read_csv(in_f, sep=\"|\")\n",
    "    with open(out_f, \"w\") as f:\n",
    "        for index, row in data.iterrows():\n",
    "            label = row[\"label_log_10\"]\n",
    "            title = row[\"title\"]\n",
    "            content = \" \".join(row[\"content\"].replace(\"\\n\", \" \").split(\" \"))\n",
    "            f.write(f\"__label__{label} {content}\\n\")"
   ]
  },
  {
   "cell_type": "markdown",
   "metadata": {},
   "source": [
    "# 50"
   ]
  },
  {
   "cell_type": "code",
   "execution_count": null,
   "metadata": {},
   "outputs": [],
   "source": [
    "restructure_file_format(\"viralness/train_50.csv\", \"viralness/train_50.txt\")\n",
    "restructure_file_format(\"viralness/test_50.csv\", \"viralness/test_50.txt\")"
   ]
  },
  {
   "cell_type": "code",
   "execution_count": 38,
   "metadata": {},
   "outputs": [],
   "source": [
    "viralness_50 = fasttext.train_supervised(input=\"viralness/train_50.txt\", autotuneValidationFile=\"viralness/test_50.txt\")"
   ]
  },
  {
   "cell_type": "code",
   "execution_count": 39,
   "metadata": {},
   "outputs": [
    {
     "data": {
      "text/plain": [
       "{'__label__3': {'precision': nan, 'recall': 0.0, 'f1score': 0.0},\n",
       " '__label__0': {'precision': nan, 'recall': 0.0, 'f1score': 0.0},\n",
       " '__label__1': {'precision': 0.6635054443273621,\n",
       "  'recall': 1.0,\n",
       "  'f1score': 0.7977195945945946},\n",
       " '__label__2': {'precision': nan, 'recall': 0.0, 'f1score': 0.0}}"
      ]
     },
     "execution_count": 39,
     "metadata": {},
     "output_type": "execute_result"
    }
   ],
   "source": [
    "viralness_50.test_label(\"viralness/test_50.txt\")"
   ]
  },
  {
   "cell_type": "markdown",
   "metadata": {},
   "source": [
    "# 60"
   ]
  },
  {
   "cell_type": "code",
   "execution_count": 19,
   "metadata": {},
   "outputs": [],
   "source": [
    "restructure_file_format(\"viralness/train_60.csv\", \"viralness/train_60.txt\")\n",
    "restructure_file_format(\"viralness/test_60.csv\", \"viralness/test_60.txt\")"
   ]
  },
  {
   "cell_type": "code",
   "execution_count": 40,
   "metadata": {},
   "outputs": [],
   "source": [
    "viralness_60 = fasttext.train_supervised(input=\"viralness/train_60.txt\", autotuneValidationFile=\"viralness/test_60.txt\")"
   ]
  },
  {
   "cell_type": "code",
   "execution_count": 41,
   "metadata": {},
   "outputs": [
    {
     "data": {
      "text/plain": [
       "{'__label__3': {'precision': nan, 'recall': 0.0, 'f1score': 0.0},\n",
       " '__label__0': {'precision': 0.6377952755905512,\n",
       "  'recall': 0.23410404624277456,\n",
       "  'f1score': 0.34249471458773784},\n",
       " '__label__1': {'precision': 0.7682616736014795,\n",
       "  'recall': 0.8771443652678808,\n",
       "  'f1score': 0.8191004313000616},\n",
       " '__label__2': {'precision': 0.5966962127316681,\n",
       "  'recall': 0.5112185018985157,\n",
       "  'f1score': 0.5506599739728574}}"
      ]
     },
     "execution_count": 41,
     "metadata": {},
     "output_type": "execute_result"
    }
   ],
   "source": [
    "viralness_60.test_label(\"viralness/test_60.txt\")"
   ]
  },
  {
   "cell_type": "markdown",
   "metadata": {},
   "source": [
    "# 70"
   ]
  },
  {
   "cell_type": "code",
   "execution_count": 22,
   "metadata": {},
   "outputs": [],
   "source": [
    "restructure_file_format(\"viralness/train_70.csv\", \"viralness/train_70.txt\")\n",
    "restructure_file_format(\"viralness/test_70.csv\", \"viralness/test_70.txt\")"
   ]
  },
  {
   "cell_type": "code",
   "execution_count": 36,
   "metadata": {},
   "outputs": [],
   "source": [
    "viralness_70 = fasttext.train_supervised(input=\"viralness/train_70.txt\", autotuneValidationFile=\"viralness/test_70.txt\")"
   ]
  },
  {
   "cell_type": "code",
   "execution_count": 37,
   "metadata": {},
   "outputs": [
    {
     "data": {
      "text/plain": [
       "{'__label__3': {'precision': nan, 'recall': 0.0, 'f1score': 0.0},\n",
       " '__label__0': {'precision': 0.6172248803827751,\n",
       "  'recall': 0.2476007677543186,\n",
       "  'f1score': 0.35342465753424657},\n",
       " '__label__1': {'precision': 0.776905311778291,\n",
       "  'recall': 0.8843322818086226,\n",
       "  'f1score': 0.8271453159577083},\n",
       " '__label__2': {'precision': 0.6189439303211758,\n",
       "  'recall': 0.5278551532033426,\n",
       "  'f1score': 0.5697820095214232}}"
      ]
     },
     "execution_count": 37,
     "metadata": {},
     "output_type": "execute_result"
    }
   ],
   "source": [
    "viralness_70.test_label(\"viralness/test_70.txt\")"
   ]
  },
  {
   "cell_type": "markdown",
   "metadata": {},
   "source": [
    "# 80"
   ]
  },
  {
   "cell_type": "code",
   "execution_count": 25,
   "metadata": {},
   "outputs": [],
   "source": [
    "restructure_file_format(\"viralness/train_80.csv\", \"viralness/train_80.txt\")\n",
    "restructure_file_format(\"viralness/test_80.csv\", \"viralness/test_80.txt\")"
   ]
  },
  {
   "cell_type": "code",
   "execution_count": 34,
   "metadata": {},
   "outputs": [],
   "source": [
    "viralness_80 = fasttext.train_supervised(input=\"viralness/train_80.txt\", autotuneValidationFile=\"viralness/test_80.txt\")"
   ]
  },
  {
   "cell_type": "code",
   "execution_count": 35,
   "metadata": {},
   "outputs": [
    {
     "data": {
      "text/plain": [
       "{'__label__3': {'precision': nan, 'recall': 0.0, 'f1score': 0.0},\n",
       " '__label__0': {'precision': 0.6397058823529411,\n",
       "  'recall': 0.24645892351274787,\n",
       "  'f1score': 0.3558282208588957},\n",
       " '__label__1': {'precision': 0.7853635725976151,\n",
       "  'recall': 0.8818587555788922,\n",
       "  'f1score': 0.8308186989859015},\n",
       " '__label__2': {'precision': 0.6206088992974239,\n",
       "  'recall': 0.5578947368421052,\n",
       "  'f1score': 0.5875831485587583}}"
      ]
     },
     "execution_count": 35,
     "metadata": {},
     "output_type": "execute_result"
    }
   ],
   "source": [
    "viralness_80.test_label(\"viralness/test_80.txt\")"
   ]
  }
 ],
 "metadata": {
  "kernelspec": {
   "display_name": "Python 3",
   "language": "python",
   "name": "python3"
  },
  "language_info": {
   "codemirror_mode": {
    "name": "ipython",
    "version": 3
   },
   "file_extension": ".py",
   "mimetype": "text/x-python",
   "name": "python",
   "nbconvert_exporter": "python",
   "pygments_lexer": "ipython3",
   "version": "3.6.10"
  }
 },
 "nbformat": 4,
 "nbformat_minor": 4
}
