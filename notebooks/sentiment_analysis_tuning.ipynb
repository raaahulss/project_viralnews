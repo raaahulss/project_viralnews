{
 "cells": [
  {
   "cell_type": "markdown",
   "metadata": {},
   "source": [
    "# 1. Dependencies"
   ]
  },
  {
   "cell_type": "code",
   "execution_count": 1,
   "metadata": {},
   "outputs": [
    {
     "name": "stdout",
     "output_type": "stream",
     "text": [
      "cuda\n"
     ]
    },
    {
     "name": "stderr",
     "output_type": "stream",
     "text": [
      "[nltk_data] Downloading package stopwords to /home/ubuntu/nltk_data...\n",
      "[nltk_data]   Package stopwords is already up-to-date!\n",
      "[nltk_data] Downloading package wordnet to /home/ubuntu/nltk_data...\n",
      "[nltk_data]   Package wordnet is already up-to-date!\n"
     ]
    },
    {
     "name": "stdout",
     "output_type": "stream",
     "text": [
      "['i', 'me', 'my', 'myself', 'we', 'our', 'ours', 'ourselves', 'you', \"you're\", \"you've\", \"you'll\", \"you'd\", 'your', 'yours', 'yourself', 'yourselves', 'he', 'him', 'his', 'himself', 'she', \"she's\", 'her', 'hers', 'herself', 'it', \"it's\", 'its', 'itself', 'they', 'them', 'their', 'theirs', 'themselves', 'what', 'which', 'who', 'whom', 'this', 'that', \"that'll\", 'these', 'those', 'am', 'is', 'are', 'was', 'were', 'be', 'been', 'being', 'have', 'has', 'had', 'having', 'do', 'does', 'did', 'doing', 'a', 'an', 'the', 'and', 'but', 'if', 'or', 'because', 'as', 'until', 'while', 'of', 'at', 'by', 'for', 'with', 'about', 'against', 'between', 'into', 'through', 'during', 'before', 'after', 'above', 'below', 'to', 'from', 'up', 'down', 'in', 'out', 'on', 'off', 'over', 'under', 'again', 'further', 'then', 'once', 'here', 'there', 'when', 'where', 'why', 'how', 'all', 'any', 'both', 'each', 'few', 'more', 'most', 'other', 'some', 'such', 'no', 'nor', 'not', 'only', 'own', 'same', 'so', 'than', 'too', 'very', 's', 't', 'can', 'will', 'just', 'don', \"don't\", 'should', \"should've\", 'now', 'd', 'll', 'm', 'o', 're', 've', 'y', 'ain', 'aren', \"aren't\", 'couldn', \"couldn't\", 'didn', \"didn't\", 'doesn', \"doesn't\", 'hadn', \"hadn't\", 'hasn', \"hasn't\", 'haven', \"haven't\", 'isn', \"isn't\", 'ma', 'mightn', \"mightn't\", 'mustn', \"mustn't\", 'needn', \"needn't\", 'shan', \"shan't\", 'shouldn', \"shouldn't\", 'wasn', \"wasn't\", 'weren', \"weren't\", 'won', \"won't\", 'wouldn', \"wouldn't\"]\n"
     ]
    }
   ],
   "source": [
    "data_path = '../../dataset/'\n",
    "\n",
    "import os\n",
    "import sys\n",
    "sys.path.insert(0, os.path.abspath('{}full_ibc'.format(data_path)))\n",
    "import copy\n",
    "import pickle\n",
    "import numpy\n",
    "import json\n",
    "import random\n",
    "from random import randint\n",
    "import re\n",
    "\n",
    "import torch\n",
    "import torch.nn as nn\n",
    "import torch.nn.functional as F\n",
    "import torch.optim as optim\n",
    "device = torch.device(\"cuda\" if torch.cuda.is_available() else \"cpu\")\n",
    "print(device)\n",
    "\n",
    "import nltk\n",
    "from nltk.lm import Vocabulary\n",
    "from nltk.corpus import stopwords\n",
    "nltk.download('stopwords')\n",
    "print(stopwords.words('english'))\n",
    "from nltk.corpus import wordnet as wn\n",
    "nltk.download('wordnet')\n",
    "\n",
    "from sklearn.tree import DecisionTreeClassifier as DCT\n",
    "from sklearn.neighbors import KNeighborsClassifier\n",
    "\n",
    "import fasttext\n",
    "\n",
    "import seaborn"
   ]
  },
  {
   "cell_type": "markdown",
   "metadata": {},
   "source": [
    "# 2. Data loader"
   ]
  },
  {
   "cell_type": "code",
   "execution_count": 2,
   "metadata": {},
   "outputs": [],
   "source": [
    "def generate_ibc_data():\n",
    "    [lib, con, neutral] = pickle.load(open('{}full_ibc/ibcData.pkl'.format(data_path), 'rb'))\n",
    "\n",
    "    tokenizer = nltk.RegexpTokenizer(r\"\\w+\")\n",
    "    ibc_lib = [([token for token in tokenizer.tokenize(tree.get_words().lower()) if token not in stopwords.words('english')], \"LIBERAL\")\n",
    "               for tree in lib]\n",
    "    ibc_con = [([token for token in tokenizer.tokenize(tree.get_words().lower()) if token not in stopwords.words('english')], \"CONSERVATIVE\")\n",
    "               for tree in con]\n",
    "    ibc_full_data = ibc_lib + ibc_con\n",
    "\n",
    "    ibc_lib_size = len(ibc_lib)\n",
    "    ibc_lib_train_size = int(ibc_lib_size*0.8)\n",
    "    ibc_lib_val_size = int(ibc_lib_size*0.1)\n",
    "    ibc_lib_test_size = ibc_lib_size - ibc_lib_train_size - ibc_lib_val_size\n",
    "    ibc_lib_train_data, ibc_lib_val_data, ibc_lib_test_data = torch.utils.data.random_split(ibc_lib, [ibc_lib_train_size, ibc_lib_val_size, ibc_lib_test_size])\n",
    "    \n",
    "    ibc_con_size = len(ibc_con)\n",
    "    ibc_con_train_size = int(ibc_con_size*0.8)\n",
    "    ibc_con_val_size = int(ibc_con_size*0.1)\n",
    "    ibc_con_test_size = ibc_con_size - ibc_con_train_size - ibc_con_val_size\n",
    "    ibc_con_train_data, ibc_con_val_data, ibc_con_test_data = torch.utils.data.random_split(ibc_con, [ibc_con_train_size, ibc_con_val_size, ibc_con_test_size])\n",
    "\n",
    "    ibc_train_data = ibc_lib_train_data + ibc_con_train_data\n",
    "    ibc_val_data = ibc_lib_val_data + ibc_con_val_data\n",
    "    ibc_test_data = ibc_lib_test_data + ibc_con_test_data\n",
    "    ibc_labels = {\"LIBERAL\": 0, \"CONSERVATIVE\": 1}\n",
    "    \n",
    "    print('training data size:', len(ibc_train_data))\n",
    "    print('validation data size:', len(ibc_val_data))\n",
    "    print('test data size:', len(ibc_test_data))\n",
    "    \n",
    "    return ibc_train_data, ibc_val_data, ibc_test_data\n",
    "\n",
    "def generate_data_loader(train_data, val_data, test_data, make_feature, make_target, labels={\"LIBERAL\": 0, \"CONSERVATIVE\": 1}, batch_size=1, cutoff=1):\n",
    "    train_corpus = []\n",
    "    for sentence, _ in train_data:\n",
    "        train_corpus += sentence\n",
    "    vocab_nltk = Vocabulary(train_corpus)\n",
    "    \n",
    "    vocab = {'<unknown>': 0}\n",
    "    for word, count in vocab_nltk.counts.items():\n",
    "        if count >= cutoff:\n",
    "            vocab[word] = len(vocab)\n",
    "            \n",
    "    train_data_loader = torch.utils.data.DataLoader([(make_feature(sentence, vocab), make_target(label, labels)) for sentence, label in train_data],\n",
    "                                                    batch_size=batch_size,\n",
    "                                                    shuffle=True)\n",
    "    val_data_loader = torch.utils.data.DataLoader([(make_feature(sentence, vocab), make_target(label, labels)) for sentence, label in val_data],\n",
    "                                                  batch_size=batch_size)\n",
    "    test_data_loader = torch.utils.data.DataLoader([(make_feature(sentence, vocab), make_target(label, labels)) for sentence, label in test_data],\n",
    "                                                   batch_size=batch_size)\n",
    "    return vocab, train_data_loader, val_data_loader, test_data_loader"
   ]
  },
  {
   "cell_type": "code",
   "execution_count": 3,
   "metadata": {},
   "outputs": [
    {
     "name": "stdout",
     "output_type": "stream",
     "text": [
      "training data size: 2980\n",
      "validation data size: 372\n",
      "test data size: 374\n"
     ]
    }
   ],
   "source": [
    "torch.manual_seed(0)\n",
    "ibc_train_data, ibc_val_data, ibc_test_data = generate_ibc_data()"
   ]
  },
  {
   "cell_type": "markdown",
   "metadata": {},
   "source": [
    "# 3 Ensemble method"
   ]
  },
  {
   "cell_type": "markdown",
   "metadata": {},
   "source": [
    "## 3.1 Logistic regression"
   ]
  },
  {
   "cell_type": "code",
   "execution_count": 57,
   "metadata": {},
   "outputs": [],
   "source": [
    "def make_bow_vec_lr(sentence, vocab):\n",
    "    vec = torch.zeros(len(vocab), device=device)\n",
    "    for word in sentence:\n",
    "        if word in vocab:\n",
    "            vec[vocab[word]] += 1\n",
    "        else:\n",
    "            vec[0] += 1\n",
    "    return vec.view(-1)\n",
    "\n",
    "def make_label_lr(label, label_to_id):\n",
    "    return torch.tensor(label_to_id[label]).to(device)"
   ]
  },
  {
   "cell_type": "code",
   "execution_count": 58,
   "metadata": {},
   "outputs": [],
   "source": [
    "class BoWClassifier(nn.Module):\n",
    "    def __init__(self, vocab, output_size):\n",
    "        super(BoWClassifier, self).__init__()\n",
    "        self.vocab = vocab\n",
    "        self.input_size = len(vocab)\n",
    "        self.output_size = output_size\n",
    "        self.linear = nn.Linear(self.input_size, self.output_size).to(device)\n",
    "        \n",
    "    def forward(self, bow_vec):\n",
    "        return F.log_softmax(self.linear(bow_vec), dim=-1)\n",
    "    \n",
    "def lr_train(model, train_data, val_data, num_epochs=50):\n",
    "    loss_function = nn.NLLLoss()\n",
    "    optimizer = optim.SGD(model.parameters(), lr=0.01)\n",
    "\n",
    "    for epoch in range(num_epochs):\n",
    "        for bow_vec, target in train_data:\n",
    "            model.zero_grad()\n",
    "\n",
    "            probs = model(bow_vec)\n",
    "            loss = loss_function(probs, target)\n",
    "            loss.backward()\n",
    "            optimizer.step()\n",
    "            \n",
    "        if (epoch+1) % 10 == 0:\n",
    "            print('{}: {}'.format(epoch+1, lr_eval(model, val_data)))\n",
    "    \n",
    "def lr_eval(model, data):\n",
    "    model.eval()\n",
    "    num_predictions = 0\n",
    "    num_correct = 0\n",
    "    with torch.no_grad():\n",
    "        for bow_vec, target in data:\n",
    "            probs = model(bow_vec)\n",
    "            for i in range(len(probs)):\n",
    "                num_predictions += 1\n",
    "                if (torch.argmax(probs[i]) == target[i]):\n",
    "                    num_correct += 1\n",
    "    model.train()\n",
    "    return num_correct/num_predictions*100"
   ]
  },
  {
   "cell_type": "code",
   "execution_count": 146,
   "metadata": {},
   "outputs": [],
   "source": [
    "ibc_vocab, ibc_train_data_loader, ibc_val_data_loader, ibc_test_data_loader = generate_data_loader(ibc_train_data,\n",
    "                                                                                                   ibc_val_data,\n",
    "                                                                                                   ibc_test_data,\n",
    "                                                                                                   make_bow_vec_lr,\n",
    "                                                                                                   make_label_lr,\n",
    "                                                                                                   {\"LIBERAL\": 0, \"CONSERVATIVE\": 1},\n",
    "                                                                                                   batch_size=16\n",
    "                                                                                                   )"
   ]
  },
  {
   "cell_type": "code",
   "execution_count": 147,
   "metadata": {},
   "outputs": [
    {
     "name": "stdout",
     "output_type": "stream",
     "text": [
      "63.63636363636363\n",
      "10: 68.54838709677419\n",
      "20: 68.81720430107528\n",
      "30: 68.54838709677419\n",
      "40: 68.54838709677419\n",
      "50: 68.01075268817203\n",
      "60: 68.27956989247312\n",
      "70: 66.93548387096774\n",
      "80: 66.12903225806451\n",
      "90: 65.59139784946237\n",
      "100: 66.12903225806451\n",
      "63.63636363636363\n"
     ]
    }
   ],
   "source": [
    "torch.manual_seed(0)\n",
    "lr_model = BoWClassifier(ibc_vocab, 2)\n",
    "\n",
    "print(lr_eval(model, ibc_test_data_loader))\n",
    "lr_train(lr_model, ibc_train_data_loader, ibc_val_data_loader, num_epochs=100)\n",
    "print(lr_eval(model, ibc_test_data_loader))"
   ]
  },
  {
   "cell_type": "markdown",
   "metadata": {},
   "source": [
    "## 3.2 Decision tree"
   ]
  },
  {
   "cell_type": "code",
   "execution_count": 59,
   "metadata": {},
   "outputs": [],
   "source": [
    "def make_bow_vec_dt(sentence, vocab):\n",
    "    vec = [0] * len(vocab)\n",
    "    for word in sentence:\n",
    "        if word in vocab.keys():\n",
    "            vec[vocab[word]] += 1\n",
    "    return vec\n",
    "\n",
    "def make_target_dt(label, labels):\n",
    "    return labels[label]\n",
    "\n",
    "def generate_data_dt(train_data, val_data, test_data, labels={\"LIBERAL\": 0, \"CONSERVATIVE\": 1}, cutoff=1):\n",
    "    train_corpus = []\n",
    "    for sentence, _ in train_data:\n",
    "        train_corpus += sentence\n",
    "    vocab_nltk = Vocabulary(train_corpus)\n",
    "    \n",
    "    vocab = {'<unknown>': 0}\n",
    "    for word, count in vocab_nltk.counts.items():\n",
    "        if count >= cutoff:\n",
    "            vocab[word] = len(vocab)\n",
    "    \n",
    "    train_data = [(make_bow_vec_dt(sentence, vocab), make_target_dt(target, labels)) for sentence, target in train_data]\n",
    "    test_data = [(make_bow_vec_dt(sentence, vocab), make_target_dt(target, labels)) for sentence, target in test_data]\n",
    "\n",
    "    print('train data size:', len(train_data))\n",
    "    print('test data size:', len(test_data))\n",
    "    \n",
    "    return vocab, train_data, test_data"
   ]
  },
  {
   "cell_type": "code",
   "execution_count": 72,
   "metadata": {},
   "outputs": [],
   "source": [
    "def dt_train(model, train_data):\n",
    "    x = []\n",
    "    y = []\n",
    "    \n",
    "    for sentence, label in train_data:\n",
    "        x.append(sentence)\n",
    "        y.append(label)\n",
    "\n",
    "    model.fit(x, y)\n",
    "    \n",
    "def dt_eval(model, test_data):\n",
    "    x = []\n",
    "    y = []\n",
    "    \n",
    "    for sentence, label in test_data:\n",
    "        x.append(sentence)\n",
    "        y.append(label)\n",
    "        \n",
    "    predictions = model.predict(x)\n",
    "    \n",
    "    correct_prediction = 0\n",
    "    idx = 0\n",
    "    while idx < len(x):\n",
    "        if predictions[idx] == y[idx]:\n",
    "            correct_prediction += 1\n",
    "        idx += 1\n",
    "        \n",
    "    return correct_prediction / idx * 100"
   ]
  },
  {
   "cell_type": "code",
   "execution_count": 70,
   "metadata": {},
   "outputs": [
    {
     "name": "stdout",
     "output_type": "stream",
     "text": [
      "train data size: 2980\n",
      "test data size: 374\n"
     ]
    }
   ],
   "source": [
    "ibc_vocab_dt, ibc_train_data_dt, ibc_test_data_dt = generate_data_dt(ibc_train_data, ibc_val_data, ibc_test_data)"
   ]
  },
  {
   "cell_type": "code",
   "execution_count": 77,
   "metadata": {},
   "outputs": [],
   "source": [
    "numpy.random.seed(0)\n",
    "dt = DCT()\n",
    "dt_train(dt, ibc_train_data_dt)"
   ]
  },
  {
   "cell_type": "code",
   "execution_count": 78,
   "metadata": {},
   "outputs": [
    {
     "name": "stdout",
     "output_type": "stream",
     "text": [
      "57.48663101604278\n"
     ]
    }
   ],
   "source": [
    "print(dt_eval(dt, ibc_test_data_dt))"
   ]
  },
  {
   "cell_type": "markdown",
   "metadata": {},
   "source": [
    "## 3.3 KNN"
   ]
  },
  {
   "cell_type": "code",
   "execution_count": 61,
   "metadata": {},
   "outputs": [],
   "source": [
    "def make_bow_vec_knn(sentence, vocab):\n",
    "    vec = [0] * len(vocab)\n",
    "    for word in sentence:\n",
    "        if word in vocab.keys():\n",
    "            vec[vocab[word]] += 1\n",
    "    return vec\n",
    "\n",
    "def make_target_knn(label, labels):\n",
    "    return labels[label]\n",
    "\n",
    "def generate_data_knn(train_data, val_data, test_data, labels={\"LIBERAL\": 0, \"CONSERVATIVE\": 1}, cutoff=1):\n",
    "    train_corpus = []\n",
    "    for sentence, _ in train_data:\n",
    "        train_corpus += sentence\n",
    "    vocab_nltk = Vocabulary(train_corpus)\n",
    "    \n",
    "    vocab = {'<unknown>': 0}\n",
    "    for word, count in vocab_nltk.counts.items():\n",
    "        if count >= cutoff:\n",
    "            vocab[word] = len(vocab)\n",
    "\n",
    "    train_data = [(make_bow_vec_dt(sentence, vocab), make_target_dt(target, labels)) for sentence, target in train_data]\n",
    "    test_data = [(make_bow_vec_dt(sentence, vocab), make_target_dt(target, labels)) for sentence, target in test_data]\n",
    "\n",
    "    print('train data size:', len(train_data))\n",
    "    print('test data size:', len(test_data))\n",
    "    \n",
    "    return vocab, train_data, test_data"
   ]
  },
  {
   "cell_type": "code",
   "execution_count": 73,
   "metadata": {},
   "outputs": [],
   "source": [
    "def knn_train(model, train_data):\n",
    "    x = []\n",
    "    y = []\n",
    "    \n",
    "    for sentence, label in train_data:\n",
    "        x.append(sentence)\n",
    "        y.append(label)\n",
    "\n",
    "    model.fit(x, y)\n",
    "    \n",
    "def knn_eval(model, test_data):\n",
    "    x = []\n",
    "    y = []\n",
    "    \n",
    "    for sentence, label in test_data:\n",
    "        x.append(sentence)\n",
    "        y.append(label)\n",
    "        \n",
    "    predictions = model.predict(x)\n",
    "    \n",
    "    correct_prediction = 0\n",
    "    idx = 0\n",
    "    while idx < len(x):\n",
    "        if predictions[idx] == y[idx]:\n",
    "            correct_prediction += 1\n",
    "        idx += 1\n",
    "        \n",
    "    return correct_prediction / idx * 100"
   ]
  },
  {
   "cell_type": "code",
   "execution_count": 82,
   "metadata": {},
   "outputs": [
    {
     "name": "stdout",
     "output_type": "stream",
     "text": [
      "train data size: 2980\n",
      "test data size: 374\n"
     ]
    }
   ],
   "source": [
    "ibc_vocab_knn, ibc_train_data_knn, ibc_test_data_knn = generate_data_knn(ibc_train_data, ibc_val_data, ibc_test_data)"
   ]
  },
  {
   "cell_type": "code",
   "execution_count": 89,
   "metadata": {},
   "outputs": [],
   "source": [
    "numpy.random.seed(0)\n",
    "knn = KNeighborsClassifier(n_neighbors=5)\n",
    "knn_train(knn, ibc_train_data_knn)"
   ]
  },
  {
   "cell_type": "code",
   "execution_count": 90,
   "metadata": {},
   "outputs": [
    {
     "name": "stdout",
     "output_type": "stream",
     "text": [
      "53.20855614973262\n"
     ]
    }
   ],
   "source": [
    "print(knn_eval(knn, ibc_test_data_knn))"
   ]
  },
  {
   "cell_type": "markdown",
   "metadata": {},
   "source": [
    "## 3.4 Ensemble method"
   ]
  },
  {
   "cell_type": "code",
   "execution_count": 88,
   "metadata": {},
   "outputs": [],
   "source": [
    "def ensemble_eval(lr_model_ensemble, dt_model_ensemble, knn_model_ensemble, test_data):\n",
    "    num_predictions = 0\n",
    "    num_correct = 0\n",
    "    lr_model_ensemble.eval()\n",
    "    for sentence, target in test_data:\n",
    "        with torch.no_grad():\n",
    "            lr_predictions = torch.argmax(torch.Tensor.cpu(lr_model_ensemble(sentence)), dim=-1)\n",
    "        dt_predictions = dt_model_ensemble.predict(torch.Tensor.cpu(sentence))\n",
    "        knn_predictions = knn_model_ensemble.predict(torch.Tensor.cpu(sentence))\n",
    "\n",
    "        ensemble_predictions = lr_predictions + dt_predictions + knn_predictions\n",
    "        for i in range(len(ensemble_predictions)):\n",
    "            num_predictions += 1\n",
    "            if ensemble_predictions[i] >= 2 and target[i] == 1:\n",
    "                num_correct += 1\n",
    "            elif ensemble_predictions[i] <= 1 and target[i] == 0:\n",
    "                num_correct += 1\n",
    "    \n",
    "    lr_model_ensemble.train()\n",
    "    return num_correct / num_predictions * 100"
   ]
  },
  {
   "cell_type": "code",
   "execution_count": 91,
   "metadata": {},
   "outputs": [
    {
     "name": "stdout",
     "output_type": "stream",
     "text": [
      "60.962566844919785\n"
     ]
    }
   ],
   "source": [
    "print(ensemble_eval(lr_model, dt, knn, ibc_test_data_loader))"
   ]
  },
  {
   "cell_type": "markdown",
   "metadata": {},
   "source": [
    "# 4. RNN"
   ]
  },
  {
   "cell_type": "code",
   "execution_count": 4,
   "metadata": {},
   "outputs": [],
   "source": [
    "def make_feature_rnn(sentence, word_to_id):\n",
    "    return torch.tensor([word_to_id[word] for word in sentence if word in word_to_id]).to(device)\n",
    "\n",
    "def make_target_rnn(label, label_to_id):\n",
    "    return torch.LongTensor([label_to_id[label]]).to(device)"
   ]
  },
  {
   "cell_type": "code",
   "execution_count": 10,
   "metadata": {},
   "outputs": [],
   "source": [
    "class RNN(nn.Module):\n",
    "    def __init__(self, vocab, output_size, hidden_size):\n",
    "        torch.manual_seed(0)\n",
    "        super(RNN, self).__init__()\n",
    "\n",
    "        self.vocab = vocab\n",
    "        self.input_size = len(vocab)\n",
    "        self.output_size = output_size\n",
    "        self.hidden_size = hidden_size\n",
    "        \n",
    "        # dropout\n",
    "#         self.dropout = nn.Dropout()\n",
    "#         self.dropout = LockedDropout()\n",
    "        self.embedding = nn.Embedding(self.input_size, self.hidden_size).to(device)\n",
    "        self.rnn = nn.RNN(self.hidden_size, self.hidden_size).to(device)\n",
    "        self.cat = nn.Linear(self.hidden_size, self.output_size).to(device)\n",
    "\n",
    "    def forward(self, sentence):\n",
    "        embedding = self.embedding(sentence).unsqueeze(1)\n",
    "#         embedding = self.dropout(embedding)\n",
    "        output, hidden = self.rnn(embedding)\n",
    "        output = output\n",
    "#         output = self.dropout(output)\n",
    "        return F.log_softmax(self.cat(output.squeeze()[-1]), dim=-1).view(1, -1)\n",
    "\n",
    "class RNN_LSTM(nn.Module):\n",
    "    def __init__(self, vocab, output_size, hidden_size):\n",
    "        torch.manual_seed(0)\n",
    "        super(RNN_LSTM, self).__init__()\n",
    "\n",
    "        self.vocab = vocab\n",
    "        self.input_size = len(vocab)\n",
    "        self.output_size = output_size\n",
    "        self.hidden_size = hidden_size\n",
    "        \n",
    "        # dropout\n",
    "#         self.dropout = nn.Dropout()\n",
    "#         self.dropout = LockedDropout()\n",
    "        self.embedding = nn.Embedding(self.input_size, self.hidden_size).to(device)\n",
    "        self.lstm = nn.LSTM(self.hidden_size, self.hidden_size).to(device)\n",
    "        self.cat = nn.Linear(self.hidden_size, self.output_size).to(device)\n",
    "\n",
    "    def forward(self, sentence):\n",
    "        embedding = self.embedding(sentence).unsqueeze(1)\n",
    "#         embedding = self.dropout(embedding)\n",
    "        output, hidden = self.lstm(embedding)\n",
    "        output = output\n",
    "#         output = self.dropout(output)\n",
    "        return F.log_softmax(self.cat(output.squeeze()[-1]), dim=-1).view(1, -1)\n",
    "\n",
    "class RNN_BiLSTM(nn.Module):\n",
    "    def __init__(self, vocab, output_size, hidden_size):\n",
    "        torch.manual_seed(0)\n",
    "        super(RNN_BiLSTM, self).__init__()\n",
    "\n",
    "        self.vocab = vocab\n",
    "        self.input_size = len(vocab)\n",
    "        self.output_size = output_size\n",
    "        self.hidden_size = hidden_size\n",
    "        \n",
    "        # dropout\n",
    "#         self.dropout = nn.Dropout()\n",
    "#         self.dropout = LockedDropout()\n",
    "        self.embedding = nn.Embedding(self.input_size, self.hidden_size).to(device)\n",
    "        self.lstm = nn.LSTM(self.hidden_size, self.hidden_size, bidirectional=True).to(device)\n",
    "        self.cat = nn.Linear(self.hidden_size * 2, self.output_size).to(device)\n",
    "\n",
    "    def forward(self, sentence):\n",
    "        embedding = self.embedding(sentence).unsqueeze(1)\n",
    "#         embedding = self.dropout(embedding)\n",
    "        output, hidden = self.lstm(embedding)\n",
    "        output = output\n",
    "#         output = self.dropout(output)\n",
    "#         return F.log_softmax(self.cat(output.squeeze()[-1]), dim=-1).view(1, -1)\n",
    "        return F.log_softmax(self.cat(hidden[0].view(-1)), dim=-1).view(1, -1)\n",
    "\n",
    "def rnn_train(model, train_data, valid_data, test_data, loss_function, optimizer, num_epochs=50):\n",
    "    print('Before training:', rnn_eval(model, test_data, loss_function))\n",
    "    best_valid_accuracy = 0\n",
    "    patience = 0\n",
    "    \n",
    "    for epoch in range(num_epochs):\n",
    "        iters = 0\n",
    "        total_loss = 0\n",
    "        \n",
    "        for bow_vec, target in train_data:\n",
    "            model.zero_grad()\n",
    "\n",
    "            probs = model(bow_vec[0])\n",
    "            loss = loss_function(probs, target[0])\n",
    "            loss.backward()\n",
    "            optimizer.step()\n",
    "\n",
    "            total_loss += loss.item()\n",
    "            iters += 1\n",
    "\n",
    "        # begin validation\n",
    "        valid_loss, valid_accuracy = rnn_eval(model, valid_data, loss_function)\n",
    "        if valid_accuracy > best_valid_accuracy:\n",
    "            patience = 0\n",
    "            best_valid_accuracy = valid_accuracy\n",
    "            torch.save(model, 'rnn_best_valid.model')\n",
    "            print('[{}] Saved best model'.format(epoch + 1))\n",
    "\n",
    "        print('[{}] training loss: {}, validation loss: {}, validation accuracy: {}'.format(epoch + 1, total_loss / iters, valid_loss, valid_accuracy))\n",
    "    \n",
    "    print('After training:', rnn_eval(model, test_data, loss_function))\n",
    "        \n",
    "\n",
    "def rnn_eval(model, data, loss_function):\n",
    "    model.eval()\n",
    "    num_predictions = 0\n",
    "    num_correct = 0\n",
    "    total_loss = 0\n",
    "    for sentence, target in data:\n",
    "        with torch.no_grad():\n",
    "            probs = model(sentence[0])\n",
    "            loss = loss_function(probs, target[0])\n",
    "        total_loss += loss.item()\n",
    "        num_predictions += 1\n",
    "        if (torch.argmax(probs) == target[0]):\n",
    "            num_correct += 1\n",
    "    model.train()\n",
    "    return total_loss/num_predictions, num_correct/num_predictions*100"
   ]
  },
  {
   "cell_type": "code",
   "execution_count": 6,
   "metadata": {},
   "outputs": [],
   "source": [
    "ibc_vocab_rnn, ibc_train_data_rnn, ibc_val_data_rnn, ibc_test_data_rnn = generate_data_loader(ibc_train_data,\n",
    "                                                                               ibc_val_data,\n",
    "                                                                               ibc_test_data,\n",
    "                                                                               make_feature_rnn,\n",
    "                                                                               make_target_rnn)"
   ]
  },
  {
   "cell_type": "code",
   "execution_count": 169,
   "metadata": {},
   "outputs": [
    {
     "name": "stdout",
     "output_type": "stream",
     "text": [
      "Before training: (0.7164431756192987, 50.534759358288774)\n"
     ]
    },
    {
     "name": "stderr",
     "output_type": "stream",
     "text": [
      "/home/ubuntu/anaconda3/envs/pytorch_p36/lib/python3.6/site-packages/torch/serialization.py:360: UserWarning: Couldn't retrieve source code for container of type RNN. It won't be checked for correctness upon loading.\n",
      "  \"type \" + obj.__name__ + \". It won't be checked \"\n"
     ]
    },
    {
     "name": "stdout",
     "output_type": "stream",
     "text": [
      "[1] Saved best model\n",
      "[1] training loss: 0.7032935611753656, validation loss: 0.6936856418527583, validation accuracy: 56.451612903225815\n",
      "[2] training loss: 0.6771213473189597, validation loss: 0.6951153573169503, validation accuracy: 55.91397849462365\n",
      "[3] training loss: 0.6647767246769579, validation loss: 0.6992007501984155, validation accuracy: 55.376344086021504\n",
      "[4] training loss: 0.6527841143360074, validation loss: 0.7050893772193181, validation accuracy: 55.91397849462365\n",
      "[5] training loss: 0.6420569313052517, validation loss: 0.7126990039983103, validation accuracy: 52.956989247311824\n",
      "[6] training loss: 0.6299102134652586, validation loss: 0.7218775775644087, validation accuracy: 54.03225806451613\n",
      "[7] training loss: 0.6173382380164709, validation loss: 0.7357503862310482, validation accuracy: 52.956989247311824\n",
      "[8] training loss: 0.6029040044886154, validation loss: 0.7535924705606635, validation accuracy: 51.61290322580645\n",
      "[9] training loss: 0.5848770040293668, validation loss: 0.7756210122938438, validation accuracy: 52.41935483870967\n",
      "[10] training loss: 0.5652801672584259, validation loss: 0.8050676790937301, validation accuracy: 49.46236559139785\n",
      "[11] training loss: 0.5439444339315364, validation loss: 0.8343006371650644, validation accuracy: 50.53763440860215\n",
      "[12] training loss: 0.5183148087221104, validation loss: 0.8574713057567996, validation accuracy: 49.73118279569893\n",
      "[13] training loss: 0.49063702789729075, validation loss: 0.9217847724274922, validation accuracy: 49.193548387096776\n",
      "[14] training loss: 0.45826934184504037, validation loss: 0.9579989432647664, validation accuracy: 47.8494623655914\n",
      "[15] training loss: 0.4234436972679308, validation loss: 1.0174521162945738, validation accuracy: 47.8494623655914\n",
      "[16] training loss: 0.3769061496243781, validation loss: 1.105422379909664, validation accuracy: 45.96774193548387\n",
      "[17] training loss: 0.3276209863290291, validation loss: 1.2218952127682265, validation accuracy: 47.8494623655914\n",
      "[18] training loss: 0.2748960765966233, validation loss: 1.3473996759582592, validation accuracy: 46.774193548387096\n",
      "[19] training loss: 0.2167074035578126, validation loss: 1.4871582032371593, validation accuracy: 49.73118279569893\n",
      "[20] training loss: 0.16040457891637847, validation loss: 1.64612427610223, validation accuracy: 49.193548387096776\n",
      "[21] training loss: 0.12372334802010715, validation loss: 1.7895789760094818, validation accuracy: 48.38709677419355\n",
      "[22] training loss: 0.08730604060544264, validation loss: 2.0147433676706847, validation accuracy: 46.50537634408602\n",
      "[23] training loss: 0.06215419534768834, validation loss: 2.07204113996798, validation accuracy: 47.043010752688176\n",
      "[24] training loss: 0.04951780077395023, validation loss: 2.169898930896995, validation accuracy: 49.46236559139785\n",
      "[25] training loss: 0.04462502018717311, validation loss: 2.294155024232403, validation accuracy: 47.31182795698925\n",
      "[26] training loss: 0.040953027301986744, validation loss: 2.2964645833257706, validation accuracy: 47.58064516129033\n",
      "[27] training loss: 0.03467077766388855, validation loss: 2.3394305906308595, validation accuracy: 48.38709677419355\n",
      "[28] training loss: 0.03280836453773831, validation loss: 2.4082687135825873, validation accuracy: 46.774193548387096\n",
      "[29] training loss: 0.026795811161098863, validation loss: 2.482352817010495, validation accuracy: 48.11827956989247\n",
      "[30] training loss: 0.029891852624464355, validation loss: 2.4901171230500743, validation accuracy: 46.50537634408602\n",
      "[31] training loss: 0.02464682015796636, validation loss: 2.5371443823941293, validation accuracy: 46.774193548387096\n",
      "[32] training loss: 0.025228739344833682, validation loss: 2.584357628899236, validation accuracy: 47.043010752688176\n",
      "[33] training loss: 0.022866030507439735, validation loss: 2.5600778313093286, validation accuracy: 47.31182795698925\n",
      "[34] training loss: 0.021486289829215747, validation loss: 2.640069746602607, validation accuracy: 47.043010752688176\n",
      "[35] training loss: 0.02236187786063892, validation loss: 2.655312642455101, validation accuracy: 46.236559139784944\n",
      "[36] training loss: 0.019252412151170257, validation loss: 2.7085203893723024, validation accuracy: 47.043010752688176\n",
      "[37] training loss: 0.018555406045993702, validation loss: 2.6749785999937723, validation accuracy: 47.58064516129033\n",
      "[38] training loss: 0.017828237750386233, validation loss: 2.698934286352127, validation accuracy: 48.11827956989247\n",
      "[39] training loss: 0.017038869417753795, validation loss: 2.7474261025587716, validation accuracy: 47.043010752688176\n",
      "[40] training loss: 0.01657254799900439, validation loss: 2.722425895592859, validation accuracy: 49.73118279569893\n",
      "[41] training loss: 0.016329957314785697, validation loss: 2.756849978719988, validation accuracy: 48.38709677419355\n",
      "[42] training loss: 0.01541068814944901, validation loss: 2.815327146841634, validation accuracy: 47.8494623655914\n",
      "[43] training loss: 0.016202056177910543, validation loss: 2.8184457682473685, validation accuracy: 46.50537634408602\n",
      "[44] training loss: 0.014658516535422945, validation loss: 2.8319404621117856, validation accuracy: 48.655913978494624\n",
      "[45] training loss: 0.014725606053467564, validation loss: 2.864006669691173, validation accuracy: 47.58064516129033\n",
      "[46] training loss: 0.013675408165326855, validation loss: 2.842701183932443, validation accuracy: 47.58064516129033\n",
      "[47] training loss: 0.01297454890988817, validation loss: 2.8752322426886967, validation accuracy: 47.31182795698925\n",
      "[48] training loss: 0.01265793877760036, validation loss: 2.9125784649163164, validation accuracy: 47.31182795698925\n",
      "[49] training loss: 0.013277810451968405, validation loss: 2.9407265085366463, validation accuracy: 46.774193548387096\n",
      "[50] training loss: 0.012624462918947208, validation loss: 2.9442059329600743, validation accuracy: 47.043010752688176\n",
      "After training: (2.447482792929532, 56.417112299465245)\n"
     ]
    }
   ],
   "source": [
    "torch.manual_seed(0)\n",
    "rnn_model = RNN(ibc_vocab_rnn, 2, 150)\n",
    "\n",
    "loss_function = nn.NLLLoss()\n",
    "optimizer = optim.SGD(rnn_model.parameters(), lr=0.001)\n",
    "num_epochs = 50\n",
    "\n",
    "rnn_train(rnn_model, ibc_train_data_rnn, ibc_val_data_rnn, ibc_test_data_rnn, loss_function, optimizer, num_epochs)"
   ]
  },
  {
   "cell_type": "code",
   "execution_count": 66,
   "metadata": {},
   "outputs": [
    {
     "name": "stdout",
     "output_type": "stream",
     "text": [
      "Before training: (0.7101112781042721, 41.17647058823529)\n"
     ]
    },
    {
     "name": "stderr",
     "output_type": "stream",
     "text": [
      "/home/ubuntu/anaconda3/envs/pytorch_p36/lib/python3.6/site-packages/torch/serialization.py:360: UserWarning: Couldn't retrieve source code for container of type RNN_LSTM. It won't be checked for correctness upon loading.\n",
      "  \"type \" + obj.__name__ + \". It won't be checked \"\n"
     ]
    },
    {
     "name": "stdout",
     "output_type": "stream",
     "text": [
      "[1] Saved best model\n",
      "[1] training loss: 0.6964924912024665, validation loss: 0.6947921786897926, validation accuracy: 53.494623655913976\n",
      "[2] training loss: 0.6887304395037209, validation loss: 0.6924741173623711, validation accuracy: 53.494623655913976\n",
      "[3] Saved best model\n",
      "[3] training loss: 0.6848773994801829, validation loss: 0.6908633350044169, validation accuracy: 54.83870967741935\n",
      "[4] Saved best model\n",
      "[4] training loss: 0.6812694555360999, validation loss: 0.6895922466471631, validation accuracy: 55.107526881720425\n",
      "[5] Saved best model\n",
      "[5] training loss: 0.6775854246228333, validation loss: 0.6886045311086921, validation accuracy: 56.72043010752689\n",
      "[6] Saved best model\n",
      "[6] training loss: 0.6740302998947617, validation loss: 0.6881247667535659, validation accuracy: 56.98924731182796\n",
      "[7] training loss: 0.6702533440301882, validation loss: 0.6880480337046808, validation accuracy: 55.107526881720425\n",
      "[8] training loss: 0.666270576017415, validation loss: 0.6883465436998234, validation accuracy: 55.107526881720425\n",
      "[9] training loss: 0.6621135068519803, validation loss: 0.6891575164051467, validation accuracy: 54.3010752688172\n",
      "[10] training loss: 0.6577265491421591, validation loss: 0.6905649064048645, validation accuracy: 54.03225806451613\n",
      "[11] training loss: 0.6531671245226124, validation loss: 0.6924326580057862, validation accuracy: 54.83870967741935\n",
      "[12] training loss: 0.6486237329624643, validation loss: 0.694623367760771, validation accuracy: 53.2258064516129\n",
      "[13] training loss: 0.6435783333826385, validation loss: 0.6977819717058571, validation accuracy: 53.2258064516129\n",
      "[14] training loss: 0.6387987277751801, validation loss: 0.7002403551852832, validation accuracy: 52.956989247311824\n",
      "[15] training loss: 0.6336431745014734, validation loss: 0.7035867074324239, validation accuracy: 53.76344086021505\n",
      "[16] training loss: 0.6281228733442774, validation loss: 0.7071854202978073, validation accuracy: 52.956989247311824\n",
      "[17] training loss: 0.6224739166414177, validation loss: 0.7106504675040963, validation accuracy: 53.494623655913976\n",
      "[18] training loss: 0.6161191294057258, validation loss: 0.7145268359491902, validation accuracy: 53.2258064516129\n",
      "[19] training loss: 0.6094309833725827, validation loss: 0.7184642895415265, validation accuracy: 52.68817204301075\n",
      "[20] training loss: 0.6023000344734064, validation loss: 0.7229333890061225, validation accuracy: 53.76344086021505\n",
      "[21] training loss: 0.5945407588909937, validation loss: 0.7268746889406635, validation accuracy: 53.2258064516129\n",
      "[22] training loss: 0.5858334195893883, validation loss: 0.7311641222206495, validation accuracy: 52.956989247311824\n",
      "[23] training loss: 0.5769940744310418, validation loss: 0.7355517726591838, validation accuracy: 51.344086021505376\n",
      "[24] training loss: 0.5669268010946729, validation loss: 0.7405423751922064, validation accuracy: 51.075268817204304\n",
      "[25] training loss: 0.5556947185789178, validation loss: 0.7468301389486559, validation accuracy: 52.956989247311824\n",
      "[26] training loss: 0.5444535634561674, validation loss: 0.7508424010968977, validation accuracy: 52.956989247311824\n",
      "[27] training loss: 0.5316883691605305, validation loss: 0.7552271091168926, validation accuracy: 54.03225806451613\n",
      "[28] training loss: 0.5180283156717383, validation loss: 0.7612187463429666, validation accuracy: 55.64516129032258\n",
      "[29] training loss: 0.503506990647156, validation loss: 0.7688700337243336, validation accuracy: 52.956989247311824\n",
      "[30] training loss: 0.48794397100706227, validation loss: 0.7761691485842069, validation accuracy: 55.376344086021504\n",
      "[31] training loss: 0.4721485422961664, validation loss: 0.7803370453497415, validation accuracy: 55.107526881720425\n",
      "[32] training loss: 0.45508406536291107, validation loss: 0.7888768438690452, validation accuracy: 55.107526881720425\n",
      "[33] training loss: 0.4372937150649576, validation loss: 0.791411379492411, validation accuracy: 55.107526881720425\n",
      "[34] training loss: 0.4188098126709861, validation loss: 0.798997678263213, validation accuracy: 55.91397849462365\n",
      "[35] training loss: 0.40004088662614756, validation loss: 0.8067520496345335, validation accuracy: 56.98924731182796\n",
      "[36] training loss: 0.3795129581785842, validation loss: 0.8166359254429417, validation accuracy: 56.98924731182796\n",
      "[37] training loss: 0.3592798408445896, validation loss: 0.8256195427909974, validation accuracy: 54.83870967741935\n",
      "[38] training loss: 0.3377026347305951, validation loss: 0.8360060528721861, validation accuracy: 56.451612903225815\n",
      "[39] training loss: 0.31498543860128264, validation loss: 0.8469874988640508, validation accuracy: 56.451612903225815\n",
      "[40] training loss: 0.2920173749627683, validation loss: 0.8685086405565662, validation accuracy: 56.18279569892473\n",
      "[41] training loss: 0.27054990381002425, validation loss: 0.8714439576511742, validation accuracy: 56.98924731182796\n",
      "[42] training loss: 0.2459092808649844, validation loss: 0.894911057686293, validation accuracy: 55.64516129032258\n",
      "[43] training loss: 0.22492899197660038, validation loss: 0.9198029496336496, validation accuracy: 56.18279569892473\n",
      "[44] Saved best model\n",
      "[44] training loss: 0.20125930285293783, validation loss: 0.9183519146134776, validation accuracy: 58.333333333333336\n",
      "[45] Saved best model\n",
      "[45] training loss: 0.1803983124510554, validation loss: 0.9420135094113248, validation accuracy: 58.87096774193549\n",
      "[46] training loss: 0.15928804879420555, validation loss: 0.965326253685259, validation accuracy: 58.602150537634415\n",
      "[47] Saved best model\n",
      "[47] training loss: 0.13887796279968032, validation loss: 0.9912230881151333, validation accuracy: 59.13978494623656\n",
      "[48] Saved best model\n",
      "[48] training loss: 0.12140380886177089, validation loss: 1.0148813891955601, validation accuracy: 59.946236559139784\n",
      "[49] training loss: 0.1057448200531454, validation loss: 1.0394924666772607, validation accuracy: 58.602150537634415\n",
      "[50] training loss: 0.09144281150910678, validation loss: 1.085219611243535, validation accuracy: 58.602150537634415\n",
      "After training: (0.9857183691652064, 57.75401069518716)\n"
     ]
    }
   ],
   "source": [
    "torch.manual_seed(0)\n",
    "rnn_lstm_model = RNN_LSTM(ibc_vocab_rnn, 2, 150)\n",
    "\n",
    "loss_function = nn.NLLLoss()\n",
    "optimizer = optim.SGD(rnn_lstm_model.parameters(), lr=0.001)\n",
    "num_epochs = 50\n",
    "\n",
    "rnn_train(rnn_lstm_model, ibc_train_data_rnn, ibc_val_data_rnn, ibc_test_data_rnn, loss_function, optimizer, num_epochs)"
   ]
  },
  {
   "cell_type": "code",
   "execution_count": 11,
   "metadata": {},
   "outputs": [
    {
     "name": "stdout",
     "output_type": "stream",
     "text": [
      "Before training: (0.693911278630323, 50.534759358288774)\n"
     ]
    },
    {
     "name": "stderr",
     "output_type": "stream",
     "text": [
      "/home/ubuntu/anaconda3/envs/pytorch_p36/lib/python3.6/site-packages/torch/serialization.py:360: UserWarning: Couldn't retrieve source code for container of type RNN_BiLSTM. It won't be checked for correctness upon loading.\n",
      "  \"type \" + obj.__name__ + \". It won't be checked \"\n"
     ]
    },
    {
     "name": "stdout",
     "output_type": "stream",
     "text": [
      "[1] Saved best model\n",
      "[1] training loss: 0.6928777187362614, validation loss: 0.6922219839467797, validation accuracy: 50.53763440860215\n",
      "[2] Saved best model\n",
      "[2] training loss: 0.6859231516818872, validation loss: 0.6914576848828664, validation accuracy: 52.41935483870967\n",
      "[3] training loss: 0.6807285616861893, validation loss: 0.6915054769926173, validation accuracy: 51.075268817204304\n",
      "[4] training loss: 0.6762065653832967, validation loss: 0.6915156550465091, validation accuracy: 51.344086021505376\n",
      "[5] training loss: 0.6709951802288125, validation loss: 0.6921580973812329, validation accuracy: 52.41935483870967\n",
      "[6] Saved best model\n",
      "[6] training loss: 0.6661480002055232, validation loss: 0.6929216340825122, validation accuracy: 53.2258064516129\n",
      "[7] training loss: 0.6605155876618903, validation loss: 0.6942488842753953, validation accuracy: 52.68817204301075\n",
      "[8] training loss: 0.654732222135035, validation loss: 0.6958320694424773, validation accuracy: 52.41935483870967\n",
      "[9] Saved best model\n",
      "[9] training loss: 0.6485906563149203, validation loss: 0.6979681955229852, validation accuracy: 54.03225806451613\n",
      "[10] training loss: 0.6419831449453463, validation loss: 0.700775693340968, validation accuracy: 53.494623655913976\n",
      "[11] training loss: 0.6351319991602193, validation loss: 0.7041636488290244, validation accuracy: 53.494623655913976\n",
      "[12] training loss: 0.6280105379903876, validation loss: 0.7076854291622356, validation accuracy: 53.76344086021505\n",
      "[13] training loss: 0.6205355177689719, validation loss: 0.7122647972196661, validation accuracy: 52.956989247311824\n",
      "[14] training loss: 0.6131076516221033, validation loss: 0.7167816996093719, validation accuracy: 53.494623655913976\n",
      "[15] training loss: 0.6051982397501101, validation loss: 0.7217216796131545, validation accuracy: 54.03225806451613\n",
      "[16] training loss: 0.5971196239526639, validation loss: 0.7270766782664484, validation accuracy: 53.2258064516129\n",
      "[17] training loss: 0.5885654164240665, validation loss: 0.7329884581668402, validation accuracy: 54.03225806451613\n",
      "[18] training loss: 0.5800755468290925, validation loss: 0.7384478488276082, validation accuracy: 53.2258064516129\n",
      "[19] Saved best model\n",
      "[19] training loss: 0.5709337620027113, validation loss: 0.7448363602962546, validation accuracy: 54.3010752688172\n",
      "[20] training loss: 0.5612528129312016, validation loss: 0.7510300470135545, validation accuracy: 54.3010752688172\n",
      "[21] training loss: 0.551312485807294, validation loss: 0.7572033160155819, validation accuracy: 53.2258064516129\n",
      "[22] training loss: 0.5406429207264977, validation loss: 0.7632629619811171, validation accuracy: 53.2258064516129\n",
      "[23] training loss: 0.5291522449495009, validation loss: 0.7705666970020981, validation accuracy: 53.76344086021505\n",
      "[24] training loss: 0.5171758593228839, validation loss: 0.7776488708232039, validation accuracy: 52.956989247311824\n",
      "[25] training loss: 0.5044725458593976, validation loss: 0.7831674013887683, validation accuracy: 53.2258064516129\n",
      "[26] training loss: 0.4912848705513365, validation loss: 0.7892767207757119, validation accuracy: 52.956989247311824\n",
      "[27] training loss: 0.47725693839508415, validation loss: 0.7955292594689195, validation accuracy: 53.2258064516129\n",
      "[28] training loss: 0.4623374361219822, validation loss: 0.803076025539188, validation accuracy: 52.956989247311824\n",
      "[29] training loss: 0.44653690482346003, validation loss: 0.8102658029685739, validation accuracy: 52.956989247311824\n",
      "[30] training loss: 0.43044103168001113, validation loss: 0.819270324723054, validation accuracy: 53.494623655913976\n",
      "[31] training loss: 0.4133239419768321, validation loss: 0.8275473943801337, validation accuracy: 52.68817204301075\n",
      "[32] training loss: 0.39593685003335044, validation loss: 0.8376255987151977, validation accuracy: 52.68817204301075\n",
      "[33] training loss: 0.3780332748821918, validation loss: 0.8439306839499422, validation accuracy: 52.41935483870967\n",
      "[34] training loss: 0.35976011835088667, validation loss: 0.8504480717162932, validation accuracy: 51.88172043010753\n",
      "[35] training loss: 0.34107552528781376, validation loss: 0.8588323315144867, validation accuracy: 53.2258064516129\n",
      "[36] training loss: 0.32284119288193297, validation loss: 0.8690579894890067, validation accuracy: 52.1505376344086\n",
      "[37] training loss: 0.3039447801525161, validation loss: 0.8793148317484445, validation accuracy: 53.2258064516129\n",
      "[38] training loss: 0.28570765488899796, validation loss: 0.8948126158086203, validation accuracy: 53.2258064516129\n",
      "[39] training loss: 0.26731616617649195, validation loss: 0.9078696322056555, validation accuracy: 53.494623655913976\n",
      "[40] training loss: 0.24933723926344173, validation loss: 0.9230653364011037, validation accuracy: 53.2258064516129\n",
      "[41] training loss: 0.23172999062394137, validation loss: 0.9371293820040201, validation accuracy: 53.2258064516129\n",
      "[42] training loss: 0.21473135385137276, validation loss: 0.9501744745078907, validation accuracy: 52.68817204301075\n",
      "[43] training loss: 0.19888537750148133, validation loss: 0.9690229817423769, validation accuracy: 53.494623655913976\n",
      "[44] training loss: 0.18274995650621068, validation loss: 0.9877348769736546, validation accuracy: 52.956989247311824\n",
      "[45] training loss: 0.16800791372188786, validation loss: 1.004860093596802, validation accuracy: 52.68817204301075\n",
      "[46] training loss: 0.15389482549972983, validation loss: 1.0259468950411326, validation accuracy: 52.68817204301075\n",
      "[47] training loss: 0.1412043966202928, validation loss: 1.047243970376189, validation accuracy: 54.03225806451613\n",
      "[48] training loss: 0.12931705353244038, validation loss: 1.06556699657312, validation accuracy: 53.494623655913976\n",
      "[49] training loss: 0.11784548895471048, validation loss: 1.0811182142746063, validation accuracy: 53.494623655913976\n",
      "[50] training loss: 0.10749959149616677, validation loss: 1.0994279446300639, validation accuracy: 53.76344086021505\n",
      "After training: (0.8932636083766101, 61.49732620320856)\n"
     ]
    }
   ],
   "source": [
    "torch.manual_seed(0)\n",
    "rnn_bilstm_model = RNN_BiLSTM(ibc_vocab_rnn, 2, 150)\n",
    "\n",
    "loss_function = nn.NLLLoss()\n",
    "optimizer = optim.SGD(rnn_bilstm_model.parameters(), lr=0.001)\n",
    "num_epochs = 50\n",
    "\n",
    "rnn_train(rnn_bilstm_model, ibc_train_data_rnn, ibc_val_data_rnn, ibc_test_data_rnn, loss_function, optimizer, num_epochs)"
   ]
  },
  {
   "cell_type": "markdown",
   "metadata": {},
   "source": [
    "# 5. Data Augmentation"
   ]
  },
  {
   "cell_type": "markdown",
   "metadata": {},
   "source": [
    "## 5.1 Random insertion"
   ]
  },
  {
   "cell_type": "code",
   "execution_count": 124,
   "metadata": {},
   "outputs": [],
   "source": [
    "def get_synonym(word):\n",
    "    replacements = []\n",
    "    for syn in wn.synsets(word):\n",
    "        syn_word = syn.name().split('.')[0]\n",
    "        if syn_word != word and re.match('\\w', word):\n",
    "            replacements.append(syn_word)\n",
    "            \n",
    "    if len(replacements) > 0:\n",
    "        return replacements[randint(0, len(replacements) - 1)]\n",
    "    else:\n",
    "        return ''\n",
    "    \n",
    "def random_insertion(sentence, alpha=0.1):\n",
    "    new_sentence = sentence.copy()\n",
    "    for i in range(int(len(sentence) * 0.1)):\n",
    "        syn = get_synonym(sentence[randint(0, len(sentence) - 1)])\n",
    "        if syn:\n",
    "            new_sentence.insert(randint(0, len(new_sentence)), syn)\n",
    "        \n",
    "    return new_sentence"
   ]
  },
  {
   "cell_type": "code",
   "execution_count": 131,
   "metadata": {},
   "outputs": [],
   "source": [
    "random.seed(0)\n",
    "\n",
    "ibc_train_data_ri = []\n",
    "for sentence, label in ibc_train_data:\n",
    "    ibc_train_data_ri.append((random_insertion(sentence), label))\n",
    "    \n",
    "ibc_train_data_ri += ibc_train_data"
   ]
  },
  {
   "cell_type": "markdown",
   "metadata": {},
   "source": [
    "### 5.1.1 Logistic regression"
   ]
  },
  {
   "cell_type": "code",
   "execution_count": 139,
   "metadata": {},
   "outputs": [],
   "source": [
    "ibc_vocab_lr_ri, ibc_train_data_loader_lr_ri, ibc_val_data_loader_lr_ri, ibc_test_data_loader_lr_ri = generate_data_loader(ibc_train_data_ri,\n",
    "                                                                                                   ibc_val_data,\n",
    "                                                                                                   ibc_test_data,\n",
    "                                                                                                   make_bow_vec_lr,\n",
    "                                                                                                   make_label_lr,\n",
    "                                                                                                   {\"LIBERAL\": 0, \"CONSERVATIVE\": 1},\n",
    "                                                                                                   batch_size=16,\n",
    "                                                                                                   cutoff=1\n",
    "                                                                                                   )"
   ]
  },
  {
   "cell_type": "code",
   "execution_count": 140,
   "metadata": {},
   "outputs": [
    {
     "name": "stdout",
     "output_type": "stream",
     "text": [
      "53.20855614973262\n",
      "10: 66.66666666666666\n",
      "20: 68.27956989247312\n",
      "30: 67.74193548387096\n",
      "40: 66.93548387096774\n",
      "50: 66.93548387096774\n",
      "60: 66.66666666666666\n",
      "70: 66.66666666666666\n",
      "80: 66.66666666666666\n",
      "90: 66.66666666666666\n",
      "100: 66.66666666666666\n",
      "64.70588235294117\n"
     ]
    }
   ],
   "source": [
    "torch.manual_seed(0)\n",
    "lr_model_ri = BoWClassifier(ibc_vocab_lr_ri, 2)\n",
    "\n",
    "print(lr_eval(lr_model_ri, ibc_test_data_loader_lr_ri))\n",
    "lr_train(lr_model_ri, ibc_train_data_loader_lr_ri, ibc_val_data_loader_lr_ri, num_epochs=100)\n",
    "print(lr_eval(lr_model_ri, ibc_test_data_loader_lr_ri))"
   ]
  },
  {
   "cell_type": "markdown",
   "metadata": {},
   "source": [
    "### 5.1.2 Decision tree"
   ]
  },
  {
   "cell_type": "code",
   "execution_count": 142,
   "metadata": {},
   "outputs": [
    {
     "name": "stdout",
     "output_type": "stream",
     "text": [
      "train data size: 5960\n",
      "test data size: 374\n"
     ]
    }
   ],
   "source": [
    "ibc_vocab_dt_ri, ibc_train_data_dt_ri, ibc_test_data_dt_ri = generate_data_dt(ibc_train_data_ri, ibc_val_data, ibc_test_data)"
   ]
  },
  {
   "cell_type": "code",
   "execution_count": 152,
   "metadata": {},
   "outputs": [],
   "source": [
    "numpy.random.seed(0)\n",
    "dt_ri = DCT()\n",
    "dt_train(dt_ri, ibc_train_data_dt_ri)"
   ]
  },
  {
   "cell_type": "code",
   "execution_count": 153,
   "metadata": {},
   "outputs": [
    {
     "name": "stdout",
     "output_type": "stream",
     "text": [
      "56.68449197860963\n"
     ]
    }
   ],
   "source": [
    "print(dt_eval(dt_ri, ibc_test_data_dt_ri))"
   ]
  },
  {
   "cell_type": "markdown",
   "metadata": {},
   "source": [
    "### 5.1.3 KNN"
   ]
  },
  {
   "cell_type": "code",
   "execution_count": 149,
   "metadata": {},
   "outputs": [
    {
     "name": "stdout",
     "output_type": "stream",
     "text": [
      "train data size: 5960\n",
      "test data size: 374\n"
     ]
    }
   ],
   "source": [
    "ibc_vocab_knn_ri, ibc_train_data_knn_ri, ibc_test_data_knn_ri = generate_data_knn(ibc_train_data_ri, ibc_val_data, ibc_test_data)"
   ]
  },
  {
   "cell_type": "code",
   "execution_count": 154,
   "metadata": {},
   "outputs": [],
   "source": [
    "numpy.random.seed(0)\n",
    "knn_ri = KNeighborsClassifier(n_neighbors=5)\n",
    "knn_train(knn_ri, ibc_train_data_knn_ri)"
   ]
  },
  {
   "cell_type": "code",
   "execution_count": 155,
   "metadata": {},
   "outputs": [
    {
     "name": "stdout",
     "output_type": "stream",
     "text": [
      "53.20855614973262\n"
     ]
    }
   ],
   "source": [
    "print(knn_eval(knn_ri, ibc_test_data_knn_ri))"
   ]
  },
  {
   "cell_type": "markdown",
   "metadata": {},
   "source": [
    "### 5.1.4 Ensemble"
   ]
  },
  {
   "cell_type": "code",
   "execution_count": 159,
   "metadata": {},
   "outputs": [
    {
     "name": "stdout",
     "output_type": "stream",
     "text": [
      "60.6951871657754\n"
     ]
    }
   ],
   "source": [
    "print(ensemble_eval(lr_model_ri, dt_ri, knn_ri, ibc_test_data_loader_lr_ri))"
   ]
  },
  {
   "cell_type": "markdown",
   "metadata": {},
   "source": [
    "### 5.1.5 RNN"
   ]
  },
  {
   "cell_type": "code",
   "execution_count": 171,
   "metadata": {},
   "outputs": [],
   "source": [
    "ibc_vocab_rnn_ri, ibc_train_data_rnn_ri, ibc_val_data_rnn_ri, ibc_test_data_rnn_ri = generate_data_loader(ibc_train_data_ri,\n",
    "                                                                               ibc_val_data,\n",
    "                                                                               ibc_test_data,\n",
    "                                                                               make_feature_rnn,\n",
    "                                                                               make_target_rnn)"
   ]
  },
  {
   "cell_type": "code",
   "execution_count": 175,
   "metadata": {},
   "outputs": [
    {
     "name": "stdout",
     "output_type": "stream",
     "text": [
      "Before training: (0.7060735285441506, 52.406417112299465)\n",
      "[1] Saved best model\n",
      "[1] training loss: 0.6902853396814942, validation loss: 0.7117355913724951, validation accuracy: 49.73118279569893\n",
      "[2] Saved best model\n",
      "[2] training loss: 0.6632371385925568, validation loss: 0.7181852195532091, validation accuracy: 52.1505376344086\n",
      "[3] training loss: 0.6438462856181916, validation loss: 0.7364493775111373, validation accuracy: 52.1505376344086\n",
      "[4] Saved best model\n",
      "[4] training loss: 0.6199658582049529, validation loss: 0.7546904977931771, validation accuracy: 54.83870967741935\n",
      "[5] training loss: 0.5914451123008992, validation loss: 0.796822426299895, validation accuracy: 50.0\n",
      "[6] training loss: 0.5567024489177154, validation loss: 0.8488623361273478, validation accuracy: 51.88172043010753\n",
      "[7] training loss: 0.5176616286121358, validation loss: 0.900085186045016, validation accuracy: 51.61290322580645\n",
      "[8] training loss: 0.4670624262334516, validation loss: 0.9688530219818956, validation accuracy: 50.53763440860215\n",
      "[9] training loss: 0.40358826717324303, validation loss: 1.03009549031655, validation accuracy: 52.956989247311824\n",
      "[10] training loss: 0.3293883807132108, validation loss: 1.0949908139244202, validation accuracy: 51.61290322580645\n",
      "[11] training loss: 0.24889288150624142, validation loss: 1.2402333206226748, validation accuracy: 54.03225806451613\n",
      "[12] training loss: 0.16911818645394489, validation loss: 1.4025908399333236, validation accuracy: 52.68817204301075\n",
      "[13] training loss: 0.10701468270397026, validation loss: 1.6118383930735691, validation accuracy: 50.0\n",
      "[14] training loss: 0.06575852693027298, validation loss: 1.7062499357727907, validation accuracy: 52.41935483870967\n",
      "[15] training loss: 0.0485025025704163, validation loss: 1.8758203561908455, validation accuracy: 54.3010752688172\n",
      "[16] training loss: 0.03891827559611141, validation loss: 1.9416259018483983, validation accuracy: 51.344086021505376\n",
      "[17] training loss: 0.02759590863481464, validation loss: 1.9719143522683011, validation accuracy: 51.61290322580645\n",
      "[18] training loss: 0.027999149927956945, validation loss: 2.0325877053603048, validation accuracy: 53.76344086021505\n",
      "[19] training loss: 0.025743746162460956, validation loss: 2.1006058373598644, validation accuracy: 52.956989247311824\n",
      "[20] training loss: 0.018084836641214037, validation loss: 2.119415833825065, validation accuracy: 53.494623655913976\n",
      "[21] training loss: 0.02131537532546376, validation loss: 2.116459587889333, validation accuracy: 53.2258064516129\n",
      "[22] training loss: 0.016008484828592146, validation loss: 2.181008303197481, validation accuracy: 50.806451612903224\n",
      "[23] training loss: 0.014787509267362171, validation loss: 2.1924240441732508, validation accuracy: 54.03225806451613\n",
      "[24] training loss: 0.014810365598473773, validation loss: 2.174370030882538, validation accuracy: 52.68817204301075\n",
      "[25] training loss: 0.011474729589367873, validation loss: 2.2625232974207528, validation accuracy: 51.88172043010753\n",
      "[26] training loss: 0.012636650273663886, validation loss: 2.3313314473276496, validation accuracy: 51.61290322580645\n",
      "[27] training loss: 0.013981173342506358, validation loss: 2.324631191149194, validation accuracy: 51.88172043010753\n",
      "[28] training loss: 0.011473229942505792, validation loss: 2.295540816721416, validation accuracy: 52.956989247311824\n",
      "[29] training loss: 0.01110214298503511, validation loss: 2.3104534658693496, validation accuracy: 53.494623655913976\n",
      "[30] training loss: 0.011458925032775675, validation loss: 2.323105261290586, validation accuracy: 52.41935483870967\n",
      "[31] training loss: 0.009294443802545535, validation loss: 2.36132060528122, validation accuracy: 54.03225806451613\n",
      "[32] training loss: 0.01031458387338875, validation loss: 2.364076616062272, validation accuracy: 52.41935483870967\n",
      "[33] training loss: 0.010294569488739807, validation loss: 2.4080866474297737, validation accuracy: 53.2258064516129\n",
      "[34] training loss: 0.010746598153706365, validation loss: 2.399682259767927, validation accuracy: 52.68817204301075\n",
      "[35] training loss: 0.009463561531281311, validation loss: 2.4192919097440218, validation accuracy: 52.68817204301075\n",
      "[36] training loss: 0.00783726623494353, validation loss: 2.4393011618365525, validation accuracy: 52.68817204301075\n",
      "[37] training loss: 0.008545403512532279, validation loss: 2.4729753471510385, validation accuracy: 52.956989247311824\n",
      "[38] training loss: 0.009192037827416554, validation loss: 2.4606291513128946, validation accuracy: 52.68817204301075\n",
      "[39] training loss: 0.008085311059183722, validation loss: 2.455922329457857, validation accuracy: 52.956989247311824\n",
      "[40] training loss: 0.008580544050907928, validation loss: 2.4898077841968305, validation accuracy: 52.68817204301075\n",
      "[41] training loss: 0.008787075250140773, validation loss: 2.50712090834815, validation accuracy: 52.41935483870967\n",
      "[42] training loss: 0.008054715604990121, validation loss: 2.5476985382296706, validation accuracy: 52.68817204301075\n",
      "[43] training loss: 0.008149063697197293, validation loss: 2.512803568474708, validation accuracy: 53.2258064516129\n",
      "[44] training loss: 0.007469293775174442, validation loss: 2.554445817345573, validation accuracy: 52.41935483870967\n",
      "[45] training loss: 0.007308060655857893, validation loss: 2.576770639467624, validation accuracy: 52.956989247311824\n",
      "[46] training loss: 0.007065985546816115, validation loss: 2.545826814027243, validation accuracy: 53.494623655913976\n",
      "[47] training loss: 0.007385044729949644, validation loss: 2.5510640196422094, validation accuracy: 52.41935483870967\n",
      "[48] training loss: 0.007342716066429279, validation loss: 2.5658036630640746, validation accuracy: 53.2258064516129\n",
      "[49] training loss: 0.007330308364541739, validation loss: 2.5949732984105744, validation accuracy: 54.56989247311827\n",
      "[50] training loss: 0.006978827399895495, validation loss: 2.608503467293196, validation accuracy: 52.1505376344086\n",
      "After training: (2.686581368832027, 52.67379679144385)\n"
     ]
    }
   ],
   "source": [
    "torch.manual_seed(0)\n",
    "rnn_model_ri = RNN(ibc_vocab_rnn_ri, 2, 150)\n",
    "\n",
    "loss_function = nn.NLLLoss()\n",
    "optimizer = optim.SGD(rnn_model_ri.parameters(), lr=0.001)\n",
    "num_epochs = 50\n",
    "\n",
    "rnn_train(rnn_model_ri, ibc_train_data_rnn_ri, ibc_val_data_rnn_ri, ibc_test_data_rnn_ri, loss_function, optimizer, num_epochs)"
   ]
  },
  {
   "cell_type": "markdown",
   "metadata": {},
   "source": [
    "## 5.2 Random replacement"
   ]
  },
  {
   "cell_type": "code",
   "execution_count": 6,
   "metadata": {},
   "outputs": [],
   "source": [
    "def get_synonym(word):\n",
    "    replacements = []\n",
    "    for syn in wn.synsets(word):\n",
    "        syn_word = syn.name().split('.')[0]\n",
    "        if syn_word != word and re.match('\\w', word):\n",
    "            replacements.append(syn_word)\n",
    "            \n",
    "    if len(replacements) > 0:\n",
    "        return replacements[randint(0, len(replacements) - 1)]\n",
    "    else:\n",
    "        return ''\n",
    "    \n",
    "def random_replacement(sentence, alpha=0.1):\n",
    "    new_sentence = sentence.copy()\n",
    "    for i in range(int(len(sentence) * 0.1)):\n",
    "        word_id = randint(0, len(sentence) - 1)\n",
    "        syn = get_synonym(sentence[word_id])\n",
    "        if syn:\n",
    "            new_sentence[word_id] = syn\n",
    "        \n",
    "    return new_sentence"
   ]
  },
  {
   "cell_type": "code",
   "execution_count": 7,
   "metadata": {},
   "outputs": [],
   "source": [
    "random.seed(0)\n",
    "ibc_train_data_rr = []\n",
    "for sentence, label in ibc_train_data:\n",
    "    ibc_train_data_rr.append((random_replacement(sentence), label))\n",
    "    \n",
    "ibc_train_data_rr += ibc_train_data"
   ]
  },
  {
   "cell_type": "markdown",
   "metadata": {},
   "source": [
    "### 5.2.1 Logistic regression"
   ]
  },
  {
   "cell_type": "code",
   "execution_count": 66,
   "metadata": {},
   "outputs": [],
   "source": [
    "ibc_vocab_lr_rr, ibc_train_data_loader_lr_rr, ibc_val_data_loader_lr_rr, ibc_test_data_loader_lr_rr = generate_data_loader(ibc_train_data_rr,\n",
    "                                                                                                   ibc_val_data,\n",
    "                                                                                                   ibc_test_data,\n",
    "                                                                                                   make_bow_vec_lr,\n",
    "                                                                                                   make_label_lr,\n",
    "                                                                                                   {\"LIBERAL\": 0, \"CONSERVATIVE\": 1},\n",
    "                                                                                                   batch_size=16,\n",
    "                                                                                                   cutoff=1)"
   ]
  },
  {
   "cell_type": "code",
   "execution_count": 68,
   "metadata": {},
   "outputs": [
    {
     "name": "stdout",
     "output_type": "stream",
     "text": [
      "50.534759358288774\n",
      "10: 68.81720430107528\n",
      "20: 69.08602150537635\n",
      "30: 68.54838709677419\n",
      "40: 67.20430107526882\n",
      "50: 66.66666666666666\n",
      "60: 66.39784946236558\n",
      "70: 65.86021505376344\n",
      "80: 65.86021505376344\n",
      "90: 65.86021505376344\n",
      "100: 65.59139784946237\n",
      "63.36898395721925\n"
     ]
    }
   ],
   "source": [
    "torch.manual_seed(0)\n",
    "lr_model_rr = BoWClassifier(ibc_vocab_lr_rr, 2)\n",
    "\n",
    "print(lr_eval(lr_model_rr, ibc_test_data_loader_lr_rr))\n",
    "lr_train(lr_model_rr, ibc_train_data_loader_lr_rr, ibc_val_data_loader_lr_rr, num_epochs=100)\n",
    "print(lr_eval(lr_model_rr, ibc_test_data_loader_lr_rr))"
   ]
  },
  {
   "cell_type": "markdown",
   "metadata": {},
   "source": [
    "### 5.2.2 Decision Tree"
   ]
  },
  {
   "cell_type": "code",
   "execution_count": 70,
   "metadata": {},
   "outputs": [
    {
     "name": "stdout",
     "output_type": "stream",
     "text": [
      "train data size: 5960\n",
      "test data size: 374\n"
     ]
    }
   ],
   "source": [
    "ibc_vocab_dt_rr, ibc_train_data_dt_rr, ibc_test_data_dt_rr = generate_data_dt(ibc_train_data_rr, ibc_val_data, ibc_test_data)"
   ]
  },
  {
   "cell_type": "code",
   "execution_count": 77,
   "metadata": {},
   "outputs": [],
   "source": [
    "numpy.random.seed(0)\n",
    "dt_rr = DCT()\n",
    "dt_train(dt_rr, ibc_train_data_dt_rr)"
   ]
  },
  {
   "cell_type": "code",
   "execution_count": 78,
   "metadata": {},
   "outputs": [
    {
     "name": "stdout",
     "output_type": "stream",
     "text": [
      "56.417112299465245\n"
     ]
    }
   ],
   "source": [
    "print(dt_eval(dt_rr, ibc_test_data_dt_rr))"
   ]
  },
  {
   "cell_type": "markdown",
   "metadata": {},
   "source": [
    "### 5.2.3 KNN"
   ]
  },
  {
   "cell_type": "code",
   "execution_count": 79,
   "metadata": {},
   "outputs": [
    {
     "name": "stdout",
     "output_type": "stream",
     "text": [
      "train data size: 5960\n",
      "test data size: 374\n"
     ]
    }
   ],
   "source": [
    "ibc_vocab_knn_rr, ibc_train_data_knn_rr, ibc_test_data_knn_rr = generate_data_knn(ibc_train_data_rr, ibc_val_data, ibc_test_data)"
   ]
  },
  {
   "cell_type": "code",
   "execution_count": 80,
   "metadata": {},
   "outputs": [],
   "source": [
    "numpy.random.seed(0)\n",
    "knn_rr = KNeighborsClassifier(n_neighbors=5)\n",
    "knn_train(knn_rr, ibc_train_data_knn_rr)"
   ]
  },
  {
   "cell_type": "code",
   "execution_count": 82,
   "metadata": {},
   "outputs": [
    {
     "name": "stdout",
     "output_type": "stream",
     "text": [
      "51.87165775401069\n"
     ]
    }
   ],
   "source": [
    "print(knn_eval(knn_rr, ibc_test_data_knn_rr))"
   ]
  },
  {
   "cell_type": "markdown",
   "metadata": {},
   "source": [
    "### 5.2.4 Ensemble"
   ]
  },
  {
   "cell_type": "code",
   "execution_count": 89,
   "metadata": {},
   "outputs": [
    {
     "name": "stdout",
     "output_type": "stream",
     "text": [
      "60.16042780748663\n"
     ]
    }
   ],
   "source": [
    "print(ensemble_eval(lr_model_rr, dt_rr, knn_rr, ibc_test_data_loader_lr_rr))"
   ]
  },
  {
   "cell_type": "markdown",
   "metadata": {},
   "source": [
    "### 5.2.5 RNN"
   ]
  },
  {
   "cell_type": "code",
   "execution_count": 8,
   "metadata": {},
   "outputs": [],
   "source": [
    "ibc_vocab_rnn_rr, ibc_train_data_rnn_rr, ibc_val_data_rnn_rr, ibc_test_data_rnn_rr = generate_data_loader(ibc_train_data_rr,\n",
    "                                                                               ibc_val_data,\n",
    "                                                                               ibc_test_data,\n",
    "                                                                               make_feature_rnn,\n",
    "                                                                               make_target_rnn)"
   ]
  },
  {
   "cell_type": "code",
   "execution_count": 13,
   "metadata": {},
   "outputs": [
    {
     "name": "stdout",
     "output_type": "stream",
     "text": [
      "Before training: (0.7368121365493632, 45.18716577540107)\n"
     ]
    },
    {
     "name": "stderr",
     "output_type": "stream",
     "text": [
      "/home/ubuntu/anaconda3/envs/pytorch_p36/lib/python3.6/site-packages/torch/serialization.py:360: UserWarning: Couldn't retrieve source code for container of type RNN. It won't be checked for correctness upon loading.\n",
      "  \"type \" + obj.__name__ + \". It won't be checked \"\n"
     ]
    },
    {
     "name": "stdout",
     "output_type": "stream",
     "text": [
      "[1] Saved best model\n",
      "[1] training loss: 0.6841355575161092, validation loss: 0.7051241746352565, validation accuracy: 48.655913978494624\n",
      "[2] Saved best model\n",
      "[2] training loss: 0.6543531695718333, validation loss: 0.7300154360071305, validation accuracy: 49.46236559139785\n",
      "[3] Saved best model\n",
      "[3] training loss: 0.6297749183696989, validation loss: 0.7488500791531737, validation accuracy: 50.53763440860215\n",
      "[4] training loss: 0.6023878786212846, validation loss: 0.7900659422720632, validation accuracy: 50.26881720430107\n",
      "[5] Saved best model\n",
      "[5] training loss: 0.5720405528634387, validation loss: 0.8039869560349372, validation accuracy: 53.76344086021505\n",
      "[6] training loss: 0.5350105627146143, validation loss: 0.8631122128296924, validation accuracy: 51.075268817204304\n",
      "[7] training loss: 0.4849059949335236, validation loss: 0.9142731271924511, validation accuracy: 52.41935483870967\n",
      "[8] training loss: 0.42364200362373117, validation loss: 0.9631817279964365, validation accuracy: 52.68817204301075\n",
      "[9] training loss: 0.3474853645735139, validation loss: 1.1066185280039746, validation accuracy: 49.73118279569893\n",
      "[10] Saved best model\n",
      "[10] training loss: 0.2668785063437367, validation loss: 1.2389060275689248, validation accuracy: 54.03225806451613\n",
      "[11] training loss: 0.18893016701276671, validation loss: 1.4497253261907126, validation accuracy: 50.53763440860215\n",
      "[12] training loss: 0.12148721331617976, validation loss: 1.6215377096687593, validation accuracy: 50.806451612903224\n",
      "[13] training loss: 0.07117782723933658, validation loss: 1.8035616150466345, validation accuracy: 51.61290322580645\n",
      "[14] training loss: 0.049132681077958755, validation loss: 1.8707898242339012, validation accuracy: 52.956989247311824\n",
      "[15] training loss: 0.037121030685785636, validation loss: 2.0014617686630576, validation accuracy: 53.2258064516129\n",
      "[16] training loss: 0.026932345980765836, validation loss: 2.1027901221507337, validation accuracy: 52.1505376344086\n",
      "[17] training loss: 0.025976417878730184, validation loss: 2.132673613326524, validation accuracy: 51.61290322580645\n",
      "[18] training loss: 0.02328176865941726, validation loss: 2.2042484339526904, validation accuracy: 52.68817204301075\n",
      "[19] training loss: 0.021437473155108074, validation loss: 2.2440813052397903, validation accuracy: 51.61290322580645\n",
      "[20] Saved best model\n",
      "[20] training loss: 0.019207749080737965, validation loss: 2.2198010497195746, validation accuracy: 54.56989247311827\n",
      "[21] training loss: 0.01582605554753502, validation loss: 2.367134287512751, validation accuracy: 52.41935483870967\n",
      "[22] training loss: 0.013687992565983895, validation loss: 2.426689614051132, validation accuracy: 53.2258064516129\n",
      "[23] training loss: 0.01312902345253317, validation loss: 2.436961524028291, validation accuracy: 51.075268817204304\n",
      "[24] training loss: 0.014404540403977336, validation loss: 2.4189676142507985, validation accuracy: 53.2258064516129\n",
      "[25] training loss: 0.01373330883731778, validation loss: 2.4000250816505444, validation accuracy: 52.956989247311824\n",
      "[26] training loss: 0.01201395610434897, validation loss: 2.4966600835323334, validation accuracy: 52.68817204301075\n",
      "[27] training loss: 0.011328105568485772, validation loss: 2.4521368000936765, validation accuracy: 52.68817204301075\n",
      "[28] training loss: 0.011312166656423735, validation loss: 2.47392252680435, validation accuracy: 52.1505376344086\n",
      "[29] training loss: 0.010762899303996322, validation loss: 2.498256823789048, validation accuracy: 52.68817204301075\n",
      "[30] training loss: 0.010444585798970805, validation loss: 2.5628406019300543, validation accuracy: 52.41935483870967\n",
      "[31] training loss: 0.010389544704816485, validation loss: 2.602362465233572, validation accuracy: 52.1505376344086\n",
      "[32] training loss: 0.009389692159907129, validation loss: 2.6039161738208545, validation accuracy: 53.2258064516129\n",
      "[33] training loss: 0.00917315671107913, validation loss: 2.5990988377441644, validation accuracy: 53.2258064516129\n",
      "[34] training loss: 0.009454899466277769, validation loss: 2.624301685040356, validation accuracy: 51.61290322580645\n",
      "[35] Saved best model\n",
      "[35] training loss: 0.008815235449563736, validation loss: 2.6646661725576206, validation accuracy: 54.83870967741935\n",
      "[36] training loss: 0.009229944891377583, validation loss: 2.628578799225951, validation accuracy: 52.41935483870967\n",
      "[37] training loss: 0.0093475990447422, validation loss: 2.6661837395801338, validation accuracy: 52.1505376344086\n",
      "[38] training loss: 0.009084479730801294, validation loss: 2.692650185877918, validation accuracy: 52.68817204301075\n",
      "[39] training loss: 0.008570744567269447, validation loss: 2.6973748997014058, validation accuracy: 52.41935483870967\n",
      "[40] training loss: 0.008459431963078927, validation loss: 2.7188997983291583, validation accuracy: 52.1505376344086\n",
      "[41] training loss: 0.008349305861348274, validation loss: 2.777718760073185, validation accuracy: 52.68817204301075\n",
      "[42] training loss: 0.008005611463481149, validation loss: 2.760227452282624, validation accuracy: 52.68817204301075\n",
      "[43] training loss: 0.008025396490257058, validation loss: 2.7642538363254197, validation accuracy: 51.61290322580645\n",
      "[44] training loss: 0.007550216866219604, validation loss: 2.793277183848043, validation accuracy: 52.956989247311824\n",
      "[45] training loss: 0.008189954403662842, validation loss: 2.774263495078651, validation accuracy: 52.1505376344086\n",
      "[46] training loss: 0.0072158820277092445, validation loss: 2.8047457476777415, validation accuracy: 52.1505376344086\n",
      "[47] training loss: 0.007876823812523144, validation loss: 2.8120257670199997, validation accuracy: 52.41935483870967\n",
      "[48] training loss: 0.007300148639302926, validation loss: 2.77867350286694, validation accuracy: 53.76344086021505\n",
      "[49] training loss: 0.0077723308547631206, validation loss: 2.78773299853007, validation accuracy: 52.956989247311824\n",
      "[50] training loss: 0.007557333995831893, validation loss: 2.827387587998503, validation accuracy: 52.41935483870967\n",
      "After training: (2.72027967208847, 56.68449197860963)\n"
     ]
    }
   ],
   "source": [
    "torch.manual_seed(0)\n",
    "rnn_model_rr = RNN(ibc_vocab_rnn_rr, 2, 150)\n",
    "\n",
    "loss_function = nn.NLLLoss()\n",
    "optimizer = optim.SGD(rnn_model_rr.parameters(), lr=0.001)\n",
    "\n",
    "rnn_train(rnn_model_rr, ibc_train_data_rnn_rr, ibc_val_data_rnn_rr, ibc_test_data_rnn_rr, loss_function, optimizer)"
   ]
  },
  {
   "cell_type": "markdown",
   "metadata": {},
   "source": [
    "## 5.3 Random deletion"
   ]
  },
  {
   "cell_type": "code",
   "execution_count": 14,
   "metadata": {},
   "outputs": [],
   "source": [
    "def random_deletion(sentence, alpha=0.1):\n",
    "    new_sentence = sentence.copy()\n",
    "    for i in range(int(len(sentence) * 0.1)):\n",
    "        new_sentence.pop(randint(0, len(new_sentence) - 1))\n",
    "        \n",
    "    return new_sentence"
   ]
  },
  {
   "cell_type": "code",
   "execution_count": 15,
   "metadata": {},
   "outputs": [],
   "source": [
    "random.seed(0)\n",
    "ibc_train_data_rd = []\n",
    "for sentence, label in ibc_train_data:\n",
    "    ibc_train_data_rd.append((random_deletion(sentence), label))\n",
    "    \n",
    "ibc_train_data_rd += ibc_train_data"
   ]
  },
  {
   "cell_type": "markdown",
   "metadata": {},
   "source": [
    "### 5.3.1 Logistic regression"
   ]
  },
  {
   "cell_type": "code",
   "execution_count": 105,
   "metadata": {},
   "outputs": [],
   "source": [
    "ibc_vocab_lr_rd, ibc_train_data_loader_lr_rd, ibc_val_data_loader_lr_rd, ibc_test_data_loader_lr_rd = generate_data_loader(ibc_train_data_rd,\n",
    "                                                                                                   ibc_val_data,\n",
    "                                                                                                   ibc_test_data,\n",
    "                                                                                                   make_bow_vec_lr,\n",
    "                                                                                                   make_label_lr,\n",
    "                                                                                                   {\"LIBERAL\": 0, \"CONSERVATIVE\": 1},\n",
    "                                                                                                   batch_size=16,\n",
    "                                                                                                   cutoff=1)"
   ]
  },
  {
   "cell_type": "code",
   "execution_count": 106,
   "metadata": {},
   "outputs": [
    {
     "name": "stdout",
     "output_type": "stream",
     "text": [
      "42.513368983957214\n",
      "10: 69.6236559139785\n",
      "20: 68.27956989247312\n",
      "30: 67.20430107526882\n",
      "40: 66.93548387096774\n",
      "50: 67.47311827956989\n",
      "60: 66.39784946236558\n",
      "70: 66.39784946236558\n",
      "80: 66.39784946236558\n",
      "90: 66.12903225806451\n",
      "100: 65.86021505376344\n",
      "64.1711229946524\n"
     ]
    }
   ],
   "source": [
    "torch.manual_seed(0)\n",
    "lr_model_rd = BoWClassifier(ibc_vocab_lr_rd, 2)\n",
    "\n",
    "print(lr_eval(lr_model_rd, ibc_test_data_loader_lr_rd))\n",
    "lr_train(lr_model_rd, ibc_train_data_loader_lr_rd, ibc_val_data_loader_lr_rd, num_epochs=100)\n",
    "print(lr_eval(lr_model_rd, ibc_test_data_loader_lr_rd))"
   ]
  },
  {
   "cell_type": "markdown",
   "metadata": {},
   "source": [
    "### 5.2.2 Decision Tree"
   ]
  },
  {
   "cell_type": "code",
   "execution_count": 107,
   "metadata": {},
   "outputs": [
    {
     "name": "stdout",
     "output_type": "stream",
     "text": [
      "train data size: 5960\n",
      "test data size: 374\n"
     ]
    }
   ],
   "source": [
    "ibc_vocab_dt_rd, ibc_train_data_dt_rd, ibc_test_data_dt_rd = generate_data_dt(ibc_train_data_rd, ibc_val_data, ibc_test_data)"
   ]
  },
  {
   "cell_type": "code",
   "execution_count": 108,
   "metadata": {},
   "outputs": [],
   "source": [
    "numpy.random.seed(0)\n",
    "dt_rd = DCT()\n",
    "dt_train(dt_rd, ibc_train_data_dt_rd)"
   ]
  },
  {
   "cell_type": "code",
   "execution_count": 109,
   "metadata": {},
   "outputs": [
    {
     "name": "stdout",
     "output_type": "stream",
     "text": [
      "60.16042780748663\n"
     ]
    }
   ],
   "source": [
    "print(dt_eval(dt_rd, ibc_test_data_dt_rd))"
   ]
  },
  {
   "cell_type": "markdown",
   "metadata": {},
   "source": [
    "### 5.2.3 KNN"
   ]
  },
  {
   "cell_type": "code",
   "execution_count": 110,
   "metadata": {},
   "outputs": [
    {
     "name": "stdout",
     "output_type": "stream",
     "text": [
      "train data size: 5960\n",
      "test data size: 374\n"
     ]
    }
   ],
   "source": [
    "ibc_vocab_knn_rd, ibc_train_data_knn_rd, ibc_test_data_knn_rd = generate_data_knn(ibc_train_data_rd, ibc_val_data, ibc_test_data)"
   ]
  },
  {
   "cell_type": "code",
   "execution_count": 111,
   "metadata": {},
   "outputs": [],
   "source": [
    "numpy.random.seed(0)\n",
    "knn_rd = KNeighborsClassifier(n_neighbors=5)\n",
    "knn_train(knn_rd, ibc_train_data_knn_rd)"
   ]
  },
  {
   "cell_type": "code",
   "execution_count": 112,
   "metadata": {},
   "outputs": [
    {
     "name": "stdout",
     "output_type": "stream",
     "text": [
      "54.81283422459893\n"
     ]
    }
   ],
   "source": [
    "print(knn_eval(knn_rd, ibc_test_data_knn_rd))"
   ]
  },
  {
   "cell_type": "markdown",
   "metadata": {},
   "source": [
    "### 5.2.4 Ensemble"
   ]
  },
  {
   "cell_type": "code",
   "execution_count": 113,
   "metadata": {},
   "outputs": [
    {
     "name": "stdout",
     "output_type": "stream",
     "text": [
      "62.299465240641716\n"
     ]
    }
   ],
   "source": [
    "print(ensemble_eval(lr_model_rd, dt_rd, knn_rd, ibc_test_data_loader_lr_rd))"
   ]
  },
  {
   "cell_type": "markdown",
   "metadata": {},
   "source": [
    "### 5.2.5 RNN"
   ]
  },
  {
   "cell_type": "code",
   "execution_count": 16,
   "metadata": {},
   "outputs": [],
   "source": [
    "ibc_vocab_rnn_rd, ibc_train_data_rnn_rd, ibc_val_data_rnn_rd, ibc_test_data_rnn_rd = generate_data_loader(ibc_train_data_rd,\n",
    "                                                                               ibc_val_data,\n",
    "                                                                               ibc_test_data,\n",
    "                                                                               make_feature_rnn,\n",
    "                                                                               make_target_rnn)"
   ]
  },
  {
   "cell_type": "code",
   "execution_count": 17,
   "metadata": {},
   "outputs": [
    {
     "name": "stdout",
     "output_type": "stream",
     "text": [
      "Before training: (0.7303125680608545, 48.1283422459893)\n",
      "[1] Saved best model\n",
      "[1] training loss: 0.6877565339957707, validation loss: 0.7009653349717458, validation accuracy: 51.344086021505376\n",
      "[2] Saved best model\n",
      "[2] training loss: 0.6598749999681975, validation loss: 0.7108162533371679, validation accuracy: 52.68817204301075\n",
      "[3] training loss: 0.6398006651200504, validation loss: 0.7293691949177814, validation accuracy: 51.88172043010753\n",
      "[4] training loss: 0.6170618657872781, validation loss: 0.7604174076389241, validation accuracy: 49.46236559139785\n",
      "[5] Saved best model\n",
      "[5] training loss: 0.5923387955849203, validation loss: 0.7666598052106878, validation accuracy: 54.56989247311827\n",
      "[6] training loss: 0.5589565623351591, validation loss: 0.7865079056511644, validation accuracy: 52.956989247311824\n",
      "[7] training loss: 0.5175635399209373, validation loss: 0.812721926118097, validation accuracy: 53.2258064516129\n",
      "[8] training loss: 0.4631195663505753, validation loss: 0.8884834837048284, validation accuracy: 54.03225806451613\n",
      "[9] Saved best model\n",
      "[9] training loss: 0.40418097269815084, validation loss: 0.9310286294228287, validation accuracy: 56.18279569892473\n",
      "[10] training loss: 0.32739378736673186, validation loss: 1.053446848546305, validation accuracy: 55.64516129032258\n",
      "[11] training loss: 0.25224446507808346, validation loss: 1.1941559011096596, validation accuracy: 55.376344086021504\n",
      "[12] training loss: 0.17769359483964892, validation loss: 1.2821334125373953, validation accuracy: 55.91397849462365\n",
      "[13] Saved best model\n",
      "[13] training loss: 0.10816738895771888, validation loss: 1.4444169749816258, validation accuracy: 56.72043010752689\n",
      "[14] training loss: 0.07597556724744355, validation loss: 1.7050898417189557, validation accuracy: 54.83870967741935\n",
      "[15] training loss: 0.04985469267422321, validation loss: 1.809205761680039, validation accuracy: 55.107526881720425\n",
      "[16] training loss: 0.037902820412844616, validation loss: 1.7753495710992044, validation accuracy: 55.376344086021504\n",
      "[17] training loss: 0.029896121827147952, validation loss: 1.886097700365128, validation accuracy: 56.18279569892473\n",
      "[18] Saved best model\n",
      "[18] training loss: 0.02137086339444922, validation loss: 1.9819897524611925, validation accuracy: 56.98924731182796\n",
      "[19] training loss: 0.01859680964742731, validation loss: 2.023367553308446, validation accuracy: 56.72043010752689\n",
      "[20] training loss: 0.024748931035099415, validation loss: 2.0100747706588877, validation accuracy: 53.76344086021505\n",
      "[21] training loss: 0.0158648871935454, validation loss: 2.0785425066627483, validation accuracy: 55.107526881720425\n",
      "[22] training loss: 0.0168768309006755, validation loss: 2.0868363207386387, validation accuracy: 55.91397849462365\n",
      "[23] training loss: 0.014051044717331061, validation loss: 2.137745730098217, validation accuracy: 55.64516129032258\n",
      "[24] training loss: 0.014882340057184232, validation loss: 2.1847334180868443, validation accuracy: 56.98924731182796\n",
      "[25] training loss: 0.013499172461912935, validation loss: 2.1128633176126788, validation accuracy: 55.91397849462365\n",
      "[26] training loss: 0.011884255847274858, validation loss: 2.1764319116069424, validation accuracy: 55.376344086021504\n",
      "[27] Saved best model\n",
      "[27] training loss: 0.012288646299967029, validation loss: 2.2237747470217366, validation accuracy: 57.52688172043011\n",
      "[28] training loss: 0.011663276352138327, validation loss: 2.2132089225355016, validation accuracy: 57.52688172043011\n",
      "[29] Saved best model\n",
      "[29] training loss: 0.010086150737416824, validation loss: 2.2642536143301637, validation accuracy: 58.602150537634415\n",
      "[30] training loss: 0.011388677568643686, validation loss: 2.2614122644387264, validation accuracy: 55.91397849462365\n",
      "[31] training loss: 0.011083970658931156, validation loss: 2.2429357169055812, validation accuracy: 57.52688172043011\n",
      "[32] training loss: 0.00847866647195496, validation loss: 2.313019794401943, validation accuracy: 57.52688172043011\n",
      "[33] training loss: 0.009517790997188363, validation loss: 2.3467274244113634, validation accuracy: 56.72043010752689\n",
      "[34] training loss: 0.009478747664682017, validation loss: 2.3065104795399534, validation accuracy: 56.72043010752689\n",
      "[35] training loss: 0.008460862704571461, validation loss: 2.351575243537144, validation accuracy: 57.795698924731184\n",
      "[36] training loss: 0.010041819872872141, validation loss: 2.360666013292728, validation accuracy: 57.795698924731184\n",
      "[37] Saved best model\n",
      "[37] training loss: 0.0086536872856969, validation loss: 2.367581951281717, validation accuracy: 58.87096774193549\n",
      "[38] training loss: 0.008292574915509896, validation loss: 2.411211915073856, validation accuracy: 56.451612903225815\n",
      "[39] training loss: 0.009076284032140003, validation loss: 2.4229488424876684, validation accuracy: 58.333333333333336\n",
      "[40] training loss: 0.008048457427312864, validation loss: 2.4449611006564993, validation accuracy: 56.451612903225815\n",
      "[41] training loss: 0.008450095890552406, validation loss: 2.4153673217822145, validation accuracy: 57.25806451612904\n",
      "[42] training loss: 0.007862426590599469, validation loss: 2.3967782972400546, validation accuracy: 56.98924731182796\n",
      "[43] training loss: 0.008504840046567404, validation loss: 2.454618505893215, validation accuracy: 57.25806451612904\n",
      "[44] training loss: 0.00762471426653382, validation loss: 2.4593991279121368, validation accuracy: 56.98924731182796\n",
      "[45] Saved best model\n",
      "[45] training loss: 0.007544751655335394, validation loss: 2.5278395704364263, validation accuracy: 59.13978494623656\n",
      "[46] training loss: 0.007294937423211616, validation loss: 2.509318793332705, validation accuracy: 56.18279569892473\n",
      "[47] training loss: 0.007823398689295621, validation loss: 2.5208586999165115, validation accuracy: 57.52688172043011\n",
      "[48] training loss: 0.007336474250026997, validation loss: 2.4994006934024955, validation accuracy: 59.13978494623656\n",
      "[49] training loss: 0.006954562534021851, validation loss: 2.536658224639713, validation accuracy: 57.795698924731184\n",
      "[50] training loss: 0.007488353370420085, validation loss: 2.5364254214750823, validation accuracy: 57.52688172043011\n",
      "After training: (2.6703713104367894, 54.54545454545454)\n"
     ]
    }
   ],
   "source": [
    "torch.manual_seed(0)\n",
    "rnn_model_rd = RNN(ibc_vocab_rnn_rd, 2, 150)\n",
    "\n",
    "loss_function = nn.NLLLoss()\n",
    "optimizer = optim.SGD(rnn_model_rd.parameters(), lr=0.001)\n",
    "\n",
    "rnn_train(rnn_model_rd, ibc_train_data_rnn_rd, ibc_val_data_rnn_rd, ibc_test_data_rnn_rd, loss_function, optimizer)"
   ]
  },
  {
   "cell_type": "markdown",
   "metadata": {},
   "source": [
    "# 6. Fasttext"
   ]
  },
  {
   "cell_type": "code",
   "execution_count": 4,
   "metadata": {},
   "outputs": [],
   "source": [
    "def generate_ibc_data_fasttext():\n",
    "    [lib, con, neutral] = pickle.load(open('{}full_ibc/ibcData.pkl'.format(data_path), 'rb'))\n",
    "\n",
    "    tokenizer = nltk.RegexpTokenizer(r\"\\w+\")\n",
    "    ibc_lib = [(tree.get_words().lower(), \"LIBERAL\") for tree in lib]\n",
    "    ibc_con = [(tree.get_words().lower(), \"CONSERVATIVE\") for tree in con]\n",
    "    ibc_full_data = ibc_lib + ibc_con\n",
    "\n",
    "    ibc_lib_size = len(ibc_lib)\n",
    "    ibc_lib_train_size = int(ibc_lib_size*0.8)\n",
    "    ibc_lib_val_size = int(ibc_lib_size*0.1)\n",
    "    ibc_lib_test_size = ibc_lib_size - ibc_lib_train_size - ibc_lib_val_size\n",
    "    ibc_lib_train_data, ibc_lib_val_data, ibc_lib_test_data = torch.utils.data.random_split(ibc_lib, [ibc_lib_train_size, ibc_lib_val_size, ibc_lib_test_size])\n",
    "    \n",
    "    ibc_con_size = len(ibc_con)\n",
    "    ibc_con_train_size = int(ibc_con_size*0.8)\n",
    "    ibc_con_val_size = int(ibc_con_size*0.1)\n",
    "    ibc_con_test_size = ibc_con_size - ibc_con_train_size - ibc_con_val_size\n",
    "    ibc_con_train_data, ibc_con_val_data, ibc_con_test_data = torch.utils.data.random_split(ibc_con, [ibc_con_train_size, ibc_con_val_size, ibc_con_test_size])\n",
    "\n",
    "    ibc_train_data = ibc_lib_train_data + ibc_con_train_data\n",
    "    ibc_val_data = ibc_lib_val_data + ibc_con_val_data\n",
    "    ibc_test_data = ibc_lib_test_data + ibc_con_test_data\n",
    "    ibc_labels = {\"LIBERAL\": 0, \"CONSERVATIVE\": 1}\n",
    "    \n",
    "    print('training data size:', len(ibc_train_data))\n",
    "    print('validation data size:', len(ibc_val_data))\n",
    "    print('test data size:', len(ibc_test_data))\n",
    "\n",
    "    with open('raw_ibc_fasttext.train', 'w') as f:\n",
    "        for sentence, label in ibc_train_data:\n",
    "            f.write('__label__{} {}\\n'.format(label, sentence))\n",
    "            if label == \"CONSERVATIVE\":\n",
    "                f.write('__label__{} {}\\n'.format(label, sentence))\n",
    "            \n",
    "    with open('raw_ibc_fasttext.val', 'w') as f:\n",
    "        for sentence, label in ibc_val_data:\n",
    "            f.write('__label__{} {}\\n'.format(label, sentence))\n",
    "\n",
    "    with open('raw_ibc_fasttext.test', 'w') as f:\n",
    "        for sentence, label in ibc_test_data:\n",
    "            f.write('__label__{} {}\\n'.format(label, sentence))"
   ]
  },
  {
   "cell_type": "code",
   "execution_count": 5,
   "metadata": {},
   "outputs": [
    {
     "name": "stdout",
     "output_type": "stream",
     "text": [
      "training data size: 2980\n",
      "validation data size: 372\n",
      "test data size: 374\n"
     ]
    }
   ],
   "source": [
    "torch.manual_seed(0)\n",
    "generate_ibc_data_fasttext()"
   ]
  },
  {
   "cell_type": "code",
   "execution_count": 6,
   "metadata": {},
   "outputs": [],
   "source": [
    "with open('ibc_fasttext.train', 'w') as f:\n",
    "    for sentence, label in ibc_train_data:\n",
    "        f.write('__label__{} {}\\n'.format(label, ' '.join(sentence)))\n",
    "        if label == \"CONSERVATIVE\":\n",
    "                f.write('__label__{} {}\\n'.format(label, sentence))\n",
    "        \n",
    "with open('ibc_fasttext.val', 'w') as f:\n",
    "    for sentence, label in ibc_val_data:\n",
    "        f.write('__label__{} {}\\n'.format(label, ' '.join(sentence)))\n",
    "\n",
    "with open('ibc_fasttext.test', 'w') as f:\n",
    "    for sentence, label in ibc_test_data:\n",
    "        f.write('__label__{} {}\\n'.format(label, ' '.join(sentence)))"
   ]
  },
  {
   "cell_type": "code",
   "execution_count": 10,
   "metadata": {},
   "outputs": [
    {
     "data": {
      "text/plain": [
       "{'__label__LIBERAL': {'precision': 0.6455026455026455,\n",
       "  'recall': 0.6009852216748769,\n",
       "  'f1score': 0.6224489795918368},\n",
       " '__label__CONSERVATIVE': {'precision': 0.5621621621621622,\n",
       "  'recall': 0.6081871345029239,\n",
       "  'f1score': 0.5842696629213483}}"
      ]
     },
     "execution_count": 10,
     "metadata": {},
     "output_type": "execute_result"
    }
   ],
   "source": [
    "fasttext_model = fasttext.train_supervised(input=\"ibc_fasttext.train\", epoch=10, lr=0.1)\n",
    "fasttext_model.test(\"ibc_fasttext.test\")\n",
    "fasttext_model.test_label(\"ibc_fasttext.test\")"
   ]
  },
  {
   "cell_type": "code",
   "execution_count": 9,
   "metadata": {},
   "outputs": [
    {
     "data": {
      "text/plain": [
       "{'__label__LIBERAL': {'precision': 0.6774193548387096,\n",
       "  'recall': 0.41379310344827586,\n",
       "  'f1score': 0.5137614678899083},\n",
       " '__label__CONSERVATIVE': {'precision': 0.524,\n",
       "  'recall': 0.7660818713450293,\n",
       "  'f1score': 0.6223277909738717}}"
      ]
     },
     "execution_count": 9,
     "metadata": {},
     "output_type": "execute_result"
    }
   ],
   "source": [
    "fasttext_model = fasttext.train_supervised(input=\"raw_ibc_fasttext.train\", epoch=15, lr=0.1)\n",
    "fasttext_model.test(\"raw_ibc_fasttext.test\")\n",
    "fasttext_model.test_label(\"raw_ibc_fasttext.test\")"
   ]
  },
  {
   "cell_type": "code",
   "execution_count": 5,
   "metadata": {},
   "outputs": [],
   "source": [
    "x_axis = []\n",
    "y_axis = []\n",
    "for epoch in range(5, 51, 5):\n",
    "    x_axis.append(epoch)\n",
    "for lr in range(1, 11):\n",
    "    y_axis.append(lr / 10)"
   ]
  },
  {
   "cell_type": "code",
   "execution_count": 6,
   "metadata": {},
   "outputs": [],
   "source": [
    "result_raw = []\n",
    "\n",
    "for y in y_axis:\n",
    "    tmp_result_raw = []\n",
    "    for x in x_axis:\n",
    "        curr_result = 0\n",
    "        curr_result += fasttext.train_supervised(input=\"raw_ibc_fasttext.train\", epoch=x, lr=y).test(\"raw_ibc_fasttext.test\")[1]\n",
    "        curr_result += fasttext.train_supervised(input=\"raw_ibc_fasttext.train\", epoch=x, lr=y).test(\"raw_ibc_fasttext.test\")[1]\n",
    "        curr_result += fasttext.train_supervised(input=\"raw_ibc_fasttext.train\", epoch=x, lr=y).test(\"raw_ibc_fasttext.test\")[1]\n",
    "        tmp_result_raw.append(curr_result / 3)\n",
    "    result_raw.append(tmp_result_raw)"
   ]
  },
  {
   "cell_type": "code",
   "execution_count": 7,
   "metadata": {},
   "outputs": [],
   "source": [
    "result = []\n",
    "\n",
    "for y in y_axis:\n",
    "    tmp_result = []\n",
    "    for x in x_axis:\n",
    "        curr_result = 0\n",
    "        curr_result += fasttext.train_supervised(input=\"ibc_fasttext.train\", epoch=x, lr=y).test(\"ibc_fasttext.test\")[1]\n",
    "        curr_result += fasttext.train_supervised(input=\"ibc_fasttext.train\", epoch=x, lr=y).test(\"ibc_fasttext.test\")[1]\n",
    "        curr_result += fasttext.train_supervised(input=\"ibc_fasttext.train\", epoch=x, lr=y).test(\"ibc_fasttext.test\")[1]\n",
    "        tmp_result.append(curr_result / 3)\n",
    "    result.append(tmp_result)"
   ]
  },
  {
   "cell_type": "code",
   "execution_count": 9,
   "metadata": {},
   "outputs": [
    {
     "name": "stdout",
     "output_type": "stream",
     "text": [
      "[0.5133689839572192, 0.5445632798573975, 0.6007130124777184, 0.6060606060606061, 0.6167557932263815, 0.6345811051693405, 0.5998217468805705, 0.6158645276292335, 0.6158645276292335, 0.5935828877005348]\n",
      "[0.5294117647058824, 0.5926916221033868, 0.6372549019607843, 0.6203208556149733, 0.6007130124777184, 0.6087344028520499, 0.6060606060606061, 0.6007130124777184, 0.6024955436720142, 0.5998217468805703]\n",
      "[0.5436720142602495, 0.6087344028520499, 0.6221033868092691, 0.6131907308377896, 0.6078431372549019, 0.6033868092691622, 0.6042780748663101, 0.5989304812834225, 0.5971479500891266, 0.5926916221033869]\n",
      "[0.5436720142602495, 0.6274509803921569, 0.6194295900178254, 0.6087344028520499, 0.6042780748663101, 0.6060606060606061, 0.6060606060606061, 0.5989304812834224, 0.6024955436720143, 0.5998217468805704]\n",
      "[0.5588235294117646, 0.6292335115864528, 0.6176470588235294, 0.6078431372549019, 0.5998217468805703, 0.6033868092691622, 0.5962566844919787, 0.5944741532976826, 0.6016042780748663, 0.5962566844919787]\n",
      "[0.5588235294117646, 0.6283422459893048, 0.6131907308377896, 0.6060606060606061, 0.6042780748663101, 0.6007130124777184, 0.6024955436720142, 0.5971479500891266, 0.5935828877005348, 0.6060606060606061]\n",
      "[0.5454545454545454, 0.6336898395721925, 0.6158645276292335, 0.606951871657754, 0.605169340463458, 0.6016042780748663, 0.5926916221033868, 0.5873440285204992, 0.5971479500891266, 0.6016042780748663]\n",
      "[0.5570409982174688, 0.6301247771836006, 0.5998217468805703, 0.605169340463458, 0.5953654188948306, 0.5989304812834225, 0.5998217468805704, 0.5944741532976827, 0.5953654188948306, 0.5998217468805704]\n",
      "[0.5677361853832442, 0.6319073083778965, 0.6033868092691622, 0.606951871657754, 0.5962566844919787, 0.605169340463458, 0.6051693404634582, 0.6033868092691622, 0.5998217468805704, 0.5998217468805703]\n",
      "[0.5650623885918004, 0.6203208556149732, 0.6078431372549019, 0.606951871657754, 0.6087344028520499, 0.6060606060606061, 0.5971479500891266, 0.5962566844919786, 0.6033868092691622, 0.5918003565062389]\n"
     ]
    },
    {
     "data": {
      "image/png": "[encoded data removed]",
      "text/plain": [
       "<Figure size 432x288 with 2 Axes>"
      ]
     },
     "metadata": {
      "needs_background": "light"
     },
     "output_type": "display_data"
    }
   ],
   "source": [
    "ax = seaborn.heatmap(result_raw, xticklabels=x_axis, yticklabels=y_axis, vmin=0.5, vmax=0.65)\n",
    "ax.set_title('Fasttext train on raw data')\n",
    "ax.set_xlabel('Number of epochs')\n",
    "ax.set_ylabel('Learning rate')\n",
    "for row in result_raw:\n",
    "    print(row)"
   ]
  },
  {
   "cell_type": "code",
   "execution_count": 10,
   "metadata": {},
   "outputs": [
    {
     "name": "stdout",
     "output_type": "stream",
     "text": [
      "[0.6203208556149733, 0.6283422459893048, 0.6417112299465241, 0.6176470588235294, 0.5846702317290552, 0.6024955436720142, 0.5953654188948306, 0.5953654188948306, 0.5873440285204992, 0.5855614973262032]\n",
      "[0.5721925133689839, 0.6345811051693405, 0.6016042780748663, 0.5900178253119429, 0.5793226381461675, 0.5766488413547237, 0.5793226381461675, 0.5766488413547237, 0.5784313725490197, 0.5757575757575757]\n",
      "[0.5971479500891266, 0.6185383244206774, 0.5918003565062389, 0.5882352941176471, 0.5819964349376114, 0.5793226381461675, 0.5837789661319074, 0.5775401069518717, 0.5793226381461675, 0.5766488413547237]\n",
      "[0.6060606060606061, 0.6024955436720143, 0.5953654188948306, 0.5855614973262032, 0.5775401069518716, 0.5793226381461675, 0.5748663101604278, 0.5784313725490197, 0.5802139037433155, 0.5828877005347594]\n",
      "[0.6131907308377896, 0.6033868092691622, 0.5837789661319074, 0.5730837789661319, 0.5775401069518716, 0.5757575757575757, 0.5793226381461675, 0.5784313725490197, 0.5766488413547237, 0.5793226381461675]\n",
      "[0.6105169340463458, 0.6033868092691622, 0.5864527629233511, 0.5748663101604278, 0.5775401069518716, 0.5730837789661319, 0.5793226381461675, 0.570409982174688, 0.5757575757575757, 0.5793226381461675]\n",
      "[0.6194295900178254, 0.5944741532976828, 0.5819964349376114, 0.5686274509803922, 0.5793226381461675, 0.5775401069518716, 0.570409982174688, 0.5739750445632797, 0.5828877005347594, 0.5766488413547237]\n",
      "[0.6238859180035651, 0.5846702317290552, 0.5855614973262032, 0.5775401069518716, 0.5721925133689839, 0.5766488413547237, 0.5730837789661319, 0.5748663101604278, 0.5793226381461675, 0.5730837789661319]\n",
      "[0.6185383244206774, 0.5918003565062389, 0.5828877005347594, 0.5784313725490197, 0.5757575757575758, 0.5784313725490197, 0.5766488413547237, 0.5730837789661319, 0.5775401069518716, 0.5766488413547237]\n",
      "[0.6203208556149733, 0.5909090909090909, 0.5828877005347594, 0.5793226381461677, 0.5730837789661319, 0.5730837789661319, 0.5819964349376114, 0.5748663101604278, 0.5828877005347594, 0.571301247771836]\n"
     ]
    },
    {
     "data": {
      "image/png": "[encoded data removed]",
      "text/plain": [
       "<Figure size 432x288 with 2 Axes>"
      ]
     },
     "metadata": {
      "needs_background": "light"
     },
     "output_type": "display_data"
    }
   ],
   "source": [
    "ax = seaborn.heatmap(result, xticklabels=x_axis, yticklabels=y_axis, vmin=0.5, vmax=0.65)\n",
    "ax.set_title('Fasttext train on preprocessed data')\n",
    "ax.set_xlabel('Number of epochs')\n",
    "ax.set_ylabel('Learning rate')\n",
    "for row in result:\n",
    "    print(row)"
   ]
  },
  {
   "cell_type": "code",
   "execution_count": 8,
   "metadata": {},
   "outputs": [
    {
     "data": {
      "text/plain": [
       "(374, 0.5962566844919787, 0.5962566844919787)"
      ]
     },
     "execution_count": 8,
     "metadata": {},
     "output_type": "execute_result"
    }
   ],
   "source": [
    "fasttext_model = fasttext.train_supervised(input=\"ibc_fasttext.train\", autotuneValidationFile=\"ibc_fasttext.val\")\n",
    "fasttext_model.test(\"ibc_fasttext.test\")"
   ]
  },
  {
   "cell_type": "code",
   "execution_count": 10,
   "metadata": {},
   "outputs": [
    {
     "data": {
      "text/plain": [
       "{'__label__CONSERVATIVE': {'precision': 0.6666666666666666,\n",
       "  'recall': 0.23391812865497075,\n",
       "  'f1score': 0.3463203463203463},\n",
       " '__label__LIBERAL': {'precision': 0.5828025477707006,\n",
       "  'recall': 0.9014778325123153,\n",
       "  'f1score': 0.7079303675048356}}"
      ]
     },
     "execution_count": 10,
     "metadata": {},
     "output_type": "execute_result"
    }
   ],
   "source": [
    "fasttext_model.test_label(\"ibc_fasttext.test\")"
   ]
  },
  {
   "cell_type": "code",
   "execution_count": 9,
   "metadata": {},
   "outputs": [
    {
     "data": {
      "text/plain": [
       "(374, 0.5935828877005348, 0.5935828877005348)"
      ]
     },
     "execution_count": 9,
     "metadata": {},
     "output_type": "execute_result"
    }
   ],
   "source": [
    "raw_fasttext_model = fasttext.train_supervised(input=\"raw_ibc_fasttext.train\", autotuneValidationFile=\"raw_ibc_fasttext.val\")\n",
    "raw_fasttext_model.test(\"raw_ibc_fasttext.test\")"
   ]
  },
  {
   "cell_type": "code",
   "execution_count": 11,
   "metadata": {},
   "outputs": [
    {
     "data": {
      "text/plain": [
       "{'__label__CONSERVATIVE': {'precision': 0.6019417475728155,\n",
       "  'recall': 0.36257309941520466,\n",
       "  'f1score': 0.45255474452554745},\n",
       " '__label__LIBERAL': {'precision': 0.5977859778597786,\n",
       "  'recall': 0.7980295566502463,\n",
       "  'f1score': 0.6835443037974683}}"
      ]
     },
     "execution_count": 11,
     "metadata": {},
     "output_type": "execute_result"
    }
   ],
   "source": [
    "raw_fasttext_model.test_label(\"ibc_fasttext.test\")"
   ]
  }
 ],
 "metadata": {
  "kernelspec": {
   "display_name": "Python 3",
   "language": "python",
   "name": "python3"
  },
  "language_info": {
   "codemirror_mode": {
    "name": "ipython",
    "version": 3
   },
   "file_extension": ".py",
   "mimetype": "text/x-python",
   "name": "python",
   "nbconvert_exporter": "python",
   "pygments_lexer": "ipython3",
   "version": "3.6.10"
  }
 },
 "nbformat": 4,
 "nbformat_minor": 4
}
