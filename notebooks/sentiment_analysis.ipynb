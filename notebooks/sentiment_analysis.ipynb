{
 "cells": [
  {
   "cell_type": "markdown",
   "metadata": {},
   "source": [
    "# 1. Dataset Loader"
   ]
  },
  {
   "cell_type": "code",
   "execution_count": 1,
   "metadata": {},
   "outputs": [
    {
     "name": "stdout",
     "output_type": "stream",
     "text": [
      "['i', 'me', 'my', 'myself', 'we', 'our', 'ours', 'ourselves', 'you', \"you're\", \"you've\", \"you'll\", \"you'd\", 'your', 'yours', 'yourself', 'yourselves', 'he', 'him', 'his', 'himself', 'she', \"she's\", 'her', 'hers', 'herself', 'it', \"it's\", 'its', 'itself', 'they', 'them', 'their', 'theirs', 'themselves', 'what', 'which', 'who', 'whom', 'this', 'that', \"that'll\", 'these', 'those', 'am', 'is', 'are', 'was', 'were', 'be', 'been', 'being', 'have', 'has', 'had', 'having', 'do', 'does', 'did', 'doing', 'a', 'an', 'the', 'and', 'but', 'if', 'or', 'because', 'as', 'until', 'while', 'of', 'at', 'by', 'for', 'with', 'about', 'against', 'between', 'into', 'through', 'during', 'before', 'after', 'above', 'below', 'to', 'from', 'up', 'down', 'in', 'out', 'on', 'off', 'over', 'under', 'again', 'further', 'then', 'once', 'here', 'there', 'when', 'where', 'why', 'how', 'all', 'any', 'both', 'each', 'few', 'more', 'most', 'other', 'some', 'such', 'no', 'nor', 'not', 'only', 'own', 'same', 'so', 'than', 'too', 'very', 's', 't', 'can', 'will', 'just', 'don', \"don't\", 'should', \"should've\", 'now', 'd', 'll', 'm', 'o', 're', 've', 'y', 'ain', 'aren', \"aren't\", 'couldn', \"couldn't\", 'didn', \"didn't\", 'doesn', \"doesn't\", 'hadn', \"hadn't\", 'hasn', \"hasn't\", 'haven', \"haven't\", 'isn', \"isn't\", 'ma', 'mightn', \"mightn't\", 'mustn', \"mustn't\", 'needn', \"needn't\", 'shan', \"shan't\", 'shouldn', \"shouldn't\", 'wasn', \"wasn't\", 'weren', \"weren't\", 'won', \"won't\", 'wouldn', \"wouldn't\"]\n",
      "cuda\n"
     ]
    },
    {
     "name": "stderr",
     "output_type": "stream",
     "text": [
      "[nltk_data] Downloading package stopwords to /home/ubuntu/nltk_data...\n",
      "[nltk_data]   Package stopwords is already up-to-date!\n"
     ]
    }
   ],
   "source": [
    "data_path = '../../dataset/'\n",
    "\n",
    "import os\n",
    "import sys\n",
    "sys.path.insert(0, os.path.abspath('{}full_ibc'.format(data_path)))\n",
    "import pickle\n",
    "\n",
    "import numpy\n",
    "import torch\n",
    "import torch.nn as nn\n",
    "import torch.nn.functional as F\n",
    "import torch.optim as optim\n",
    "\n",
    "import nltk\n",
    "from nltk.corpus import stopwords\n",
    "nltk.download('stopwords')\n",
    "print(stopwords.words('english'))\n",
    "\n",
    "device = torch.device(\"cuda\" if torch.cuda.is_available() else \"cpu\")\n",
    "print(device)"
   ]
  },
  {
   "cell_type": "code",
   "execution_count": 2,
   "metadata": {},
   "outputs": [],
   "source": [
    "def make_bow_vec(sentence, word_to_id):\n",
    "    vec = torch.zeros(len(word_to_id), device=device)\n",
    "    for word in sentence:\n",
    "        word_lower = word.lower()\n",
    "        if word_lower in word_to_id.keys():\n",
    "            vec[word_to_id[word_lower]] += 1\n",
    "    return vec.view(1, -1)\n",
    "\n",
    "def make_word_index(sentence, word_to_id):\n",
    "    return torch.tensor([word_to_id[word.lower()] for word in sentence if word.lower() in word_to_id]).to(device)\n",
    "\n",
    "def make_target(label, label_to_id):\n",
    "    return torch.LongTensor([label_to_id[label]]).to(device)"
   ]
  },
  {
   "cell_type": "markdown",
   "metadata": {},
   "source": [
    "## 1.1 IBC"
   ]
  },
  {
   "cell_type": "code",
   "execution_count": 40,
   "metadata": {},
   "outputs": [
    {
     "name": "stdout",
     "output_type": "stream",
     "text": [
      "data size: 3726\n",
      "dict size: 13589\n"
     ]
    }
   ],
   "source": [
    "# for lr model\n",
    "[lib, con, neutral] = pickle.load(open('{}full_ibc/ibcData.pkl'.format(data_path), 'rb'))\n",
    "\n",
    "ibc_lib = [(tree.get_words().split(), \"LIBERAL\") for tree in lib]\n",
    "ibc_con = [(tree.get_words().split(), \"CONSERVATIVE\") for tree in con]\n",
    "# ibc_neutral = [(tree.get_words().split(), \"NEUTRAL\") for tree in neutral]\n",
    "\n",
    "ibc_full_data = ibc_lib + ibc_con\n",
    "ibc_full_size = len(ibc_full_data)\n",
    "\n",
    "ibc_train_size = int(ibc_full_size*0.9)\n",
    "ibc_test_size = ibc_full_size - ibc_train_size\n",
    "\n",
    "ibc_train_data, ibc_test_data = torch.utils.data.random_split(ibc_full_data, [ibc_train_size, ibc_test_size])\n",
    "\n",
    "ibc_label_to_id = {\"LIBERAL\": 0, \"CONSERVATIVE\": 1}\n",
    "ibc_word_to_id = {}\n",
    "for sent, _ in ibc_train_data:\n",
    "    for word in sent:\n",
    "        word_lower = word.lower()\n",
    "#         if word_lower not in ibc_word_to_id:\n",
    "        if word_lower not in ibc_word_to_id and word_lower not in stopwords.words('english'):\n",
    "            ibc_word_to_id[word_lower] = len(ibc_word_to_id)\n",
    "\n",
    "ibc_vocab_size = len(ibc_word_to_id)\n",
    "ibc_num_labels = 2\n",
    "\n",
    "print('data size:', len(ibc_full_data))\n",
    "print('dict size:', len(ibc_word_to_id))"
   ]
  },
  {
   "cell_type": "code",
   "execution_count": 13,
   "metadata": {},
   "outputs": [],
   "source": [
    "def generate_data_rnn():\n",
    "    # for rnn model: remove infrequent words from dictionary\n",
    "    [lib, con, neutral] = pickle.load(open('{}full_ibc/ibcData.pkl'.format(data_path), 'rb'))\n",
    "\n",
    "    tokenizer = nltk.RegexpTokenizer(r\"\\w+\")\n",
    "    ibc_lib = [(tokenizer.tokenize(tree.get_words()), \"LIBERAL\") for tree in lib]\n",
    "    ibc_con = [(tokenizer.tokenize(tree.get_words()), \"CONSERVATIVE\") for tree in con]\n",
    "    # ibc_neutral = [(tree.get_words().split(), \"NEUTRAL\") for tree in neutral]\n",
    "    ibc_full_data = ibc_lib + ibc_con\n",
    "\n",
    "    ibc_lib_size = len(ibc_lib)\n",
    "    ibc_lib_train_size = int(ibc_lib_size*0.8)\n",
    "    ibc_lib_val_size = int(ibc_lib_size*0.1)\n",
    "    ibc_lib_test_size = ibc_lib_size - ibc_lib_train_size - ibc_lib_val_size\n",
    "    ibc_lib_train_data, ibc_lib_val_data, ibc_lib_test_data = torch.utils.data.random_split(ibc_lib, [ibc_lib_train_size, ibc_lib_val_size, ibc_lib_test_size])\n",
    "    \n",
    "    ibc_con_size = len(ibc_con)\n",
    "    ibc_con_train_size = int(ibc_con_size*0.8)\n",
    "    ibc_con_val_size = int(ibc_con_size*0.1)\n",
    "    ibc_con_test_size = ibc_con_size - ibc_con_train_size - ibc_con_val_size\n",
    "    ibc_con_train_data, ibc_con_val_data, ibc_con_test_data = torch.utils.data.random_split(ibc_con, [ibc_con_train_size, ibc_con_val_size, ibc_con_test_size])\n",
    "\n",
    "    ibc_train_data = ibc_lib_train_data + ibc_con_train_data\n",
    "    ibc_val_data = ibc_lib_val_data + ibc_con_val_data\n",
    "    ibc_test_data = ibc_lib_test_data + ibc_con_test_data\n",
    "\n",
    "    ibc_labels = {\"LIBERAL\": 0, \"CONSERVATIVE\": 1}\n",
    "    ibc_word_count = {}\n",
    "    for sent, _ in ibc_train_data:\n",
    "        for word in sent:\n",
    "            word_lower = word.lower()\n",
    "            if word_lower in stopwords.words('english'):\n",
    "                continue\n",
    "            if word_lower not in ibc_word_count:\n",
    "                ibc_word_count[word_lower] = 1\n",
    "            else:\n",
    "                ibc_word_count[word_lower] += 1\n",
    "\n",
    "    ibc_vocab = {}\n",
    "    for word, count in ibc_word_count.items():\n",
    "        if count > 0:\n",
    "            ibc_vocab[word] = len(ibc_vocab)\n",
    "\n",
    "    print('training data size:', len(ibc_train_data))\n",
    "    print('validation data size:', len(ibc_val_data))\n",
    "    print('test data size:', len(ibc_test_data))\n",
    "    print('vocab size:', len(ibc_vocab))\n",
    "    \n",
    "    ibc_train_data_loader = torch.utils.data.DataLoader([(make_word_index(sentence, ibc_vocab),\n",
    "                                                       make_target(label, ibc_labels))\n",
    "                                                      for sentence, label in ibc_train_data], shuffle=True)\n",
    "    ibc_val_data_loader = torch.utils.data.DataLoader([(make_word_index(sentence, ibc_vocab),\n",
    "                                                        make_target(label, ibc_labels))\n",
    "                                                      for sentence, label in ibc_val_data])\n",
    "    ibc_test_data_loader = torch.utils.data.DataLoader([(make_word_index(sentence, ibc_vocab),\n",
    "                                                      make_target(label, ibc_labels))\n",
    "                                                     for sentence, label in ibc_test_data])\n",
    "    return ibc_vocab, ibc_train_data_loader, ibc_val_data_loader, ibc_test_data_loader"
   ]
  },
  {
   "cell_type": "markdown",
   "metadata": {
    "jupyter": {
     "source_hidden": true
    }
   },
   "source": [
    "## 1.2 Convote"
   ]
  },
  {
   "cell_type": "code",
   "execution_count": 2,
   "metadata": {
    "collapsed": true,
    "jupyter": {
     "outputs_hidden": true,
     "source_hidden": true
    }
   },
   "outputs": [
    {
     "name": "stdout",
     "output_type": "stream",
     "text": [
      "65015\n"
     ]
    }
   ],
   "source": [
    "convote_train_lib = []\n",
    "convote_train_con = []\n",
    "convote_train_data = []\n",
    "\n",
    "for filename in os.listdir(\"../../dataset/sentiment_analysis/convote_v1.1/data_stage_one/training_set\"):\n",
    "    filename_split = filename.split(\"_\")\n",
    "    party = filename_split[-1][:1]\n",
    "    if party == 'D':\n",
    "        with open(\"{}convote_v1.1/data_stage_one/training_set/{}\".format(data_path, filename), \"r\") as f:\n",
    "            convote_train_lib += f.readlines()\n",
    "    if party == 'R':\n",
    "        with open(\"{}convote_v1.1/data_stage_one/training_set/{}\".format(data_path, filename), \"r\") as f:\n",
    "            convote_train_con += f.readlines()\n",
    "\n",
    "convote_train_lib = [(line.split(), \"LIBERAL\") for line in convote_train_lib]\n",
    "convote_train_con = [(line.split(), \"CONSERVATIVE\") for line in convote_train_con]\n",
    "convote_train_data = convote_train_lib + convote_train_con\n",
    "\n",
    "print(len(convote_train_data))"
   ]
  },
  {
   "cell_type": "code",
   "execution_count": 3,
   "metadata": {
    "collapsed": true,
    "jupyter": {
     "outputs_hidden": true,
     "source_hidden": true
    }
   },
   "outputs": [
    {
     "name": "stdout",
     "output_type": "stream",
     "text": [
      "22098\n"
     ]
    }
   ],
   "source": [
    "convote_test_lib = []\n",
    "convote_test_con = []\n",
    "convote_test_data = []\n",
    "\n",
    "for filename in os.listdir(\"../../dataset/sentiment_analysis/convote_v1.1/data_stage_one/test_set\"):\n",
    "    filename_split = filename.split(\"_\")\n",
    "    party = filename_split[-1][:1]\n",
    "    if party == 'D':\n",
    "        with open(\"{}convote_v1.1/data_stage_one/test_set/{}\".format(data_path, filename), \"r\") as f:\n",
    "            convote_test_lib += f.readlines()\n",
    "    if party == 'R':\n",
    "        with open(\"{}convote_v1.1/data_stage_one/test_set/{}\".format(data_path, filename), \"r\") as f:\n",
    "            convote_test_con += f.readlines()\n",
    "\n",
    "convote_test_lib = [(line.split(), \"LIBERAL\") for line in convote_test_lib]\n",
    "convote_test_con = [(line.split(), \"CONSERVATIVE\") for line in convote_test_con]\n",
    "convote_test_data = convote_test_lib + convote_test_con\n",
    "\n",
    "print(len(convote_test_data))"
   ]
  },
  {
   "cell_type": "code",
   "execution_count": 4,
   "metadata": {
    "collapsed": true,
    "jupyter": {
     "outputs_hidden": true,
     "source_hidden": true
    }
   },
   "outputs": [
    {
     "name": "stdout",
     "output_type": "stream",
     "text": [
      "26804\n"
     ]
    }
   ],
   "source": [
    "convote_label_to_id = {\"LIBERAL\": 0, \"CONSERVATIVE\": 1}\n",
    "convote_word_to_id = {}\n",
    "for sent, _ in convote_train_data:\n",
    "    for word in sent:\n",
    "        if word not in convote_word_to_id:\n",
    "            convote_word_to_id[word] = len(convote_word_to_id)\n",
    "print(len(convote_word_to_id))\n",
    "\n",
    "convote_vocab_size = len(convote_word_to_id)\n",
    "convote_num_labels = 2"
   ]
  },
  {
   "cell_type": "markdown",
   "metadata": {},
   "source": [
    "# 2 Models"
   ]
  },
  {
   "cell_type": "code",
   "execution_count": 10,
   "metadata": {},
   "outputs": [],
   "source": [
    "def train(model, train_data, valid_data, num_epochs, loss_function, optimizer):\n",
    "    for epoch in range(num_epochs):\n",
    "        iters = 0\n",
    "        total_loss = 0\n",
    "        for bow_vec, target in train_data:\n",
    "            model.zero_grad()\n",
    "\n",
    "            probs = model(bow_vec[0])\n",
    "            loss = loss_function(probs, target[0])\n",
    "            loss.backward()\n",
    "            optimizer.step()\n",
    "\n",
    "            total_loss += loss.item()\n",
    "            iters += 1\n",
    "\n",
    "            # LBFGS\n",
    "#             def closure():\n",
    "#                 optimizer.zero_grad()\n",
    "#                 output = model(bow_vec[0])\n",
    "#                 loss = loss_function(output, target[0])\n",
    "#                 loss.backward()\n",
    "#                 return loss\n",
    "#             optimizer.step(closure)\n",
    "\n",
    "#         print(epoch+1)\n",
    "        print('[{}] training loss: {}, validation loss: {}'.format(epoch+1, total_loss / iters, eval(model, valid_data, loss_function)[0]))\n",
    "\n",
    "def eval(model, data, loss_function):\n",
    "    num_predictions = 0\n",
    "    num_correct = 0\n",
    "    iters = 0\n",
    "    total_loss = 0\n",
    "    with torch.no_grad():\n",
    "        for sentence, target in data:\n",
    "            model.zero_grad()\n",
    "            \n",
    "            probs = model(sentence[0])\n",
    "            loss = loss_function(probs, target[0])\n",
    "            iters += 1\n",
    "            total_loss += loss.item()\n",
    "            num_predictions += 1\n",
    "            if (torch.argmax(probs) == target[0]):\n",
    "                num_correct += 1\n",
    "    return total_loss/iters, num_correct/num_predictions*100"
   ]
  },
  {
   "cell_type": "markdown",
   "metadata": {
    "jupyter": {
     "source_hidden": true
    }
   },
   "source": [
    "## 2.1 Logistic Regression"
   ]
  },
  {
   "cell_type": "code",
   "execution_count": 17,
   "metadata": {
    "jupyter": {
     "source_hidden": true
    }
   },
   "outputs": [],
   "source": [
    "class BoWClassifier(nn.Module):\n",
    "    def __init__(self, vocab, output_size):\n",
    "        super(BoWClassifier, self).__init__()\n",
    "        self.vocab = vocab\n",
    "        self.input_size = len(vocab)\n",
    "        self.output_size = output_size\n",
    "        self.linear = nn.Linear(self.input_size, self.output_size).to(device)\n",
    "        \n",
    "    def forward(self, bow_vec):\n",
    "        return F.log_softmax(self.linear(bow_vec), dim=-1)"
   ]
  },
  {
   "cell_type": "markdown",
   "metadata": {
    "jupyter": {
     "source_hidden": true
    }
   },
   "source": [
    "### 2.1.1 IBC Logistic Regression"
   ]
  },
  {
   "cell_type": "code",
   "execution_count": 41,
   "metadata": {
    "jupyter": {
     "source_hidden": true
    }
   },
   "outputs": [],
   "source": [
    "ibc_train_data_lr = [(make_bow_vec(sentence, ibc_word_to_id), make_target(label, ibc_label_to_id)) for sentence, label in ibc_train_data]\n",
    "ibc_test_data_lr = [(make_bow_vec(sentence, ibc_word_to_id), make_target(label, ibc_label_to_id)) for sentence, label in ibc_test_data]"
   ]
  },
  {
   "cell_type": "code",
   "execution_count": 18,
   "metadata": {
    "collapsed": true,
    "jupyter": {
     "outputs_hidden": true,
     "source_hidden": true
    }
   },
   "outputs": [
    {
     "name": "stdout",
     "output_type": "stream",
     "text": [
      "before training: 47.45308310991957\n",
      "10\n",
      "20\n",
      "30\n",
      "40\n",
      "50\n",
      "60\n",
      "70\n",
      "80\n",
      "90\n",
      "100\n",
      "after training: 62.466487935656836\n"
     ]
    }
   ],
   "source": [
    "# first run\n",
    "model = BoWClassifier(ibc_word_to_id, ibc_num_labels)\n",
    "\n",
    "num_predictions = 0\n",
    "num_correct = 0\n",
    "with torch.no_grad():\n",
    "    for bow_vec, target in ibc_test_data_lr:\n",
    "        probs = model(bow_vec)\n",
    "        num_predictions += 1\n",
    "        if (torch.argmax(probs) == target):\n",
    "            num_correct += 1\n",
    "print(\"before training:\", num_correct/num_predictions*100)\n",
    "        \n",
    "loss_function = nn.NLLLoss()\n",
    "optimizer = optim.SGD(model.parameters(), lr=0.01)\n",
    "\n",
    "for epoch in range(100):\n",
    "    for bow_vec, target in ibc_train_data_lr:\n",
    "        model.zero_grad()\n",
    "        \n",
    "        probs = model(bow_vec)\n",
    "        \n",
    "        loss = loss_function(probs, target)\n",
    "        loss.backward()\n",
    "        optimizer.step()\n",
    "    if (epoch+1) % 10 == 0:\n",
    "        print(epoch+1)\n",
    "\n",
    "num_predictions = 0\n",
    "num_correct = 0\n",
    "with torch.no_grad():\n",
    "    for bow_vec, target in ibc_test_data_lr:\n",
    "        probs = model(bow_vec)\n",
    "        num_predictions += 1\n",
    "        if (torch.argmax(probs) == target):\n",
    "            num_correct += 1\n",
    "print(\"after training:\", num_correct/num_predictions*100)"
   ]
  },
  {
   "cell_type": "markdown",
   "metadata": {
    "jupyter": {
     "source_hidden": true
    }
   },
   "source": [
    "### 2.1.2 Convote Logistic Regression"
   ]
  },
  {
   "cell_type": "code",
   "execution_count": 6,
   "metadata": {
    "collapsed": true,
    "jupyter": {
     "outputs_hidden": true,
     "source_hidden": true
    }
   },
   "outputs": [
    {
     "ename": "NameError",
     "evalue": "name 'convote_train_data' is not defined",
     "output_type": "error",
     "traceback": [
      "\u001b[0;31m---------------------------------------------------------------------------\u001b[0m",
      "\u001b[0;31mNameError\u001b[0m                                 Traceback (most recent call last)",
      "\u001b[0;32m<ipython-input-6-ac9432da3c31>\u001b[0m in \u001b[0;36m<module>\u001b[0;34m\u001b[0m\n\u001b[0;32m----> 1\u001b[0;31m \u001b[0mconvote_train_data_lr\u001b[0m \u001b[0;34m=\u001b[0m \u001b[0;34m[\u001b[0m\u001b[0;34m(\u001b[0m\u001b[0mmake_bow_vec\u001b[0m\u001b[0;34m(\u001b[0m\u001b[0msentence\u001b[0m\u001b[0;34m,\u001b[0m \u001b[0mconvote_word_to_id\u001b[0m\u001b[0;34m)\u001b[0m\u001b[0;34m,\u001b[0m \u001b[0mmake_target\u001b[0m\u001b[0;34m(\u001b[0m\u001b[0mlabel\u001b[0m\u001b[0;34m,\u001b[0m \u001b[0mconvote_label_to_id\u001b[0m\u001b[0;34m)\u001b[0m\u001b[0;34m)\u001b[0m \u001b[0;32mfor\u001b[0m \u001b[0msentence\u001b[0m\u001b[0;34m,\u001b[0m \u001b[0mlabel\u001b[0m \u001b[0;32min\u001b[0m \u001b[0mconvote_train_data\u001b[0m\u001b[0;34m]\u001b[0m\u001b[0;34m\u001b[0m\u001b[0;34m\u001b[0m\u001b[0m\n\u001b[0m\u001b[1;32m      2\u001b[0m \u001b[0mconvote_test_data_lr\u001b[0m \u001b[0;34m=\u001b[0m \u001b[0;34m[\u001b[0m\u001b[0;34m(\u001b[0m\u001b[0mmake_bow_vec\u001b[0m\u001b[0;34m(\u001b[0m\u001b[0msentence\u001b[0m\u001b[0;34m,\u001b[0m \u001b[0mconvote_word_to_id\u001b[0m\u001b[0;34m)\u001b[0m\u001b[0;34m,\u001b[0m \u001b[0mmake_target\u001b[0m\u001b[0;34m(\u001b[0m\u001b[0mlabel\u001b[0m\u001b[0;34m,\u001b[0m \u001b[0mconvote_label_to_id\u001b[0m\u001b[0;34m)\u001b[0m\u001b[0;34m)\u001b[0m \u001b[0;32mfor\u001b[0m \u001b[0msentence\u001b[0m\u001b[0;34m,\u001b[0m \u001b[0mlabel\u001b[0m \u001b[0;32min\u001b[0m \u001b[0mconvote_test_data\u001b[0m\u001b[0;34m]\u001b[0m\u001b[0;34m\u001b[0m\u001b[0;34m\u001b[0m\u001b[0m\n",
      "\u001b[0;31mNameError\u001b[0m: name 'convote_train_data' is not defined"
     ]
    }
   ],
   "source": [
    "convote_train_data_lr = [(make_bow_vec(sentence, convote_word_to_id), make_target(label, convote_label_to_id)) for sentence, label in convote_train_data]\n",
    "convote_test_data_lr = [(make_bow_vec(sentence, convote_word_to_id), make_target(label, convote_label_to_id)) for sentence, label in convote_test_data]"
   ]
  },
  {
   "cell_type": "code",
   "execution_count": null,
   "metadata": {
    "jupyter": {
     "source_hidden": true
    }
   },
   "outputs": [],
   "source": [
    "# first run\n",
    "model = BoWClassifier(convote_vocab_size, convote_num_labels)\n",
    "\n",
    "print(\"before training\")\n",
    "num_predictions = 0\n",
    "num_correct = 0\n",
    "with torch.no_grad():\n",
    "    for bow_vec, target in convote_test_data_lr:\n",
    "        probs = model(bow_vec)\n",
    "        num_predictions += 1\n",
    "        if (torch.argmax(probs) == target):\n",
    "            num_correct += 1\n",
    "print(num_correct/num_predictions*100)\n",
    "        \n",
    "loss_function = nn.NLLLoss()\n",
    "optimizer = optim.SGD(model.parameters(), lr=0.1)\n",
    "\n",
    "for epoch in range(50):\n",
    "    for bow_vec, target in convote_train_data_lr:\n",
    "        model.zero_grad()\n",
    "        \n",
    "        probs = model(bow_vec)\n",
    "        \n",
    "        loss = loss_function(probs, target)\n",
    "        loss.backward()\n",
    "        optimizer.step()\n",
    "    print(epoch)\n",
    "\n",
    "print(\"after training\")\n",
    "num_predictions = 0\n",
    "num_correct = 0\n",
    "with torch.no_grad():\n",
    "    for bow_vec, target in convote_test_data_lr:\n",
    "        bow_vec = make_bow_vec(sentence, convote_word_to_id)\n",
    "        probs = model(bow_vec)\n",
    "        num_predictions += 1\n",
    "        if (torch.argmax(probs) == target):\n",
    "            num_correct += 1\n",
    "print(num_correct/num_predictions*100)"
   ]
  },
  {
   "cell_type": "markdown",
   "metadata": {},
   "source": [
    "## 2.2 RNN"
   ]
  },
  {
   "cell_type": "code",
   "execution_count": 5,
   "metadata": {},
   "outputs": [],
   "source": [
    "class RNN(nn.Module):\n",
    "    def __init__(self, vocab, output_size, hidden_size):\n",
    "        super(RNN, self).__init__()\n",
    "\n",
    "        self.vocab = vocab\n",
    "        self.input_size = len(vocab)\n",
    "        self.output_size = output_size\n",
    "        self.hidden_size = hidden_size\n",
    "        \n",
    "        self.embedding = nn.Embedding(self.input_size, self.hidden_size).to(device)\n",
    "        self.left = nn.Linear(self.hidden_size, self.hidden_size).to(device)\n",
    "        self.right = nn.Linear(self.hidden_size, self.hidden_size).to(device)\n",
    "        self.cat = nn.Linear(self.hidden_size, self.output_size).to(device)\n",
    "\n",
    "    def forward(self, sentence):\n",
    "        embedding = self.embedding(sentence)\n",
    "        hidden = embedding[0]\n",
    "        for i in range(1, len(embedding)):\n",
    "            hidden = torch.tanh(torch.add(self.left(hidden), self.right(embedding[i])))\n",
    "        return F.log_softmax(self.cat(hidden), dim=-1).view(1, -1)"
   ]
  },
  {
   "cell_type": "code",
   "execution_count": 5,
   "metadata": {},
   "outputs": [],
   "source": [
    "class RNN_v2(nn.Module):\n",
    "    def __init__(self, vocab, output_size, hidden_size):\n",
    "        super(RNN_v2, self).__init__()\n",
    "\n",
    "        self.vocab = vocab\n",
    "        self.input_size = len(vocab)\n",
    "        self.output_size = output_size\n",
    "        self.hidden_size = hidden_size\n",
    "        \n",
    "        self.embedding = nn.Embedding(self.input_size, self.hidden_size).to(device)\n",
    "        self.rnn = nn.RNN(self.hidden_size, self.hidden_size).to(device)\n",
    "        self.cat = nn.Linear(self.hidden_size, self.output_size).to(device)\n",
    "\n",
    "    def forward(self, sentence):\n",
    "        embedding = self.embedding(sentence).unsqueeze(1)\n",
    "        output, hidden = self.rnn(embedding)\n",
    "        output = output.squeeze()[-1]\n",
    "        return F.log_softmax(self.cat(output), dim=-1).view(1, -1)"
   ]
  },
  {
   "cell_type": "code",
   "execution_count": 7,
   "metadata": {},
   "outputs": [],
   "source": [
    "class RNN_v3(nn.Module):\n",
    "    def __init__(self, vocab, output_size, hidden_size):\n",
    "        super(RNN_v3, self).__init__()\n",
    "\n",
    "        self.vocab = vocab\n",
    "        self.input_size = len(vocab)\n",
    "        self.output_size = output_size\n",
    "        self.hidden_size = hidden_size\n",
    "        \n",
    "        self.embedding = nn.Embedding(self.input_size, self.hidden_size).to(device)\n",
    "        self.linear = nn.Linear(2 * self.hidden_size, self.hidden_size).to(device)\n",
    "        self.cat = nn.Linear(self.hidden_size, self.output_size).to(device)\n",
    "\n",
    "    def forward(self, sentence):\n",
    "        embedding = self.embedding(sentence)\n",
    "        hidden = embedding[0]\n",
    "        for i in range(1, len(embedding)):\n",
    "            hidden = torch.tanh(self.linear(torch.cat((hidden, embedding[i]))))\n",
    "        return F.log_softmax(self.cat(hidden), dim=-1).view(1, -1)"
   ]
  },
  {
   "cell_type": "markdown",
   "metadata": {},
   "source": [
    "### 2.2.1 IBC RNN"
   ]
  },
  {
   "cell_type": "code",
   "execution_count": 14,
   "metadata": {},
   "outputs": [
    {
     "name": "stdout",
     "output_type": "stream",
     "text": [
      "training data size: 2980\n",
      "validation data size: 372\n",
      "test data size: 374\n",
      "vocab size: 11903\n"
     ]
    }
   ],
   "source": [
    "ibc_vocab, ibc_train_data_rnn, ibc_val_data_rnn, ibc_test_data_rnn = generate_data_rnn()"
   ]
  },
  {
   "cell_type": "code",
   "execution_count": 12,
   "metadata": {},
   "outputs": [
    {
     "name": "stdout",
     "output_type": "stream",
     "text": [
      "(0.7281456140273395, 46.25668449197861)\n",
      "[1] training loss: 0.702905281382415, validation loss: 0.7015094125175221\n",
      "[2] training loss: 0.6601562928941839, validation loss: 0.7177008648208756\n",
      "[3] training loss: 0.6294726034124029, validation loss: 0.7379775081566948\n",
      "[4] training loss: 0.5989580499208343, validation loss: 0.7632014501222315\n",
      "[5] training loss: 0.5626826463822889, validation loss: 0.8141484141827905\n",
      "[6] training loss: 0.5234565620792936, validation loss: 0.8471530765135658\n",
      "[7] training loss: 0.47897845076792706, validation loss: 0.9201928441298199\n",
      "[8] training loss: 0.42605791069780585, validation loss: 0.9681425206163988\n",
      "[9] training loss: 0.36746360679426027, validation loss: 1.109838043464059\n",
      "[10] training loss: 0.30187673764058826, validation loss: 1.294191018782835\n",
      "[11] training loss: 0.24609387177876185, validation loss: 1.461811755828679\n",
      "[12] training loss: 0.17160395379478294, validation loss: 1.687400548454912\n",
      "[13] training loss: 0.12301350919294186, validation loss: 1.951177591308553\n",
      "[14] training loss: 0.08424159089605678, validation loss: 2.135323662569816\n",
      "[15] training loss: 0.06708192831541018, validation loss: 2.2523657574373135\n",
      "[16] training loss: 0.05287684256162023, validation loss: 2.335688709176798\n",
      "[17] training loss: 0.04857645752819739, validation loss: 2.358040006721721\n",
      "[18] training loss: 0.04195542696658922, validation loss: 2.3514240013564973\n",
      "[19] training loss: 0.041587935062681006, validation loss: 2.3810377050051716\n",
      "[20] training loss: 0.03529651502151762, validation loss: 2.4657220280266063\n",
      "[21] training loss: 0.0345557254776892, validation loss: 2.428104200624527\n",
      "[22] training loss: 0.03270978802428325, validation loss: 2.458356994039872\n",
      "[23] training loss: 0.02910311989539563, validation loss: 2.5068193063697715\n",
      "[24] training loss: 0.030561203888321835, validation loss: 2.5227654805795394\n",
      "[25] training loss: 0.027203870079255617, validation loss: 2.582089762556999\n",
      "[26] training loss: 0.02894110067220747, validation loss: 2.5881551306515456\n",
      "[27] training loss: 0.02466891821571637, validation loss: 2.5845396670109446\n",
      "[28] training loss: 0.023197589988924724, validation loss: 2.574027289601571\n",
      "[29] training loss: 0.02267301856120048, validation loss: 2.6120629100238575\n",
      "[30] training loss: 0.024894625366374247, validation loss: 2.644112028540137\n",
      "[31] training loss: 0.02128937426145435, validation loss: 2.650206284089522\n",
      "[32] training loss: 0.020351431943778493, validation loss: 2.689252146186038\n",
      "[33] training loss: 0.019875881335473574, validation loss: 2.6931030938332094\n",
      "[34] training loss: 0.020149409548692886, validation loss: 2.707479393657516\n",
      "[35] training loss: 0.01885297492608819, validation loss: 2.709141049394633\n",
      "[36] training loss: 0.019268508147012645, validation loss: 2.743967508727854\n",
      "[37] training loss: 0.017896952796594055, validation loss: 2.74599620588323\n",
      "[38] training loss: 0.018733018853641637, validation loss: 2.7550426449845817\n",
      "[39] training loss: 0.01745593326437445, validation loss: 2.777243976127655\n",
      "[40] training loss: 0.017019146066470193, validation loss: 2.7661126769959608\n",
      "[41] training loss: 0.016713356176893582, validation loss: 2.8011205424280727\n",
      "[42] training loss: 0.01703351813419622, validation loss: 2.795127313803224\n",
      "[43] training loss: 0.015646877629695757, validation loss: 2.838311526227125\n",
      "[44] training loss: 0.016827583001806513, validation loss: 2.847403841780469\n",
      "[45] training loss: 0.016158423997764088, validation loss: 2.8489465091158364\n",
      "[46] training loss: 0.015669560931214, validation loss: 2.852894929242644\n",
      "[47] training loss: 0.015718955528835694, validation loss: 2.8472219011522233\n",
      "[48] training loss: 0.01518455591399516, validation loss: 2.8653895558520435\n",
      "[49] training loss: 0.014603538914341347, validation loss: 2.8897730974271334\n",
      "[50] training loss: 0.015134704523766524, validation loss: 2.875729245058993\n",
      "(2.875729245058993, 54.278074866310156)\n"
     ]
    }
   ],
   "source": [
    "ibc_num_labels = 2\n",
    "model = RNN_v2(ibc_vocab, ibc_num_labels, 300)\n",
    "# model.load_state_dict(torch.load('./rnn_50epochs_v2.model'))\n",
    "        \n",
    "num_epochs = 50\n",
    "loss_function = nn.NLLLoss()\n",
    "optimizer = optim.SGD(model.parameters(), lr=0.001)\n",
    "\n",
    "print(eval(model, ibc_test_data_rnn, loss_function))\n",
    "train(model, ibc_train_data_rnn, ibc_val_data_rnn, num_epochs, loss_function, optimizer)\n",
    "print(eval(model, ibc_test_data_rnn, loss_function))"
   ]
  },
  {
   "cell_type": "code",
   "execution_count": 20,
   "metadata": {},
   "outputs": [
    {
     "name": "stdout",
     "output_type": "stream",
     "text": [
      "99.4928400954654\n",
      "52.67379679144385\n"
     ]
    }
   ],
   "source": [
    "print(eval(model, ibc_train_data_rnn))\n",
    "print(eval(model, ibc_test_data_rnn))"
   ]
  },
  {
   "cell_type": "code",
   "execution_count": null,
   "metadata": {},
   "outputs": [],
   "source": [
    "# torch.save(model.state_dict(), 'rnn_50epochs_v2.model')\n",
    "\n",
    "new_model = RNN_v2(ibc_word_to_id, ibc_num_labels, 300)\n",
    "new_model.load_state_dict(torch.load('./rnn_50epochs_v2.model'))\n",
    "\n",
    "print(eval(new_model, ibc_test_data_rnn))"
   ]
  },
  {
   "cell_type": "code",
   "execution_count": null,
   "metadata": {},
   "outputs": [],
   "source": [
    "torch.save(model.state_dict(), 'rnn_50epochs.model')\n",
    "\n",
    "ibc_num_labels = 2\n",
    "new_model = RNN(ibc_vocab_size, ibc_num_labels, 300)\n",
    "new_model.load_state_dict(torch.load('./rnn_50epochs.model'))\n",
    "\n",
    "num_predictions = 0\n",
    "num_correct = 0\n",
    "with torch.no_grad():\n",
    "    for bow_vec, target in ibc_test_data_rnn:\n",
    "        probs = new_model(bow_vec)\n",
    "        num_predictions += 1\n",
    "        if (torch.argmax(probs) == target):\n",
    "            num_correct += 1\n",
    "print(\"after training:\", num_correct/num_predictions*100)"
   ]
  },
  {
   "cell_type": "code",
   "execution_count": null,
   "metadata": {},
   "outputs": [],
   "source": [
    "torch.save(model, 'rnn_v2_50epochs.model')\n",
    "new_model = RNN(ibc_vocab_size, ibc_num_labels, 300)\n",
    "new_model = torch.load('./rnn_v2_50epochs.model')"
   ]
  }
 ],
 "metadata": {
  "kernelspec": {
   "display_name": "Python 3",
   "language": "python",
   "name": "python3"
  },
  "language_info": {
   "codemirror_mode": {
    "name": "ipython",
    "version": 3
   },
   "file_extension": ".py",
   "mimetype": "text/x-python",
   "name": "python",
   "nbconvert_exporter": "python",
   "pygments_lexer": "ipython3",
   "version": "3.6.10"
  }
 },
 "nbformat": 4,
 "nbformat_minor": 4
}
