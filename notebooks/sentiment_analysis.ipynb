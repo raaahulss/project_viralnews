{
 "cells": [
  {
   "cell_type": "markdown",
   "metadata": {},
   "source": [
    "# 1. Dataset Loader"
   ]
  },
  {
   "cell_type": "code",
   "execution_count": 54,
   "metadata": {},
   "outputs": [
    {
     "name": "stdout",
     "output_type": "stream",
     "text": [
      "['i', 'me', 'my', 'myself', 'we', 'our', 'ours', 'ourselves', 'you', \"you're\", \"you've\", \"you'll\", \"you'd\", 'your', 'yours', 'yourself', 'yourselves', 'he', 'him', 'his', 'himself', 'she', \"she's\", 'her', 'hers', 'herself', 'it', \"it's\", 'its', 'itself', 'they', 'them', 'their', 'theirs', 'themselves', 'what', 'which', 'who', 'whom', 'this', 'that', \"that'll\", 'these', 'those', 'am', 'is', 'are', 'was', 'were', 'be', 'been', 'being', 'have', 'has', 'had', 'having', 'do', 'does', 'did', 'doing', 'a', 'an', 'the', 'and', 'but', 'if', 'or', 'because', 'as', 'until', 'while', 'of', 'at', 'by', 'for', 'with', 'about', 'against', 'between', 'into', 'through', 'during', 'before', 'after', 'above', 'below', 'to', 'from', 'up', 'down', 'in', 'out', 'on', 'off', 'over', 'under', 'again', 'further', 'then', 'once', 'here', 'there', 'when', 'where', 'why', 'how', 'all', 'any', 'both', 'each', 'few', 'more', 'most', 'other', 'some', 'such', 'no', 'nor', 'not', 'only', 'own', 'same', 'so', 'than', 'too', 'very', 's', 't', 'can', 'will', 'just', 'don', \"don't\", 'should', \"should've\", 'now', 'd', 'll', 'm', 'o', 're', 've', 'y', 'ain', 'aren', \"aren't\", 'couldn', \"couldn't\", 'didn', \"didn't\", 'doesn', \"doesn't\", 'hadn', \"hadn't\", 'hasn', \"hasn't\", 'haven', \"haven't\", 'isn', \"isn't\", 'ma', 'mightn', \"mightn't\", 'mustn', \"mustn't\", 'needn', \"needn't\", 'shan', \"shan't\", 'shouldn', \"shouldn't\", 'wasn', \"wasn't\", 'weren', \"weren't\", 'won', \"won't\", 'wouldn', \"wouldn't\"]\n",
      "cuda\n"
     ]
    },
    {
     "name": "stderr",
     "output_type": "stream",
     "text": [
      "[nltk_data] Downloading package stopwords to /home/ubuntu/nltk_data...\n",
      "[nltk_data]   Package stopwords is already up-to-date!\n"
     ]
    }
   ],
   "source": [
    "data_path = '../../dataset/'\n",
    "\n",
    "import os\n",
    "import sys\n",
    "sys.path.insert(0, os.path.abspath('{}full_ibc'.format(data_path)))\n",
    "import pickle\n",
    "\n",
    "import numpy\n",
    "import torch\n",
    "import torch.nn as nn\n",
    "import torch.nn.functional as F\n",
    "import torch.optim as optim\n",
    "\n",
    "import nltk\n",
    "from nltk.corpus import stopwords\n",
    "nltk.download('stopwords')\n",
    "print(stopwords.words('english'))\n",
    "\n",
    "device = torch.device(\"cuda\" if torch.cuda.is_available() else \"cpu\")\n",
    "print(device)"
   ]
  },
  {
   "cell_type": "code",
   "execution_count": 53,
   "metadata": {},
   "outputs": [],
   "source": [
    "def make_bow_vec(sentence, word_to_id):\n",
    "    vec = torch.zeros(len(word_to_id), device=device)\n",
    "    for word in sentence:\n",
    "        word_lower = word.lower()\n",
    "        if word_lower in word_to_id.keys():\n",
    "            vec[word_to_id[word_lower]] += 1\n",
    "    return vec.view(1, -1)\n",
    "\n",
    "def make_word_index(sentence, word_to_id):\n",
    "    return torch.tensor([word_to_id[word.lower()] for word in sentence if word.lower() in word_to_id]).to(device)\n",
    "\n",
    "def make_target(label, label_to_id):\n",
    "    return torch.LongTensor([label_to_id[label]]).to(device)"
   ]
  },
  {
   "cell_type": "markdown",
   "metadata": {},
   "source": [
    "## 1.1 IBC"
   ]
  },
  {
   "cell_type": "code",
   "execution_count": 40,
   "metadata": {},
   "outputs": [
    {
     "name": "stdout",
     "output_type": "stream",
     "text": [
      "data size: 3726\n",
      "dict size: 13589\n"
     ]
    }
   ],
   "source": [
    "# for lr model\n",
    "[lib, con, neutral] = pickle.load(open('{}full_ibc/ibcData.pkl'.format(data_path), 'rb'))\n",
    "\n",
    "ibc_lib = [(tree.get_words().split(), \"LIBERAL\") for tree in lib]\n",
    "ibc_con = [(tree.get_words().split(), \"CONSERVATIVE\") for tree in con]\n",
    "# ibc_neutral = [(tree.get_words().split(), \"NEUTRAL\") for tree in neutral]\n",
    "\n",
    "ibc_full_data = ibc_lib + ibc_con\n",
    "ibc_full_size = len(ibc_full_data)\n",
    "\n",
    "ibc_train_size = int(ibc_full_size*0.9)\n",
    "ibc_test_size = ibc_full_size - ibc_train_size\n",
    "\n",
    "ibc_train_data, ibc_test_data = torch.utils.data.random_split(ibc_full_data, [ibc_train_size, ibc_test_size])\n",
    "\n",
    "ibc_label_to_id = {\"LIBERAL\": 0, \"CONSERVATIVE\": 1}\n",
    "ibc_word_to_id = {}\n",
    "for sent, _ in ibc_train_data:\n",
    "    for word in sent:\n",
    "        word_lower = word.lower()\n",
    "#         if word_lower not in ibc_word_to_id:\n",
    "        if word_lower not in ibc_word_to_id and word_lower not in stopwords.words('english'):\n",
    "            ibc_word_to_id[word_lower] = len(ibc_word_to_id)\n",
    "\n",
    "ibc_vocab_size = len(ibc_word_to_id)\n",
    "ibc_num_labels = 2\n",
    "\n",
    "print('data size:', len(ibc_full_data))\n",
    "print('dict size:', len(ibc_word_to_id))"
   ]
  },
  {
   "cell_type": "code",
   "execution_count": 52,
   "metadata": {},
   "outputs": [],
   "source": [
    "def generate_data_rnn():\n",
    "    # for rnn model: remove infrequent words from dictionary\n",
    "    [lib, con, neutral] = pickle.load(open('{}full_ibc/ibcData.pkl'.format(data_path), 'rb'))\n",
    "\n",
    "    tokenizer = nltk.RegexpTokenizer(r\"\\w+\")\n",
    "    ibc_lib = [(tokenizer.tokenize(tree.get_words()), \"LIBERAL\") for tree in lib]\n",
    "    ibc_con = [(tokenizer.tokenize(tree.get_words()), \"CONSERVATIVE\") for tree in con]\n",
    "    # ibc_neutral = [(tree.get_words().split(), \"NEUTRAL\") for tree in neutral]\n",
    "    ibc_full_data = ibc_lib + ibc_con\n",
    "\n",
    "    ibc_lib_size = len(ibc_lib)\n",
    "    ibc_lib_train_size = int(ibc_lib_size*0.9)\n",
    "    ibc_lib_train_data, ibc_lib_test_data = torch.utils.data.random_split(ibc_lib, [ibc_lib_train_size, ibc_lib_size - ibc_lib_train_size])\n",
    "    ibc_con_size = len(ibc_con)\n",
    "    ibc_con_train_size = int(ibc_con_size*0.9)\n",
    "    ibc_con_train_data, ibc_con_test_data = torch.utils.data.random_split(ibc_con, [ibc_con_train_size, ibc_con_size - ibc_con_train_size])\n",
    "\n",
    "    ibc_train_data = ibc_lib_train_data + ibc_con_train_data\n",
    "    ibc_test_data = ibc_lib_test_data + ibc_con_test_data\n",
    "\n",
    "    ibc_label_to_id = {\"LIBERAL\": 0, \"CONSERVATIVE\": 1}\n",
    "    ibc_word_count = {}\n",
    "    for sent, _ in ibc_train_data:\n",
    "        for word in sent:\n",
    "            word_lower = word.lower()\n",
    "            if word_lower in stopwords.words('english'):\n",
    "                continue\n",
    "            if word_lower not in ibc_word_count:\n",
    "                ibc_word_count[word_lower] = 1\n",
    "            else:\n",
    "                ibc_word_count[word_lower] += 1\n",
    "\n",
    "    ibc_word_to_id = {}\n",
    "    for word, count in ibc_word_count.items():\n",
    "        if count > 0:\n",
    "            ibc_word_to_id[word] = len(ibc_word_to_id)\n",
    "\n",
    "    ibc_vocab_size = len(ibc_word_to_id)\n",
    "    ibc_num_labels = 2\n",
    "\n",
    "    print('data size:', len(ibc_full_data))\n",
    "    print('dict size:', len(ibc_word_to_id))\n",
    "    ibc_train_data_loader = torch.utils.data.DataLoader([(make_word_index(sentence, ibc_word_to_id),\n",
    "                                                       make_target(label, ibc_label_to_id))\n",
    "                                                      for sentence, label in ibc_train_data], shuffle=True)\n",
    "    ibc_test_data_loader = torch.utils.data.DataLoader([(make_word_index(sentence, ibc_word_to_id),\n",
    "                                                      make_target(label, ibc_label_to_id))\n",
    "                                                     for sentence, label in ibc_test_data])\n",
    "    return ibc_train_data_loader, ibc_test_data_loader"
   ]
  },
  {
   "cell_type": "markdown",
   "metadata": {
    "jupyter": {
     "source_hidden": true
    }
   },
   "source": [
    "## 1.2 Convote"
   ]
  },
  {
   "cell_type": "code",
   "execution_count": 2,
   "metadata": {
    "collapsed": true,
    "jupyter": {
     "outputs_hidden": true,
     "source_hidden": true
    }
   },
   "outputs": [
    {
     "name": "stdout",
     "output_type": "stream",
     "text": [
      "65015\n"
     ]
    }
   ],
   "source": [
    "convote_train_lib = []\n",
    "convote_train_con = []\n",
    "convote_train_data = []\n",
    "\n",
    "for filename in os.listdir(\"../../dataset/sentiment_analysis/convote_v1.1/data_stage_one/training_set\"):\n",
    "    filename_split = filename.split(\"_\")\n",
    "    party = filename_split[-1][:1]\n",
    "    if party == 'D':\n",
    "        with open(\"{}convote_v1.1/data_stage_one/training_set/{}\".format(data_path, filename), \"r\") as f:\n",
    "            convote_train_lib += f.readlines()\n",
    "    if party == 'R':\n",
    "        with open(\"{}convote_v1.1/data_stage_one/training_set/{}\".format(data_path, filename), \"r\") as f:\n",
    "            convote_train_con += f.readlines()\n",
    "\n",
    "convote_train_lib = [(line.split(), \"LIBERAL\") for line in convote_train_lib]\n",
    "convote_train_con = [(line.split(), \"CONSERVATIVE\") for line in convote_train_con]\n",
    "convote_train_data = convote_train_lib + convote_train_con\n",
    "\n",
    "print(len(convote_train_data))"
   ]
  },
  {
   "cell_type": "code",
   "execution_count": 3,
   "metadata": {
    "collapsed": true,
    "jupyter": {
     "outputs_hidden": true,
     "source_hidden": true
    }
   },
   "outputs": [
    {
     "name": "stdout",
     "output_type": "stream",
     "text": [
      "22098\n"
     ]
    }
   ],
   "source": [
    "convote_test_lib = []\n",
    "convote_test_con = []\n",
    "convote_test_data = []\n",
    "\n",
    "for filename in os.listdir(\"../../dataset/sentiment_analysis/convote_v1.1/data_stage_one/test_set\"):\n",
    "    filename_split = filename.split(\"_\")\n",
    "    party = filename_split[-1][:1]\n",
    "    if party == 'D':\n",
    "        with open(\"{}convote_v1.1/data_stage_one/test_set/{}\".format(data_path, filename), \"r\") as f:\n",
    "            convote_test_lib += f.readlines()\n",
    "    if party == 'R':\n",
    "        with open(\"{}convote_v1.1/data_stage_one/test_set/{}\".format(data_path, filename), \"r\") as f:\n",
    "            convote_test_con += f.readlines()\n",
    "\n",
    "convote_test_lib = [(line.split(), \"LIBERAL\") for line in convote_test_lib]\n",
    "convote_test_con = [(line.split(), \"CONSERVATIVE\") for line in convote_test_con]\n",
    "convote_test_data = convote_test_lib + convote_test_con\n",
    "\n",
    "print(len(convote_test_data))"
   ]
  },
  {
   "cell_type": "code",
   "execution_count": 4,
   "metadata": {
    "collapsed": true,
    "jupyter": {
     "outputs_hidden": true,
     "source_hidden": true
    }
   },
   "outputs": [
    {
     "name": "stdout",
     "output_type": "stream",
     "text": [
      "26804\n"
     ]
    }
   ],
   "source": [
    "convote_label_to_id = {\"LIBERAL\": 0, \"CONSERVATIVE\": 1}\n",
    "convote_word_to_id = {}\n",
    "for sent, _ in convote_train_data:\n",
    "    for word in sent:\n",
    "        if word not in convote_word_to_id:\n",
    "            convote_word_to_id[word] = len(convote_word_to_id)\n",
    "print(len(convote_word_to_id))\n",
    "\n",
    "convote_vocab_size = len(convote_word_to_id)\n",
    "convote_num_labels = 2"
   ]
  },
  {
   "cell_type": "markdown",
   "metadata": {},
   "source": [
    "# 2 Models"
   ]
  },
  {
   "cell_type": "code",
   "execution_count": 21,
   "metadata": {},
   "outputs": [],
   "source": [
    "def train(model, data, num_epochs, loss_function, optimizer):\n",
    "    for epoch in range(num_epochs):\n",
    "        iters = 0\n",
    "        total_loss = 0\n",
    "        for bow_vec, target in data:\n",
    "            model.zero_grad()\n",
    "\n",
    "            probs = model(bow_vec[0])\n",
    "            loss = loss_function(probs, target[0])\n",
    "            loss.backward()\n",
    "            optimizer.step()\n",
    "\n",
    "            total_loss += loss.item()\n",
    "            iters += 1\n",
    "\n",
    "        print('[{}] loss: {}'.format(epoch+1, total_loss / iters))\n",
    "\n",
    "def eval(model, data):\n",
    "    num_predictions = 0\n",
    "    num_correct = 0\n",
    "    with torch.no_grad():\n",
    "        for sentence, target in data:\n",
    "            probs = model(sentence[0])\n",
    "            num_predictions += 1\n",
    "            if (torch.argmax(probs) == target[0]):\n",
    "                num_correct += 1\n",
    "    return num_correct/num_predictions*100"
   ]
  },
  {
   "cell_type": "markdown",
   "metadata": {},
   "source": [
    "## 2.1 Logistic Regression"
   ]
  },
  {
   "cell_type": "code",
   "execution_count": 17,
   "metadata": {},
   "outputs": [],
   "source": [
    "class BoWClassifier(nn.Module):\n",
    "    def __init__(self, vocab, output_size):\n",
    "        super(BoWClassifier, self).__init__()\n",
    "        self.vocab = vocab\n",
    "        self.input_size = len(vocab)\n",
    "        self.output_size = output_size\n",
    "        self.linear = nn.Linear(self.input_size, self.output_size).to(device)\n",
    "        \n",
    "    def forward(self, bow_vec):\n",
    "        return F.log_softmax(self.linear(bow_vec), dim=-1)"
   ]
  },
  {
   "cell_type": "markdown",
   "metadata": {},
   "source": [
    "### 2.1.1 IBC Logistic Regression"
   ]
  },
  {
   "cell_type": "code",
   "execution_count": 41,
   "metadata": {
    "jupyter": {
     "source_hidden": true
    }
   },
   "outputs": [],
   "source": [
    "ibc_train_data_lr = [(make_bow_vec(sentence, ibc_word_to_id), make_target(label, ibc_label_to_id)) for sentence, label in ibc_train_data]\n",
    "ibc_test_data_lr = [(make_bow_vec(sentence, ibc_word_to_id), make_target(label, ibc_label_to_id)) for sentence, label in ibc_test_data]"
   ]
  },
  {
   "cell_type": "code",
   "execution_count": 18,
   "metadata": {
    "collapsed": true,
    "jupyter": {
     "outputs_hidden": true,
     "source_hidden": true
    }
   },
   "outputs": [
    {
     "name": "stdout",
     "output_type": "stream",
     "text": [
      "before training: 47.45308310991957\n",
      "10\n",
      "20\n",
      "30\n",
      "40\n",
      "50\n",
      "60\n",
      "70\n",
      "80\n",
      "90\n",
      "100\n",
      "after training: 62.466487935656836\n"
     ]
    }
   ],
   "source": [
    "# first run\n",
    "model = BoWClassifier(ibc_word_to_id, ibc_num_labels)\n",
    "\n",
    "num_predictions = 0\n",
    "num_correct = 0\n",
    "with torch.no_grad():\n",
    "    for bow_vec, target in ibc_test_data_lr:\n",
    "        probs = model(bow_vec)\n",
    "        num_predictions += 1\n",
    "        if (torch.argmax(probs) == target):\n",
    "            num_correct += 1\n",
    "print(\"before training:\", num_correct/num_predictions*100)\n",
    "        \n",
    "loss_function = nn.NLLLoss()\n",
    "optimizer = optim.SGD(model.parameters(), lr=0.01)\n",
    "\n",
    "for epoch in range(100):\n",
    "    for bow_vec, target in ibc_train_data_lr:\n",
    "        model.zero_grad()\n",
    "        \n",
    "        probs = model(bow_vec)\n",
    "        \n",
    "        loss = loss_function(probs, target)\n",
    "        loss.backward()\n",
    "        optimizer.step()\n",
    "    if (epoch+1) % 10 == 0:\n",
    "        print(epoch+1)\n",
    "\n",
    "num_predictions = 0\n",
    "num_correct = 0\n",
    "with torch.no_grad():\n",
    "    for bow_vec, target in ibc_test_data_lr:\n",
    "        probs = model(bow_vec)\n",
    "        num_predictions += 1\n",
    "        if (torch.argmax(probs) == target):\n",
    "            num_correct += 1\n",
    "print(\"after training:\", num_correct/num_predictions*100)"
   ]
  },
  {
   "cell_type": "markdown",
   "metadata": {
    "jupyter": {
     "source_hidden": true
    }
   },
   "source": [
    "### 2.1.2 Convote Logistic Regression"
   ]
  },
  {
   "cell_type": "code",
   "execution_count": 6,
   "metadata": {
    "collapsed": true,
    "jupyter": {
     "outputs_hidden": true,
     "source_hidden": true
    }
   },
   "outputs": [
    {
     "ename": "NameError",
     "evalue": "name 'convote_train_data' is not defined",
     "output_type": "error",
     "traceback": [
      "\u001b[0;31m---------------------------------------------------------------------------\u001b[0m",
      "\u001b[0;31mNameError\u001b[0m                                 Traceback (most recent call last)",
      "\u001b[0;32m<ipython-input-6-ac9432da3c31>\u001b[0m in \u001b[0;36m<module>\u001b[0;34m\u001b[0m\n\u001b[0;32m----> 1\u001b[0;31m \u001b[0mconvote_train_data_lr\u001b[0m \u001b[0;34m=\u001b[0m \u001b[0;34m[\u001b[0m\u001b[0;34m(\u001b[0m\u001b[0mmake_bow_vec\u001b[0m\u001b[0;34m(\u001b[0m\u001b[0msentence\u001b[0m\u001b[0;34m,\u001b[0m \u001b[0mconvote_word_to_id\u001b[0m\u001b[0;34m)\u001b[0m\u001b[0;34m,\u001b[0m \u001b[0mmake_target\u001b[0m\u001b[0;34m(\u001b[0m\u001b[0mlabel\u001b[0m\u001b[0;34m,\u001b[0m \u001b[0mconvote_label_to_id\u001b[0m\u001b[0;34m)\u001b[0m\u001b[0;34m)\u001b[0m \u001b[0;32mfor\u001b[0m \u001b[0msentence\u001b[0m\u001b[0;34m,\u001b[0m \u001b[0mlabel\u001b[0m \u001b[0;32min\u001b[0m \u001b[0mconvote_train_data\u001b[0m\u001b[0;34m]\u001b[0m\u001b[0;34m\u001b[0m\u001b[0;34m\u001b[0m\u001b[0m\n\u001b[0m\u001b[1;32m      2\u001b[0m \u001b[0mconvote_test_data_lr\u001b[0m \u001b[0;34m=\u001b[0m \u001b[0;34m[\u001b[0m\u001b[0;34m(\u001b[0m\u001b[0mmake_bow_vec\u001b[0m\u001b[0;34m(\u001b[0m\u001b[0msentence\u001b[0m\u001b[0;34m,\u001b[0m \u001b[0mconvote_word_to_id\u001b[0m\u001b[0;34m)\u001b[0m\u001b[0;34m,\u001b[0m \u001b[0mmake_target\u001b[0m\u001b[0;34m(\u001b[0m\u001b[0mlabel\u001b[0m\u001b[0;34m,\u001b[0m \u001b[0mconvote_label_to_id\u001b[0m\u001b[0;34m)\u001b[0m\u001b[0;34m)\u001b[0m \u001b[0;32mfor\u001b[0m \u001b[0msentence\u001b[0m\u001b[0;34m,\u001b[0m \u001b[0mlabel\u001b[0m \u001b[0;32min\u001b[0m \u001b[0mconvote_test_data\u001b[0m\u001b[0;34m]\u001b[0m\u001b[0;34m\u001b[0m\u001b[0;34m\u001b[0m\u001b[0m\n",
      "\u001b[0;31mNameError\u001b[0m: name 'convote_train_data' is not defined"
     ]
    }
   ],
   "source": [
    "convote_train_data_lr = [(make_bow_vec(sentence, convote_word_to_id), make_target(label, convote_label_to_id)) for sentence, label in convote_train_data]\n",
    "convote_test_data_lr = [(make_bow_vec(sentence, convote_word_to_id), make_target(label, convote_label_to_id)) for sentence, label in convote_test_data]"
   ]
  },
  {
   "cell_type": "code",
   "execution_count": null,
   "metadata": {
    "jupyter": {
     "source_hidden": true
    }
   },
   "outputs": [],
   "source": [
    "# first run\n",
    "model = BoWClassifier(convote_vocab_size, convote_num_labels)\n",
    "\n",
    "print(\"before training\")\n",
    "num_predictions = 0\n",
    "num_correct = 0\n",
    "with torch.no_grad():\n",
    "    for bow_vec, target in convote_test_data_lr:\n",
    "        probs = model(bow_vec)\n",
    "        num_predictions += 1\n",
    "        if (torch.argmax(probs) == target):\n",
    "            num_correct += 1\n",
    "print(num_correct/num_predictions*100)\n",
    "        \n",
    "loss_function = nn.NLLLoss()\n",
    "optimizer = optim.SGD(model.parameters(), lr=0.1)\n",
    "\n",
    "for epoch in range(50):\n",
    "    for bow_vec, target in convote_train_data_lr:\n",
    "        model.zero_grad()\n",
    "        \n",
    "        probs = model(bow_vec)\n",
    "        \n",
    "        loss = loss_function(probs, target)\n",
    "        loss.backward()\n",
    "        optimizer.step()\n",
    "    print(epoch)\n",
    "\n",
    "print(\"after training\")\n",
    "num_predictions = 0\n",
    "num_correct = 0\n",
    "with torch.no_grad():\n",
    "    for bow_vec, target in convote_test_data_lr:\n",
    "        bow_vec = make_bow_vec(sentence, convote_word_to_id)\n",
    "        probs = model(bow_vec)\n",
    "        num_predictions += 1\n",
    "        if (torch.argmax(probs) == target):\n",
    "            num_correct += 1\n",
    "print(num_correct/num_predictions*100)"
   ]
  },
  {
   "cell_type": "markdown",
   "metadata": {},
   "source": [
    "## 2.2 RNN"
   ]
  },
  {
   "cell_type": "code",
   "execution_count": 7,
   "metadata": {},
   "outputs": [],
   "source": [
    "class RNN(nn.Module):\n",
    "    def __init__(self, vocab, output_size, hidden_size):\n",
    "        super(RNN, self).__init__()\n",
    "\n",
    "        self.vocab = vocab\n",
    "        self.input_size = len(vocab)\n",
    "        self.output_size = output_size\n",
    "        self.hidden_size = hidden_size\n",
    "        \n",
    "        self.embedding = nn.Embedding(self.input_size, self.hidden_size).to(device)\n",
    "        self.left = nn.Linear(self.hidden_size, self.hidden_size).to(device)\n",
    "        self.right = nn.Linear(self.hidden_size, self.hidden_size).to(device)\n",
    "        self.cat = nn.Linear(self.hidden_size, self.output_size).to(device)\n",
    "\n",
    "    def forward(self, sentence):\n",
    "        embedding = self.embedding(sentence)\n",
    "        hidden = embedding[0]\n",
    "        for i in range(1, len(embedding)):\n",
    "            hidden = torch.tanh(torch.add(self.left(hidden), self.right(embedding[i])))\n",
    "        return F.log_softmax(self.cat(hidden), dim=-1).view(1, -1)"
   ]
  },
  {
   "cell_type": "code",
   "execution_count": 48,
   "metadata": {},
   "outputs": [],
   "source": [
    "class RNN_v2(nn.Module):\n",
    "    def __init__(self, vocab, output_size, hidden_size):\n",
    "        super(RNN_v2, self).__init__()\n",
    "\n",
    "        self.vocab = vocab\n",
    "        self.input_size = len(vocab)\n",
    "        self.output_size = output_size\n",
    "        self.hidden_size = hidden_size\n",
    "        \n",
    "        self.embedding = nn.Embedding(self.input_size, self.hidden_size).to(device)\n",
    "        self.rnn = nn.RNN(self.hidden_size, self.hidden_size).to(device)\n",
    "        self.cat = nn.Linear(self.hidden_size, self.output_size).to(device)\n",
    "\n",
    "    def forward(self, sentence):\n",
    "        embedding = self.embedding(sentence).unsqueeze(1)\n",
    "        output, hidden = self.rnn(embedding)\n",
    "        output = output.squeeze()[-1]\n",
    "        return F.log_softmax(self.cat(output), dim=-1).view(1, -1)"
   ]
  },
  {
   "cell_type": "code",
   "execution_count": 9,
   "metadata": {},
   "outputs": [],
   "source": [
    "class RNN_v3(nn.Module):\n",
    "    def __init__(self, vocab, output_size, hidden_size):\n",
    "        super(RNN_v3, self).__init__()\n",
    "\n",
    "        self.vocab = vocab\n",
    "        self.input_size = len(vocab)\n",
    "        self.output_size = output_size\n",
    "        self.hidden_size = hidden_size\n",
    "        \n",
    "        self.embedding = nn.Embedding(self.input_size, self.hidden_size).to(device)\n",
    "        self.linear = nn.Linear(2 * self.hidden_size, self.hidden_size).to(device)\n",
    "        self.cat = nn.Linear(self.hidden_size, self.output_size).to(device)\n",
    "\n",
    "    def forward(self, sentence):\n",
    "        embedding = self.embedding(sentence)\n",
    "        hidden = embedding[0]\n",
    "        for i in range(1, len(embedding)):\n",
    "            hidden = torch.tanh(self.linear(torch.cat((hidden, embedding[i]))))\n",
    "        return F.log_softmax(self.cat(hidden), dim=-1).view(1, -1)"
   ]
  },
  {
   "cell_type": "markdown",
   "metadata": {},
   "source": [
    "### 2.2.1 IBC RNN"
   ]
  },
  {
   "cell_type": "code",
   "execution_count": 55,
   "metadata": {},
   "outputs": [
    {
     "name": "stdout",
     "output_type": "stream",
     "text": [
      "data size: 3726\n",
      "dict size: 12721\n"
     ]
    }
   ],
   "source": [
    "ibc_train_data_rnn, ibc_test_data_rnn = generate_data_rnn()"
   ]
  },
  {
   "cell_type": "code",
   "execution_count": 56,
   "metadata": {},
   "outputs": [
    {
     "ename": "RuntimeError",
     "evalue": "CUDA error: device-side assert triggered",
     "output_type": "error",
     "traceback": [
      "\u001b[0;31m---------------------------------------------------------------------------\u001b[0m",
      "\u001b[0;31mRuntimeError\u001b[0m                              Traceback (most recent call last)",
      "\u001b[0;32m<ipython-input-56-bf94f7859596>\u001b[0m in \u001b[0;36m<module>\u001b[0;34m\u001b[0m\n\u001b[1;32m      2\u001b[0m \u001b[0;31m# model.load_state_dict(torch.load('./rnn_50epochs_v2.model'))\u001b[0m\u001b[0;34m\u001b[0m\u001b[0;34m\u001b[0m\u001b[0;34m\u001b[0m\u001b[0m\n\u001b[1;32m      3\u001b[0m \u001b[0;34m\u001b[0m\u001b[0m\n\u001b[0;32m----> 4\u001b[0;31m \u001b[0mprint\u001b[0m\u001b[0;34m(\u001b[0m\u001b[0meval\u001b[0m\u001b[0;34m(\u001b[0m\u001b[0mmodel\u001b[0m\u001b[0;34m,\u001b[0m \u001b[0mibc_test_data_rnn\u001b[0m\u001b[0;34m)\u001b[0m\u001b[0;34m)\u001b[0m\u001b[0;34m\u001b[0m\u001b[0;34m\u001b[0m\u001b[0m\n\u001b[0m\u001b[1;32m      5\u001b[0m \u001b[0;34m\u001b[0m\u001b[0m\n\u001b[1;32m      6\u001b[0m \u001b[0mnum_epochs\u001b[0m \u001b[0;34m=\u001b[0m \u001b[0;36m50\u001b[0m\u001b[0;34m\u001b[0m\u001b[0;34m\u001b[0m\u001b[0m\n",
      "\u001b[0;32m<ipython-input-21-4441be48dc81>\u001b[0m in \u001b[0;36meval\u001b[0;34m(model, data)\u001b[0m\n\u001b[1;32m     21\u001b[0m     \u001b[0;32mwith\u001b[0m \u001b[0mtorch\u001b[0m\u001b[0;34m.\u001b[0m\u001b[0mno_grad\u001b[0m\u001b[0;34m(\u001b[0m\u001b[0;34m)\u001b[0m\u001b[0;34m:\u001b[0m\u001b[0;34m\u001b[0m\u001b[0;34m\u001b[0m\u001b[0m\n\u001b[1;32m     22\u001b[0m         \u001b[0;32mfor\u001b[0m \u001b[0msentence\u001b[0m\u001b[0;34m,\u001b[0m \u001b[0mtarget\u001b[0m \u001b[0;32min\u001b[0m \u001b[0mdata\u001b[0m\u001b[0;34m:\u001b[0m\u001b[0;34m\u001b[0m\u001b[0;34m\u001b[0m\u001b[0m\n\u001b[0;32m---> 23\u001b[0;31m             \u001b[0mprobs\u001b[0m \u001b[0;34m=\u001b[0m \u001b[0mmodel\u001b[0m\u001b[0;34m(\u001b[0m\u001b[0msentence\u001b[0m\u001b[0;34m[\u001b[0m\u001b[0;36m0\u001b[0m\u001b[0;34m]\u001b[0m\u001b[0;34m)\u001b[0m\u001b[0;34m\u001b[0m\u001b[0;34m\u001b[0m\u001b[0m\n\u001b[0m\u001b[1;32m     24\u001b[0m             \u001b[0mnum_predictions\u001b[0m \u001b[0;34m+=\u001b[0m \u001b[0;36m1\u001b[0m\u001b[0;34m\u001b[0m\u001b[0;34m\u001b[0m\u001b[0m\n\u001b[1;32m     25\u001b[0m             \u001b[0;32mif\u001b[0m \u001b[0;34m(\u001b[0m\u001b[0mtorch\u001b[0m\u001b[0;34m.\u001b[0m\u001b[0margmax\u001b[0m\u001b[0;34m(\u001b[0m\u001b[0mprobs\u001b[0m\u001b[0;34m)\u001b[0m \u001b[0;34m==\u001b[0m \u001b[0mtarget\u001b[0m\u001b[0;34m[\u001b[0m\u001b[0;36m0\u001b[0m\u001b[0;34m]\u001b[0m\u001b[0;34m)\u001b[0m\u001b[0;34m:\u001b[0m\u001b[0;34m\u001b[0m\u001b[0;34m\u001b[0m\u001b[0m\n",
      "\u001b[0;32m~/anaconda3/envs/pytorch_p36/lib/python3.6/site-packages/torch/nn/modules/module.py\u001b[0m in \u001b[0;36m__call__\u001b[0;34m(self, *input, **kwargs)\u001b[0m\n\u001b[1;32m    530\u001b[0m             \u001b[0mresult\u001b[0m \u001b[0;34m=\u001b[0m \u001b[0mself\u001b[0m\u001b[0;34m.\u001b[0m\u001b[0m_slow_forward\u001b[0m\u001b[0;34m(\u001b[0m\u001b[0;34m*\u001b[0m\u001b[0minput\u001b[0m\u001b[0;34m,\u001b[0m \u001b[0;34m**\u001b[0m\u001b[0mkwargs\u001b[0m\u001b[0;34m)\u001b[0m\u001b[0;34m\u001b[0m\u001b[0;34m\u001b[0m\u001b[0m\n\u001b[1;32m    531\u001b[0m         \u001b[0;32melse\u001b[0m\u001b[0;34m:\u001b[0m\u001b[0;34m\u001b[0m\u001b[0;34m\u001b[0m\u001b[0m\n\u001b[0;32m--> 532\u001b[0;31m             \u001b[0mresult\u001b[0m \u001b[0;34m=\u001b[0m \u001b[0mself\u001b[0m\u001b[0;34m.\u001b[0m\u001b[0mforward\u001b[0m\u001b[0;34m(\u001b[0m\u001b[0;34m*\u001b[0m\u001b[0minput\u001b[0m\u001b[0;34m,\u001b[0m \u001b[0;34m**\u001b[0m\u001b[0mkwargs\u001b[0m\u001b[0;34m)\u001b[0m\u001b[0;34m\u001b[0m\u001b[0;34m\u001b[0m\u001b[0m\n\u001b[0m\u001b[1;32m    533\u001b[0m         \u001b[0;32mfor\u001b[0m \u001b[0mhook\u001b[0m \u001b[0;32min\u001b[0m \u001b[0mself\u001b[0m\u001b[0;34m.\u001b[0m\u001b[0m_forward_hooks\u001b[0m\u001b[0;34m.\u001b[0m\u001b[0mvalues\u001b[0m\u001b[0;34m(\u001b[0m\u001b[0;34m)\u001b[0m\u001b[0;34m:\u001b[0m\u001b[0;34m\u001b[0m\u001b[0;34m\u001b[0m\u001b[0m\n\u001b[1;32m    534\u001b[0m             \u001b[0mhook_result\u001b[0m \u001b[0;34m=\u001b[0m \u001b[0mhook\u001b[0m\u001b[0;34m(\u001b[0m\u001b[0mself\u001b[0m\u001b[0;34m,\u001b[0m \u001b[0minput\u001b[0m\u001b[0;34m,\u001b[0m \u001b[0mresult\u001b[0m\u001b[0;34m)\u001b[0m\u001b[0;34m\u001b[0m\u001b[0;34m\u001b[0m\u001b[0m\n",
      "\u001b[0;32m<ipython-input-7-1a8ad4e60089>\u001b[0m in \u001b[0;36mforward\u001b[0;34m(self, sentence)\u001b[0m\n\u001b[1;32m     17\u001b[0m         \u001b[0mhidden\u001b[0m \u001b[0;34m=\u001b[0m \u001b[0membedding\u001b[0m\u001b[0;34m[\u001b[0m\u001b[0;36m0\u001b[0m\u001b[0;34m]\u001b[0m\u001b[0;34m\u001b[0m\u001b[0;34m\u001b[0m\u001b[0m\n\u001b[1;32m     18\u001b[0m         \u001b[0;32mfor\u001b[0m \u001b[0mi\u001b[0m \u001b[0;32min\u001b[0m \u001b[0mrange\u001b[0m\u001b[0;34m(\u001b[0m\u001b[0;36m1\u001b[0m\u001b[0;34m,\u001b[0m \u001b[0mlen\u001b[0m\u001b[0;34m(\u001b[0m\u001b[0membedding\u001b[0m\u001b[0;34m)\u001b[0m\u001b[0;34m)\u001b[0m\u001b[0;34m:\u001b[0m\u001b[0;34m\u001b[0m\u001b[0;34m\u001b[0m\u001b[0m\n\u001b[0;32m---> 19\u001b[0;31m             \u001b[0mhidden\u001b[0m \u001b[0;34m=\u001b[0m \u001b[0mtorch\u001b[0m\u001b[0;34m.\u001b[0m\u001b[0mtanh\u001b[0m\u001b[0;34m(\u001b[0m\u001b[0mtorch\u001b[0m\u001b[0;34m.\u001b[0m\u001b[0madd\u001b[0m\u001b[0;34m(\u001b[0m\u001b[0mself\u001b[0m\u001b[0;34m.\u001b[0m\u001b[0mleft\u001b[0m\u001b[0;34m(\u001b[0m\u001b[0mhidden\u001b[0m\u001b[0;34m)\u001b[0m\u001b[0;34m,\u001b[0m \u001b[0mself\u001b[0m\u001b[0;34m.\u001b[0m\u001b[0mright\u001b[0m\u001b[0;34m(\u001b[0m\u001b[0membedding\u001b[0m\u001b[0;34m[\u001b[0m\u001b[0mi\u001b[0m\u001b[0;34m]\u001b[0m\u001b[0;34m)\u001b[0m\u001b[0;34m)\u001b[0m\u001b[0;34m)\u001b[0m\u001b[0;34m\u001b[0m\u001b[0;34m\u001b[0m\u001b[0m\n\u001b[0m\u001b[1;32m     20\u001b[0m         \u001b[0;32mreturn\u001b[0m \u001b[0mF\u001b[0m\u001b[0;34m.\u001b[0m\u001b[0mlog_softmax\u001b[0m\u001b[0;34m(\u001b[0m\u001b[0mself\u001b[0m\u001b[0;34m.\u001b[0m\u001b[0mcat\u001b[0m\u001b[0;34m(\u001b[0m\u001b[0mhidden\u001b[0m\u001b[0;34m)\u001b[0m\u001b[0;34m,\u001b[0m \u001b[0mdim\u001b[0m\u001b[0;34m=\u001b[0m\u001b[0;34m-\u001b[0m\u001b[0;36m1\u001b[0m\u001b[0;34m)\u001b[0m\u001b[0;34m.\u001b[0m\u001b[0mview\u001b[0m\u001b[0;34m(\u001b[0m\u001b[0;36m1\u001b[0m\u001b[0;34m,\u001b[0m \u001b[0;34m-\u001b[0m\u001b[0;36m1\u001b[0m\u001b[0;34m)\u001b[0m\u001b[0;34m\u001b[0m\u001b[0;34m\u001b[0m\u001b[0m\n",
      "\u001b[0;32m~/anaconda3/envs/pytorch_p36/lib/python3.6/site-packages/torch/nn/modules/module.py\u001b[0m in \u001b[0;36m__call__\u001b[0;34m(self, *input, **kwargs)\u001b[0m\n\u001b[1;32m    530\u001b[0m             \u001b[0mresult\u001b[0m \u001b[0;34m=\u001b[0m \u001b[0mself\u001b[0m\u001b[0;34m.\u001b[0m\u001b[0m_slow_forward\u001b[0m\u001b[0;34m(\u001b[0m\u001b[0;34m*\u001b[0m\u001b[0minput\u001b[0m\u001b[0;34m,\u001b[0m \u001b[0;34m**\u001b[0m\u001b[0mkwargs\u001b[0m\u001b[0;34m)\u001b[0m\u001b[0;34m\u001b[0m\u001b[0;34m\u001b[0m\u001b[0m\n\u001b[1;32m    531\u001b[0m         \u001b[0;32melse\u001b[0m\u001b[0;34m:\u001b[0m\u001b[0;34m\u001b[0m\u001b[0;34m\u001b[0m\u001b[0m\n\u001b[0;32m--> 532\u001b[0;31m             \u001b[0mresult\u001b[0m \u001b[0;34m=\u001b[0m \u001b[0mself\u001b[0m\u001b[0;34m.\u001b[0m\u001b[0mforward\u001b[0m\u001b[0;34m(\u001b[0m\u001b[0;34m*\u001b[0m\u001b[0minput\u001b[0m\u001b[0;34m,\u001b[0m \u001b[0;34m**\u001b[0m\u001b[0mkwargs\u001b[0m\u001b[0;34m)\u001b[0m\u001b[0;34m\u001b[0m\u001b[0;34m\u001b[0m\u001b[0m\n\u001b[0m\u001b[1;32m    533\u001b[0m         \u001b[0;32mfor\u001b[0m \u001b[0mhook\u001b[0m \u001b[0;32min\u001b[0m \u001b[0mself\u001b[0m\u001b[0;34m.\u001b[0m\u001b[0m_forward_hooks\u001b[0m\u001b[0;34m.\u001b[0m\u001b[0mvalues\u001b[0m\u001b[0;34m(\u001b[0m\u001b[0;34m)\u001b[0m\u001b[0;34m:\u001b[0m\u001b[0;34m\u001b[0m\u001b[0;34m\u001b[0m\u001b[0m\n\u001b[1;32m    534\u001b[0m             \u001b[0mhook_result\u001b[0m \u001b[0;34m=\u001b[0m \u001b[0mhook\u001b[0m\u001b[0;34m(\u001b[0m\u001b[0mself\u001b[0m\u001b[0;34m,\u001b[0m \u001b[0minput\u001b[0m\u001b[0;34m,\u001b[0m \u001b[0mresult\u001b[0m\u001b[0;34m)\u001b[0m\u001b[0;34m\u001b[0m\u001b[0;34m\u001b[0m\u001b[0m\n",
      "\u001b[0;32m~/anaconda3/envs/pytorch_p36/lib/python3.6/site-packages/torch/nn/modules/linear.py\u001b[0m in \u001b[0;36mforward\u001b[0;34m(self, input)\u001b[0m\n\u001b[1;32m     85\u001b[0m \u001b[0;34m\u001b[0m\u001b[0m\n\u001b[1;32m     86\u001b[0m     \u001b[0;32mdef\u001b[0m \u001b[0mforward\u001b[0m\u001b[0;34m(\u001b[0m\u001b[0mself\u001b[0m\u001b[0;34m,\u001b[0m \u001b[0minput\u001b[0m\u001b[0;34m)\u001b[0m\u001b[0;34m:\u001b[0m\u001b[0;34m\u001b[0m\u001b[0;34m\u001b[0m\u001b[0m\n\u001b[0;32m---> 87\u001b[0;31m         \u001b[0;32mreturn\u001b[0m \u001b[0mF\u001b[0m\u001b[0;34m.\u001b[0m\u001b[0mlinear\u001b[0m\u001b[0;34m(\u001b[0m\u001b[0minput\u001b[0m\u001b[0;34m,\u001b[0m \u001b[0mself\u001b[0m\u001b[0;34m.\u001b[0m\u001b[0mweight\u001b[0m\u001b[0;34m,\u001b[0m \u001b[0mself\u001b[0m\u001b[0;34m.\u001b[0m\u001b[0mbias\u001b[0m\u001b[0;34m)\u001b[0m\u001b[0;34m\u001b[0m\u001b[0;34m\u001b[0m\u001b[0m\n\u001b[0m\u001b[1;32m     88\u001b[0m \u001b[0;34m\u001b[0m\u001b[0m\n\u001b[1;32m     89\u001b[0m     \u001b[0;32mdef\u001b[0m \u001b[0mextra_repr\u001b[0m\u001b[0;34m(\u001b[0m\u001b[0mself\u001b[0m\u001b[0;34m)\u001b[0m\u001b[0;34m:\u001b[0m\u001b[0;34m\u001b[0m\u001b[0;34m\u001b[0m\u001b[0m\n",
      "\u001b[0;32m~/anaconda3/envs/pytorch_p36/lib/python3.6/site-packages/torch/nn/functional.py\u001b[0m in \u001b[0;36mlinear\u001b[0;34m(input, weight, bias)\u001b[0m\n\u001b[1;32m   1372\u001b[0m         \u001b[0moutput\u001b[0m \u001b[0;34m=\u001b[0m \u001b[0minput\u001b[0m\u001b[0;34m.\u001b[0m\u001b[0mmatmul\u001b[0m\u001b[0;34m(\u001b[0m\u001b[0mweight\u001b[0m\u001b[0;34m.\u001b[0m\u001b[0mt\u001b[0m\u001b[0;34m(\u001b[0m\u001b[0;34m)\u001b[0m\u001b[0;34m)\u001b[0m\u001b[0;34m\u001b[0m\u001b[0;34m\u001b[0m\u001b[0m\n\u001b[1;32m   1373\u001b[0m         \u001b[0;32mif\u001b[0m \u001b[0mbias\u001b[0m \u001b[0;32mis\u001b[0m \u001b[0;32mnot\u001b[0m \u001b[0;32mNone\u001b[0m\u001b[0;34m:\u001b[0m\u001b[0;34m\u001b[0m\u001b[0;34m\u001b[0m\u001b[0m\n\u001b[0;32m-> 1374\u001b[0;31m             \u001b[0moutput\u001b[0m \u001b[0;34m+=\u001b[0m \u001b[0mbias\u001b[0m\u001b[0;34m\u001b[0m\u001b[0;34m\u001b[0m\u001b[0m\n\u001b[0m\u001b[1;32m   1375\u001b[0m         \u001b[0mret\u001b[0m \u001b[0;34m=\u001b[0m \u001b[0moutput\u001b[0m\u001b[0;34m\u001b[0m\u001b[0;34m\u001b[0m\u001b[0m\n\u001b[1;32m   1376\u001b[0m     \u001b[0;32mreturn\u001b[0m \u001b[0mret\u001b[0m\u001b[0;34m\u001b[0m\u001b[0;34m\u001b[0m\u001b[0m\n",
      "\u001b[0;31mRuntimeError\u001b[0m: CUDA error: device-side assert triggered"
     ]
    }
   ],
   "source": [
    "model = RNN(ibc_word_to_id, ibc_num_labels, 300)\n",
    "# model.load_state_dict(torch.load('./rnn_50epochs_v2.model'))\n",
    "\n",
    "print(eval(model, ibc_test_data_rnn))\n",
    "        \n",
    "num_epochs = 50\n",
    "loss_function = nn.NLLLoss()\n",
    "optimizer = optim.SGD(model.parameters(), lr=0.001)\n",
    "\n",
    "train(model, ibc_train_data_rnn, num_epochs, loss_function, optimizer)\n",
    "\n",
    "print(eval(model, ibc_test_data_rnn))"
   ]
  },
  {
   "cell_type": "code",
   "execution_count": 50,
   "metadata": {},
   "outputs": [
    {
     "name": "stdout",
     "output_type": "stream",
     "text": [
      "99.46300715990454\n",
      "57.48663101604278\n"
     ]
    }
   ],
   "source": [
    "print(eval(model, ibc_train_data_rnn))\n",
    "print(eval(model, ibc_test_data_rnn))"
   ]
  },
  {
   "cell_type": "code",
   "execution_count": 39,
   "metadata": {},
   "outputs": [
    {
     "ename": "RuntimeError",
     "evalue": "Error(s) in loading state_dict for RNN_v2:\n\tsize mismatch for embedding.weight: copying a param with shape torch.Size([12670, 300]) from checkpoint, the shape in current model is torch.Size([6664, 300]).",
     "output_type": "error",
     "traceback": [
      "\u001b[0;31m---------------------------------------------------------------------------\u001b[0m",
      "\u001b[0;31mRuntimeError\u001b[0m                              Traceback (most recent call last)",
      "\u001b[0;32m<ipython-input-39-9c41519aaca6>\u001b[0m in \u001b[0;36m<module>\u001b[0;34m\u001b[0m\n\u001b[1;32m      2\u001b[0m \u001b[0;34m\u001b[0m\u001b[0m\n\u001b[1;32m      3\u001b[0m \u001b[0mnew_model\u001b[0m \u001b[0;34m=\u001b[0m \u001b[0mRNN_v2\u001b[0m\u001b[0;34m(\u001b[0m\u001b[0mibc_word_to_id\u001b[0m\u001b[0;34m,\u001b[0m \u001b[0mibc_num_labels\u001b[0m\u001b[0;34m,\u001b[0m \u001b[0;36m300\u001b[0m\u001b[0;34m)\u001b[0m\u001b[0;34m\u001b[0m\u001b[0;34m\u001b[0m\u001b[0m\n\u001b[0;32m----> 4\u001b[0;31m \u001b[0mnew_model\u001b[0m\u001b[0;34m.\u001b[0m\u001b[0mload_state_dict\u001b[0m\u001b[0;34m(\u001b[0m\u001b[0mtorch\u001b[0m\u001b[0;34m.\u001b[0m\u001b[0mload\u001b[0m\u001b[0;34m(\u001b[0m\u001b[0;34m'./rnn_50epochs_v2.model'\u001b[0m\u001b[0;34m)\u001b[0m\u001b[0;34m)\u001b[0m\u001b[0;34m\u001b[0m\u001b[0;34m\u001b[0m\u001b[0m\n\u001b[0m\u001b[1;32m      5\u001b[0m \u001b[0;34m\u001b[0m\u001b[0m\n\u001b[1;32m      6\u001b[0m \u001b[0mprint\u001b[0m\u001b[0;34m(\u001b[0m\u001b[0meval\u001b[0m\u001b[0;34m(\u001b[0m\u001b[0mnew_model\u001b[0m\u001b[0;34m,\u001b[0m \u001b[0mibc_test_data_rnn\u001b[0m\u001b[0;34m)\u001b[0m\u001b[0;34m)\u001b[0m\u001b[0;34m\u001b[0m\u001b[0;34m\u001b[0m\u001b[0m\n",
      "\u001b[0;32m~/anaconda3/envs/pytorch_p36/lib/python3.6/site-packages/torch/nn/modules/module.py\u001b[0m in \u001b[0;36mload_state_dict\u001b[0;34m(self, state_dict, strict)\u001b[0m\n\u001b[1;32m    828\u001b[0m         \u001b[0;32mif\u001b[0m \u001b[0mlen\u001b[0m\u001b[0;34m(\u001b[0m\u001b[0merror_msgs\u001b[0m\u001b[0;34m)\u001b[0m \u001b[0;34m>\u001b[0m \u001b[0;36m0\u001b[0m\u001b[0;34m:\u001b[0m\u001b[0;34m\u001b[0m\u001b[0;34m\u001b[0m\u001b[0m\n\u001b[1;32m    829\u001b[0m             raise RuntimeError('Error(s) in loading state_dict for {}:\\n\\t{}'.format(\n\u001b[0;32m--> 830\u001b[0;31m                                self.__class__.__name__, \"\\n\\t\".join(error_msgs)))\n\u001b[0m\u001b[1;32m    831\u001b[0m         \u001b[0;32mreturn\u001b[0m \u001b[0m_IncompatibleKeys\u001b[0m\u001b[0;34m(\u001b[0m\u001b[0mmissing_keys\u001b[0m\u001b[0;34m,\u001b[0m \u001b[0munexpected_keys\u001b[0m\u001b[0;34m)\u001b[0m\u001b[0;34m\u001b[0m\u001b[0;34m\u001b[0m\u001b[0m\n\u001b[1;32m    832\u001b[0m \u001b[0;34m\u001b[0m\u001b[0m\n",
      "\u001b[0;31mRuntimeError\u001b[0m: Error(s) in loading state_dict for RNN_v2:\n\tsize mismatch for embedding.weight: copying a param with shape torch.Size([12670, 300]) from checkpoint, the shape in current model is torch.Size([6664, 300])."
     ]
    }
   ],
   "source": [
    "# torch.save(model.state_dict(), 'rnn_50epochs_v2.model')\n",
    "\n",
    "new_model = RNN_v2(ibc_word_to_id, ibc_num_labels, 300)\n",
    "new_model.load_state_dict(torch.load('./rnn_50epochs_v2.model'))\n",
    "\n",
    "print(eval(new_model, ibc_test_data_rnn))"
   ]
  },
  {
   "cell_type": "code",
   "execution_count": 28,
   "metadata": {},
   "outputs": [
    {
     "name": "stdout",
     "output_type": "stream",
     "text": [
      "after training: 57.9088471849866\n"
     ]
    }
   ],
   "source": [
    "torch.save(model.state_dict(), 'rnn_50epochs.model')\n",
    "\n",
    "new_model = RNN(ibc_vocab_size, ibc_num_labels, 300)\n",
    "new_model.load_state_dict(torch.load('./rnn_50epochs.model'))\n",
    "\n",
    "num_predictions = 0\n",
    "num_correct = 0\n",
    "with torch.no_grad():\n",
    "    for bow_vec, target in ibc_test_data_rnn:\n",
    "        probs = new_model(bow_vec)\n",
    "        num_predictions += 1\n",
    "        if (torch.argmax(probs) == target):\n",
    "            num_correct += 1\n",
    "print(\"after training:\", num_correct/num_predictions*100)"
   ]
  }
 ],
 "metadata": {
  "kernelspec": {
   "display_name": "Python 3",
   "language": "python",
   "name": "python3"
  },
  "language_info": {
   "codemirror_mode": {
    "name": "ipython",
    "version": 3
   },
   "file_extension": ".py",
   "mimetype": "text/x-python",
   "name": "python",
   "nbconvert_exporter": "python",
   "pygments_lexer": "ipython3",
   "version": "3.6.10"
  }
 },
 "nbformat": 4,
 "nbformat_minor": 4
}
