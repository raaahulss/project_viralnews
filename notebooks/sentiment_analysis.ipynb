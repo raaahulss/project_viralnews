{
 "cells": [
  {
   "cell_type": "markdown",
   "metadata": {},
   "source": [
    "# 1. Dataset Loader"
   ]
  },
  {
   "cell_type": "code",
   "execution_count": 6,
   "metadata": {},
   "outputs": [
    {
     "name": "stdout",
     "output_type": "stream",
     "text": [
      "['i', 'me', 'my', 'myself', 'we', 'our', 'ours', 'ourselves', 'you', \"you're\", \"you've\", \"you'll\", \"you'd\", 'your', 'yours', 'yourself', 'yourselves', 'he', 'him', 'his', 'himself', 'she', \"she's\", 'her', 'hers', 'herself', 'it', \"it's\", 'its', 'itself', 'they', 'them', 'their', 'theirs', 'themselves', 'what', 'which', 'who', 'whom', 'this', 'that', \"that'll\", 'these', 'those', 'am', 'is', 'are', 'was', 'were', 'be', 'been', 'being', 'have', 'has', 'had', 'having', 'do', 'does', 'did', 'doing', 'a', 'an', 'the', 'and', 'but', 'if', 'or', 'because', 'as', 'until', 'while', 'of', 'at', 'by', 'for', 'with', 'about', 'against', 'between', 'into', 'through', 'during', 'before', 'after', 'above', 'below', 'to', 'from', 'up', 'down', 'in', 'out', 'on', 'off', 'over', 'under', 'again', 'further', 'then', 'once', 'here', 'there', 'when', 'where', 'why', 'how', 'all', 'any', 'both', 'each', 'few', 'more', 'most', 'other', 'some', 'such', 'no', 'nor', 'not', 'only', 'own', 'same', 'so', 'than', 'too', 'very', 's', 't', 'can', 'will', 'just', 'don', \"don't\", 'should', \"should've\", 'now', 'd', 'll', 'm', 'o', 're', 've', 'y', 'ain', 'aren', \"aren't\", 'couldn', \"couldn't\", 'didn', \"didn't\", 'doesn', \"doesn't\", 'hadn', \"hadn't\", 'hasn', \"hasn't\", 'haven', \"haven't\", 'isn', \"isn't\", 'ma', 'mightn', \"mightn't\", 'mustn', \"mustn't\", 'needn', \"needn't\", 'shan', \"shan't\", 'shouldn', \"shouldn't\", 'wasn', \"wasn't\", 'weren', \"weren't\", 'won', \"won't\", 'wouldn', \"wouldn't\"]\n"
     ]
    },
    {
     "name": "stderr",
     "output_type": "stream",
     "text": [
      "[nltk_data] Downloading package stopwords to /home/ubuntu/nltk_data...\n",
      "[nltk_data]   Package stopwords is already up-to-date!\n"
     ]
    }
   ],
   "source": [
    "data_path = '../../dataset/'\n",
    "\n",
    "import os\n",
    "import sys\n",
    "sys.path.insert(0, os.path.abspath('{}full_ibc'.format(data_path)))\n",
    "import pickle\n",
    "\n",
    "import numpy\n",
    "import torch\n",
    "import nltk\n",
    "from nltk.corpus import stopwords\n",
    "nltk.download('stopwords')\n",
    "print(stopwords.words('english'))"
   ]
  },
  {
   "cell_type": "markdown",
   "metadata": {},
   "source": [
    "## 1.1 IBC"
   ]
  },
  {
   "cell_type": "code",
   "execution_count": 7,
   "metadata": {},
   "outputs": [
    {
     "name": "stdout",
     "output_type": "stream",
     "text": [
      "data size: 3726\n",
      "dict size: 13533\n"
     ]
    }
   ],
   "source": [
    "[lib, con, neutral] = pickle.load(open('{}full_ibc/ibcData.pkl'.format(data_path), 'rb'))\n",
    "\n",
    "ibc_lib = [(tree.get_words().split(), \"LIBERAL\") for tree in lib]\n",
    "ibc_con = [(tree.get_words().split(), \"CONSERVATIVE\") for tree in con]\n",
    "# ibc_neutral = [(tree.get_words().split(), \"NEUTRAL\") for tree in neutral]\n",
    "\n",
    "ibc_full_data = ibc_lib + ibc_con\n",
    "ibc_full_size = len(ibc_full_data)\n",
    "\n",
    "ibc_train_size = int(ibc_full_size*0.9)\n",
    "ibc_test_size = ibc_full_size - ibc_train_size\n",
    "\n",
    "ibc_train_data, ibc_test_data = torch.utils.data.random_split(ibc_full_data, [ibc_train_size, ibc_test_size])\n",
    "\n",
    "ibc_label_to_id = {\"LIBERAL\": 0, \"CONSERVATIVE\": 1}\n",
    "ibc_word_to_id = {}\n",
    "for sent, _ in ibc_train_data:\n",
    "    for word in sent:\n",
    "        word_lower = word.lower()\n",
    "#         if word_lower not in ibc_word_to_id:\n",
    "        if word_lower not in ibc_word_to_id and word_lower not in stopwords.words('english'):\n",
    "            ibc_word_to_id[word_lower] = len(ibc_word_to_id)\n",
    "\n",
    "ibc_vocab_size = len(ibc_word_to_id)\n",
    "ibc_num_labels = 2\n",
    "\n",
    "print('data size:', len(ibc_full_data))\n",
    "print('dict size:', len(ibc_word_to_id))"
   ]
  },
  {
   "cell_type": "code",
   "execution_count": 16,
   "metadata": {},
   "outputs": [
    {
     "name": "stdout",
     "output_type": "stream",
     "text": [
      "data size: 3726\n",
      "dict size: 4664\n"
     ]
    }
   ],
   "source": [
    "[lib, con, neutral] = pickle.load(open('{}full_ibc/ibcData.pkl'.format(data_path), 'rb'))\n",
    "\n",
    "ibc_lib = [(tree.get_words().split(), \"LIBERAL\") for tree in lib]\n",
    "ibc_con = [(tree.get_words().split(), \"CONSERVATIVE\") for tree in con]\n",
    "# ibc_neutral = [(tree.get_words().split(), \"NEUTRAL\") for tree in neutral]\n",
    "\n",
    "ibc_full_data = ibc_lib + ibc_con\n",
    "ibc_full_size = len(ibc_full_data)\n",
    "\n",
    "ibc_train_size = int(ibc_full_size*0.9)\n",
    "ibc_test_size = ibc_full_size - ibc_train_size\n",
    "\n",
    "ibc_train_data, ibc_test_data = torch.utils.data.random_split(ibc_full_data, [ibc_train_size, ibc_test_size])\n",
    "\n",
    "ibc_label_to_id = {\"LIBERAL\": 0, \"CONSERVATIVE\": 1}\n",
    "ibc_word_count = {}\n",
    "for sent, _ in ibc_train_data:\n",
    "    for word in sent:\n",
    "        word_lower = word.lower()\n",
    "        if word_lower in stopwords.words('english'):\n",
    "            continue\n",
    "        if word_lower not in ibc_word_count:\n",
    "            ibc_word_count[word_lower] = 1\n",
    "        else:\n",
    "            ibc_word_count[word_lower] += 1\n",
    "\n",
    "ibc_word_to_id = {}\n",
    "for word, count in ibc_word_count.items():\n",
    "    if count > 2:\n",
    "        ibc_word_to_id[word] = len(ibc_word_to_id)\n",
    "\n",
    "ibc_vocab_size = len(ibc_word_to_id)\n",
    "ibc_num_labels = 2\n",
    "\n",
    "print('data size:', len(ibc_full_data))\n",
    "print('dict size:', len(ibc_word_to_id))"
   ]
  },
  {
   "cell_type": "markdown",
   "metadata": {},
   "source": [
    "## 1.2 Convote"
   ]
  },
  {
   "cell_type": "code",
   "execution_count": 2,
   "metadata": {},
   "outputs": [
    {
     "name": "stdout",
     "output_type": "stream",
     "text": [
      "65015\n"
     ]
    }
   ],
   "source": [
    "convote_train_lib = []\n",
    "convote_train_con = []\n",
    "convote_train_data = []\n",
    "\n",
    "for filename in os.listdir(\"../../dataset/sentiment_analysis/convote_v1.1/data_stage_one/training_set\"):\n",
    "    filename_split = filename.split(\"_\")\n",
    "    party = filename_split[-1][:1]\n",
    "    if party == 'D':\n",
    "        with open(\"{}convote_v1.1/data_stage_one/training_set/{}\".format(data_path, filename), \"r\") as f:\n",
    "            convote_train_lib += f.readlines()\n",
    "    if party == 'R':\n",
    "        with open(\"{}convote_v1.1/data_stage_one/training_set/{}\".format(data_path, filename), \"r\") as f:\n",
    "            convote_train_con += f.readlines()\n",
    "\n",
    "convote_train_lib = [(line.split(), \"LIBERAL\") for line in convote_train_lib]\n",
    "convote_train_con = [(line.split(), \"CONSERVATIVE\") for line in convote_train_con]\n",
    "convote_train_data = convote_train_lib + convote_train_con\n",
    "\n",
    "print(len(convote_train_data))"
   ]
  },
  {
   "cell_type": "code",
   "execution_count": 3,
   "metadata": {},
   "outputs": [
    {
     "name": "stdout",
     "output_type": "stream",
     "text": [
      "22098\n"
     ]
    }
   ],
   "source": [
    "convote_test_lib = []\n",
    "convote_test_con = []\n",
    "convote_test_data = []\n",
    "\n",
    "for filename in os.listdir(\"../../dataset/sentiment_analysis/convote_v1.1/data_stage_one/test_set\"):\n",
    "    filename_split = filename.split(\"_\")\n",
    "    party = filename_split[-1][:1]\n",
    "    if party == 'D':\n",
    "        with open(\"{}convote_v1.1/data_stage_one/test_set/{}\".format(data_path, filename), \"r\") as f:\n",
    "            convote_test_lib += f.readlines()\n",
    "    if party == 'R':\n",
    "        with open(\"{}convote_v1.1/data_stage_one/test_set/{}\".format(data_path, filename), \"r\") as f:\n",
    "            convote_test_con += f.readlines()\n",
    "\n",
    "convote_test_lib = [(line.split(), \"LIBERAL\") for line in convote_test_lib]\n",
    "convote_test_con = [(line.split(), \"CONSERVATIVE\") for line in convote_test_con]\n",
    "convote_test_data = convote_test_lib + convote_test_con\n",
    "\n",
    "print(len(convote_test_data))"
   ]
  },
  {
   "cell_type": "code",
   "execution_count": 4,
   "metadata": {},
   "outputs": [
    {
     "name": "stdout",
     "output_type": "stream",
     "text": [
      "26804\n"
     ]
    }
   ],
   "source": [
    "convote_label_to_id = {\"LIBERAL\": 0, \"CONSERVATIVE\": 1}\n",
    "convote_word_to_id = {}\n",
    "for sent, _ in convote_train_data:\n",
    "    for word in sent:\n",
    "        if word not in convote_word_to_id:\n",
    "            convote_word_to_id[word] = len(convote_word_to_id)\n",
    "print(len(convote_word_to_id))\n",
    "\n",
    "convote_vocab_size = len(convote_word_to_id)\n",
    "convote_num_labels = 2"
   ]
  },
  {
   "cell_type": "markdown",
   "metadata": {},
   "source": [
    "# 2 Models"
   ]
  },
  {
   "cell_type": "code",
   "execution_count": 8,
   "metadata": {},
   "outputs": [],
   "source": [
    "import torch\n",
    "import torch.nn as nn\n",
    "import torch.nn.functional as F\n",
    "import torch.optim as optim"
   ]
  },
  {
   "cell_type": "code",
   "execution_count": 9,
   "metadata": {},
   "outputs": [],
   "source": [
    "def make_bow_vec(sentence, word_to_id):\n",
    "    vec = torch.zeros(len(word_to_id), device=device)\n",
    "    for word in sentence:\n",
    "        word_lower = word.lower()\n",
    "        if word_lower in word_to_id.keys():\n",
    "            vec[word_to_id[word_lower]] += 1\n",
    "    return vec.view(1, -1)\n",
    "\n",
    "def make_word_index(sentence, word_to_id):\n",
    "    return torch.tensor([word_to_id[word.lower()] for word in sentence if word.lower() in word_to_id]).to(device)\n",
    "\n",
    "def make_target(label, label_to_id):\n",
    "    return torch.LongTensor([label_to_id[label]]).to(device)"
   ]
  },
  {
   "cell_type": "code",
   "execution_count": 10,
   "metadata": {},
   "outputs": [
    {
     "name": "stdout",
     "output_type": "stream",
     "text": [
      "cuda\n"
     ]
    }
   ],
   "source": [
    "device = torch.device(\"cuda\" if torch.cuda.is_available() else \"cpu\")\n",
    "print(device)"
   ]
  },
  {
   "cell_type": "markdown",
   "metadata": {},
   "source": [
    "## 2.1 Logistic Regression"
   ]
  },
  {
   "cell_type": "code",
   "execution_count": 11,
   "metadata": {},
   "outputs": [],
   "source": [
    "class BoWClassifier(nn.Module):\n",
    "    def __init__(self, vocab_size, num_labels):\n",
    "        super(BoWClassifier, self).__init__()\n",
    "        self.linear = nn.Linear(vocab_size, num_labels).to(device)\n",
    "        \n",
    "    def forward(self, bow_vec):\n",
    "        return F.log_softmax(self.linear(bow_vec), dim=-1)"
   ]
  },
  {
   "cell_type": "markdown",
   "metadata": {},
   "source": [
    "### 2.1.1 IBC Logistic Regression"
   ]
  },
  {
   "cell_type": "code",
   "execution_count": 18,
   "metadata": {},
   "outputs": [],
   "source": [
    "ibc_train_data_lr = [(make_bow_vec(sentence, ibc_word_to_id), make_target(label, ibc_label_to_id)) for sentence, label in ibc_train_data]\n",
    "ibc_test_data_lr = [(make_bow_vec(sentence, ibc_word_to_id), make_target(label, ibc_label_to_id)) for sentence, label in ibc_test_data]"
   ]
  },
  {
   "cell_type": "code",
   "execution_count": 19,
   "metadata": {},
   "outputs": [
    {
     "name": "stdout",
     "output_type": "stream",
     "text": [
      "before training: 54.15549597855228\n",
      "10\n",
      "20\n",
      "30\n",
      "40\n",
      "50\n",
      "60\n",
      "70\n",
      "80\n",
      "90\n",
      "100\n",
      "after training: 61.12600536193029\n"
     ]
    }
   ],
   "source": [
    "# first run\n",
    "model = BoWClassifier(ibc_vocab_size, ibc_num_labels)\n",
    "\n",
    "num_predictions = 0\n",
    "num_correct = 0\n",
    "with torch.no_grad():\n",
    "    for bow_vec, target in ibc_test_data_lr:\n",
    "        probs = model(bow_vec)\n",
    "        num_predictions += 1\n",
    "        if (torch.argmax(probs) == target):\n",
    "            num_correct += 1\n",
    "print(\"before training:\", num_correct/num_predictions*100)\n",
    "        \n",
    "loss_function = nn.NLLLoss()\n",
    "optimizer = optim.SGD(model.parameters(), lr=0.01)\n",
    "\n",
    "for epoch in range(100):\n",
    "    for bow_vec, target in ibc_train_data_lr:\n",
    "        model.zero_grad()\n",
    "        \n",
    "        probs = model(bow_vec)\n",
    "        \n",
    "        loss = loss_function(probs, target)\n",
    "        loss.backward()\n",
    "        optimizer.step()\n",
    "    if (epoch+1) % 10 == 0:\n",
    "        print(epoch+1)\n",
    "\n",
    "num_predictions = 0\n",
    "num_correct = 0\n",
    "with torch.no_grad():\n",
    "    for bow_vec, target in ibc_test_data_lr:\n",
    "        probs = model(bow_vec)\n",
    "        num_predictions += 1\n",
    "        if (torch.argmax(probs) == target):\n",
    "            num_correct += 1\n",
    "print(\"after training:\", num_correct/num_predictions*100)"
   ]
  },
  {
   "cell_type": "markdown",
   "metadata": {},
   "source": [
    "### 2.1.2 Convote Logistic Regression"
   ]
  },
  {
   "cell_type": "code",
   "execution_count": 7,
   "metadata": {},
   "outputs": [],
   "source": [
    "convote_train_data_lr = [(make_bow_vec(sentence, convote_word_to_id), make_target(label, convote_label_to_id)) for sentence, label in convote_train_data]\n",
    "convote_test_data_lr = [(make_bow_vec(sentence, convote_word_to_id), make_target(label, convote_label_to_id)) for sentence, label in convote_test_data]"
   ]
  },
  {
   "cell_type": "code",
   "execution_count": null,
   "metadata": {},
   "outputs": [],
   "source": [
    "# first run\n",
    "model = BoWClassifier(convote_vocab_size, convote_num_labels)\n",
    "\n",
    "print(\"before training\")\n",
    "num_predictions = 0\n",
    "num_correct = 0\n",
    "with torch.no_grad():\n",
    "    for bow_vec, target in convote_test_data_lr:\n",
    "        probs = model(bow_vec)\n",
    "        num_predictions += 1\n",
    "        if (torch.argmax(probs) == target):\n",
    "            num_correct += 1\n",
    "print(num_correct/num_predictions*100)\n",
    "        \n",
    "loss_function = nn.NLLLoss()\n",
    "optimizer = optim.SGD(model.parameters(), lr=0.1)\n",
    "\n",
    "for epoch in range(50):\n",
    "    for bow_vec, target in convote_train_data_lr:\n",
    "        model.zero_grad()\n",
    "        \n",
    "        probs = model(bow_vec)\n",
    "        \n",
    "        loss = loss_function(probs, target)\n",
    "        loss.backward()\n",
    "        optimizer.step()\n",
    "    print(epoch)\n",
    "\n",
    "print(\"after training\")\n",
    "num_predictions = 0\n",
    "num_correct = 0\n",
    "with torch.no_grad():\n",
    "    for bow_vec, target in convote_test_data_lr:\n",
    "        bow_vec = make_bow_vec(sentence, convote_word_to_id)\n",
    "        probs = model(bow_vec)\n",
    "        num_predictions += 1\n",
    "        if (torch.argmax(probs) == target):\n",
    "            num_correct += 1\n",
    "print(num_correct/num_predictions*100)"
   ]
  },
  {
   "cell_type": "markdown",
   "metadata": {},
   "source": [
    "## 2.2 RNN"
   ]
  },
  {
   "cell_type": "code",
   "execution_count": 22,
   "metadata": {},
   "outputs": [],
   "source": [
    "class RNN(nn.Module):\n",
    "    def __init__(self, vocab_size, label_size, hidden_size):\n",
    "        super(RNN, self).__init__()\n",
    "\n",
    "        self.embedding = nn.Embedding(vocab_size, hidden_size).to(device)\n",
    "        self.left = nn.Linear(hidden_size, hidden_size).to(device)\n",
    "        self.right = nn.Linear(hidden_size, hidden_size).to(device)\n",
    "        self.activation = nn.Tanh().to(device)\n",
    "        self.cat = nn.Linear(hidden_size, label_size).to(device)\n",
    "\n",
    "    def forward(self, sentence):\n",
    "        embedding = self.embedding(sentence)\n",
    "        hidden = embedding[0]\n",
    "        for i in range(1, len(embedding)):\n",
    "            hidden = self.activation(torch.add(self.left(hidden), self.right(embedding[i])))\n",
    "        return F.log_softmax(self.cat(hidden), dim=-1).view(1, -1)"
   ]
  },
  {
   "cell_type": "markdown",
   "metadata": {},
   "source": [
    "### 2.2.1 IBC RNN"
   ]
  },
  {
   "cell_type": "code",
   "execution_count": 20,
   "metadata": {},
   "outputs": [],
   "source": [
    "ibc_train_data_rnn = [(make_word_index(sentence, ibc_word_to_id), make_target(label, ibc_label_to_id)) for sentence, label in ibc_train_data]\n",
    "ibc_test_data_rnn = [(make_word_index(sentence, ibc_word_to_id), make_target(label, ibc_label_to_id)) for sentence, label in ibc_test_data]"
   ]
  },
  {
   "cell_type": "code",
   "execution_count": 30,
   "metadata": {},
   "outputs": [
    {
     "name": "stdout",
     "output_type": "stream",
     "text": [
      "before training: 57.9088471849866\n",
      "1 loss:  0.0001201629638671875\n",
      "2 loss:  9.202957153320312e-05\n",
      "3 loss:  7.390975952148438e-05\n",
      "4 loss:  6.151199340820312e-05\n",
      "5 loss:  5.245208740234375e-05\n",
      "6 loss:  4.57763671875e-05\n",
      "7 loss:  4.0531158447265625e-05\n",
      "8 loss:  3.6716461181640625e-05\n",
      "9 loss:  3.337860107421875e-05\n",
      "10 loss:  3.0994415283203125e-05\n",
      "11 loss:  2.86102294921875e-05\n",
      "12 loss:  2.7179718017578125e-05\n",
      "13 loss:  2.574920654296875e-05\n",
      "14 loss:  2.4318695068359375e-05\n",
      "15 loss:  2.288818359375e-05\n",
      "16 loss:  2.193450927734375e-05\n",
      "17 loss:  2.09808349609375e-05\n",
      "18 loss:  2.002716064453125e-05\n",
      "19 loss:  1.9550323486328125e-05\n",
      "20 loss:  1.8596649169921875e-05\n",
      "21 loss:  1.811981201171875e-05\n",
      "22 loss:  1.7642974853515625e-05\n",
      "23 loss:  1.6689300537109375e-05\n",
      "24 loss:  1.621246337890625e-05\n",
      "25 loss:  1.5735626220703125e-05\n",
      "26 loss:  1.52587890625e-05\n",
      "27 loss:  1.4781951904296875e-05\n",
      "28 loss:  1.430511474609375e-05\n",
      "29 loss:  1.3828277587890625e-05\n",
      "30 loss:  1.33514404296875e-05\n",
      "31 loss:  1.239776611328125e-05\n",
      "32 loss:  1.1444091796875e-05\n",
      "33 loss:  1.049041748046875e-05\n",
      "34 loss:  9.5367431640625e-06\n",
      "35 loss:  9.059906005859375e-06\n",
      "36 loss:  9.5367431640625e-06\n",
      "37 loss:  1.0013580322265625e-05\n",
      "38 loss:  1.0013580322265625e-05\n",
      "39 loss:  1.0013580322265625e-05\n",
      "40 loss:  1.0013580322265625e-05\n",
      "41 loss:  1.0013580322265625e-05\n",
      "42 loss:  1.049041748046875e-05\n",
      "43 loss:  1.049041748046875e-05\n",
      "44 loss:  1.049041748046875e-05\n",
      "45 loss:  1.049041748046875e-05\n",
      "46 loss:  1.0013580322265625e-05\n",
      "47 loss:  1.0013580322265625e-05\n",
      "48 loss:  9.5367431640625e-06\n",
      "49 loss:  9.5367431640625e-06\n",
      "50 loss:  9.5367431640625e-06\n",
      "after training: 57.10455764075068\n"
     ]
    }
   ],
   "source": [
    "model = RNN(ibc_vocab_size, ibc_num_labels, 300)\n",
    "model.load_state_dict(torch.load('./rnn_50epochs.model'))\n",
    "\n",
    "num_predictions = 0\n",
    "num_correct = 0\n",
    "with torch.no_grad():\n",
    "    for sentence, target in ibc_test_data_rnn:\n",
    "        probs = model(sentence)\n",
    "        num_predictions += 1\n",
    "        if (torch.argmax(probs) == target):\n",
    "            num_correct += 1\n",
    "print(\"before training:\", num_correct/num_predictions*100)\n",
    "        \n",
    "loss_function = nn.NLLLoss()\n",
    "optimizer = optim.Adam(model.parameters(), lr=0.00001)\n",
    "\n",
    "num_epochs = 50\n",
    "for epoch in range(num_epochs):\n",
    "    for bow_vec, target in ibc_train_data_rnn:\n",
    "        model.zero_grad()\n",
    "        \n",
    "        probs = model(bow_vec)\n",
    "        \n",
    "#         print(probs,target)\n",
    "        loss = loss_function(probs, target)\n",
    "        loss.backward()\n",
    "        optimizer.step()\n",
    "        \n",
    "    print(epoch+1, 'loss: ', loss.item())\n",
    "#     if (epoch+1) % 10 == 0:\n",
    "#         num_predictions = 0\n",
    "#         num_correct = 0\n",
    "#         with torch.no_grad():\n",
    "#             for bow_vec, target in ibc_test_data_rnn:\n",
    "#                 probs = model(bow_vec)\n",
    "#                 num_predictions += 1\n",
    "#                 if (torch.argmax(probs) == target):\n",
    "#                     num_correct += 1\n",
    "#         print(\"current accuracy:\", num_correct/num_predictions*100)\n",
    "\n",
    "num_predictions = 0\n",
    "num_correct = 0\n",
    "with torch.no_grad():\n",
    "    for bow_vec, target in ibc_test_data_rnn:\n",
    "        probs = model(bow_vec)\n",
    "        num_predictions += 1\n",
    "        if (torch.argmax(probs) == target):\n",
    "            num_correct += 1\n",
    "print(\"after training:\", num_correct/num_predictions*100)"
   ]
  },
  {
   "cell_type": "code",
   "execution_count": 28,
   "metadata": {},
   "outputs": [
    {
     "name": "stdout",
     "output_type": "stream",
     "text": [
      "after training: 57.9088471849866\n"
     ]
    }
   ],
   "source": [
    "torch.save(model.state_dict(), 'rnn_50epochs.model')\n",
    "\n",
    "new_model = RNN(ibc_vocab_size, ibc_num_labels, 300)\n",
    "new_model.load_state_dict(torch.load('./rnn_50epochs.model'))\n",
    "\n",
    "num_predictions = 0\n",
    "num_correct = 0\n",
    "with torch.no_grad():\n",
    "    for bow_vec, target in ibc_test_data_rnn:\n",
    "        probs = new_model(bow_vec)\n",
    "        num_predictions += 1\n",
    "        if (torch.argmax(probs) == target):\n",
    "            num_correct += 1\n",
    "print(\"after training:\", num_correct/num_predictions*100)"
   ]
  }
 ],
 "metadata": {
  "kernelspec": {
   "display_name": "Python 3",
   "language": "python",
   "name": "python3"
  },
  "language_info": {
   "codemirror_mode": {
    "name": "ipython",
    "version": 3
   },
   "file_extension": ".py",
   "mimetype": "text/x-python",
   "name": "python",
   "nbconvert_exporter": "python",
   "pygments_lexer": "ipython3",
   "version": "3.6.10"
  }
 },
 "nbformat": 4,
 "nbformat_minor": 4
}
