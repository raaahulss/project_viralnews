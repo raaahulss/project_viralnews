{
 "cells": [
  {
   "cell_type": "markdown",
   "metadata": {},
   "source": [
    "# 1. Dataset Loader"
   ]
  },
  {
   "cell_type": "code",
   "execution_count": 1,
   "metadata": {},
   "outputs": [
    {
     "name": "stdout",
     "output_type": "stream",
     "text": [
      "['i', 'me', 'my', 'myself', 'we', 'our', 'ours', 'ourselves', 'you', \"you're\", \"you've\", \"you'll\", \"you'd\", 'your', 'yours', 'yourself', 'yourselves', 'he', 'him', 'his', 'himself', 'she', \"she's\", 'her', 'hers', 'herself', 'it', \"it's\", 'its', 'itself', 'they', 'them', 'their', 'theirs', 'themselves', 'what', 'which', 'who', 'whom', 'this', 'that', \"that'll\", 'these', 'those', 'am', 'is', 'are', 'was', 'were', 'be', 'been', 'being', 'have', 'has', 'had', 'having', 'do', 'does', 'did', 'doing', 'a', 'an', 'the', 'and', 'but', 'if', 'or', 'because', 'as', 'until', 'while', 'of', 'at', 'by', 'for', 'with', 'about', 'against', 'between', 'into', 'through', 'during', 'before', 'after', 'above', 'below', 'to', 'from', 'up', 'down', 'in', 'out', 'on', 'off', 'over', 'under', 'again', 'further', 'then', 'once', 'here', 'there', 'when', 'where', 'why', 'how', 'all', 'any', 'both', 'each', 'few', 'more', 'most', 'other', 'some', 'such', 'no', 'nor', 'not', 'only', 'own', 'same', 'so', 'than', 'too', 'very', 's', 't', 'can', 'will', 'just', 'don', \"don't\", 'should', \"should've\", 'now', 'd', 'll', 'm', 'o', 're', 've', 'y', 'ain', 'aren', \"aren't\", 'couldn', \"couldn't\", 'didn', \"didn't\", 'doesn', \"doesn't\", 'hadn', \"hadn't\", 'hasn', \"hasn't\", 'haven', \"haven't\", 'isn', \"isn't\", 'ma', 'mightn', \"mightn't\", 'mustn', \"mustn't\", 'needn', \"needn't\", 'shan', \"shan't\", 'shouldn', \"shouldn't\", 'wasn', \"wasn't\", 'weren', \"weren't\", 'won', \"won't\", 'wouldn', \"wouldn't\"]\n"
     ]
    },
    {
     "name": "stderr",
     "output_type": "stream",
     "text": [
      "[nltk_data] Downloading package stopwords to /home/ubuntu/nltk_data...\n",
      "[nltk_data]   Package stopwords is already up-to-date!\n"
     ]
    }
   ],
   "source": [
    "data_path = '../../dataset/'\n",
    "\n",
    "import os\n",
    "import sys\n",
    "sys.path.insert(0, os.path.abspath('{}full_ibc'.format(data_path)))\n",
    "import pickle\n",
    "\n",
    "import numpy\n",
    "import torch\n",
    "import nltk\n",
    "from nltk.corpus import stopwords\n",
    "nltk.download('stopwords')\n",
    "print(stopwords.words('english'))"
   ]
  },
  {
   "cell_type": "markdown",
   "metadata": {},
   "source": [
    "## 1.1 IBC"
   ]
  },
  {
   "cell_type": "code",
   "execution_count": 40,
   "metadata": {},
   "outputs": [
    {
     "name": "stdout",
     "output_type": "stream",
     "text": [
      "data size: 3726\n",
      "dict size: 13589\n"
     ]
    }
   ],
   "source": [
    "# for lr model\n",
    "[lib, con, neutral] = pickle.load(open('{}full_ibc/ibcData.pkl'.format(data_path), 'rb'))\n",
    "\n",
    "ibc_lib = [(tree.get_words().split(), \"LIBERAL\") for tree in lib]\n",
    "ibc_con = [(tree.get_words().split(), \"CONSERVATIVE\") for tree in con]\n",
    "# ibc_neutral = [(tree.get_words().split(), \"NEUTRAL\") for tree in neutral]\n",
    "\n",
    "ibc_full_data = ibc_lib + ibc_con\n",
    "ibc_full_size = len(ibc_full_data)\n",
    "\n",
    "ibc_train_size = int(ibc_full_size*0.9)\n",
    "ibc_test_size = ibc_full_size - ibc_train_size\n",
    "\n",
    "ibc_train_data, ibc_test_data = torch.utils.data.random_split(ibc_full_data, [ibc_train_size, ibc_test_size])\n",
    "\n",
    "ibc_label_to_id = {\"LIBERAL\": 0, \"CONSERVATIVE\": 1}\n",
    "ibc_word_to_id = {}\n",
    "for sent, _ in ibc_train_data:\n",
    "    for word in sent:\n",
    "        word_lower = word.lower()\n",
    "#         if word_lower not in ibc_word_to_id:\n",
    "        if word_lower not in ibc_word_to_id and word_lower not in stopwords.words('english'):\n",
    "            ibc_word_to_id[word_lower] = len(ibc_word_to_id)\n",
    "\n",
    "ibc_vocab_size = len(ibc_word_to_id)\n",
    "ibc_num_labels = 2\n",
    "\n",
    "print('data size:', len(ibc_full_data))\n",
    "print('dict size:', len(ibc_word_to_id))"
   ]
  },
  {
   "cell_type": "code",
   "execution_count": 2,
   "metadata": {},
   "outputs": [
    {
     "name": "stdout",
     "output_type": "stream",
     "text": [
      "data size: 3726\n",
      "dict size: 6703\n"
     ]
    }
   ],
   "source": [
    "# for rnn model: remove infrequent words from dictionary\n",
    "[lib, con, neutral] = pickle.load(open('{}full_ibc/ibcData.pkl'.format(data_path), 'rb'))\n",
    "\n",
    "ibc_lib = [(tree.get_words().split(), \"LIBERAL\") for tree in lib]\n",
    "ibc_con = [(tree.get_words().split(), \"CONSERVATIVE\") for tree in con]\n",
    "# ibc_neutral = [(tree.get_words().split(), \"NEUTRAL\") for tree in neutral]\n",
    "\n",
    "ibc_full_data = ibc_lib + ibc_con\n",
    "ibc_full_size = len(ibc_full_data)\n",
    "\n",
    "ibc_train_size = int(ibc_full_size*0.9)\n",
    "ibc_test_size = ibc_full_size - ibc_train_size\n",
    "\n",
    "ibc_train_data, ibc_test_data = torch.utils.data.random_split(ibc_full_data, [ibc_train_size, ibc_test_size])\n",
    "\n",
    "ibc_label_to_id = {\"LIBERAL\": 0, \"CONSERVATIVE\": 1}\n",
    "ibc_word_count = {}\n",
    "for sent, _ in ibc_train_data:\n",
    "    for word in sent:\n",
    "        word_lower = word.lower()\n",
    "        if word_lower in stopwords.words('english'):\n",
    "            continue\n",
    "        if word_lower not in ibc_word_count:\n",
    "            ibc_word_count[word_lower] = 1\n",
    "        else:\n",
    "            ibc_word_count[word_lower] += 1\n",
    "\n",
    "ibc_word_to_id = {}\n",
    "for word, count in ibc_word_count.items():\n",
    "    if count > 1:\n",
    "        ibc_word_to_id[word] = len(ibc_word_to_id)\n",
    "\n",
    "ibc_vocab_size = len(ibc_word_to_id)\n",
    "ibc_num_labels = 2\n",
    "\n",
    "print('data size:', len(ibc_full_data))\n",
    "print('dict size:', len(ibc_word_to_id))"
   ]
  },
  {
   "cell_type": "markdown",
   "metadata": {},
   "source": [
    "## 1.2 Convote"
   ]
  },
  {
   "cell_type": "code",
   "execution_count": 2,
   "metadata": {},
   "outputs": [
    {
     "name": "stdout",
     "output_type": "stream",
     "text": [
      "65015\n"
     ]
    }
   ],
   "source": [
    "convote_train_lib = []\n",
    "convote_train_con = []\n",
    "convote_train_data = []\n",
    "\n",
    "for filename in os.listdir(\"../../dataset/sentiment_analysis/convote_v1.1/data_stage_one/training_set\"):\n",
    "    filename_split = filename.split(\"_\")\n",
    "    party = filename_split[-1][:1]\n",
    "    if party == 'D':\n",
    "        with open(\"{}convote_v1.1/data_stage_one/training_set/{}\".format(data_path, filename), \"r\") as f:\n",
    "            convote_train_lib += f.readlines()\n",
    "    if party == 'R':\n",
    "        with open(\"{}convote_v1.1/data_stage_one/training_set/{}\".format(data_path, filename), \"r\") as f:\n",
    "            convote_train_con += f.readlines()\n",
    "\n",
    "convote_train_lib = [(line.split(), \"LIBERAL\") for line in convote_train_lib]\n",
    "convote_train_con = [(line.split(), \"CONSERVATIVE\") for line in convote_train_con]\n",
    "convote_train_data = convote_train_lib + convote_train_con\n",
    "\n",
    "print(len(convote_train_data))"
   ]
  },
  {
   "cell_type": "code",
   "execution_count": 3,
   "metadata": {},
   "outputs": [
    {
     "name": "stdout",
     "output_type": "stream",
     "text": [
      "22098\n"
     ]
    }
   ],
   "source": [
    "convote_test_lib = []\n",
    "convote_test_con = []\n",
    "convote_test_data = []\n",
    "\n",
    "for filename in os.listdir(\"../../dataset/sentiment_analysis/convote_v1.1/data_stage_one/test_set\"):\n",
    "    filename_split = filename.split(\"_\")\n",
    "    party = filename_split[-1][:1]\n",
    "    if party == 'D':\n",
    "        with open(\"{}convote_v1.1/data_stage_one/test_set/{}\".format(data_path, filename), \"r\") as f:\n",
    "            convote_test_lib += f.readlines()\n",
    "    if party == 'R':\n",
    "        with open(\"{}convote_v1.1/data_stage_one/test_set/{}\".format(data_path, filename), \"r\") as f:\n",
    "            convote_test_con += f.readlines()\n",
    "\n",
    "convote_test_lib = [(line.split(), \"LIBERAL\") for line in convote_test_lib]\n",
    "convote_test_con = [(line.split(), \"CONSERVATIVE\") for line in convote_test_con]\n",
    "convote_test_data = convote_test_lib + convote_test_con\n",
    "\n",
    "print(len(convote_test_data))"
   ]
  },
  {
   "cell_type": "code",
   "execution_count": 4,
   "metadata": {},
   "outputs": [
    {
     "name": "stdout",
     "output_type": "stream",
     "text": [
      "26804\n"
     ]
    }
   ],
   "source": [
    "convote_label_to_id = {\"LIBERAL\": 0, \"CONSERVATIVE\": 1}\n",
    "convote_word_to_id = {}\n",
    "for sent, _ in convote_train_data:\n",
    "    for word in sent:\n",
    "        if word not in convote_word_to_id:\n",
    "            convote_word_to_id[word] = len(convote_word_to_id)\n",
    "print(len(convote_word_to_id))\n",
    "\n",
    "convote_vocab_size = len(convote_word_to_id)\n",
    "convote_num_labels = 2"
   ]
  },
  {
   "cell_type": "markdown",
   "metadata": {},
   "source": [
    "# 2 Models"
   ]
  },
  {
   "cell_type": "code",
   "execution_count": 3,
   "metadata": {},
   "outputs": [],
   "source": [
    "import torch\n",
    "import torch.nn as nn\n",
    "import torch.nn.functional as F\n",
    "import torch.optim as optim"
   ]
  },
  {
   "cell_type": "code",
   "execution_count": 4,
   "metadata": {},
   "outputs": [],
   "source": [
    "def make_bow_vec(sentence, word_to_id):\n",
    "    vec = torch.zeros(len(word_to_id), device=device)\n",
    "    for word in sentence:\n",
    "        word_lower = word.lower()\n",
    "        if word_lower in word_to_id.keys():\n",
    "            vec[word_to_id[word_lower]] += 1\n",
    "    return vec.view(1, -1)\n",
    "\n",
    "def make_word_index(sentence, word_to_id):\n",
    "    return torch.tensor([word_to_id[word.lower()] for word in sentence if word.lower() in word_to_id]).to(device)\n",
    "\n",
    "def make_target(label, label_to_id):\n",
    "    return torch.LongTensor([label_to_id[label]]).to(device)"
   ]
  },
  {
   "cell_type": "code",
   "execution_count": 5,
   "metadata": {},
   "outputs": [
    {
     "name": "stdout",
     "output_type": "stream",
     "text": [
      "cuda\n"
     ]
    }
   ],
   "source": [
    "device = torch.device(\"cuda\" if torch.cuda.is_available() else \"cpu\")\n",
    "print(device)"
   ]
  },
  {
   "cell_type": "markdown",
   "metadata": {},
   "source": [
    "## 2.1 Logistic Regression"
   ]
  },
  {
   "cell_type": "code",
   "execution_count": 17,
   "metadata": {},
   "outputs": [],
   "source": [
    "class BoWClassifier(nn.Module):\n",
    "    def __init__(self, vocab, output_size):\n",
    "        super(BoWClassifier, self).__init__()\n",
    "        self.vocab = vocab\n",
    "        self.input_size = len(vocab)\n",
    "        self.output_size = output_size\n",
    "        self.linear = nn.Linear(self.input_size, self.output_size).to(device)\n",
    "        \n",
    "    def forward(self, bow_vec):\n",
    "        return F.log_softmax(self.linear(bow_vec), dim=-1)"
   ]
  },
  {
   "cell_type": "markdown",
   "metadata": {},
   "source": [
    "### 2.1.1 IBC Logistic Regression"
   ]
  },
  {
   "cell_type": "code",
   "execution_count": 41,
   "metadata": {},
   "outputs": [],
   "source": [
    "ibc_train_data_lr = [(make_bow_vec(sentence, ibc_word_to_id), make_target(label, ibc_label_to_id)) for sentence, label in ibc_train_data]\n",
    "ibc_test_data_lr = [(make_bow_vec(sentence, ibc_word_to_id), make_target(label, ibc_label_to_id)) for sentence, label in ibc_test_data]"
   ]
  },
  {
   "cell_type": "code",
   "execution_count": 18,
   "metadata": {},
   "outputs": [
    {
     "name": "stdout",
     "output_type": "stream",
     "text": [
      "before training: 47.45308310991957\n",
      "10\n",
      "20\n",
      "30\n",
      "40\n",
      "50\n",
      "60\n",
      "70\n",
      "80\n",
      "90\n",
      "100\n",
      "after training: 62.466487935656836\n"
     ]
    }
   ],
   "source": [
    "# first run\n",
    "model = BoWClassifier(ibc_word_to_id, ibc_num_labels)\n",
    "\n",
    "num_predictions = 0\n",
    "num_correct = 0\n",
    "with torch.no_grad():\n",
    "    for bow_vec, target in ibc_test_data_lr:\n",
    "        probs = model(bow_vec)\n",
    "        num_predictions += 1\n",
    "        if (torch.argmax(probs) == target):\n",
    "            num_correct += 1\n",
    "print(\"before training:\", num_correct/num_predictions*100)\n",
    "        \n",
    "loss_function = nn.NLLLoss()\n",
    "optimizer = optim.SGD(model.parameters(), lr=0.01)\n",
    "\n",
    "for epoch in range(100):\n",
    "    for bow_vec, target in ibc_train_data_lr:\n",
    "        model.zero_grad()\n",
    "        \n",
    "        probs = model(bow_vec)\n",
    "        \n",
    "        loss = loss_function(probs, target)\n",
    "        loss.backward()\n",
    "        optimizer.step()\n",
    "    if (epoch+1) % 10 == 0:\n",
    "        print(epoch+1)\n",
    "\n",
    "num_predictions = 0\n",
    "num_correct = 0\n",
    "with torch.no_grad():\n",
    "    for bow_vec, target in ibc_test_data_lr:\n",
    "        probs = model(bow_vec)\n",
    "        num_predictions += 1\n",
    "        if (torch.argmax(probs) == target):\n",
    "            num_correct += 1\n",
    "print(\"after training:\", num_correct/num_predictions*100)"
   ]
  },
  {
   "cell_type": "markdown",
   "metadata": {},
   "source": [
    "### 2.1.2 Convote Logistic Regression"
   ]
  },
  {
   "cell_type": "code",
   "execution_count": 7,
   "metadata": {},
   "outputs": [],
   "source": [
    "convote_train_data_lr = [(make_bow_vec(sentence, convote_word_to_id), make_target(label, convote_label_to_id)) for sentence, label in convote_train_data]\n",
    "convote_test_data_lr = [(make_bow_vec(sentence, convote_word_to_id), make_target(label, convote_label_to_id)) for sentence, label in convote_test_data]"
   ]
  },
  {
   "cell_type": "code",
   "execution_count": null,
   "metadata": {},
   "outputs": [],
   "source": [
    "# first run\n",
    "model = BoWClassifier(convote_vocab_size, convote_num_labels)\n",
    "\n",
    "print(\"before training\")\n",
    "num_predictions = 0\n",
    "num_correct = 0\n",
    "with torch.no_grad():\n",
    "    for bow_vec, target in convote_test_data_lr:\n",
    "        probs = model(bow_vec)\n",
    "        num_predictions += 1\n",
    "        if (torch.argmax(probs) == target):\n",
    "            num_correct += 1\n",
    "print(num_correct/num_predictions*100)\n",
    "        \n",
    "loss_function = nn.NLLLoss()\n",
    "optimizer = optim.SGD(model.parameters(), lr=0.1)\n",
    "\n",
    "for epoch in range(50):\n",
    "    for bow_vec, target in convote_train_data_lr:\n",
    "        model.zero_grad()\n",
    "        \n",
    "        probs = model(bow_vec)\n",
    "        \n",
    "        loss = loss_function(probs, target)\n",
    "        loss.backward()\n",
    "        optimizer.step()\n",
    "    print(epoch)\n",
    "\n",
    "print(\"after training\")\n",
    "num_predictions = 0\n",
    "num_correct = 0\n",
    "with torch.no_grad():\n",
    "    for bow_vec, target in convote_test_data_lr:\n",
    "        bow_vec = make_bow_vec(sentence, convote_word_to_id)\n",
    "        probs = model(bow_vec)\n",
    "        num_predictions += 1\n",
    "        if (torch.argmax(probs) == target):\n",
    "            num_correct += 1\n",
    "print(num_correct/num_predictions*100)"
   ]
  },
  {
   "cell_type": "markdown",
   "metadata": {},
   "source": [
    "## 2.2 RNN"
   ]
  },
  {
   "cell_type": "code",
   "execution_count": 13,
   "metadata": {},
   "outputs": [],
   "source": [
    "class RNN(nn.Module):\n",
    "    def __init__(self, vocab, output_size, hidden_size):\n",
    "        super(RNN, self).__init__()\n",
    "\n",
    "        self.vocab = vocab\n",
    "        self.input_size = len(vocab)\n",
    "        self.output_size = output_size\n",
    "        self.hidden_size = hidden_size\n",
    "        \n",
    "        self.embedding = nn.Embedding(self.input_size, self.hidden_size).to(device)\n",
    "        self.left = nn.Linear(self.hidden_size, self.hidden_size).to(device)\n",
    "        self.right = nn.Linear(self.hidden_size, self.hidden_size).to(device)\n",
    "        self.cat = nn.Linear(self.hidden_size, self.output_size).to(device)\n",
    "\n",
    "    def forward(self, sentence):\n",
    "        embedding = self.embedding(sentence)\n",
    "        hidden = embedding[0]\n",
    "        for i in range(1, len(embedding)):\n",
    "            hidden = torch.tanh(torch.add(self.left(hidden), self.right(embedding[i])))\n",
    "        return F.log_softmax(self.cat(hidden), dim=-1).view(1, -1)"
   ]
  },
  {
   "cell_type": "code",
   "execution_count": 34,
   "metadata": {},
   "outputs": [],
   "source": [
    "class RNN_v2(nn.Module):\n",
    "    def __init__(self, vocab, output_size, hidden_size):\n",
    "        super(RNN_v2, self).__init__()\n",
    "\n",
    "        self.vocab = vocab\n",
    "        self.input_size = len(vocab)\n",
    "        self.output_size = output_size\n",
    "        self.hidden_size = hidden_size\n",
    "        \n",
    "        self.embedding = nn.Embedding(self.input_size, self.hidden_size).to(device)\n",
    "        self.rnn = nn.RNN(self.hidden_size, self.hidden_size).to(device)\n",
    "        self.cat = nn.Linear(self.hidden_size, self.output_size).to(device)\n",
    "\n",
    "    def forward(self, sentence):\n",
    "        embedding = self.embedding(sentence).unsqueeze(1)\n",
    "        output, hidden = self.rnn(embedding)\n",
    "        return F.log_softmax(self.cat(output.squeeze()[-1]), dim=-1).view(1, -1)"
   ]
  },
  {
   "cell_type": "markdown",
   "metadata": {},
   "source": [
    "### 2.2.1 IBC RNN"
   ]
  },
  {
   "cell_type": "code",
   "execution_count": 7,
   "metadata": {},
   "outputs": [],
   "source": [
    "ibc_train_data_rnn = [(make_word_index(sentence, ibc_word_to_id), make_target(label, ibc_label_to_id)) for sentence, label in ibc_train_data]\n",
    "ibc_test_data_rnn = [(make_word_index(sentence, ibc_word_to_id), make_target(label, ibc_label_to_id)) for sentence, label in ibc_test_data]"
   ]
  },
  {
   "cell_type": "code",
   "execution_count": null,
   "metadata": {},
   "outputs": [
    {
     "name": "stdout",
     "output_type": "stream",
     "text": [
      "before training: 45.30831099195711\n",
      "1 loss:  0.6993309678495944\n",
      "2 loss:  0.681825891203785\n",
      "3 loss:  0.6674864318320689\n",
      "4 loss:  0.6517173166492609\n",
      "5 loss:  0.6340842283406686\n",
      "6 loss:  0.6141510312410742\n",
      "7 loss:  0.5913248724308862\n",
      "8 loss:  0.5651421938063741\n",
      "9 loss:  0.5351681094844413\n",
      "10 loss:  0.500970046759505\n",
      "11 loss:  0.4621126713848384\n",
      "12 loss:  0.41805656113412676\n",
      "13 loss:  0.3672831288219174\n",
      "14 loss:  0.3070031576482993\n",
      "15 loss:  0.23716052867141085\n",
      "16 loss:  0.16734777971359996\n",
      "17 loss:  0.11998602070187654\n",
      "18 loss:  0.09595143225276218\n",
      "19 loss:  0.07922968082185507\n",
      "20 loss:  0.062402206998848395\n",
      "21 loss:  0.04764848356011587\n",
      "22 loss:  0.04267807802157085\n",
      "23 loss:  0.03736024664794371\n",
      "24 loss:  0.03468080694697488\n",
      "25 loss:  0.03129922556158965\n",
      "26 loss:  0.029065406326034552\n",
      "27 loss:  0.027046582644070366\n",
      "28 loss:  0.025430195889044903\n",
      "29 loss:  0.02404899109024949\n",
      "30 loss:  0.022866181373738404\n",
      "31 loss:  0.02183985489715294\n",
      "32 loss:  0.020943087088752425\n",
      "33 loss:  0.02015548587165375\n",
      "34 loss:  0.019460646991689916\n",
      "35 loss:  0.018844750526233675\n",
      "36 loss:  0.018295986382882344\n",
      "37 loss:  0.017804405261181093\n",
      "38 loss:  0.0173617057788916\n",
      "39 loss:  0.01696104515213914\n",
      "40 loss:  0.016596721440260354\n",
      "41 loss:  0.016263986625779468\n",
      "42 loss:  0.015958871266893795\n",
      "43 loss:  0.015678041369887277\n",
      "44 loss:  0.015418662638796503\n",
      "45 loss:  0.015178306837633692\n",
      "46 loss:  0.014954917801695725\n",
      "47 loss:  0.01474668678866192\n",
      "48 loss:  0.014552075970254654\n",
      "49 loss:  0.01436970175610277\n",
      "50 loss:  0.014198399909105082\n",
      "51 loss:  0.01403709404368277\n",
      "52 loss:  0.013884848368690507\n",
      "53 loss:  0.013740829539021698\n",
      "54 loss:  0.013604268640537528\n",
      "55 loss:  0.013474515452869892\n",
      "56 loss:  0.013350944616102724\n",
      "57 loss:  0.013232989655016004\n",
      "58 loss:  0.01312014444564799\n",
      "59 loss:  0.013011927662271192\n",
      "60 loss:  0.012907878822118461\n",
      "61 loss:  0.012807557912076228\n",
      "62 loss:  0.012710561405321822\n",
      "63 loss:  0.01261647190935321\n",
      "64 loss:  0.01252486236124582\n",
      "65 loss:  0.012435314461895504\n",
      "66 loss:  0.012347368848455368\n",
      "67 loss:  0.012260571402149558\n",
      "68 loss:  0.01217441600790459\n",
      "69 loss:  0.012088397510578624\n",
      "70 loss:  0.01200200888849606\n",
      "71 loss:  0.011914724543526248\n",
      "72 loss:  0.011826104933633187\n",
      "73 loss:  0.011735832765853977\n",
      "74 loss:  0.011643864949923503\n",
      "75 loss:  0.011550646431937418\n",
      "76 loss:  0.011457317095175452\n",
      "77 loss:  0.011365787434713044\n",
      "78 loss:  0.01127839071552255\n",
      "79 loss:  0.011197131639304816\n",
      "80 loss:  0.01112299176283534\n",
      "81 loss:  0.011055789383496592\n",
      "82 loss:  0.010994580817371919\n",
      "83 loss:  0.010938157226091493\n",
      "84 loss:  0.010885418376885633\n",
      "85 loss:  0.01083551929880888\n",
      "86 loss:  0.010787848115429535\n",
      "87 loss:  0.01074199565588237\n",
      "88 loss:  0.010697670438699925\n",
      "89 loss:  0.010654706600136874\n",
      "90 loss:  0.010612975260481137\n",
      "91 loss:  0.010572375573580066\n",
      "92 loss:  0.01053285097457244\n",
      "93 loss:  0.010494345698540082\n",
      "94 loss:  0.010456812815491278\n",
      "95 loss:  0.010420208755195087\n",
      "96 loss:  0.010384499244536353\n",
      "97 loss:  0.010349650294824106\n",
      "98 loss:  0.010315639454323677\n",
      "99 loss:  0.010282425605962783\n",
      "100 loss:  0.01024998379151856\n",
      "101 loss:  0.010218278760167687\n",
      "102 loss:  0.01018729799724571\n",
      "103 loss:  0.010157009167277277\n",
      "104 loss:  0.010127400644423534\n",
      "105 loss:  0.01009843241375594\n",
      "106 loss:  0.010070096262525951\n",
      "107 loss:  0.010042366219249513\n",
      "108 loss:  0.010015217627904468\n",
      "109 loss:  0.009988646790976316\n",
      "110 loss:  0.009962614955668872\n",
      "111 loss:  0.009937114086998707\n",
      "112 loss:  0.009912135918887736\n",
      "113 loss:  0.009887659119521544\n",
      "114 loss:  0.00986366856108841\n"
     ]
    }
   ],
   "source": [
    "model = RNN_v2(ibc_word_to_id, ibc_num_labels, 256)\n",
    "# model.load_state_dict(torch.load('./rnn_50epochs.model'))\n",
    "\n",
    "num_predictions = 0\n",
    "num_correct = 0\n",
    "with torch.no_grad():\n",
    "    for sentence, target in ibc_test_data_rnn:\n",
    "        probs = model(sentence)\n",
    "        num_predictions += 1\n",
    "        if (torch.argmax(probs) == target):\n",
    "            num_correct += 1\n",
    "print(\"before training:\", num_correct/num_predictions*100)\n",
    "        \n",
    "loss_function = nn.NLLLoss()\n",
    "optimizer = optim.SGD(model.parameters(), lr=0.001)\n",
    "\n",
    "num_epochs = 200\n",
    "for epoch in range(num_epochs):\n",
    "    iters = 0\n",
    "    iter_loss = 0\n",
    "    for bow_vec, target in ibc_train_data_rnn:\n",
    "        model.zero_grad()\n",
    "        \n",
    "        probs = model(bow_vec)\n",
    "\n",
    "        loss = loss_function(probs, target)\n",
    "        loss.backward()\n",
    "        optimizer.step()\n",
    "        \n",
    "        iter_loss += loss.item()\n",
    "        iters += 1\n",
    "        \n",
    "    print(epoch+1, 'loss: ', iter_loss / iters)\n",
    "#     if (epoch+1) % 10 == 0:\n",
    "#         num_predictions = 0\n",
    "#         num_correct = 0\n",
    "#         with torch.no_grad():\n",
    "#             for bow_vec, target in ibc_test_data_rnn:\n",
    "#                 probs = model(bow_vec)\n",
    "#                 num_predictions += 1\n",
    "#                 if (torch.argmax(probs) == target):\n",
    "#                     num_correct += 1\n",
    "#         print(\"current accuracy:\", num_correct/num_predictions*100)\n",
    "\n",
    "num_predictions = 0\n",
    "num_correct = 0\n",
    "with torch.no_grad():\n",
    "    for bow_vec, target in ibc_test_data_rnn:\n",
    "        probs = model(bow_vec)\n",
    "        num_predictions += 1\n",
    "        if (torch.argmax(probs) == target):\n",
    "            num_correct += 1\n",
    "print(\"after training:\", num_correct/num_predictions*100)"
   ]
  },
  {
   "cell_type": "code",
   "execution_count": 28,
   "metadata": {},
   "outputs": [
    {
     "name": "stdout",
     "output_type": "stream",
     "text": [
      "after training: 57.9088471849866\n"
     ]
    }
   ],
   "source": [
    "torch.save(model.state_dict(), 'rnn_50epochs.model')\n",
    "\n",
    "new_model = RNN(ibc_vocab_size, ibc_num_labels, 300)\n",
    "new_model.load_state_dict(torch.load('./rnn_50epochs.model'))\n",
    "\n",
    "num_predictions = 0\n",
    "num_correct = 0\n",
    "with torch.no_grad():\n",
    "    for bow_vec, target in ibc_test_data_rnn:\n",
    "        probs = new_model(bow_vec)\n",
    "        num_predictions += 1\n",
    "        if (torch.argmax(probs) == target):\n",
    "            num_correct += 1\n",
    "print(\"after training:\", num_correct/num_predictions*100)"
   ]
  }
 ],
 "metadata": {
  "kernelspec": {
   "display_name": "Python 3",
   "language": "python",
   "name": "python3"
  },
  "language_info": {
   "codemirror_mode": {
    "name": "ipython",
    "version": 3
   },
   "file_extension": ".py",
   "mimetype": "text/x-python",
   "name": "python",
   "nbconvert_exporter": "python",
   "pygments_lexer": "ipython3",
   "version": "3.6.10"
  }
 },
 "nbformat": 4,
 "nbformat_minor": 4
}
