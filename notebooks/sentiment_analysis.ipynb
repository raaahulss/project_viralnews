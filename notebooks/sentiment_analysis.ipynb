{
 "cells": [
  {
   "cell_type": "markdown",
   "metadata": {},
   "source": [
    "# 1. Dataset Loader"
   ]
  },
  {
   "cell_type": "code",
   "execution_count": 82,
   "metadata": {},
   "outputs": [],
   "source": [
    "data_path = '../../dataset/sentiment_analysis/'\n",
    "\n",
    "import os\n",
    "import sys\n",
    "sys.path.insert(0, os.path.abspath('{}full_ibc'.format(data_path)))\n",
    "import pickle\n",
    "\n",
    "import numpy\n",
    "import torch.utils.data as D"
   ]
  },
  {
   "cell_type": "markdown",
   "metadata": {},
   "source": [
    "## 1.1 IBC"
   ]
  },
  {
   "cell_type": "code",
   "execution_count": 121,
   "metadata": {},
   "outputs": [
    {
     "name": "stdout",
     "output_type": "stream",
     "text": [
      "4326 3460 866\n"
     ]
    }
   ],
   "source": [
    "[lib, con, neutral] = pickle.load(open('{}full_ibc/ibcData.pkl'.format(data_path), 'rb'))\n",
    "\n",
    "ibc_lib = [(tree.get_words().split(), \"LIBERAL\") for tree in lib]\n",
    "ibc_con = [(tree.get_words().split(), \"CONSERVATIVE\") for tree in con]\n",
    "ibc_neutral = [(tree.get_words().split(), \"NEUTRAL\") for tree in neutral]\n",
    "\n",
    "ibc_full_data = ibc_lib + ibc_con + ibc_neutral\n",
    "ibc_full_size = len(ibc_full_data)\n",
    "\n",
    "ibc_train_size = int(ibc_full_size*0.8)\n",
    "ibc_test_size = ibc_full_size - ibc_train_size\n",
    "\n",
    "ibc_train_data, ibc_test_data = D.random_split(ibc_full_data, [ibc_train_size, ibc_test_size])"
   ]
  },
  {
   "cell_type": "code",
   "execution_count": 123,
   "metadata": {},
   "outputs": [
    {
     "name": "stdout",
     "output_type": "stream",
     "text": [
      "15514\n"
     ]
    }
   ],
   "source": [
    "ibc_label_to_id = {\"LIBERAL\": 0, \"CONSERVATIVE\": 1, \"NEUTRAL\": 2}\n",
    "ibc_word_to_id = {}\n",
    "for sent, _ in ibc_train_data:\n",
    "    for word in sent:\n",
    "        if word not in ibc_word_to_id:\n",
    "            ibc_word_to_id[word] = len(ibc_word_to_id)\n",
    "print(len(ibc_word_to_id))\n",
    "\n",
    "ibc_vocab_size = len(ibc_word_to_id)\n",
    "ibc_num_labels = 3"
   ]
  },
  {
   "cell_type": "markdown",
   "metadata": {},
   "source": [
    "## 1.2 Convote"
   ]
  },
  {
   "cell_type": "code",
   "execution_count": 4,
   "metadata": {},
   "outputs": [
    {
     "name": "stdout",
     "output_type": "stream",
     "text": [
      "53 401 212 188 1\n"
     ]
    }
   ],
   "source": [
    "bills = {}\n",
    "speakers = {}\n",
    "parties = {'D': set(), 'R': set(), 'I': set()}\n",
    "d_sent = \"\"\n",
    "r_sent = \"\"\n",
    "sent_len = []\n",
    "d_sent_len = []\n",
    "r_sent_len = []\n",
    "\n",
    "for directory in os.listdir(\"{}convote_v1.1/data_stage_one/\".format(data_path)):\n",
    "    for filename in os.listdir(\"../../dataset/sentiment_analysis/convote_v1.1/data_stage_one/{}\".format(directory)):\n",
    "        filename_split = filename.split(\"_\")\n",
    "        bill = filename_split[0]\n",
    "        speaker = filename_split[1]\n",
    "        party = filename_split[-1][:1]\n",
    "        if party == 'D':\n",
    "            with open(\"{}convote_v1.1/data_stage_one/{}/{}\".format(data_path, directory, filename), \"r\") as f:\n",
    "                d_sent += f.read().replace(\"\\n\", \" \")\n",
    "        if party == 'R':\n",
    "            with open(\"{}convote_v1.1/data_stage_one/{}/{}\".format(data_path, directory, filename), \"r\") as f:\n",
    "                r_sent += f.read().replace(\"\\n\", \" \")\n",
    "        if bill in bills:\n",
    "            bills[bill] += 1\n",
    "        else:\n",
    "            bills[bill] = 1\n",
    "        if speaker in speakers:\n",
    "            speakers[speaker] += 1\n",
    "        else:\n",
    "            speakers[speaker] = 1\n",
    "        if speaker not in parties[party]:\n",
    "            parties[party].add(speaker)\n",
    "        with open(\"{}convote_v1.1/data_stage_one/{}/{}\".format(data_path, directory, filename), \"r\") as f:\n",
    "            for line in f.readlines():\n",
    "                length = len(line.split(' '))\n",
    "#                 if length > 100:\n",
    "#                     print(line)\n",
    "                sent_len.append(length)\n",
    "                if party == 'D':\n",
    "                    d_sent_len.append(length)\n",
    "                if party == 'R':\n",
    "                    r_sent_len.append(length)\n",
    "\n",
    "print(len(bills), len(speakers), len(parties['R']), len(parties['D']), len(parties['I']))\n",
    "\n",
    "# stopwords = set(STOPWORDS)\n",
    "# stopwords.add(\"mr speaker\")\n",
    "# stopwords.add(\"bill\")\n",
    "# stopwords.add(\"mr chairman\")\n",
    "# stopwords.add(\"will\")\n",
    "# stopwords.add(\"one\")\n",
    "# stopwords.add(\"need\")\n",
    "# wc = WordCloud(stopwords=stopwords)\n",
    "# r_wc = WordCloud(stopwords=stopwords).generate(r_sent)\n",
    "# d_wc = WordCloud(stopwords=stopwords).generate(d_sent)\n",
    "\n",
    "# print(r_wc.words_)\n",
    "# print(d_wc.words_)\n",
    "\n",
    "# print(len(sent_len))\n",
    "# print(len(r_sent_len))\n",
    "# print(len(d_sent_len))"
   ]
  },
  {
   "cell_type": "markdown",
   "metadata": {},
   "source": [
    "# 2 Models"
   ]
  },
  {
   "cell_type": "code",
   "execution_count": 10,
   "metadata": {},
   "outputs": [],
   "source": [
    "import torch\n",
    "import torch.nn as nn\n",
    "import torch.nn.functional as F\n",
    "import torch.optim as optim"
   ]
  },
  {
   "cell_type": "markdown",
   "metadata": {},
   "source": [
    "## 2.1 Logistic Regression"
   ]
  },
  {
   "cell_type": "code",
   "execution_count": 106,
   "metadata": {},
   "outputs": [
    {
     "name": "stdout",
     "output_type": "stream",
     "text": [
      "{'me': 0, 'gusta': 1, 'comer': 2, 'en': 3, 'la': 4, 'cafeteria': 5, 'Give': 6, 'it': 7, 'to': 8, 'No': 9, 'creo': 10, 'que': 11, 'sea': 12, 'una': 13, 'buena': 14, 'idea': 15, 'is': 16, 'not': 17, 'a': 18, 'good': 19, 'get': 20, 'lost': 21, 'at': 22, 'Yo': 23, 'si': 24, 'on': 25}\n"
     ]
    }
   ],
   "source": [
    "# load data\n",
    "train_data = [(\"me gusta comer en la cafeteria\".split(), \"SPANISH\"),\n",
    "        (\"Give it to me\".split(), \"ENGLISH\"),\n",
    "        (\"No creo que sea una buena idea\".split(), \"SPANISH\"),\n",
    "        (\"No it is not a good idea to get lost at sea\".split(), \"ENGLISH\")]\n",
    "\n",
    "test_data = [(\"Yo creo que si\".split(), \"SPANISH\"),\n",
    "             (\"it is lost on me\".split(), \"ENGLISH\")]\n",
    "\n",
    "label_to_id = {\"SPANISH\": 0, \"ENGLISH\": 1}\n",
    "word_to_id = {}\n",
    "for sent, _ in data + test_data:\n",
    "    for word in sent:\n",
    "        if word not in word_to_id:\n",
    "            word_to_id[word] = len(word_to_id)\n",
    "print(word_to_id)\n",
    "\n",
    "VOCAB_SIZE = len(word_to_id)\n",
    "NUM_LABELS = 2"
   ]
  },
  {
   "cell_type": "code",
   "execution_count": 99,
   "metadata": {},
   "outputs": [],
   "source": [
    "class BoWClassifier(nn.Module):\n",
    "    def __init__(self, vocab_size, num_labels):\n",
    "        super(BoWClassifier, self).__init__()\n",
    "        self.linear = nn.Linear(vocab_size, num_labels)\n",
    "        \n",
    "    def forward(self, bow_vec):\n",
    "        return F.log_softmax(self.linear(bow_vec), dim=-1)\n",
    "\n",
    "def make_bow_vec(sentence, word_to_id):\n",
    "    vec = torch.zeros(len(word_to_id))\n",
    "    for word in sentence:\n",
    "        if word in word_to_id.keys():\n",
    "            vec[word_to_id[word]] += 1\n",
    "    return vec.view(1, -1)\n",
    "\n",
    "def make_target(label, label_to_id):\n",
    "    return torch.LongTensor([label_to_id[label]])"
   ]
  },
  {
   "cell_type": "markdown",
   "metadata": {},
   "source": [
    "### 2.1.1 IBC Logistic Regression"
   ]
  },
  {
   "cell_type": "code",
   "execution_count": 131,
   "metadata": {},
   "outputs": [
    {
     "name": "stdout",
     "output_type": "stream",
     "text": [
      "before training\n",
      "29.330254041570434\n",
      "0\n",
      "1\n",
      "2\n",
      "3\n",
      "4\n",
      "5\n",
      "6\n",
      "7\n",
      "8\n",
      "9\n",
      "10\n",
      "11\n",
      "12\n",
      "13\n",
      "14\n",
      "15\n",
      "16\n",
      "17\n",
      "18\n",
      "19\n",
      "20\n",
      "21\n",
      "22\n",
      "23\n",
      "24\n",
      "25\n",
      "26\n",
      "27\n",
      "28\n",
      "29\n",
      "30\n",
      "31\n",
      "32\n",
      "33\n",
      "34\n",
      "35\n",
      "36\n",
      "37\n",
      "38\n",
      "39\n",
      "40\n",
      "41\n",
      "42\n",
      "43\n",
      "44\n",
      "45\n",
      "46\n",
      "47\n",
      "48\n",
      "49\n",
      "50\n",
      "51\n",
      "52\n",
      "53\n",
      "54\n",
      "55\n",
      "56\n",
      "57\n",
      "58\n",
      "59\n",
      "60\n",
      "61\n",
      "62\n",
      "63\n",
      "64\n",
      "65\n",
      "66\n",
      "67\n",
      "68\n",
      "69\n",
      "70\n",
      "71\n",
      "72\n",
      "73\n",
      "74\n",
      "75\n",
      "76\n",
      "77\n",
      "78\n",
      "79\n",
      "80\n",
      "81\n",
      "82\n",
      "83\n",
      "84\n",
      "85\n",
      "86\n",
      "87\n",
      "88\n",
      "89\n",
      "90\n",
      "91\n",
      "92\n",
      "93\n",
      "94\n",
      "95\n",
      "96\n",
      "97\n",
      "98\n",
      "99\n",
      "after training\n",
      "51.03926096997691\n"
     ]
    }
   ],
   "source": [
    "# first run\n",
    "model = BoWClassifier(ibc_vocab_size, ibc_num_labels)\n",
    "\n",
    "print(\"before training\")\n",
    "num_predictions = 0\n",
    "num_correct = 0\n",
    "with torch.no_grad():\n",
    "    for sentence, label in ibc_test_data:\n",
    "        bow_vec = make_bow_vec(sentence, ibc_word_to_id)\n",
    "        probs = model(bow_vec)\n",
    "        num_predictions += 1\n",
    "        if (torch.argmax(probs) == make_target(label, ibc_label_to_id)):\n",
    "            num_correct += 1\n",
    "#         print(probs, label, torch.argmax(probs))\n",
    "print(num_correct/num_predictions*100)\n",
    "        \n",
    "loss_function = nn.NLLLoss()\n",
    "optimizer = optim.SGD(model.parameters(), lr=0.1)\n",
    "\n",
    "for epoch in range(100):\n",
    "    for sentence, label in ibc_train_data:\n",
    "        model.zero_grad()\n",
    "        \n",
    "        bow_vec = make_bow_vec(sentence, ibc_word_to_id)\n",
    "        target = make_target(label, ibc_label_to_id)\n",
    "        \n",
    "        probs = model(bow_vec)\n",
    "        \n",
    "        loss = loss_function(probs, target)\n",
    "        loss.backward()\n",
    "        optimizer.step()\n",
    "    print(epoch)\n",
    "\n",
    "print(\"after training\")\n",
    "num_predictions = 0\n",
    "num_correct = 0\n",
    "with torch.no_grad():\n",
    "    for sentence, label in ibc_test_data:\n",
    "        bow_vec = make_bow_vec(sentence, ibc_word_to_id)\n",
    "        probs = model(bow_vec)\n",
    "        num_predictions += 1\n",
    "        if (torch.argmax(probs) == make_target(label, ibc_label_to_id)):\n",
    "            num_correct += 1\n",
    "#         print(probs, label, torch.argmax(probs))\n",
    "print(num_correct/num_predictions*100)"
   ]
  },
  {
   "cell_type": "markdown",
   "metadata": {},
   "source": [
    "### 2.1.2 Convote Logistic Regression"
   ]
  },
  {
   "cell_type": "code",
   "execution_count": null,
   "metadata": {},
   "outputs": [],
   "source": []
  },
  {
   "cell_type": "markdown",
   "metadata": {},
   "source": [
    "## 2.2 RNN"
   ]
  },
  {
   "cell_type": "code",
   "execution_count": null,
   "metadata": {},
   "outputs": [],
   "source": []
  }
 ],
 "metadata": {
  "kernelspec": {
   "display_name": "Python 3",
   "language": "python",
   "name": "python3"
  },
  "language_info": {
   "codemirror_mode": {
    "name": "ipython",
    "version": 3
   },
   "file_extension": ".py",
   "mimetype": "text/x-python",
   "name": "python",
   "nbconvert_exporter": "python",
   "pygments_lexer": "ipython3",
   "version": "3.7.7"
  }
 },
 "nbformat": 4,
 "nbformat_minor": 4
}
