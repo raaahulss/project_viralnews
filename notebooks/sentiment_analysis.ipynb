{
 "cells": [
  {
   "cell_type": "markdown",
   "metadata": {},
   "source": [
    "# 1. Dataset Loader"
   ]
  },
  {
   "cell_type": "code",
   "execution_count": 15,
   "metadata": {},
   "outputs": [],
   "source": [
    "data_path = '../../dataset/sentiment_analysis/'\n",
    "\n",
    "import os\n",
    "import sys\n",
    "sys.path.insert(0, os.path.abspath('{}full_ibc'.format(data_path)))\n",
    "import pickle\n",
    "\n",
    "import numpy"
   ]
  },
  {
   "cell_type": "markdown",
   "metadata": {},
   "source": [
    "## 1.1 IBC"
   ]
  },
  {
   "cell_type": "code",
   "execution_count": 3,
   "metadata": {},
   "outputs": [
    {
     "name": "stdout",
     "output_type": "stream",
     "text": [
      "data size: 3726\n",
      "dict size: 13955\n"
     ]
    }
   ],
   "source": [
    "[lib, con, neutral] = pickle.load(open('{}full_ibc/ibcData.pkl'.format(data_path), 'rb'))\n",
    "\n",
    "ibc_lib = [(tree.get_words().split(), \"LIBERAL\") for tree in lib]\n",
    "ibc_con = [(tree.get_words().split(), \"CONSERVATIVE\") for tree in con]\n",
    "# ibc_neutral = [(tree.get_words().split(), \"NEUTRAL\") for tree in neutral]\n",
    "\n",
    "ibc_full_data = ibc_lib + ibc_con\n",
    "ibc_full_size = len(ibc_full_data)\n",
    "\n",
    "ibc_train_size = int(ibc_full_size*0.8)\n",
    "ibc_test_size = ibc_full_size - ibc_train_size\n",
    "\n",
    "ibc_train_data, ibc_test_data = D.random_split(ibc_full_data, [ibc_train_size, ibc_test_size])\n",
    "\n",
    "ibc_label_to_id = {\"LIBERAL\": 0, \"CONSERVATIVE\": 1}\n",
    "ibc_word_to_id = {}\n",
    "for sent, _ in ibc_train_data:\n",
    "    for word in sent:\n",
    "        if word not in ibc_word_to_id:\n",
    "            ibc_word_to_id[word] = len(ibc_word_to_id)\n",
    "\n",
    "ibc_vocab_size = len(ibc_word_to_id)\n",
    "ibc_num_labels = 2\n",
    "\n",
    "print('data size:', len(ibc_full_data))\n",
    "print('dict size:', len(ibc_word_to_id))"
   ]
  },
  {
   "cell_type": "markdown",
   "metadata": {},
   "source": [
    "## 1.2 Convote"
   ]
  },
  {
   "cell_type": "code",
   "execution_count": 2,
   "metadata": {},
   "outputs": [
    {
     "name": "stdout",
     "output_type": "stream",
     "text": [
      "65015\n"
     ]
    }
   ],
   "source": [
    "convote_train_lib = []\n",
    "convote_train_con = []\n",
    "convote_train_data = []\n",
    "\n",
    "for filename in os.listdir(\"../../dataset/sentiment_analysis/convote_v1.1/data_stage_one/training_set\"):\n",
    "    filename_split = filename.split(\"_\")\n",
    "    party = filename_split[-1][:1]\n",
    "    if party == 'D':\n",
    "        with open(\"{}convote_v1.1/data_stage_one/training_set/{}\".format(data_path, filename), \"r\") as f:\n",
    "            convote_train_lib += f.readlines()\n",
    "    if party == 'R':\n",
    "        with open(\"{}convote_v1.1/data_stage_one/training_set/{}\".format(data_path, filename), \"r\") as f:\n",
    "            convote_train_con += f.readlines()\n",
    "\n",
    "convote_train_lib = [(line.split(), \"LIBERAL\") for line in convote_train_lib]\n",
    "convote_train_con = [(line.split(), \"CONSERVATIVE\") for line in convote_train_con]\n",
    "convote_train_data = convote_train_lib + convote_train_con\n",
    "\n",
    "print(len(convote_train_data))"
   ]
  },
  {
   "cell_type": "code",
   "execution_count": 3,
   "metadata": {},
   "outputs": [
    {
     "name": "stdout",
     "output_type": "stream",
     "text": [
      "22098\n"
     ]
    }
   ],
   "source": [
    "convote_test_lib = []\n",
    "convote_test_con = []\n",
    "convote_test_data = []\n",
    "\n",
    "for filename in os.listdir(\"../../dataset/sentiment_analysis/convote_v1.1/data_stage_one/test_set\"):\n",
    "    filename_split = filename.split(\"_\")\n",
    "    party = filename_split[-1][:1]\n",
    "    if party == 'D':\n",
    "        with open(\"{}convote_v1.1/data_stage_one/test_set/{}\".format(data_path, filename), \"r\") as f:\n",
    "            convote_test_lib += f.readlines()\n",
    "    if party == 'R':\n",
    "        with open(\"{}convote_v1.1/data_stage_one/test_set/{}\".format(data_path, filename), \"r\") as f:\n",
    "            convote_test_con += f.readlines()\n",
    "\n",
    "convote_test_lib = [(line.split(), \"LIBERAL\") for line in convote_test_lib]\n",
    "convote_test_con = [(line.split(), \"CONSERVATIVE\") for line in convote_test_con]\n",
    "convote_test_data = convote_test_lib + convote_test_con\n",
    "\n",
    "print(len(convote_test_data))"
   ]
  },
  {
   "cell_type": "code",
   "execution_count": 4,
   "metadata": {},
   "outputs": [
    {
     "name": "stdout",
     "output_type": "stream",
     "text": [
      "26804\n"
     ]
    }
   ],
   "source": [
    "convote_label_to_id = {\"LIBERAL\": 0, \"CONSERVATIVE\": 1}\n",
    "convote_word_to_id = {}\n",
    "for sent, _ in convote_train_data:\n",
    "    for word in sent:\n",
    "        if word not in convote_word_to_id:\n",
    "            convote_word_to_id[word] = len(convote_word_to_id)\n",
    "print(len(convote_word_to_id))\n",
    "\n",
    "convote_vocab_size = len(convote_word_to_id)\n",
    "convote_num_labels = 2"
   ]
  },
  {
   "cell_type": "markdown",
   "metadata": {},
   "source": [
    "# 2 Models"
   ]
  },
  {
   "cell_type": "code",
   "execution_count": 16,
   "metadata": {},
   "outputs": [],
   "source": [
    "import torch\n",
    "import torch.nn as nn\n",
    "import torch.nn.functional as F\n",
    "import torch.optim as optim"
   ]
  },
  {
   "cell_type": "code",
   "execution_count": 21,
   "metadata": {},
   "outputs": [],
   "source": [
    "def make_bow_vec(sentence, word_to_id):\n",
    "    vec = torch.zeros(len(word_to_id))\n",
    "    for word in sentence:\n",
    "        if word in word_to_id.keys():\n",
    "            vec[word_to_id[word]] += 1\n",
    "    return vec.view(1, -1)\n",
    "\n",
    "def make_target(label, label_to_id):\n",
    "    return torch.LongTensor([label_to_id[label]])"
   ]
  },
  {
   "cell_type": "markdown",
   "metadata": {},
   "source": [
    "## 2.1 Logistic Regression"
   ]
  },
  {
   "cell_type": "code",
   "execution_count": 42,
   "metadata": {},
   "outputs": [],
   "source": [
    "class BoWClassifier(nn.Module):\n",
    "    def __init__(self, vocab_size, num_labels):\n",
    "        super(BoWClassifier, self).__init__()\n",
    "        self.linear = nn.Linear(vocab_size, num_labels)\n",
    "        \n",
    "    def forward(self, bow_vec):\n",
    "        return F.log_softmax(self.linear(bow_vec), dim=-1)"
   ]
  },
  {
   "cell_type": "markdown",
   "metadata": {},
   "source": [
    "### 2.1.1 IBC Logistic Regression"
   ]
  },
  {
   "cell_type": "code",
   "execution_count": 20,
   "metadata": {},
   "outputs": [],
   "source": [
    "ibc_train_data_lr = [(make_bow_vec(sentence, ibc_word_to_id), make_target(label, ibc_label_to_id)) for sentence, label in ibc_train_data]\n",
    "ibc_test_data_lr = [(make_bow_vec(sentence, ibc_word_to_id), make_target(label, ibc_label_to_id)) for sentence, label in ibc_test_data]"
   ]
  },
  {
   "cell_type": "code",
   "execution_count": 30,
   "metadata": {},
   "outputs": [
    {
     "name": "stdout",
     "output_type": "stream",
     "text": [
      "before training: 52.54691689008043\n",
      "10\n",
      "20\n",
      "30\n",
      "40\n",
      "50\n",
      "60\n",
      "70\n",
      "80\n",
      "90\n",
      "100\n",
      "after training: 62.86863270777479\n"
     ]
    }
   ],
   "source": [
    "# first run\n",
    "model = BoWClassifier(ibc_vocab_size, ibc_num_labels)\n",
    "\n",
    "num_predictions = 0\n",
    "num_correct = 0\n",
    "with torch.no_grad():\n",
    "    for bow_vec, target in ibc_test_data_lr:\n",
    "        probs = model(bow_vec)\n",
    "        num_predictions += 1\n",
    "        if (torch.argmax(probs) == target):\n",
    "            num_correct += 1\n",
    "print(\"before training:\", num_correct/num_predictions*100)\n",
    "        \n",
    "loss_function = nn.NLLLoss()\n",
    "optimizer = optim.SGD(model.parameters(), lr=0.01)\n",
    "\n",
    "for epoch in range(100):\n",
    "    for bow_vec, target in ibc_train_data_lr:\n",
    "        model.zero_grad()\n",
    "        \n",
    "        probs = model(bow_vec)\n",
    "        \n",
    "        loss = loss_function(probs, target)\n",
    "        loss.backward()\n",
    "        optimizer.step()\n",
    "    if (epoch+1) % 10 == 0:\n",
    "        print(epoch+1)\n",
    "\n",
    "num_predictions = 0\n",
    "num_correct = 0\n",
    "with torch.no_grad():\n",
    "    for bow_vec, target in ibc_test_data_lr:\n",
    "        probs = model(bow_vec)\n",
    "        num_predictions += 1\n",
    "        if (torch.argmax(probs) == target):\n",
    "            num_correct += 1\n",
    "print(\"after training:\", num_correct/num_predictions*100)"
   ]
  },
  {
   "cell_type": "markdown",
   "metadata": {},
   "source": [
    "### 2.1.2 Convote Logistic Regression"
   ]
  },
  {
   "cell_type": "code",
   "execution_count": 7,
   "metadata": {},
   "outputs": [],
   "source": [
    "convote_train_data_lr = [(make_bow_vec(sentence, convote_word_to_id), make_target(label, convote_label_to_id)) for sentence, label in convote_train_data]\n",
    "convote_test_data_lr = [(make_bow_vec(sentence, convote_word_to_id), make_target(label, convote_label_to_id)) for sentence, label in convote_test_data]"
   ]
  },
  {
   "cell_type": "code",
   "execution_count": null,
   "metadata": {},
   "outputs": [],
   "source": [
    "# first run\n",
    "model = BoWClassifier(convote_vocab_size, convote_num_labels)\n",
    "\n",
    "print(\"before training\")\n",
    "num_predictions = 0\n",
    "num_correct = 0\n",
    "with torch.no_grad():\n",
    "    for bow_vec, target in convote_test_data_lr:\n",
    "        probs = model(bow_vec)\n",
    "        num_predictions += 1\n",
    "        if (torch.argmax(probs) == target):\n",
    "            num_correct += 1\n",
    "print(num_correct/num_predictions*100)\n",
    "        \n",
    "loss_function = nn.NLLLoss()\n",
    "optimizer = optim.SGD(model.parameters(), lr=0.1)\n",
    "\n",
    "for epoch in range(50):\n",
    "    for bow_vec, target in convote_train_data_lr:\n",
    "        model.zero_grad()\n",
    "        \n",
    "        probs = model(bow_vec)\n",
    "        \n",
    "        loss = loss_function(probs, target)\n",
    "        loss.backward()\n",
    "        optimizer.step()\n",
    "    print(epoch)\n",
    "\n",
    "print(\"after training\")\n",
    "num_predictions = 0\n",
    "num_correct = 0\n",
    "with torch.no_grad():\n",
    "    for bow_vec, target in convote_test_data_lr:\n",
    "        bow_vec = make_bow_vec(sentence, convote_word_to_id)\n",
    "        probs = model(bow_vec)\n",
    "        num_predictions += 1\n",
    "        if (torch.argmax(probs) == target):\n",
    "            num_correct += 1\n",
    "print(num_correct/num_predictions*100)"
   ]
  },
  {
   "cell_type": "markdown",
   "metadata": {},
   "source": [
    "## 2.2 RNN"
   ]
  },
  {
   "cell_type": "code",
   "execution_count": 50,
   "metadata": {},
   "outputs": [],
   "source": [
    "class RNN(nn.Module):\n",
    "    def __init__(self, vocab_size, label_size, hidden_size):\n",
    "        super(RNN, self).__init__()\n",
    "\n",
    "        self.embedding = nn.Embedding(vocab_size, hidden_size)\n",
    "        self.left = nn.Linear(hidden_size, hidden_size)\n",
    "        self.right = nn.Linear(hidden_size, hidden_size)\n",
    "        self.linear = nn.Linear(hidden_size, label_size)\n",
    "\n",
    "    def forward(self, sentence):\n",
    "        embedding = self.embedding(sentence)\n",
    "        encoding = embedding[0]\n",
    "        for i in range(1, len(embedding)):\n",
    "            encoding = torch.add(self.left(encoding), self.right(embedding[i]))\n",
    "        return F.log_softmax(self.linear(encoding), dim=-1).view(1, -1)"
   ]
  },
  {
   "cell_type": "markdown",
   "metadata": {},
   "source": [
    "### 2.2.1 IBC RNN"
   ]
  },
  {
   "cell_type": "code",
   "execution_count": 48,
   "metadata": {},
   "outputs": [],
   "source": [
    "ibc_train_data_rnn = [(torch.tensor([ibc_word_to_id[word] for word in sentence if word in ibc_word_to_id]), make_target(label, ibc_label_to_id)) for sentence, label in ibc_train_data]\n",
    "ibc_test_data_rnn = [(torch.tensor([ibc_word_to_id[word] for word in sentence if word in ibc_word_to_id]), make_target(label, ibc_label_to_id)) for sentence, label in ibc_test_data]"
   ]
  },
  {
   "cell_type": "code",
   "execution_count": null,
   "metadata": {},
   "outputs": [],
   "source": [
    "model = RNN(ibc_vocab_size, ibc_num_labels, 128)\n",
    "\n",
    "num_predictions = 0\n",
    "num_correct = 0\n",
    "with torch.no_grad():\n",
    "    for sentence, target in ibc_test_data_rnn:\n",
    "        probs = model(sentence)\n",
    "        num_predictions += 1\n",
    "        if (torch.argmax(probs) == target):\n",
    "            num_correct += 1\n",
    "print(\"before training:\", num_correct/num_predictions*100)\n",
    "        \n",
    "loss_function = nn.NLLLoss()\n",
    "optimizer = optim.SGD(model.parameters(), lr=0.01)\n",
    "\n",
    "for epoch in range(50):\n",
    "    for bow_vec, target in ibc_train_data_rnn:\n",
    "        model.zero_grad()\n",
    "        \n",
    "        probs = model(bow_vec)\n",
    "        \n",
    "#         print(probs,target)\n",
    "        loss = loss_function(probs, target)\n",
    "        loss.backward()\n",
    "        optimizer.step()\n",
    "    if (epoch+1) % 10 == 0:\n",
    "        print(epoch+1)\n",
    "\n",
    "num_predictions = 0\n",
    "num_correct = 0\n",
    "with torch.no_grad():\n",
    "    for bow_vec, target in ibc_test_data_rnn:\n",
    "        probs = model(bow_vec)\n",
    "        num_predictions += 1\n",
    "        if (torch.argmax(probs) == target):\n",
    "            num_correct += 1\n",
    "print(\"after training:\", num_correct/num_predictions*100)"
   ]
  }
 ],
 "metadata": {
  "kernelspec": {
   "display_name": "Python 3",
   "language": "python",
   "name": "python3"
  },
  "language_info": {
   "codemirror_mode": {
    "name": "ipython",
    "version": 3
   },
   "file_extension": ".py",
   "mimetype": "text/x-python",
   "name": "python",
   "nbconvert_exporter": "python",
   "pygments_lexer": "ipython3",
   "version": "3.7.6"
  }
 },
 "nbformat": 4,
 "nbformat_minor": 4
}
