{
 "cells": [
  {
   "cell_type": "code",
   "execution_count": 1,
   "metadata": {},
   "outputs": [],
   "source": [
    "import tweepy"
   ]
  },
  {
   "cell_type": "markdown",
   "metadata": {},
   "source": [
    "### Given valid consumer key and secret the authentication is performed successfully "
   ]
  },
  {
   "cell_type": "code",
   "execution_count": 5,
   "metadata": {},
   "outputs": [
    {
     "name": "stdout",
     "output_type": "stream",
     "text": [
      "https://api.twitter.com/oauth/authorize?oauth_token=paAfdQAAAAABDRhgAAABcoiAqFY\n"
     ]
    }
   ],
   "source": [
    "consumer_key='58wlGpzEOwum6nghvA8tj6nz6'\n",
    "consumer_secret='b04KqyzRyquIiYGwqv9B12hRqjEj9tvOp53DtoFZJtetaZ7cZE'\n",
    "\n",
    "auth = tweepy.OAuthHandler(consumer_key, consumer_secret)\n",
    "print(auth.get_authorization_url())"
   ]
  },
  {
   "cell_type": "markdown",
   "metadata": {},
   "source": [
    "### Given invalid or empty or None consumer key and/or secret the authentication is fails"
   ]
  },
  {
   "cell_type": "code",
   "execution_count": 25,
   "metadata": {},
   "outputs": [
    {
     "name": "stdout",
     "output_type": "stream",
     "text": [
      "Error occured Token request failed with code 400, response was '{\"errors\":[{\"code\":215,\"message\":\"Bad Authentication data.\"}]}'.\n",
      "Error occured Token request failed with code 401, response was '{\"errors\":[{\"code\":32,\"message\":\"Could not authenticate you.\"}]}'.\n",
      "Error occured Token request failed with code 400, response was '{\"errors\":[{\"code\":215,\"message\":\"Bad Authentication data.\"}]}'.\n"
     ]
    }
   ],
   "source": [
    "consumer_key=''\n",
    "consumer_secret=''\n",
    "\n",
    "auth = tweepy.OAuthHandler(consumer_key, consumer_secret)\n",
    "try:\n",
    "    print(auth.get_authorization_url())\n",
    "except tweepy.TweepError as e:\n",
    "    print(\"Error occured\",str(e))\n",
    "    auth = None\n",
    "    \n",
    "consumer_key='a'\n",
    "consumer_secret='b'\n",
    "\n",
    "auth = tweepy.OAuthHandler(consumer_key, consumer_secret)\n",
    "try:\n",
    "    print(auth.get_authorization_url())\n",
    "except tweepy.TweepError as e:\n",
    "    print(\"Error occured\",str(e))\n",
    "    auth = None\n",
    "\n",
    "consumer_key=''\n",
    "consumer_secret=None\n",
    "\n",
    "auth = tweepy.OAuthHandler(consumer_key, consumer_secret)\n",
    "try:\n",
    "    print(auth.get_authorization_url())\n",
    "except tweepy.TweepError as e:\n",
    "    print(\"Error occured\",str(e))\n",
    "    auth = None"
   ]
  },
  {
   "cell_type": "markdown",
   "metadata": {},
   "source": [
    "### Given autheticated handler and valid access tokens and valid twitter id, the system returns an appropriate twitter object"
   ]
  },
  {
   "cell_type": "code",
   "execution_count": 19,
   "metadata": {},
   "outputs": [
    {
     "name": "stdout",
     "output_type": "stream",
     "text": [
      "https://api.twitter.com/oauth/authorize?oauth_token=5fh0CwAAAAABDRhgAAABcoiWZK4\n"
     ]
    },
    {
     "data": {
      "text/plain": [
       "1267366725588185091"
      ]
     },
     "execution_count": 19,
     "metadata": {},
     "output_type": "execute_result"
    }
   ],
   "source": [
    "consumer_key='58wlGpzEOwum6nghvA8tj6nz6'\n",
    "consumer_secret='b04KqyzRyquIiYGwqv9B12hRqjEj9tvOp53DtoFZJtetaZ7cZE'\n",
    "access_token_key='1243275961824612358-65qxIlXTEhjw0jlbBaK4I0olH9nRP9'\n",
    "access_token_secret='wYdkYaNCakb7sX5PnHjF1u0oJc7Y73iijqbJ4VeB4yyEd'\n",
    "auth = tweepy.OAuthHandler(consumer_key, consumer_secret)\n",
    "print(auth.get_authorization_url())\n",
    "auth.set_access_token(access_token_key, access_token_secret)\n",
    "\n",
    "api = tweepy.API(auth)\n",
    "api.get_status(1267366725588185091, tweet_mode=\"extended\").id"
   ]
  },
  {
   "cell_type": "markdown",
   "metadata": {},
   "source": [
    "### Given autheticated handler and valid access tokens and invalid twitter id, the system returns an appropriate twitter object"
   ]
  },
  {
   "cell_type": "code",
   "execution_count": 47,
   "metadata": {},
   "outputs": [
    {
     "name": "stdout",
     "output_type": "stream",
     "text": [
      "https://api.twitter.com/oauth/authorize?oauth_token=jYNR4QAAAAABDRhgAAABcoij4aw\n",
      "error occured [{'code': 8, 'message': 'No data available for specified ID.'}]\n"
     ]
    }
   ],
   "source": [
    "consumer_key='58wlGpzEOwum6nghvA8tj6nz6'\n",
    "consumer_secret='b04KqyzRyquIiYGwqv9B12hRqjEj9tvOp53DtoFZJtetaZ7cZE'\n",
    "access_token_key='1243275961824612358-65qxIlXTEhjw0jlbBaK4I0olH9nRP9'\n",
    "access_token_secret='wYdkYaNCakb7sX5PnHjF1u0oJc7Y73iijqbJ4VeB4yyEd'\n",
    "auth = tweepy.OAuthHandler(consumer_key, consumer_secret)\n",
    "print(auth.get_authorization_url())\n",
    "auth.set_access_token(access_token_key, access_token_secret)\n",
    "\n",
    "api = tweepy.API(auth)\n",
    "try:\n",
    "    api.get_status(12673667255881851212121091, tweet_mode=\"extended\").id\n",
    "except tweepy.TweepError as e:\n",
    "    print(\"error occured\",str(e))"
   ]
  },
  {
   "cell_type": "markdown",
   "metadata": {},
   "source": [
    "### Given autheticated handler and invalid or empy access tokens, the system returns an error while quering for status"
   ]
  },
  {
   "cell_type": "code",
   "execution_count": 55,
   "metadata": {},
   "outputs": [
    {
     "name": "stdout",
     "output_type": "stream",
     "text": [
      "https://api.twitter.com/oauth/authorize?oauth_token=ecw2pgAAAAABDRhgAAABcoi00Wk\n",
      "Status(_api=<tweepy.api.API object at 0x000001E4CD5F7B48>, _json={'created_at': 'Mon Jun 01 08:05:48 +0000 2020', 'id': 1267366725588185091, 'id_str': '1267366725588185091', 'full_text': 'Love you New York Times but under article ‘Trump heard not seen’ you say this:’Moreover, American law applies terrorist designations to foreign entities, not domestic groups.’ REVISIT THE PATRIOT act guidelines misdemeanors grant Civilians terrorist status https://t.co/lXeey61u6A', 'truncated': False, 'display_text_range': [0, 280], 'entities': {'hashtags': [], 'symbols': [], 'user_mentions': [], 'urls': [{'url': 'https://t.co/lXeey61u6A', 'expanded_url': 'https://www.nytimes.com/2020/05/31/us/george-floyd-protests-live-updates.html', 'display_url': 'nytimes.com/2020/05/31/us/…', 'indices': [257, 280]}]}, 'source': '<a href=\"http://twitter.com/download/iphone\" rel=\"nofollow\">Twitter for iPhone</a>', 'in_reply_to_status_id': None, 'in_reply_to_status_id_str': None, 'in_reply_to_user_id': None, 'in_reply_to_user_id_str': None, 'in_reply_to_screen_name': None, 'user': {'id': 51219631, 'id_str': '51219631', 'name': 'Michelle Rodriguez', 'screen_name': 'MRodOfficial', 'location': 'Earth', 'description': 'Student Of Life... ❤️ Goes out to 🇵🇷', 'url': 'https://t.co/d7oMGfmtyP', 'entities': {'url': {'urls': [{'url': 'https://t.co/d7oMGfmtyP', 'expanded_url': 'http://michellerodriguez.com', 'display_url': 'michellerodriguez.com', 'indices': [0, 23]}]}, 'description': {'urls': []}}, 'protected': False, 'followers_count': 1005308, 'friends_count': 154, 'listed_count': 4103, 'created_at': 'Fri Jun 26 20:49:43 +0000 2009', 'favourites_count': 61, 'utc_offset': None, 'time_zone': None, 'geo_enabled': True, 'verified': True, 'statuses_count': 5895, 'lang': None, 'contributors_enabled': False, 'is_translator': False, 'is_translation_enabled': False, 'profile_background_color': '131516', 'profile_background_image_url': 'http://abs.twimg.com/images/themes/theme14/bg.gif', 'profile_background_image_url_https': 'https://abs.twimg.com/images/themes/theme14/bg.gif', 'profile_background_tile': True, 'profile_image_url': 'http://pbs.twimg.com/profile_images/683089216268537857/IjLglLlk_normal.jpg', 'profile_image_url_https': 'https://pbs.twimg.com/profile_images/683089216268537857/IjLglLlk_normal.jpg', 'profile_banner_url': 'https://pbs.twimg.com/profile_banners/51219631/1417426662', 'profile_link_color': '800099', 'profile_sidebar_border_color': 'FFFFFF', 'profile_sidebar_fill_color': 'EFEFEF', 'profile_text_color': '333333', 'profile_use_background_image': True, 'has_extended_profile': False, 'default_profile': False, 'default_profile_image': False, 'following': None, 'follow_request_sent': None, 'notifications': None, 'translator_type': 'none'}, 'geo': None, 'coordinates': None, 'place': None, 'contributors': None, 'is_quote_status': False, 'retweet_count': 36, 'favorite_count': 178, 'favorited': False, 'retweeted': False, 'possibly_sensitive': False, 'possibly_sensitive_appealable': False, 'lang': 'en'}, created_at=datetime.datetime(2020, 6, 1, 8, 5, 48), id=1267366725588185091, id_str='1267366725588185091', full_text='Love you New York Times but under article ‘Trump heard not seen’ you say this:’Moreover, American law applies terrorist designations to foreign entities, not domestic groups.’ REVISIT THE PATRIOT act guidelines misdemeanors grant Civilians terrorist status https://t.co/lXeey61u6A', truncated=False, display_text_range=[0, 280], entities={'hashtags': [], 'symbols': [], 'user_mentions': [], 'urls': [{'url': 'https://t.co/lXeey61u6A', 'expanded_url': 'https://www.nytimes.com/2020/05/31/us/george-floyd-protests-live-updates.html', 'display_url': 'nytimes.com/2020/05/31/us/…', 'indices': [257, 280]}]}, source='Twitter for iPhone', source_url='http://twitter.com/download/iphone', in_reply_to_status_id=None, in_reply_to_status_id_str=None, in_reply_to_user_id=None, in_reply_to_user_id_str=None, in_reply_to_screen_name=None, author=User(_api=<tweepy.api.API object at 0x000001E4CD5F7B48>, _json={'id': 51219631, 'id_str': '51219631', 'name': 'Michelle Rodriguez', 'screen_name': 'MRodOfficial', 'location': 'Earth', 'description': 'Student Of Life... ❤️ Goes out to 🇵🇷', 'url': 'https://t.co/d7oMGfmtyP', 'entities': {'url': {'urls': [{'url': 'https://t.co/d7oMGfmtyP', 'expanded_url': 'http://michellerodriguez.com', 'display_url': 'michellerodriguez.com', 'indices': [0, 23]}]}, 'description': {'urls': []}}, 'protected': False, 'followers_count': 1005308, 'friends_count': 154, 'listed_count': 4103, 'created_at': 'Fri Jun 26 20:49:43 +0000 2009', 'favourites_count': 61, 'utc_offset': None, 'time_zone': None, 'geo_enabled': True, 'verified': True, 'statuses_count': 5895, 'lang': None, 'contributors_enabled': False, 'is_translator': False, 'is_translation_enabled': False, 'profile_background_color': '131516', 'profile_background_image_url': 'http://abs.twimg.com/images/themes/theme14/bg.gif', 'profile_background_image_url_https': 'https://abs.twimg.com/images/themes/theme14/bg.gif', 'profile_background_tile': True, 'profile_image_url': 'http://pbs.twimg.com/profile_images/683089216268537857/IjLglLlk_normal.jpg', 'profile_image_url_https': 'https://pbs.twimg.com/profile_images/683089216268537857/IjLglLlk_normal.jpg', 'profile_banner_url': 'https://pbs.twimg.com/profile_banners/51219631/1417426662', 'profile_link_color': '800099', 'profile_sidebar_border_color': 'FFFFFF', 'profile_sidebar_fill_color': 'EFEFEF', 'profile_text_color': '333333', 'profile_use_background_image': True, 'has_extended_profile': False, 'default_profile': False, 'default_profile_image': False, 'following': None, 'follow_request_sent': None, 'notifications': None, 'translator_type': 'none'}, id=51219631, id_str='51219631', name='Michelle Rodriguez', screen_name='MRodOfficial', location='Earth', description='Student Of Life... ❤️ Goes out to 🇵🇷', url='https://t.co/d7oMGfmtyP', entities={'url': {'urls': [{'url': 'https://t.co/d7oMGfmtyP', 'expanded_url': 'http://michellerodriguez.com', 'display_url': 'michellerodriguez.com', 'indices': [0, 23]}]}, 'description': {'urls': []}}, protected=False, followers_count=1005308, friends_count=154, listed_count=4103, created_at=datetime.datetime(2009, 6, 26, 20, 49, 43), favourites_count=61, utc_offset=None, time_zone=None, geo_enabled=True, verified=True, statuses_count=5895, lang=None, contributors_enabled=False, is_translator=False, is_translation_enabled=False, profile_background_color='131516', profile_background_image_url='http://abs.twimg.com/images/themes/theme14/bg.gif', profile_background_image_url_https='https://abs.twimg.com/images/themes/theme14/bg.gif', profile_background_tile=True, profile_image_url='http://pbs.twimg.com/profile_images/683089216268537857/IjLglLlk_normal.jpg', profile_image_url_https='https://pbs.twimg.com/profile_images/683089216268537857/IjLglLlk_normal.jpg', profile_banner_url='https://pbs.twimg.com/profile_banners/51219631/1417426662', profile_link_color='800099', profile_sidebar_border_color='FFFFFF', profile_sidebar_fill_color='EFEFEF', profile_text_color='333333', profile_use_background_image=True, has_extended_profile=False, default_profile=False, default_profile_image=False, following=False, follow_request_sent=None, notifications=None, translator_type='none'), user=User(_api=<tweepy.api.API object at 0x000001E4CD5F7B48>, _json={'id': 51219631, 'id_str': '51219631', 'name': 'Michelle Rodriguez', 'screen_name': 'MRodOfficial', 'location': 'Earth', 'description': 'Student Of Life... ❤️ Goes out to 🇵🇷', 'url': 'https://t.co/d7oMGfmtyP', 'entities': {'url': {'urls': [{'url': 'https://t.co/d7oMGfmtyP', 'expanded_url': 'http://michellerodriguez.com', 'display_url': 'michellerodriguez.com', 'indices': [0, 23]}]}, 'description': {'urls': []}}, 'protected': False, 'followers_count': 1005308, 'friends_count': 154, 'listed_count': 4103, 'created_at': 'Fri Jun 26 20:49:43 +0000 2009', 'favourites_count': 61, 'utc_offset': None, 'time_zone': None, 'geo_enabled': True, 'verified': True, 'statuses_count': 5895, 'lang': None, 'contributors_enabled': False, 'is_translator': False, 'is_translation_enabled': False, 'profile_background_color': '131516', 'profile_background_image_url': 'http://abs.twimg.com/images/themes/theme14/bg.gif', 'profile_background_image_url_https': 'https://abs.twimg.com/images/themes/theme14/bg.gif', 'profile_background_tile': True, 'profile_image_url': 'http://pbs.twimg.com/profile_images/683089216268537857/IjLglLlk_normal.jpg', 'profile_image_url_https': 'https://pbs.twimg.com/profile_images/683089216268537857/IjLglLlk_normal.jpg', 'profile_banner_url': 'https://pbs.twimg.com/profile_banners/51219631/1417426662', 'profile_link_color': '800099', 'profile_sidebar_border_color': 'FFFFFF', 'profile_sidebar_fill_color': 'EFEFEF', 'profile_text_color': '333333', 'profile_use_background_image': True, 'has_extended_profile': False, 'default_profile': False, 'default_profile_image': False, 'following': None, 'follow_request_sent': None, 'notifications': None, 'translator_type': 'none'}, id=51219631, id_str='51219631', name='Michelle Rodriguez', screen_name='MRodOfficial', location='Earth', description='Student Of Life... ❤️ Goes out to 🇵🇷', url='https://t.co/d7oMGfmtyP', entities={'url': {'urls': [{'url': 'https://t.co/d7oMGfmtyP', 'expanded_url': 'http://michellerodriguez.com', 'display_url': 'michellerodriguez.com', 'indices': [0, 23]}]}, 'description': {'urls': []}}, protected=False, followers_count=1005308, friends_count=154, listed_count=4103, created_at=datetime.datetime(2009, 6, 26, 20, 49, 43), favourites_count=61, utc_offset=None, time_zone=None, geo_enabled=True, verified=True, statuses_count=5895, lang=None, contributors_enabled=False, is_translator=False, is_translation_enabled=False, profile_background_color='131516', profile_background_image_url='http://abs.twimg.com/images/themes/theme14/bg.gif', profile_background_image_url_https='https://abs.twimg.com/images/themes/theme14/bg.gif', profile_background_tile=True, profile_image_url='http://pbs.twimg.com/profile_images/683089216268537857/IjLglLlk_normal.jpg', profile_image_url_https='https://pbs.twimg.com/profile_images/683089216268537857/IjLglLlk_normal.jpg', profile_banner_url='https://pbs.twimg.com/profile_banners/51219631/1417426662', profile_link_color='800099', profile_sidebar_border_color='FFFFFF', profile_sidebar_fill_color='EFEFEF', profile_text_color='333333', profile_use_background_image=True, has_extended_profile=False, default_profile=False, default_profile_image=False, following=False, follow_request_sent=None, notifications=None, translator_type='none'), geo=None, coordinates=None, place=None, contributors=None, is_quote_status=False, retweet_count=36, favorite_count=178, favorited=False, retweeted=False, possibly_sensitive=False, possibly_sensitive_appealable=False, lang='en')\n"
     ]
    },
    {
     "name": "stdout",
     "output_type": "stream",
     "text": [
      "https://api.twitter.com/oauth/authorize?oauth_token=TqczwgAAAAABDRhgAAABcoi00sw\n",
      "Error occured [{'code': 89, 'message': 'Invalid or expired token.'}]\n"
     ]
    }
   ],
   "source": [
    "consumer_key='58wlGpzEOwum6nghvA8tj6nz6'\n",
    "consumer_secret='b04KqyzRyquIiYGwqv9B12hRqjEj9tvOp53DtoFZJtetaZ7cZE'\n",
    "access_token_key=''\n",
    "access_token_secret=''\n",
    "auth = tweepy.OAuthHandler(consumer_key, consumer_secret)\n",
    "auth.set_access_token(access_token_key, access_token_secret)\n",
    "print(auth.get_authorization_url())\n",
    "\n",
    "\n",
    "api = tweepy.API(auth)\n",
    "try:\n",
    "    val = api.get_status(1267366725588185091, tweet_mode=\"extended\")\n",
    "    print(val)\n",
    "except tweepy.TweepError as e:\n",
    "    print(\"Error occured\", str(e))\n",
    "\n",
    "\n",
    "    consumer_key='58wlGpzEOwum6nghvA8tj6nz6'\n",
    "consumer_secret='b04KqyzRyquIiYGwqv9B12hRqjEj9tvOp53DtoFZJtetaZ7cZE'\n",
    "access_token_key='a'\n",
    "access_token_secret='b'\n",
    "auth = tweepy.OAuthHandler(consumer_key, consumer_secret)\n",
    "print(auth.get_authorization_url())\n",
    "auth.set_access_token(access_token_key, access_token_secret)\n",
    "\n",
    "api = tweepy.API(auth)\n",
    "try:\n",
    "    api.get_status(1267366725588185091, tweet_mode=\"extended\").id\n",
    "except tweepy.TweepError as e:\n",
    "    print(\"Error occured\", e)\n"
   ]
  },
  {
   "cell_type": "code",
   "execution_count": null,
   "metadata": {},
   "outputs": [],
   "source": []
  }
 ],
 "metadata": {
  "kernelspec": {
   "display_name": "Python 3",
   "language": "python",
   "name": "python3"
  },
  "language_info": {
   "codemirror_mode": {
    "name": "ipython",
    "version": 3
   },
   "file_extension": ".py",
   "mimetype": "text/x-python",
   "name": "python",
   "nbconvert_exporter": "python",
   "pygments_lexer": "ipython3",
   "version": "3.7.6"
  }
 },
 "nbformat": 4,
 "nbformat_minor": 4
}
