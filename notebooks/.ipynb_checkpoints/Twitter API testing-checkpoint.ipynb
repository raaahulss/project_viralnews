{
 "cells": [
  {
   "cell_type": "code",
   "execution_count": 3,
   "metadata": {},
   "outputs": [],
   "source": [
    "import tweepy"
   ]
  },
  {
   "cell_type": "markdown",
   "metadata": {},
   "source": [
    "### Given valid consumer key and secret the authentication is performed successfully "
   ]
  },
  {
   "cell_type": "code",
   "execution_count": 4,
   "metadata": {},
   "outputs": [
    {
     "output_type": "stream",
     "name": "stdout",
     "text": "https://api.twitter.com/oauth/authorize?oauth_token=45O9jQAAAAABDRhgAAABco8RnM4\n"
    }
   ],
   "source": [
    "consumer_key='58wlGpzEOwum6nghvA8tj6nz6'\n",
    "consumer_secret='b04KqyzRyquIiYGwqv9B12hRqjEj9tvOp53DtoFZJtetaZ7cZE'\n",
    "\n",
    "auth = tweepy.OAuthHandler(consumer_key, consumer_secret)\n",
    "print(auth.get_authorization_url())"
   ]
  },
  {
   "cell_type": "markdown",
   "metadata": {},
   "source": [
    "### Given invalid or empty or None consumer key and/or secret the authentication is fails"
   ]
  },
  {
   "cell_type": "code",
   "execution_count": 5,
   "metadata": {},
   "outputs": [
    {
     "output_type": "stream",
     "name": "stdout",
     "text": "Error occured Token request failed with code 400, response was '{\"errors\":[{\"code\":215,\"message\":\"Bad Authentication data.\"}]}'.\nError occured Token request failed with code 401, response was '{\"errors\":[{\"code\":32,\"message\":\"Could not authenticate you.\"}]}'.\nError occured Token request failed with code 400, response was '{\"errors\":[{\"code\":215,\"message\":\"Bad Authentication data.\"}]}'.\n"
    }
   ],
   "source": [
    "consumer_key=''\n",
    "consumer_secret=''\n",
    "\n",
    "auth = tweepy.OAuthHandler(consumer_key, consumer_secret)\n",
    "try:\n",
    "    print(auth.get_authorization_url())\n",
    "except tweepy.TweepError as e:\n",
    "    print(\"Error occured\",str(e))\n",
    "    auth = None\n",
    "    \n",
    "consumer_key='a'\n",
    "consumer_secret='b'\n",
    "\n",
    "auth = tweepy.OAuthHandler(consumer_key, consumer_secret)\n",
    "try:\n",
    "    print(auth.get_authorization_url())\n",
    "except tweepy.TweepError as e:\n",
    "    print(\"Error occured\",str(e))\n",
    "    auth = None\n",
    "\n",
    "consumer_key=''\n",
    "consumer_secret=None\n",
    "\n",
    "auth = tweepy.OAuthHandler(consumer_key, consumer_secret)\n",
    "try:\n",
    "    print(auth.get_authorization_url())\n",
    "except tweepy.TweepError as e:\n",
    "    print(\"Error occured\",str(e))\n",
    "    auth = None"
   ]
  },
  {
   "cell_type": "markdown",
   "metadata": {},
   "source": [
    "### Given autheticated handler and valid access tokens and valid twitter id, the system returns an appropriate twitter object"
   ]
  },
  {
   "cell_type": "code",
   "execution_count": 6,
   "metadata": {},
   "outputs": [
    {
     "output_type": "stream",
     "name": "stdout",
     "text": "https://api.twitter.com/oauth/authorize?oauth_token=N3EepQAAAAABDRhgAAABco8RojA\n"
    },
    {
     "output_type": "execute_result",
     "data": {
      "text/plain": "1267366725588185091"
     },
     "metadata": {},
     "execution_count": 6
    }
   ],
   "source": [
    "consumer_key='58wlGpzEOwum6nghvA8tj6nz6'\n",
    "consumer_secret='b04KqyzRyquIiYGwqv9B12hRqjEj9tvOp53DtoFZJtetaZ7cZE'\n",
    "access_token_key='1243275961824612358-65qxIlXTEhjw0jlbBaK4I0olH9nRP9'\n",
    "access_token_secret='wYdkYaNCakb7sX5PnHjF1u0oJc7Y73iijqbJ4VeB4yyEd'\n",
    "auth = tweepy.OAuthHandler(consumer_key, consumer_secret)\n",
    "print(auth.get_authorization_url())\n",
    "auth.set_access_token(access_token_key, access_token_secret)\n",
    "\n",
    "api = tweepy.API(auth)\n",
    "api.get_status(1267366725588185091, tweet_mode=\"extended\").id"
   ]
  },
  {
   "cell_type": "markdown",
   "metadata": {},
   "source": [
    "### Given autheticated handler and valid access tokens and invalid twitter id, the system returns an appropriate twitter object"
   ]
  },
  {
   "cell_type": "code",
   "execution_count": 7,
   "metadata": {},
   "outputs": [
    {
     "output_type": "stream",
     "name": "stdout",
     "text": "https://api.twitter.com/oauth/authorize?oauth_token=S96gRwAAAAABDRhgAAABco8RpHQ\nerror occured [{'code': 8, 'message': 'No data available for specified ID.'}]\n"
    }
   ],
   "source": [
    "consumer_key='58wlGpzEOwum6nghvA8tj6nz6'\n",
    "consumer_secret='b04KqyzRyquIiYGwqv9B12hRqjEj9tvOp53DtoFZJtetaZ7cZE'\n",
    "access_token_key='1243275961824612358-65qxIlXTEhjw0jlbBaK4I0olH9nRP9'\n",
    "access_token_secret='wYdkYaNCakb7sX5PnHjF1u0oJc7Y73iijqbJ4VeB4yyEd'\n",
    "auth = tweepy.OAuthHandler(consumer_key, consumer_secret)\n",
    "print(auth.get_authorization_url())\n",
    "auth.set_access_token(access_token_key, access_token_secret)\n",
    "\n",
    "api = tweepy.API(auth)\n",
    "try:\n",
    "    api.get_status(12673667255881851212121091, tweet_mode=\"extended\").id\n",
    "except tweepy.TweepError as e:\n",
    "    print(\"error occured\",str(e))"
   ]
  },
  {
   "cell_type": "markdown",
   "metadata": {},
   "source": [
    "### Given autheticated handler and invalid or empy access tokens, the system returns an error while quering for status"
   ]
  },
  {
   "cell_type": "code",
   "execution_count": 8,
   "metadata": {},
   "outputs": [
    {
     "output_type": "stream",
     "name": "stdout",
     "text": "https://api.twitter.com/oauth/authorize?oauth_token=9dW2IgAAAAABDRhgAAABco8RpyQ\nError occured [{'code': 32, 'message': 'Could not authenticate you.'}]\nhttps://api.twitter.com/oauth/authorize?oauth_token=fzGTSAAAAAABDRhgAAABco8RqKM\nError occured [{'code': 89, 'message': 'Invalid or expired token.'}]\n"
    }
   ],
   "source": [
    "consumer_key='58wlGpzEOwum6nghvA8tj6nz6'\n",
    "consumer_secret='b04KqyzRyquIiYGwqv9B12hRqjEj9tvOp53DtoFZJtetaZ7cZE'\n",
    "access_token_key=''\n",
    "access_token_secret='wYdkYaNCakb7sX5PnHjF1u0oJc7Y73iijqbJ4VeB4yyEd'\n",
    "auth = tweepy.OAuthHandler(consumer_key, consumer_secret)\n",
    "print(auth.get_authorization_url())\n",
    "auth.set_access_token(access_token_key, access_token_secret)\n",
    "\n",
    "api = tweepy.API(auth)\n",
    "try:\n",
    "    api.get_status(1267366725588185091, tweet_mode=\"extended\").id\n",
    "except tweepy.TweepError as e:\n",
    "    print(\"Error occured\", str(e))\n",
    "\n",
    "\n",
    "consumer_key='58wlGpzEOwum6nghvA8tj6nz6'\n",
    "consumer_secret='b04KqyzRyquIiYGwqv9B12hRqjEj9tvOp53DtoFZJtetaZ7cZE'\n",
    "access_token_key='a'\n",
    "access_token_secret='b'\n",
    "auth = tweepy.OAuthHandler(consumer_key, consumer_secret)\n",
    "print(auth.get_authorization_url())\n",
    "auth.set_access_token(access_token_key, access_token_secret)\n",
    "\n",
    "api = tweepy.API(auth)\n",
    "try:\n",
    "    api.get_status(1267366725588185091, tweet_mode=\"extended\").id\n",
    "except tweepy.TweepError as e:\n",
    "    print(\"Error occured\", e)\n"
   ]
  },
  {
   "cell_type": "code",
   "execution_count": 9,
   "metadata": {},
   "outputs": [
    {
     "output_type": "stream",
     "name": "stdout",
     "text": "https://api.twitter.com/oauth/authorize?oauth_token=VBBNIAAAAAABDRhgAAABco8RqjI\nTrue\n"
    }
   ],
   "source": [
    "consumer_key='58wlGpzEOwum6nghvA8tj6nz6'\n",
    "consumer_secret='b04KqyzRyquIiYGwqv9B12hRqjEj9tvOp53DtoFZJtetaZ7cZE'\n",
    "access_token_key='1243275961824612358-65qxIlXTEhjw0jlbBaK4I0olH9nRP9'\n",
    "access_token_secret='wYdkYaNCakb7sX5PnHjF1u0oJc7Y73iijqbJ4VeB4yyEd'\n",
    "auth = tweepy.OAuthHandler(consumer_key, consumer_secret)\n",
    "print(auth.get_authorization_url())\n",
    "auth.set_access_token(access_token_key, access_token_secret)\n",
    "\n",
    "api = tweepy.API(auth)\n",
    "tweet = api.get_status(1267366725588185091, tweet_mode=\"extended\")\n",
    "print(tweet.in_reply_to_status_id_str==None)"
   ]
  },
  {
   "cell_type": "markdown",
   "metadata": {},
   "source": [
    "### Original tweet has a in_reply_to_status_id as None and retweet has a valid value for this key"
   ]
  },
  {
   "cell_type": "code",
   "execution_count": 10,
   "metadata": {},
   "outputs": [
    {
     "output_type": "stream",
     "name": "stdout",
     "text": "https://api.twitter.com/oauth/authorize?oauth_token=RylDlwAAAAABDRhgAAABco8Rt1s\nNone True The New York Times\n1269460338329739264 False Jane\n"
    }
   ],
   "source": [
    "\n",
    "consumer_key='58wlGpzEOwum6nghvA8tj6nz6'\n",
    "consumer_secret='b04KqyzRyquIiYGwqv9B12hRqjEj9tvOp53DtoFZJtetaZ7cZE'\n",
    "access_token_key='1243275961824612358-65qxIlXTEhjw0jlbBaK4I0olH9nRP9'\n",
    "access_token_secret='wYdkYaNCakb7sX5PnHjF1u0oJc7Y73iijqbJ4VeB4yyEd'\n",
    "original_tweet = 1269460338329739264  \n",
    "retweet_tweet = 1269461026795393025\n",
    "auth = tweepy.OAuthHandler(consumer_key, consumer_secret)\n",
    "print(auth.get_authorization_url())\n",
    "auth.set_access_token(access_token_key, access_token_secret)\n",
    "\n",
    "api = tweepy.API(auth)\n",
    "tweet_o = api.get_status(original_tweet, tweet_mode=\"extended\")\n",
    "print(tweet_o.in_reply_to_status_id, tweet_o.in_reply_to_status_id_str==None, tweet_o.author.name)\n",
    "tweet_r = api.get_status(retweet_tweet, tweet_mode=\"extended\")\n",
    "print(tweet_r.in_reply_to_status_id, tweet_r.in_reply_to_status_id_str==None, tweet_r.author.name)"
   ]
  },
  {
   "cell_type": "code",
   "execution_count": 15,
   "metadata": {},
   "outputs": [
    {
     "output_type": "execute_result",
     "data": {
      "text/plain": "[{'url': 'https://t.co/zHv8ocIPXj',\n  'expanded_url': 'https://nyti.ms/2XC0fGu',\n  'display_url': 'nyti.ms/2XC0fGu',\n  'indices': [176, 199]}]"
     },
     "metadata": {},
     "execution_count": 15
    }
   ],
   "source": [
    "tweet_o.entities[\"urls\"]"
   ]
  },
  {
   "cell_type": "code",
   "execution_count": 16,
   "metadata": {},
   "outputs": [],
   "source": [
    "import requests"
   ]
  },
  {
   "cell_type": "code",
   "execution_count": 18,
   "metadata": {},
   "outputs": [
    {
     "output_type": "execute_result",
     "data": {
      "text/plain": "'https://www.nytimes.com/2020/06/06/us/protests-today-police-george-floyd.html?smtyp=cur&smid=tw-nytimes'"
     },
     "metadata": {},
     "execution_count": 18
    }
   ],
   "source": [
    "resp = requests.get(\"https://t.co/zHv8ocIPXj\")\n",
    "resp.url"
   ]
  },
  {
   "cell_type": "code",
   "execution_count": null,
   "metadata": {},
   "outputs": [],
   "source": []
  }
 ],
 "metadata": {
  "kernelspec": {
   "display_name": "Python 3",
   "language": "python",
   "name": "python3"
  },
  "language_info": {
   "codemirror_mode": {
    "name": "ipython",
    "version": 3
   },
   "file_extension": ".py",
   "mimetype": "text/x-python",
   "name": "python",
   "nbconvert_exporter": "python",
   "pygments_lexer": "ipython3",
   "version": "3.7.6-final"
  }
 },
 "nbformat": 4,
 "nbformat_minor": 4
}