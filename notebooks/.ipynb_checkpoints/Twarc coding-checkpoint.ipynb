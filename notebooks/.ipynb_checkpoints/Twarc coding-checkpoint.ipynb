{
 "cells": [
  {
   "cell_type": "code",
   "execution_count": 1,
   "metadata": {},
   "outputs": [],
   "source": [
    "import pandas as pd\n",
    "from twarc import Twarc\n",
    "import datetime"
   ]
  },
  {
   "cell_type": "code",
   "execution_count": 2,
   "metadata": {},
   "outputs": [
    {
     "data": {
      "text/plain": [
       "['screen_name',\n",
       " 'tweet_id',\n",
       " 'created_at',\n",
       " 'embeded_url',\n",
       " 'expanded_url',\n",
       " 'author',\n",
       " 'title',\n",
       " 'content',\n",
       " 'day_0_time',\n",
       " 'day_0_retweet_count']"
      ]
     },
     "execution_count": 2,
     "metadata": {},
     "output_type": "execute_result"
    }
   ],
   "source": [
    "\n",
    "columns = [\"screen_name\", \"tweet_id\",\"created_at\",\"embeded_url\",\"expanded_url\",\"author\",\"title\",\n",
    "           \"content\", \"day_0_time\",\"day_0_retweet_count\"]\n",
    "columns"
   ]
  },
  {
   "cell_type": "markdown",
   "metadata": {},
   "source": [
    "## Should we add favorite_count as well?"
   ]
  },
  {
   "cell_type": "code",
   "execution_count": 3,
   "metadata": {},
   "outputs": [
    {
     "data": {
      "text/html": [
       "<div>\n",
       "<style scoped>\n",
       "    .dataframe tbody tr th:only-of-type {\n",
       "        vertical-align: middle;\n",
       "    }\n",
       "\n",
       "    .dataframe tbody tr th {\n",
       "        vertical-align: top;\n",
       "    }\n",
       "\n",
       "    .dataframe thead th {\n",
       "        text-align: right;\n",
       "    }\n",
       "</style>\n",
       "<table border=\"1\" class=\"dataframe\">\n",
       "  <thead>\n",
       "    <tr style=\"text-align: right;\">\n",
       "      <th></th>\n",
       "      <th>screen_name</th>\n",
       "      <th>tweet_id</th>\n",
       "      <th>created_at</th>\n",
       "      <th>embeded_url</th>\n",
       "      <th>expanded_url</th>\n",
       "      <th>author</th>\n",
       "      <th>title</th>\n",
       "      <th>content</th>\n",
       "      <th>day_0_time</th>\n",
       "      <th>day_0_retweet_count</th>\n",
       "    </tr>\n",
       "  </thead>\n",
       "  <tbody>\n",
       "  </tbody>\n",
       "</table>\n",
       "</div>"
      ],
      "text/plain": [
       "Empty DataFrame\n",
       "Columns: [screen_name, tweet_id, created_at, embeded_url, expanded_url, author, title, content, day_0_time, day_0_retweet_count]\n",
       "Index: []"
      ]
     },
     "execution_count": 3,
     "metadata": {},
     "output_type": "execute_result"
    }
   ],
   "source": [
    "df = pd.DataFrame(columns=columns)\n",
    "\n",
    "def export_dataset(df):\n",
    "    name = \"../data/dataset_{}.csv\".format(datetime.datetime.now().strftime(\"%B_%d_%y_%H_%M_%S\"))\n",
    "    df.to_csv(name)\n",
    "\n",
    "# export_dataset(df)\n",
    "df.head()"
   ]
  },
  {
   "cell_type": "code",
   "execution_count": 4,
   "metadata": {},
   "outputs": [],
   "source": [
    "consumer_key='58wlGpzEOwum6nghvA8tj6nz6'\n",
    "consumer_secret='b04KqyzRyquIiYGwqv9B12hRqjEj9tvOp53DtoFZJtetaZ7cZE'\n",
    "access_token='1243275961824612358-65qxIlXTEhjw0jlbBaK4I0olH9nRP9'\n",
    "access_token_secret='wYdkYaNCakb7sX5PnHjF1u0oJc7Y73iijqbJ4VeB4yyEd'\n",
    " \n",
    "t = Twarc(consumer_key, consumer_secret, access_token, access_token_secret)"
   ]
  },
  {
   "cell_type": "markdown",
   "metadata": {},
   "source": [
    "a tweet is a valid tweet if\n",
    "1. it has user\\[id\\} belonging to the list of listed ids and has embeded url\n",
    "2. **if has a retweet that satisfies criteria 1 and the source tweet is published today**"
   ]
  },
  {
   "cell_type": "code",
   "execution_count": 5,
   "metadata": {},
   "outputs": [
    {
     "name": "stdout",
     "output_type": "stream",
     "text": [
      "Following users  807095\n"
     ]
    }
   ],
   "source": [
    "# tweets = set()\n",
    "actually_added = 0\n",
    "parsed = 0\n",
    "max_limit = 20\n",
    "follow_list = [807095]\n",
    "follow_str = \",\".join([str(x) for x in follow_list])"
   ]
  },
  {
   "cell_type": "code",
   "execution_count": 6,
   "metadata": {},
   "outputs": [
    {
     "name": "stdout",
     "output_type": "stream",
     "text": [
      "7:27:52.513388\n",
      "From retweet 1270151308721491968 adding tweet :  1270038622859919364\n",
      "7:03:03.280535\n",
      "From retweet 1270151349607567360 adding tweet :  1270044909886672896\n",
      "8:50:55.968760\n",
      "From retweet 1270151356716732416 adding tweet :  1270017767186534400\n",
      "1:31:07.330655\n",
      "From retweet 1270151404401942528 adding tweet :  1270128497743343628\n",
      "18:51:15.423550\n",
      "From retweet 1270151417353973760 adding tweet :  1269866754802700288\n",
      "1:11:15.451243\n",
      "From retweet 1270151421640486912 adding tweet :  1270133513891840002\n",
      "3:51:38.248909\n",
      "From retweet 1270151437637443587 adding tweet :  1270093170479677441\n",
      "2:31:32.287299\n",
      "From retweet 1270151513294409730 adding tweet :  1270113401952522240\n",
      "9:02:04.901318\n",
      "From retweet 1270151666847887360 adding tweet :  1270015271592394754\n",
      "1 day, 2:13:44.991629\n",
      "11:53:06.162048\n",
      "From retweet 1270151894451748866 adding tweet :  1269972462147682304\n",
      "Parsed : 37 \n",
      " Added :  10\n"
     ]
    }
   ],
   "source": [
    "print(\"Following users \",follow_str)\n",
    "for tweet in t.filter(follow=follow_str):\n",
    "    parsed += 1\n",
    "    if parsed%100 == 0:\n",
    "        print(\"Parsed :\",parsed,\"\\n Added : \",actually_added)\n",
    "    # tweet for a user we are following\n",
    "    if 'retweeted_status' not in tweet \\\n",
    "        and tweet['user']['id'] in follow_list \\\n",
    "        and tweet['entities']['urls'] != [] \\\n",
    "        and (df['tweet_id'] != tweet['id']).all():\n",
    "        print(\"From source\", tweet['id'])\n",
    "        actually_added += 1\n",
    "        current = datetime.datetime.now(datetime.timezone.utc)\n",
    "        df = df.append({'screen_name':tweet['user']['screen_name'], \n",
    "              'tweet_id':tweet['id'],\n",
    "              'created_at' : tweet['created_at'],\n",
    "              'embeded_url' : tweet['entities']['urls'][0]['url'],\n",
    "              'day_0_retweet_count': tweet['retweet_count'],\n",
    "              'day_0_time': current}, ignore_index=True)\n",
    "\n",
    "    if 'retweeted_status' in tweet \\\n",
    "        and tweet['retweeted_status']['user']['id'] in follow_list \\\n",
    "        and 'extended_tweet' in tweet['retweeted_status'] \\\n",
    "        and 'entities' in tweet[\"retweeted_status\"][\"extended_tweet\"] \\\n",
    "        and (df['tweet_id'] != tweet['retweeted_status']['id']).all():\n",
    "        \n",
    "        created_time = datetime.datetime.strptime(tweet[\"retweeted_status\"][\"created_at\"],\"%a %b %d %H:%M:%S %z %Y\")\n",
    "        current = datetime.datetime.now(datetime.timezone.utc)\n",
    "        diff =  current - created_time\n",
    "        print(diff)\n",
    "        if diff.days == 0:\n",
    "            print(\"From retweet\", tweet['id'],\"adding tweet : \",tweet[\"retweeted_status\"][\"id\"])\n",
    "            df = df.append({'screen_name':tweet[\"retweeted_status\"][\"user\"][\"screen_name\"], \n",
    "                  'tweet_id':tweet[\"retweeted_status\"][\"id\"],\n",
    "                  'created_at' : tweet[\"retweeted_status\"][\"created_at\"],\n",
    "                  'embeded_url' : tweet[\"retweeted_status\"][\"extended_tweet\"][\"entities\"][\"urls\"][0][\"url\"],\n",
    "                  'day_0_retweet_count': tweet['retweeted_status']['retweet_count'],\n",
    "                  'day_0_time': current}, ignore_index=True)\n",
    "            actually_added += 1\n",
    "#             print(tweet['created_at'])\n",
    "#             print(tweet['id'])\n",
    "#             print(tweet['user']['id'])\n",
    "#             print(tweet[\"retweeted_status\"][\"id\"])\n",
    "#             print(tweet[\"retweeted_status\"][\"created_at\"])\n",
    "#             print(tweet[\"retweeted_status\"][\"user\"][\"screen_name\"])\n",
    "#             print(tweet[\"retweeted_status\"][\"extended_tweet\"][\"entities\"][\"urls\"][0][\"url\"])\n",
    "    if actually_added == max_limit:\n",
    "        break\n",
    "print(\"Parsed :\",parsed,\"\\n Added : \",actually_added)"
   ]
  },
  {
   "cell_type": "code",
   "execution_count": 7,
   "metadata": {
    "scrolled": false
   },
   "outputs": [
    {
     "data": {
      "text/html": [
       "<div>\n",
       "<style scoped>\n",
       "    .dataframe tbody tr th:only-of-type {\n",
       "        vertical-align: middle;\n",
       "    }\n",
       "\n",
       "    .dataframe tbody tr th {\n",
       "        vertical-align: top;\n",
       "    }\n",
       "\n",
       "    .dataframe thead th {\n",
       "        text-align: right;\n",
       "    }\n",
       "</style>\n",
       "<table border=\"1\" class=\"dataframe\">\n",
       "  <thead>\n",
       "    <tr style=\"text-align: right;\">\n",
       "      <th></th>\n",
       "      <th>screen_name</th>\n",
       "      <th>tweet_id</th>\n",
       "      <th>created_at</th>\n",
       "      <th>embeded_url</th>\n",
       "      <th>expanded_url</th>\n",
       "      <th>author</th>\n",
       "      <th>title</th>\n",
       "      <th>content</th>\n",
       "      <th>day_0_time</th>\n",
       "      <th>day_0_retweet_count</th>\n",
       "    </tr>\n",
       "  </thead>\n",
       "  <tbody>\n",
       "    <tr>\n",
       "      <th>0</th>\n",
       "      <td>nytimes</td>\n",
       "      <td>1270038622859919364</td>\n",
       "      <td>Mon Jun 08 17:02:58 +0000 2020</td>\n",
       "      <td>https://t.co/ZDJ091U7fj</td>\n",
       "      <td>NaN</td>\n",
       "      <td>NaN</td>\n",
       "      <td>NaN</td>\n",
       "      <td>NaN</td>\n",
       "      <td>2020-06-09 00:30:50.513388+00:00</td>\n",
       "      <td>1059</td>\n",
       "    </tr>\n",
       "    <tr>\n",
       "      <th>1</th>\n",
       "      <td>nytimes</td>\n",
       "      <td>1270044909886672896</td>\n",
       "      <td>Mon Jun 08 17:27:57 +0000 2020</td>\n",
       "      <td>https://t.co/2ZlOW9YXDZ</td>\n",
       "      <td>NaN</td>\n",
       "      <td>NaN</td>\n",
       "      <td>NaN</td>\n",
       "      <td>NaN</td>\n",
       "      <td>2020-06-09 00:31:00.280535+00:00</td>\n",
       "      <td>1156</td>\n",
       "    </tr>\n",
       "    <tr>\n",
       "      <th>2</th>\n",
       "      <td>nytimes</td>\n",
       "      <td>1270017767186534400</td>\n",
       "      <td>Mon Jun 08 15:40:06 +0000 2020</td>\n",
       "      <td>https://t.co/yO85O14Gn8</td>\n",
       "      <td>NaN</td>\n",
       "      <td>NaN</td>\n",
       "      <td>NaN</td>\n",
       "      <td>NaN</td>\n",
       "      <td>2020-06-09 00:31:01.968760+00:00</td>\n",
       "      <td>914</td>\n",
       "    </tr>\n",
       "    <tr>\n",
       "      <th>3</th>\n",
       "      <td>nytimes</td>\n",
       "      <td>1270128497743343628</td>\n",
       "      <td>Mon Jun 08 23:00:06 +0000 2020</td>\n",
       "      <td>https://t.co/iX9bNpATMW</td>\n",
       "      <td>NaN</td>\n",
       "      <td>NaN</td>\n",
       "      <td>NaN</td>\n",
       "      <td>NaN</td>\n",
       "      <td>2020-06-09 00:31:13.330655+00:00</td>\n",
       "      <td>218</td>\n",
       "    </tr>\n",
       "    <tr>\n",
       "      <th>4</th>\n",
       "      <td>nytimes</td>\n",
       "      <td>1269866754802700288</td>\n",
       "      <td>Mon Jun 08 05:40:01 +0000 2020</td>\n",
       "      <td>https://t.co/abl9TRxuIN</td>\n",
       "      <td>NaN</td>\n",
       "      <td>NaN</td>\n",
       "      <td>NaN</td>\n",
       "      <td>NaN</td>\n",
       "      <td>2020-06-09 00:31:16.423550+00:00</td>\n",
       "      <td>334</td>\n",
       "    </tr>\n",
       "    <tr>\n",
       "      <th>5</th>\n",
       "      <td>nytimes</td>\n",
       "      <td>1270133513891840002</td>\n",
       "      <td>Mon Jun 08 23:20:02 +0000 2020</td>\n",
       "      <td>https://t.co/XCvQDk49kb</td>\n",
       "      <td>NaN</td>\n",
       "      <td>NaN</td>\n",
       "      <td>NaN</td>\n",
       "      <td>NaN</td>\n",
       "      <td>2020-06-09 00:31:17.451243+00:00</td>\n",
       "      <td>320</td>\n",
       "    </tr>\n",
       "    <tr>\n",
       "      <th>6</th>\n",
       "      <td>nytimes</td>\n",
       "      <td>1270093170479677441</td>\n",
       "      <td>Mon Jun 08 20:39:43 +0000 2020</td>\n",
       "      <td>https://t.co/p1PBh8KxNG</td>\n",
       "      <td>NaN</td>\n",
       "      <td>NaN</td>\n",
       "      <td>NaN</td>\n",
       "      <td>NaN</td>\n",
       "      <td>2020-06-09 00:31:21.248909+00:00</td>\n",
       "      <td>1093</td>\n",
       "    </tr>\n",
       "    <tr>\n",
       "      <th>7</th>\n",
       "      <td>nytimes</td>\n",
       "      <td>1270113401952522240</td>\n",
       "      <td>Mon Jun 08 22:00:07 +0000 2020</td>\n",
       "      <td>https://t.co/Wz9D37Tycq</td>\n",
       "      <td>NaN</td>\n",
       "      <td>NaN</td>\n",
       "      <td>NaN</td>\n",
       "      <td>NaN</td>\n",
       "      <td>2020-06-09 00:31:39.287299+00:00</td>\n",
       "      <td>98</td>\n",
       "    </tr>\n",
       "    <tr>\n",
       "      <th>8</th>\n",
       "      <td>nytimes</td>\n",
       "      <td>1270015271592394754</td>\n",
       "      <td>Mon Jun 08 15:30:11 +0000 2020</td>\n",
       "      <td>https://t.co/VKOpH7wUZg</td>\n",
       "      <td>NaN</td>\n",
       "      <td>NaN</td>\n",
       "      <td>NaN</td>\n",
       "      <td>NaN</td>\n",
       "      <td>2020-06-09 00:32:15.901318+00:00</td>\n",
       "      <td>188</td>\n",
       "    </tr>\n",
       "    <tr>\n",
       "      <th>9</th>\n",
       "      <td>nytimes</td>\n",
       "      <td>1269972462147682304</td>\n",
       "      <td>Mon Jun 08 12:40:04 +0000 2020</td>\n",
       "      <td>https://t.co/olSEnLvWPa</td>\n",
       "      <td>NaN</td>\n",
       "      <td>NaN</td>\n",
       "      <td>NaN</td>\n",
       "      <td>NaN</td>\n",
       "      <td>2020-06-09 00:33:10.162048+00:00</td>\n",
       "      <td>1586</td>\n",
       "    </tr>\n",
       "  </tbody>\n",
       "</table>\n",
       "</div>"
      ],
      "text/plain": [
       "  screen_name             tweet_id                      created_at  \\\n",
       "0     nytimes  1270038622859919364  Mon Jun 08 17:02:58 +0000 2020   \n",
       "1     nytimes  1270044909886672896  Mon Jun 08 17:27:57 +0000 2020   \n",
       "2     nytimes  1270017767186534400  Mon Jun 08 15:40:06 +0000 2020   \n",
       "3     nytimes  1270128497743343628  Mon Jun 08 23:00:06 +0000 2020   \n",
       "4     nytimes  1269866754802700288  Mon Jun 08 05:40:01 +0000 2020   \n",
       "5     nytimes  1270133513891840002  Mon Jun 08 23:20:02 +0000 2020   \n",
       "6     nytimes  1270093170479677441  Mon Jun 08 20:39:43 +0000 2020   \n",
       "7     nytimes  1270113401952522240  Mon Jun 08 22:00:07 +0000 2020   \n",
       "8     nytimes  1270015271592394754  Mon Jun 08 15:30:11 +0000 2020   \n",
       "9     nytimes  1269972462147682304  Mon Jun 08 12:40:04 +0000 2020   \n",
       "\n",
       "               embeded_url expanded_url author title content  \\\n",
       "0  https://t.co/ZDJ091U7fj          NaN    NaN   NaN     NaN   \n",
       "1  https://t.co/2ZlOW9YXDZ          NaN    NaN   NaN     NaN   \n",
       "2  https://t.co/yO85O14Gn8          NaN    NaN   NaN     NaN   \n",
       "3  https://t.co/iX9bNpATMW          NaN    NaN   NaN     NaN   \n",
       "4  https://t.co/abl9TRxuIN          NaN    NaN   NaN     NaN   \n",
       "5  https://t.co/XCvQDk49kb          NaN    NaN   NaN     NaN   \n",
       "6  https://t.co/p1PBh8KxNG          NaN    NaN   NaN     NaN   \n",
       "7  https://t.co/Wz9D37Tycq          NaN    NaN   NaN     NaN   \n",
       "8  https://t.co/VKOpH7wUZg          NaN    NaN   NaN     NaN   \n",
       "9  https://t.co/olSEnLvWPa          NaN    NaN   NaN     NaN   \n",
       "\n",
       "                         day_0_time day_0_retweet_count  \n",
       "0  2020-06-09 00:30:50.513388+00:00                1059  \n",
       "1  2020-06-09 00:31:00.280535+00:00                1156  \n",
       "2  2020-06-09 00:31:01.968760+00:00                 914  \n",
       "3  2020-06-09 00:31:13.330655+00:00                 218  \n",
       "4  2020-06-09 00:31:16.423550+00:00                 334  \n",
       "5  2020-06-09 00:31:17.451243+00:00                 320  \n",
       "6  2020-06-09 00:31:21.248909+00:00                1093  \n",
       "7  2020-06-09 00:31:39.287299+00:00                  98  \n",
       "8  2020-06-09 00:32:15.901318+00:00                 188  \n",
       "9  2020-06-09 00:33:10.162048+00:00                1586  "
      ]
     },
     "execution_count": 7,
     "metadata": {},
     "output_type": "execute_result"
    }
   ],
   "source": [
    "df.head(max_limit)"
   ]
  },
  {
   "cell_type": "code",
   "execution_count": 35,
   "metadata": {},
   "outputs": [
    {
     "name": "stdout",
     "output_type": "stream",
     "text": [
      "1153\n"
     ]
    }
   ],
   "source": [
    "def get_retweet_count(twarc_api, id):\n",
    "    for tweet in twarc_api.hydrate([id]):\n",
    "        return tweet['retweet_count']\n",
    "print(get_retweet_count(t, 1270044909886672896))"
   ]
  },
  {
   "cell_type": "code",
   "execution_count": 38,
   "metadata": {},
   "outputs": [
    {
     "name": "stdout",
     "output_type": "stream",
     "text": [
      "True\n",
      "True\n"
     ]
    }
   ],
   "source": [
    "for tweet in t.hydrate([1270148193792204802 ]):\n",
    "    print(tweet['retweeted_status']['user']['id'] in follow_list)\n",
    "\n",
    "for tweet in t.hydrate([1270044909886672896 ]):\n",
    "    print(tweet['user']['id'] in follow_list)\n",
    "#     print(tweet)\n",
    "#     print(tweet['user']['screen_name'])\n",
    "#     print(tweet['id'])\n",
    "#     print(tweet['created_at'])\n",
    "#     print(tweet['retweeted_status']['id'])\n",
    "#     print(tweet['entities']['urls'][0]['url'])\n",
    "#     print(tweet['retweeted_status'])\n",
    "#     print(tweet['favorite_count'])\n",
    "#     print(\"retweeted_status count\", tweet['retweeted_status']['retweet_count'])\n",
    "#     print(datetime.datetime.now())\n",
    "#     df = df.append({'screen_name':tweet['user']['screen_name'], \n",
    "#               'tweet_id':tweet['id'],\n",
    "#               'created_at' : tweet['created_at'],\n",
    "#               'embeded_url' : tweet['entities']['urls'][0]['url'],\n",
    "#               'day_0_retweet_count': tweet['retweet_count'],\n",
    "#               'day_0_time':datetime.datetime.now()}, ignore_index=True)\n",
    "# created_time = datetime.datetime.strptime(tweet['created_at'],\"%a %b %d %H:%M:%S %z %Y\")\n",
    "# diff =  datetime.datetime.now(datetime.timezone.utc) - created_time\n",
    "# abs(diff.days), datetime.datetime.now(datetime.timezone.utc), created_time"
   ]
  },
  {
   "cell_type": "code",
   "execution_count": null,
   "metadata": {},
   "outputs": [],
   "source": [
    "# export_dataset(df)"
   ]
  },
  {
   "cell_type": "code",
   "execution_count": null,
   "metadata": {},
   "outputs": [],
   "source": [
    "if (df['tweet_id'] == tweet['id']).any():\n",
    "    print(\"yes\")"
   ]
  },
  {
   "cell_type": "code",
   "execution_count": null,
   "metadata": {},
   "outputs": [],
   "source": [
    "df.head()"
   ]
  },
  {
   "cell_type": "code",
   "execution_count": null,
   "metadata": {},
   "outputs": [],
   "source": [
    "(df['tweet_id'] == tweet['id']).any()"
   ]
  },
  {
   "cell_type": "code",
   "execution_count": null,
   "metadata": {},
   "outputs": [],
   "source": []
  }
 ],
 "metadata": {
  "kernelspec": {
   "display_name": "Python 3",
   "language": "python",
   "name": "python3"
  },
  "language_info": {
   "codemirror_mode": {
    "name": "ipython",
    "version": 3
   },
   "file_extension": ".py",
   "mimetype": "text/x-python",
   "name": "python",
   "nbconvert_exporter": "python",
   "pygments_lexer": "ipython3",
   "version": "3.7.6"
  }
 },
 "nbformat": 4,
 "nbformat_minor": 4
}
