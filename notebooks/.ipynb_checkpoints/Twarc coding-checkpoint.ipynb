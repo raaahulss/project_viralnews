{
 "cells": [
  {
   "cell_type": "code",
   "execution_count": 1,
   "metadata": {},
   "outputs": [],
   "source": [
    "import pandas as pd\n",
    "from twarc import Twarc\n",
    "import datetime\n",
    "import time"
   ]
  },
  {
   "cell_type": "code",
   "execution_count": 2,
   "metadata": {},
   "outputs": [
    {
     "data": {
      "text/plain": [
       "['screen_name',\n",
       " 'tweet_id',\n",
       " 'created_at',\n",
       " 'embeded_url',\n",
       " 'expanded_url',\n",
       " 'author',\n",
       " 'title',\n",
       " 'content',\n",
       " 'day_0_time',\n",
       " 'day_0_retweet_count']"
      ]
     },
     "execution_count": 2,
     "metadata": {},
     "output_type": "execute_result"
    }
   ],
   "source": [
    "\n",
    "columns = [\"screen_name\", \"tweet_id\",\"created_at\",\"embeded_url\",\"expanded_url\",\"author\",\"title\",\n",
    "           \"content\", \"day_0_time\",\"day_0_retweet_count\"]\n",
    "columns"
   ]
  },
  {
   "cell_type": "markdown",
   "metadata": {},
   "source": [
    "## Should we add favorite_count as well?"
   ]
  },
  {
   "cell_type": "code",
   "execution_count": 3,
   "metadata": {},
   "outputs": [
    {
     "data": {
      "text/html": [
       "<div>\n",
       "<style scoped>\n",
       "    .dataframe tbody tr th:only-of-type {\n",
       "        vertical-align: middle;\n",
       "    }\n",
       "\n",
       "    .dataframe tbody tr th {\n",
       "        vertical-align: top;\n",
       "    }\n",
       "\n",
       "    .dataframe thead th {\n",
       "        text-align: right;\n",
       "    }\n",
       "</style>\n",
       "<table border=\"1\" class=\"dataframe\">\n",
       "  <thead>\n",
       "    <tr style=\"text-align: right;\">\n",
       "      <th></th>\n",
       "      <th>screen_name</th>\n",
       "      <th>tweet_id</th>\n",
       "      <th>created_at</th>\n",
       "      <th>embeded_url</th>\n",
       "      <th>expanded_url</th>\n",
       "      <th>author</th>\n",
       "      <th>title</th>\n",
       "      <th>content</th>\n",
       "      <th>day_0_time</th>\n",
       "      <th>day_0_retweet_count</th>\n",
       "    </tr>\n",
       "  </thead>\n",
       "  <tbody>\n",
       "  </tbody>\n",
       "</table>\n",
       "</div>"
      ],
      "text/plain": [
       "Empty DataFrame\n",
       "Columns: [screen_name, tweet_id, created_at, embeded_url, expanded_url, author, title, content, day_0_time, day_0_retweet_count]\n",
       "Index: []"
      ]
     },
     "execution_count": 3,
     "metadata": {},
     "output_type": "execute_result"
    }
   ],
   "source": [
    "df = pd.DataFrame(columns=columns)\n",
    "\n",
    "def export_dataset(df):\n",
    "    name = \"../data/dataset_{}.csv\".format(datetime.datetime.now().strftime(\"%B_%d_%y_%H_%M_%S\"))\n",
    "    df.to_csv(name)\n",
    "\n",
    "# export_dataset(df)\n",
    "df.head()"
   ]
  },
  {
   "cell_type": "code",
   "execution_count": 4,
   "metadata": {},
   "outputs": [],
   "source": [
    "consumer_key='58wlGpzEOwum6nghvA8tj6nz6'\n",
    "consumer_secret='b04KqyzRyquIiYGwqv9B12hRqjEj9tvOp53DtoFZJtetaZ7cZE'\n",
    "access_token='1243275961824612358-65qxIlXTEhjw0jlbBaK4I0olH9nRP9'\n",
    "access_token_secret='wYdkYaNCakb7sX5PnHjF1u0oJc7Y73iijqbJ4VeB4yyEd'\n",
    " \n",
    "t = Twarc(consumer_key, consumer_secret, access_token, access_token_secret)"
   ]
  },
  {
   "cell_type": "markdown",
   "metadata": {},
   "source": [
    "a tweet is a valid tweet if\n",
    "1. it has user\\[id\\} belonging to the list of listed ids and has embeded url\n",
    "2. **if has a retweet that satisfies criteria 1 and the source tweet is published today**"
   ]
  },
  {
   "cell_type": "code",
   "execution_count": 5,
   "metadata": {},
   "outputs": [],
   "source": [
    "# tweets = set()\n",
    "actually_added = 0\n",
    "parsed = 0\n",
    "max_limit = 100\n",
    "follow_list = [807095,1652541,3108351,51241574]\n",
    "follow_str = \",\".join([str(x) for x in follow_list])"
   ]
  },
  {
   "cell_type": "code",
   "execution_count": 6,
   "metadata": {},
   "outputs": [
    {
     "name": "stdout",
     "output_type": "stream",
     "text": [
      "Following users  807095,1652541,3108351,51241574\n",
      "20:28:52.865887\n",
      "From retweet 1270156372760551430 adding tweet :  1269847140953722880\n",
      "0:47:36.327710\n",
      "From retweet 1270156374744367106 adding tweet :  1270144418633388032\n",
      "0:10:59.817060\n",
      "From retweet 1270156381019090944 adding tweet :  1270153637650522112\n"
     ]
    },
    {
     "ename": "IndexError",
     "evalue": "list index out of range",
     "output_type": "error",
     "traceback": [
      "\u001b[1;31m---------------------------------------------------------------------------\u001b[0m",
      "\u001b[1;31mIndexError\u001b[0m                                Traceback (most recent call last)",
      "\u001b[1;32m<ipython-input-6-038f14a059dc>\u001b[0m in \u001b[0;36m<module>\u001b[1;34m\u001b[0m\n\u001b[0;32m     35\u001b[0m                       \u001b[1;34m'tweet_id'\u001b[0m\u001b[1;33m:\u001b[0m\u001b[0mtweet\u001b[0m\u001b[1;33m[\u001b[0m\u001b[1;34m\"retweeted_status\"\u001b[0m\u001b[1;33m]\u001b[0m\u001b[1;33m[\u001b[0m\u001b[1;34m\"id\"\u001b[0m\u001b[1;33m]\u001b[0m\u001b[1;33m,\u001b[0m\u001b[1;33m\u001b[0m\u001b[1;33m\u001b[0m\u001b[0m\n\u001b[0;32m     36\u001b[0m                       \u001b[1;34m'created_at'\u001b[0m \u001b[1;33m:\u001b[0m \u001b[0mtweet\u001b[0m\u001b[1;33m[\u001b[0m\u001b[1;34m\"retweeted_status\"\u001b[0m\u001b[1;33m]\u001b[0m\u001b[1;33m[\u001b[0m\u001b[1;34m\"created_at\"\u001b[0m\u001b[1;33m]\u001b[0m\u001b[1;33m,\u001b[0m\u001b[1;33m\u001b[0m\u001b[1;33m\u001b[0m\u001b[0m\n\u001b[1;32m---> 37\u001b[1;33m                       \u001b[1;34m'embeded_url'\u001b[0m \u001b[1;33m:\u001b[0m \u001b[0mtweet\u001b[0m\u001b[1;33m[\u001b[0m\u001b[1;34m\"retweeted_status\"\u001b[0m\u001b[1;33m]\u001b[0m\u001b[1;33m[\u001b[0m\u001b[1;34m\"extended_tweet\"\u001b[0m\u001b[1;33m]\u001b[0m\u001b[1;33m[\u001b[0m\u001b[1;34m\"entities\"\u001b[0m\u001b[1;33m]\u001b[0m\u001b[1;33m[\u001b[0m\u001b[1;34m\"urls\"\u001b[0m\u001b[1;33m]\u001b[0m\u001b[1;33m[\u001b[0m\u001b[1;36m0\u001b[0m\u001b[1;33m]\u001b[0m\u001b[1;33m[\u001b[0m\u001b[1;34m\"url\"\u001b[0m\u001b[1;33m]\u001b[0m\u001b[1;33m,\u001b[0m\u001b[1;33m\u001b[0m\u001b[1;33m\u001b[0m\u001b[0m\n\u001b[0m\u001b[0;32m     38\u001b[0m                       \u001b[1;34m'day_0_retweet_count'\u001b[0m\u001b[1;33m:\u001b[0m \u001b[0mtweet\u001b[0m\u001b[1;33m[\u001b[0m\u001b[1;34m'retweeted_status'\u001b[0m\u001b[1;33m]\u001b[0m\u001b[1;33m[\u001b[0m\u001b[1;34m'retweet_count'\u001b[0m\u001b[1;33m]\u001b[0m\u001b[1;33m,\u001b[0m\u001b[1;33m\u001b[0m\u001b[1;33m\u001b[0m\u001b[0m\n\u001b[0;32m     39\u001b[0m                       'day_0_time': current}, ignore_index=True)\n",
      "\u001b[1;31mIndexError\u001b[0m: list index out of range"
     ]
    }
   ],
   "source": [
    "start = time.time()\n",
    "print(\"Following users \",follow_str)\n",
    "for tweet in t.filter(follow=follow_str):\n",
    "    parsed += 1\n",
    "    if parsed%100 == 0:\n",
    "        print(\"Parsed :\",parsed,\"\\n Added : \",actually_added)\n",
    "    # tweet for a user we are following\n",
    "    if 'retweeted_status' not in tweet:\n",
    "        if tweet['user']['id'] in follow_list \\\n",
    "        and len(tweet['entities']['urls']) != 0 \\\n",
    "        and (df['tweet_id'] != tweet['id']).all():\n",
    "            print(\"From source\", tweet['id'])\n",
    "            actually_added += 1\n",
    "            current = datetime.datetime.now(datetime.timezone.utc)\n",
    "            df = df.append({'screen_name':tweet['user']['screen_name'], \n",
    "                  'tweet_id':tweet['id'],\n",
    "                  'created_at' : tweet['created_at'],\n",
    "                  'embeded_url' : tweet['entities']['urls'][0]['url'],\n",
    "                  'day_0_retweet_count': tweet['retweet_count'],\n",
    "                  'day_0_time': current}, ignore_index=True)\n",
    "\n",
    "    else:\n",
    "        if tweet['retweeted_status']['user']['id'] in follow_list \\\n",
    "        and 'extended_tweet' in tweet['retweeted_status'] \\\n",
    "        and 'entities' in tweet[\"retweeted_status\"][\"extended_tweet\"] \\\n",
    "        and len(tweet[\"retweeted_status\"][\"extended_tweet\"][\"entities\"]['urls']) != 0\\\n",
    "        and (df['tweet_id'] != tweet['retweeted_status']['id']).all():\n",
    "            created_time = datetime.datetime.strptime(tweet[\"retweeted_status\"][\"created_at\"],\"%a %b %d %H:%M:%S %z %Y\")\n",
    "            current = datetime.datetime.now(datetime.timezone.utc)\n",
    "            diff =  current - created_time\n",
    "            print(diff)\n",
    "            if diff.days == 0:\n",
    "                print(\"From retweet\", tweet['id'],\"adding tweet : \",tweet[\"retweeted_status\"][\"id\"])\n",
    "                df = df.append({'screen_name':tweet[\"retweeted_status\"][\"user\"][\"screen_name\"], \n",
    "                      'tweet_id':tweet[\"retweeted_status\"][\"id\"],\n",
    "                      'created_at' : tweet[\"retweeted_status\"][\"created_at\"],\n",
    "                      'embeded_url' : tweet[\"retweeted_status\"][\"extended_tweet\"][\"entities\"][\"urls\"][0][\"url\"],\n",
    "                      'day_0_retweet_count': tweet['retweeted_status']['retweet_count'],\n",
    "                      'day_0_time': current}, ignore_index=True)\n",
    "                actually_added += 1\n",
    "#             print(tweet['created_at'])\n",
    "#             print(tweet['id'])\n",
    "#             print(tweet['user']['id'])\n",
    "#             print(tweet[\"retweeted_status\"][\"id\"])\n",
    "#             print(tweet[\"retweeted_status\"][\"created_at\"])\n",
    "#             print(tweet[\"retweeted_status\"][\"user\"][\"screen_name\"])\n",
    "#             print(tweet[\"retweeted_status\"][\"extended_tweet\"][\"entities\"][\"urls\"][0][\"url\"])\n",
    "    if actually_added == max_limit:\n",
    "        break\n",
    "print(\"Parsed :\",parsed,\"\\n Added : \",actually_added,\"in \", time.time()-start)"
   ]
  },
  {
   "cell_type": "markdown",
   "metadata": {},
   "source": [
    "|Count|Time|\n",
    "| ------------- |:-------------:| \n",
    "|10|123.57|"
   ]
  },
  {
   "cell_type": "code",
   "execution_count": 11,
   "metadata": {},
   "outputs": [
    {
     "data": {
      "text/plain": [
       "0"
      ]
     },
     "execution_count": 11,
     "metadata": {},
     "output_type": "execute_result"
    }
   ],
   "source": [
    "len(tweet['retweeted_status']['extended_tweet']['entities'][\"urls\"] )"
   ]
  },
  {
   "cell_type": "code",
   "execution_count": null,
   "metadata": {
    "scrolled": false
   },
   "outputs": [],
   "source": [
    "df.head(max_limit)"
   ]
  },
  {
   "cell_type": "code",
   "execution_count": null,
   "metadata": {},
   "outputs": [],
   "source": [
    "def get_retweet_count(twarc_api, id):\n",
    "    for tweet in twarc_api.hydrate([id]):\n",
    "        return tweet['retweet_count']\n",
    "print(get_retweet_count(t, 1270044909886672896))"
   ]
  },
  {
   "cell_type": "code",
   "execution_count": null,
   "metadata": {},
   "outputs": [],
   "source": [
    "for tweet in t.hydrate([1270148193792204802 ]):\n",
    "    print(tweet['retweeted_status']['user']['id'] in follow_list)\n",
    "\n",
    "for tweet in t.hydrate([1270044909886672896 ]):\n",
    "    print(tweet['user']['id'] in follow_list)\n",
    "#     print(tweet)\n",
    "#     print(tweet['user']['screen_name'])\n",
    "#     print(tweet['id'])\n",
    "#     print(tweet['created_at'])\n",
    "#     print(tweet['retweeted_status']['id'])\n",
    "#     print(tweet['entities']['urls'][0]['url'])\n",
    "#     print(tweet['retweeted_status'])\n",
    "#     print(tweet['favorite_count'])\n",
    "#     print(\"retweeted_status count\", tweet['retweeted_status']['retweet_count'])\n",
    "#     print(datetime.datetime.now())\n",
    "#     df = df.append({'screen_name':tweet['user']['screen_name'], \n",
    "#               'tweet_id':tweet['id'],\n",
    "#               'created_at' : tweet['created_at'],\n",
    "#               'embeded_url' : tweet['entities']['urls'][0]['url'],\n",
    "#               'day_0_retweet_count': tweet['retweet_count'],\n",
    "#               'day_0_time':datetime.datetime.now()}, ignore_index=True)\n",
    "# created_time = datetime.datetime.strptime(tweet['created_at'],\"%a %b %d %H:%M:%S %z %Y\")\n",
    "# diff =  datetime.datetime.now(datetime.timezone.utc) - created_time\n",
    "# abs(diff.days), datetime.datetime.now(datetime.timezone.utc), created_time"
   ]
  },
  {
   "cell_type": "code",
   "execution_count": null,
   "metadata": {},
   "outputs": [],
   "source": [
    "# export_dataset(df)"
   ]
  },
  {
   "cell_type": "code",
   "execution_count": null,
   "metadata": {},
   "outputs": [],
   "source": [
    "if (df['tweet_id'] == tweet['id']).any():\n",
    "    print(\"yes\")"
   ]
  },
  {
   "cell_type": "code",
   "execution_count": null,
   "metadata": {},
   "outputs": [],
   "source": [
    "df.head()"
   ]
  },
  {
   "cell_type": "code",
   "execution_count": null,
   "metadata": {},
   "outputs": [],
   "source": [
    "(df['tweet_id'] == tweet['id']).any()"
   ]
  },
  {
   "cell_type": "code",
   "execution_count": null,
   "metadata": {},
   "outputs": [],
   "source": []
  }
 ],
 "metadata": {
  "kernelspec": {
   "display_name": "Python 3",
   "language": "python",
   "name": "python3"
  },
  "language_info": {
   "codemirror_mode": {
    "name": "ipython",
    "version": 3
   },
   "file_extension": ".py",
   "mimetype": "text/x-python",
   "name": "python",
   "nbconvert_exporter": "python",
   "pygments_lexer": "ipython3",
   "version": "3.7.6"
  }
 },
 "nbformat": 4,
 "nbformat_minor": 4
}
