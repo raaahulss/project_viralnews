{
 "cells": [
  {
   "cell_type": "markdown",
   "metadata": {},
   "source": [
    "As a part of this notebook we are trying to extend the dataset by downloading the content and title of the article.\n",
    "the extended dataset is saved with four additional columns:\n",
    "- title\n",
    "- content\n",
    "- label_by_mean\n",
    "- label_by_median\n",
    "\n",
    "> 0 represents will not go viral.\n",
    "> 1 represents will go viral"
   ]
  },
  {
   "cell_type": "code",
   "execution_count": 1,
   "metadata": {},
   "outputs": [
    {
     "name": "stdout",
     "output_type": "stream",
     "text": [
      "Requirement already satisfied: tqdm in e:\\project_viralnews\\venv\\lib\\site-packages (4.46.1)\n"
     ]
    }
   ],
   "source": [
    "! pip install tqdm"
   ]
  },
  {
   "cell_type": "code",
   "execution_count": 2,
   "metadata": {},
   "outputs": [],
   "source": [
    "import pandas as pd\n",
    "import numpy as np\n",
    "from pprint import pprint as pp\n",
    "from tqdm import tqdm\n",
    "import string\n",
    "from newspaper import Article, ArticleException\n",
    "table = str.maketrans(\"\",\"\",string.punctuation)"
   ]
  },
  {
   "cell_type": "code",
   "execution_count": 3,
   "metadata": {},
   "outputs": [
    {
     "name": "stderr",
     "output_type": "stream",
     "text": [
      "e:\\project_viralnews\\venv\\lib\\site-packages\\ipykernel_launcher.py:1: ParserWarning: Falling back to the 'python' engine because the 'c' engine does not support regex separators (separators > 1 char and different from '\\s+' are interpreted as regex); you can avoid this warning by specifying engine='python'.\n",
      "  \"\"\"Entry point for launching an IPython kernel.\n"
     ]
    },
    {
     "name": "stdout",
     "output_type": "stream",
     "text": [
      "39644\n",
      "Index(['url', 'timedelta', 'n_tokens_title', 'n_tokens_content',\n",
      "       'n_unique_tokens', 'n_non_stop_words', 'n_non_stop_unique_tokens',\n",
      "       'num_hrefs', 'num_self_hrefs', 'num_imgs', 'num_videos',\n",
      "       'average_token_length', 'num_keywords', 'data_channel_is_lifestyle',\n",
      "       'data_channel_is_entertainment', 'data_channel_is_bus',\n",
      "       'data_channel_is_socmed', 'data_channel_is_tech',\n",
      "       'data_channel_is_world', 'kw_min_min', 'kw_max_min', 'kw_avg_min',\n",
      "       'kw_min_max', 'kw_max_max', 'kw_avg_max', 'kw_min_avg', 'kw_max_avg',\n",
      "       'kw_avg_avg', 'self_reference_min_shares', 'self_reference_max_shares',\n",
      "       'self_reference_avg_sharess', 'weekday_is_monday', 'weekday_is_tuesday',\n",
      "       'weekday_is_wednesday', 'weekday_is_thursday', 'weekday_is_friday',\n",
      "       'weekday_is_saturday', 'weekday_is_sunday', 'is_weekend', 'LDA_00',\n",
      "       'LDA_01', 'LDA_02', 'LDA_03', 'LDA_04', 'global_subjectivity',\n",
      "       'global_sentiment_polarity', 'global_rate_positive_words',\n",
      "       'global_rate_negative_words', 'rate_positive_words',\n",
      "       'rate_negative_words', 'avg_positive_polarity', 'min_positive_polarity',\n",
      "       'max_positive_polarity', 'avg_negative_polarity',\n",
      "       'min_negative_polarity', 'max_negative_polarity', 'title_subjectivity',\n",
      "       'title_sentiment_polarity', 'abs_title_subjectivity',\n",
      "       'abs_title_sentiment_polarity', 'shares', 'title', 'content',\n",
      "       'label_by_mean', 'label_by_median'],\n",
      "      dtype='object')\n"
     ]
    }
   ],
   "source": [
    "uci = pd.read_csv(\"../uci_data/OnlineNewsPopularity.csv\", delimiter=\", \")\n",
    "pp(len(uci))\n",
    "\n",
    "uci['title'] = \"\"\n",
    "uci['content'] = \"\"\n",
    "uci['label_by_mean'] = 0\n",
    "uci['label_by_median'] = 0\n",
    "pp(uci.columns)"
   ]
  },
  {
   "cell_type": "code",
   "execution_count": 4,
   "metadata": {},
   "outputs": [
    {
     "data": {
      "text/plain": [
       "(3395.3801836343455, 1400.0, 843300, 1)"
      ]
     },
     "execution_count": 4,
     "metadata": {},
     "output_type": "execute_result"
    }
   ],
   "source": [
    "mean = uci.shares.mean()\n",
    "median = uci.shares.median()\n",
    "maxi = uci.shares.max()\n",
    "mini = uci.shares.min()\n",
    "mean, median, maxi, mini"
   ]
  },
  {
   "cell_type": "code",
   "execution_count": 5,
   "metadata": {},
   "outputs": [
    {
     "data": {
      "text/plain": [
       "(0.7962112803955201, 0.46640096862072444)"
      ]
     },
     "execution_count": 5,
     "metadata": {},
     "output_type": "execute_result"
    }
   ],
   "source": [
    "uci.loc[uci.shares < mean,'shares'].count()/len(uci), uci.loc[uci.shares < median,'shares'].count()/len(uci)"
   ]
  },
  {
   "cell_type": "code",
   "execution_count": 6,
   "metadata": {},
   "outputs": [],
   "source": [
    "uci.loc[uci.shares<mean,'label_by_mean'] = 1\n",
    "uci.loc[uci.shares<median,'label_by_median'] = 1"
   ]
  },
  {
   "cell_type": "code",
   "execution_count": 7,
   "metadata": {},
   "outputs": [
    {
     "name": "stderr",
     "output_type": "stream",
     "text": [
      "100%|██████████████████████████████████████████████████████████████████████████████████████████████████████████████| 39644/39644 [7:32:15<00:00,  1.46it/s]\n"
     ]
    },
    {
     "name": "stdout",
     "output_type": "stream",
     "text": [
      "{'http://mashable.com/2014/02/19/just-like-dad/', 'http://mashable.com/2014/07/02/how-delete-facebook/', 'http://mashable.com/2013/10/16/young-adult-books-cry/', 'http://mashable.com/2014/05/19/nutella-recipe/', 'http://mashable.com/2014/01/24/mac-name-facts/', 'http://mashable.com/2014/02/07/the-beatles-50-years/', 'http://mashable.com/2014/05/07/creative-family-portraits/', 'http://mashable.com/2014/03/05/sun-stars-space-facts/', 'http://mashable.com/2014/12/16/los-angeles-cosby-no-charges/', 'http://mashable.com/2014/12/22/best-content-delivery-networks/', 'http://mashable.com/2014/06/06/son-surprises-father-with-car/', 'http://mashable.com/2014/06/06/d-day-code-names/', 'http://mashable.com/2013/03/09/prizm-home/', 'http://mashable.com/2014/06/10/mobile-apps-organize/', 'http://mashable.com/2013/11/11/family-resources/', 'http://mashable.com/2013/12/03/build-mobile-apps/', 'http://mashable.com/2014/03/25/james-rebhorn-obituary/', 'http://mashable.com/2014/04/21/how-to-sign/', 'http://mashable.com/2014/08/12/funny-memoirs/', 'http://mashable.com/2014/06/10/dove-fathers-day-ad/', 'http://mashable.com/2014/11/26/storytelling-podcasts/', 'http://mashable.com/2014/07/01/lonely-planets-best-in-europe-2014/', 'http://mashable.com/2014/06/28/phone-screen-scratches/', 'http://mashable.com/2014/03/04/free-audiobooks/', 'http://mashable.com/2014/01/06/pinterest-acquires-visualgraph/', 'http://mashable.com/2014/06/03/nyc-subway-train-smoke-fire/', 'http://mashable.com/2013/12/09/food-crazes-2013/', 'http://mashable.com/2013/05/20/social-metrics/', 'http://mashable.com/2014/01/22/sandwich-comic/', 'http://mashable.com/2014/05/26/oven-free-recipes/', 'http://mashable.com/2014/10/29/mercury-music-prize-winner-2014/', 'http://mashable.com/2014/02/06/five-olympic-apps/', 'http://mashable.com/2014/04/08/bottlerocket-vine-dad/', 'http://mashable.com/2014/10/24/world-series-game-3/', 'http://mashable.com/2014/06/02/apple-mac-os-x-10-10-yosemite/', 'http://mashable.com/2014/07/29/heroic-women-wwi/', 'http://mashable.com/2013/04/01/easy-pranks/', 'http://mashable.com/2014/06/16/text-from-laptop/', 'http://mashable.com/2014/06/21/diy-camping-hacks/', 'http://mashable.com/2014/12/08/jose-canseco-twitter/', 'http://mashable.com/2014/05/03/cinco-de-mayo-recipes/', 'http://mashable.com/2013/10/28/creepypastas/', 'http://mashable.com/2014/05/02/websites-to-waste-time/', 'http://mashable.com/2014/08/23/fun-science-projects/', 'http://mashable.com/2013/12/30/dead-frog-salad/', 'http://mashable.com/2014/07/19/free-ebooks/', 'http://mashable.com/2014/09/29/sexting-photo-apps/', 'http://mashable.com/2014/01/09/best-gaming-laptops/', 'http://mashable.com/2014/12/09/apple-predictions-2015/', 'http://mashable.com/2014/08/13/snapchat-tips-and-tricks/', 'http://mashable.com/2014/11/11/lg-g-watch-r-review/', 'http://mashable.com/2013/07/29/datarank/'}\n"
     ]
    }
   ],
   "source": [
    "not_parsed = set()\n",
    "for idx, row in tqdm(uci.iterrows(), total=len(uci)):\n",
    "#     row = uci.loc[idx]  \n",
    "    article = Article(row.url)\n",
    "    article.download()\n",
    "    try:\n",
    "        article.parse()\n",
    "        uci.loc[uci.url == row.url, 'title']=article.title.translate(table)\n",
    "        uci.loc[uci.url == row.url, 'content']=[article.text.translate(table)]\n",
    "        if idx%100 == 0 and idx != 0:\n",
    "            uci[:idx].to_csv(\"../uci_data/OnlineNewsPopularity_extended_{}.csv\".format(idx))\n",
    "#             break\n",
    "    except ArticleException as e:\n",
    "        pass\n",
    "        not_parsed.add(row['url'])\n",
    "#         print(str(e))\n",
    "#         print(row['url'])\n",
    "uci.to_csv(\"../uci_data/OnlineNewsPopularity_extended.csv\")        \n",
    "print(not_parsed)"
   ]
  },
  {
   "cell_type": "code",
   "execution_count": 8,
   "metadata": {},
   "outputs": [
    {
     "data": {
      "text/html": [
       "<div>\n",
       "<style scoped>\n",
       "    .dataframe tbody tr th:only-of-type {\n",
       "        vertical-align: middle;\n",
       "    }\n",
       "\n",
       "    .dataframe tbody tr th {\n",
       "        vertical-align: top;\n",
       "    }\n",
       "\n",
       "    .dataframe thead th {\n",
       "        text-align: right;\n",
       "    }\n",
       "</style>\n",
       "<table border=\"1\" class=\"dataframe\">\n",
       "  <thead>\n",
       "    <tr style=\"text-align: right;\">\n",
       "      <th></th>\n",
       "      <th>title</th>\n",
       "      <th>content</th>\n",
       "    </tr>\n",
       "  </thead>\n",
       "  <tbody>\n",
       "    <tr>\n",
       "      <th>0</th>\n",
       "      <td>Amazons Streaming Video Library Now a Little E...</td>\n",
       "      <td>Having trouble finding something to watch on A...</td>\n",
       "    </tr>\n",
       "    <tr>\n",
       "      <th>1</th>\n",
       "      <td>APs Twitter to Begin Displaying Sponsored Tweets</td>\n",
       "      <td>The Associated Press is the latest news organi...</td>\n",
       "    </tr>\n",
       "    <tr>\n",
       "      <th>2</th>\n",
       "      <td>Apples App Store Passes 40 Billion Downloads</td>\n",
       "      <td>It looks like 2012 was a pretty good year for ...</td>\n",
       "    </tr>\n",
       "    <tr>\n",
       "      <th>3</th>\n",
       "      <td>This Astronaut Is Rooting for Notre Dame Tonight</td>\n",
       "      <td>When it comes to college football NASA astrona...</td>\n",
       "    </tr>\n",
       "    <tr>\n",
       "      <th>4</th>\n",
       "      <td>New UVerse Apps Simplify Sharing Photos and Vi...</td>\n",
       "      <td>LAS VEGAS — Sharing photos and videos on your ...</td>\n",
       "    </tr>\n",
       "  </tbody>\n",
       "</table>\n",
       "</div>"
      ],
      "text/plain": [
       "                                               title  \\\n",
       "0  Amazons Streaming Video Library Now a Little E...   \n",
       "1   APs Twitter to Begin Displaying Sponsored Tweets   \n",
       "2       Apples App Store Passes 40 Billion Downloads   \n",
       "3   This Astronaut Is Rooting for Notre Dame Tonight   \n",
       "4  New UVerse Apps Simplify Sharing Photos and Vi...   \n",
       "\n",
       "                                             content  \n",
       "0  Having trouble finding something to watch on A...  \n",
       "1  The Associated Press is the latest news organi...  \n",
       "2  It looks like 2012 was a pretty good year for ...  \n",
       "3  When it comes to college football NASA astrona...  \n",
       "4  LAS VEGAS — Sharing photos and videos on your ...  "
      ]
     },
     "execution_count": 8,
     "metadata": {},
     "output_type": "execute_result"
    }
   ],
   "source": [
    "uci[['title','content']].head()"
   ]
  },
  {
   "cell_type": "code",
   "execution_count": 9,
   "metadata": {},
   "outputs": [
    {
     "data": {
      "text/html": [
       "<div>\n",
       "<style scoped>\n",
       "    .dataframe tbody tr th:only-of-type {\n",
       "        vertical-align: middle;\n",
       "    }\n",
       "\n",
       "    .dataframe tbody tr th {\n",
       "        vertical-align: top;\n",
       "    }\n",
       "\n",
       "    .dataframe thead th {\n",
       "        text-align: right;\n",
       "    }\n",
       "</style>\n",
       "<table border=\"1\" class=\"dataframe\">\n",
       "  <thead>\n",
       "    <tr style=\"text-align: right;\">\n",
       "      <th></th>\n",
       "      <th>title</th>\n",
       "      <th>content</th>\n",
       "    </tr>\n",
       "  </thead>\n",
       "  <tbody>\n",
       "    <tr>\n",
       "      <th>39639</th>\n",
       "      <td>Samsung app aims to improve autistic childrens...</td>\n",
       "      <td>While some believe smartphones and tablets may...</td>\n",
       "    </tr>\n",
       "    <tr>\n",
       "      <th>39640</th>\n",
       "      <td>Seth Rogen James Franco are planning to livetw...</td>\n",
       "      <td>LOS ANGELES — Call it their exit Interview\\n\\n...</td>\n",
       "    </tr>\n",
       "    <tr>\n",
       "      <th>39641</th>\n",
       "      <td>App developer says Merry Christmas by paying o...</td>\n",
       "      <td>Nothing says Merry Christmas like never having...</td>\n",
       "    </tr>\n",
       "    <tr>\n",
       "      <th>39642</th>\n",
       "      <td>Two dead after Ukraine rocked by series of blasts</td>\n",
       "      <td>Ukrainians were on high alert on Saturday afte...</td>\n",
       "    </tr>\n",
       "    <tr>\n",
       "      <th>39643</th>\n",
       "      <td>8 YouTube channels to watch in 2015</td>\n",
       "      <td>We collectively watch more than 6 billion hour...</td>\n",
       "    </tr>\n",
       "  </tbody>\n",
       "</table>\n",
       "</div>"
      ],
      "text/plain": [
       "                                                   title  \\\n",
       "39639  Samsung app aims to improve autistic childrens...   \n",
       "39640  Seth Rogen James Franco are planning to livetw...   \n",
       "39641  App developer says Merry Christmas by paying o...   \n",
       "39642  Two dead after Ukraine rocked by series of blasts   \n",
       "39643                8 YouTube channels to watch in 2015   \n",
       "\n",
       "                                                 content  \n",
       "39639  While some believe smartphones and tablets may...  \n",
       "39640  LOS ANGELES — Call it their exit Interview\\n\\n...  \n",
       "39641  Nothing says Merry Christmas like never having...  \n",
       "39642  Ukrainians were on high alert on Saturday afte...  \n",
       "39643  We collectively watch more than 6 billion hour...  "
      ]
     },
     "execution_count": 9,
     "metadata": {},
     "output_type": "execute_result"
    }
   ],
   "source": [
    "uci[['title','content']].tail()"
   ]
  },
  {
   "cell_type": "code",
   "execution_count": 10,
   "metadata": {},
   "outputs": [
    {
     "data": {
      "text/plain": [
       "('This sentence has loads of punctuations',\n",
       " '!\"#$%&\\'()*+,-./:;<=>?@[\\\\]^_`{|}~')"
      ]
     },
     "execution_count": 10,
     "metadata": {},
     "output_type": "execute_result"
    }
   ],
   "source": [
    "sentence = \"This sentence has, loads/ of punc-tuations??!\"\n",
    "sentence.translate(table), string.punctuation"
   ]
  },
  {
   "cell_type": "code",
   "execution_count": null,
   "metadata": {},
   "outputs": [],
   "source": []
  }
 ],
 "metadata": {
  "kernelspec": {
   "display_name": "Python 3",
   "language": "python",
   "name": "python3"
  },
  "language_info": {
   "codemirror_mode": {
    "name": "ipython",
    "version": 3
   },
   "file_extension": ".py",
   "mimetype": "text/x-python",
   "name": "python",
   "nbconvert_exporter": "python",
   "pygments_lexer": "ipython3",
   "version": "3.7.6"
  }
 },
 "nbformat": 4,
 "nbformat_minor": 4
}
