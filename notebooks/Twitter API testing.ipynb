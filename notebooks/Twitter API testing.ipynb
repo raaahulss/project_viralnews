{
 "cells": [
  {
   "cell_type": "code",
   "execution_count": 1,
   "metadata": {},
   "outputs": [],
   "source": [
    "import tweepy"
   ]
  },
  {
   "cell_type": "markdown",
   "metadata": {},
   "source": [
    "### Given valid consumer key and secret the authentication is performed successfully "
   ]
  },
  {
   "cell_type": "code",
   "execution_count": 5,
   "metadata": {},
   "outputs": [
    {
     "name": "stdout",
     "output_type": "stream",
     "text": [
      "https://api.twitter.com/oauth/authorize?oauth_token=paAfdQAAAAABDRhgAAABcoiAqFY\n"
     ]
    }
   ],
   "source": [
    "consumer_key='58wlGpzEOwum6nghvA8tj6nz6'\n",
    "consumer_secret='b04KqyzRyquIiYGwqv9B12hRqjEj9tvOp53DtoFZJtetaZ7cZE'\n",
    "\n",
    "auth = tweepy.OAuthHandler(consumer_key, consumer_secret)\n",
    "print(auth.get_authorization_url())"
   ]
  },
  {
   "cell_type": "markdown",
   "metadata": {},
   "source": [
    "### Given invalid or empty or None consumer key and/or secret the authentication is fails"
   ]
  },
  {
   "cell_type": "code",
   "execution_count": 25,
   "metadata": {},
   "outputs": [
    {
     "name": "stdout",
     "output_type": "stream",
     "text": [
      "Error occured Token request failed with code 400, response was '{\"errors\":[{\"code\":215,\"message\":\"Bad Authentication data.\"}]}'.\n",
      "Error occured Token request failed with code 401, response was '{\"errors\":[{\"code\":32,\"message\":\"Could not authenticate you.\"}]}'.\n",
      "Error occured Token request failed with code 400, response was '{\"errors\":[{\"code\":215,\"message\":\"Bad Authentication data.\"}]}'.\n"
     ]
    }
   ],
   "source": [
    "consumer_key=''\n",
    "consumer_secret=''\n",
    "\n",
    "auth = tweepy.OAuthHandler(consumer_key, consumer_secret)\n",
    "try:\n",
    "    print(auth.get_authorization_url())\n",
    "except tweepy.TweepError as e:\n",
    "    print(\"Error occured\",str(e))\n",
    "    auth = None\n",
    "    \n",
    "consumer_key='a'\n",
    "consumer_secret='b'\n",
    "\n",
    "auth = tweepy.OAuthHandler(consumer_key, consumer_secret)\n",
    "try:\n",
    "    print(auth.get_authorization_url())\n",
    "except tweepy.TweepError as e:\n",
    "    print(\"Error occured\",str(e))\n",
    "    auth = None\n",
    "\n",
    "consumer_key=''\n",
    "consumer_secret=None\n",
    "\n",
    "auth = tweepy.OAuthHandler(consumer_key, consumer_secret)\n",
    "try:\n",
    "    print(auth.get_authorization_url())\n",
    "except tweepy.TweepError as e:\n",
    "    print(\"Error occured\",str(e))\n",
    "    auth = None"
   ]
  },
  {
   "cell_type": "markdown",
   "metadata": {},
   "source": [
    "### Given autheticated handler and valid access tokens and valid twitter id, the system returns an appropriate twitter object"
   ]
  },
  {
   "cell_type": "code",
   "execution_count": 19,
   "metadata": {},
   "outputs": [
    {
     "name": "stdout",
     "output_type": "stream",
     "text": [
      "https://api.twitter.com/oauth/authorize?oauth_token=5fh0CwAAAAABDRhgAAABcoiWZK4\n"
     ]
    },
    {
     "data": {
      "text/plain": [
       "1267366725588185091"
      ]
     },
     "execution_count": 19,
     "metadata": {},
     "output_type": "execute_result"
    }
   ],
   "source": [
    "consumer_key='58wlGpzEOwum6nghvA8tj6nz6'\n",
    "consumer_secret='b04KqyzRyquIiYGwqv9B12hRqjEj9tvOp53DtoFZJtetaZ7cZE'\n",
    "access_token_key='1243275961824612358-65qxIlXTEhjw0jlbBaK4I0olH9nRP9'\n",
    "access_token_secret='wYdkYaNCakb7sX5PnHjF1u0oJc7Y73iijqbJ4VeB4yyEd'\n",
    "auth = tweepy.OAuthHandler(consumer_key, consumer_secret)\n",
    "print(auth.get_authorization_url())\n",
    "auth.set_access_token(access_token_key, access_token_secret)\n",
    "\n",
    "api = tweepy.API(auth)\n",
    "api.get_status(1267366725588185091, tweet_mode=\"extended\").id"
   ]
  },
  {
   "cell_type": "markdown",
   "metadata": {},
   "source": [
    "### Given autheticated handler and valid access tokens and invalid twitter id, the system returns an appropriate twitter object"
   ]
  },
  {
   "cell_type": "code",
   "execution_count": 61,
   "metadata": {},
   "outputs": [
    {
     "name": "stdout",
     "output_type": "stream",
     "text": [
      "https://api.twitter.com/oauth/authorize?oauth_token=3JIBcwAAAAABDRhgAAABcoi8YMo\n",
      "error occured [{'code': 8, 'message': 'No data available for specified ID.'}]\n"
     ]
    }
   ],
   "source": [
    "consumer_key='58wlGpzEOwum6nghvA8tj6nz6'\n",
    "consumer_secret='b04KqyzRyquIiYGwqv9B12hRqjEj9tvOp53DtoFZJtetaZ7cZE'\n",
    "access_token_key='1243275961824612358-65qxIlXTEhjw0jlbBaK4I0olH9nRP9'\n",
    "access_token_secret='wYdkYaNCakb7sX5PnHjF1u0oJc7Y73iijqbJ4VeB4yyEd'\n",
    "auth = tweepy.OAuthHandler(consumer_key, consumer_secret)\n",
    "print(auth.get_authorization_url())\n",
    "auth.set_access_token(access_token_key, access_token_secret)\n",
    "\n",
    "api = tweepy.API(auth)\n",
    "try:\n",
    "    api.get_status(12673667255881851212121091, tweet_mode=\"extended\").id\n",
    "except tweepy.TweepError as e:\n",
    "    print(\"error occured\",str(e))"
   ]
  },
  {
   "cell_type": "markdown",
   "metadata": {},
   "source": [
    "### Given autheticated handler and invalid or empy access tokens, the system returns an error while quering for status"
   ]
  },
  {
   "cell_type": "code",
   "execution_count": 59,
   "metadata": {},
   "outputs": [
    {
     "name": "stdout",
     "output_type": "stream",
     "text": [
      "https://api.twitter.com/oauth/authorize?oauth_token=o3-CLQAAAAABDRhgAAABcoi6p2s\n",
      "Error occured [{'code': 32, 'message': 'Could not authenticate you.'}]\n",
      "https://api.twitter.com/oauth/authorize?oauth_token=Z558ogAAAAABDRhgAAABcoi6qK4\n",
      "Error occured [{'code': 89, 'message': 'Invalid or expired token.'}]\n"
     ]
    }
   ],
   "source": [
    "consumer_key='58wlGpzEOwum6nghvA8tj6nz6'\n",
    "consumer_secret='b04KqyzRyquIiYGwqv9B12hRqjEj9tvOp53DtoFZJtetaZ7cZE'\n",
    "access_token_key=''\n",
    "access_token_secret='wYdkYaNCakb7sX5PnHjF1u0oJc7Y73iijqbJ4VeB4yyEd'\n",
    "auth = tweepy.OAuthHandler(consumer_key, consumer_secret)\n",
    "print(auth.get_authorization_url())\n",
    "auth.set_access_token(access_token_key, access_token_secret)\n",
    "\n",
    "api = tweepy.API(auth)\n",
    "try:\n",
    "    api.get_status(1267366725588185091, tweet_mode=\"extended\").id\n",
    "except tweepy.TweepError as e:\n",
    "    print(\"Error occured\", str(e))\n",
    "\n",
    "\n",
    "consumer_key='58wlGpzEOwum6nghvA8tj6nz6'\n",
    "consumer_secret='b04KqyzRyquIiYGwqv9B12hRqjEj9tvOp53DtoFZJtetaZ7cZE'\n",
    "access_token_key='a'\n",
    "access_token_secret='b'\n",
    "auth = tweepy.OAuthHandler(consumer_key, consumer_secret)\n",
    "print(auth.get_authorization_url())\n",
    "auth.set_access_token(access_token_key, access_token_secret)\n",
    "\n",
    "api = tweepy.API(auth)\n",
    "try:\n",
    "    api.get_status(1267366725588185091, tweet_mode=\"extended\").id\n",
    "except tweepy.TweepError as e:\n",
    "    print(\"Error occured\", e)\n"
   ]
  },
  {
   "cell_type": "markdown",
   "metadata": {},
   "source": [
    "### Checking if the tweet is from whitelisted source or retweet from someone."
   ]
  },
  {
   "cell_type": "code",
   "execution_count": 64,
   "metadata": {},
   "outputs": [
    {
     "name": "stdout",
     "output_type": "stream",
     "text": [
      "https://api.twitter.com/oauth/authorize?oauth_token=v7dEQAAAAAABDRhgAAABcoi9F2Q\n"
     ]
    },
    {
     "data": {
      "text/plain": [
       "'MRodOfficial'"
      ]
     },
     "execution_count": 64,
     "metadata": {},
     "output_type": "execute_result"
    }
   ],
   "source": [
    "consumer_key='58wlGpzEOwum6nghvA8tj6nz6'\n",
    "consumer_secret='b04KqyzRyquIiYGwqv9B12hRqjEj9tvOp53DtoFZJtetaZ7cZE'\n",
    "access_token_key='1243275961824612358-65qxIlXTEhjw0jlbBaK4I0olH9nRP9'\n",
    "access_token_secret='wYdkYaNCakb7sX5PnHjF1u0oJc7Y73iijqbJ4VeB4yyEd'\n",
    "auth = tweepy.OAuthHandler(consumer_key, consumer_secret)\n",
    "print(auth.get_authorization_url())\n",
    "auth.set_access_token(access_token_key, access_token_secret)\n",
    "\n",
    "api = tweepy.API(auth)\n",
    "tweet = api.get_status(1267366725588185091, tweet_mode=\"extended\")\n",
    "tweet.author.screen_name"
   ]
  },
  {
   "cell_type": "code",
   "execution_count": 81,
   "metadata": {},
   "outputs": [
    {
     "name": "stdout",
     "output_type": "stream",
     "text": [
      "None\n"
     ]
    }
   ],
   "source": [
    "print(tweet.in_reply_to_status_id)"
   ]
  },
  {
   "cell_type": "code",
   "execution_count": 8,
   "metadata": {},
   "outputs": [
    {
     "output_type": "execute_result",
     "data": {
      "text/plain": "(True, True)"
     },
     "metadata": {},
     "execution_count": 8
    }
   ],
   "source": [
    "x = \"https://twitter.com/nytimes/status/1267366725588185091\".startswith((\"https://twitter.com/\", \"twitter.com/\"))\n",
    "y = \"twitter.com/nytimes/status/1267366725588185091\".startswith((\"https://twitter.com/\", \"twitter.com/\"))\n",
    "x, y"
   ]
  },
  {
   "cell_type": "code",
   "execution_count": 20,
   "metadata": {},
   "outputs": [
    {
     "output_type": "execute_result",
     "data": {
      "text/plain": "('nytimes', '1267366725588185091')"
     },
     "metadata": {},
     "execution_count": 20
    }
   ],
   "source": [
    "import re\n",
    "m = re.match(\"https://twitter.com/(.*)/status/(.*)\", \"https://twitter.com/nytimes/status/1267366725588185091\")\n",
    "n = re.match(\"twitter.com/(.*)/status/(.*)\", \"http://twitter.com/nytimes/status/1267366725588185091\")\n",
    "o = m or n\n",
    "o.group(1),o.group(2)"
   ]
  },
  {
   "cell_type": "code",
   "execution_count": 21,
   "metadata": {},
   "outputs": [
    {
     "output_type": "execute_result",
     "data": {
      "text/plain": "('nytimes', '1267366725588185091')"
     },
     "metadata": {},
     "execution_count": 21
    }
   ],
   "source": [
    "import re\n",
    "m = re.match(\"https://twitter.com/(.*)/status/(.*)\", \"twitter.com/nytimes/status/1267366725588185091\")\n",
    "n = re.match(\"twitter.com/(.*)/status/(.*)\", \"twitter.com/nytimes/status/1267366725588185091\")\n",
    "o = m or n\n",
    "o.group(1),o.group(2)"
   ]
  },
  {
   "cell_type": "code",
   "execution_count": null,
   "metadata": {},
   "outputs": [],
   "source": []
  }
 ],
 "metadata": {
  "kernelspec": {
   "display_name": "Python 3",
   "language": "python",
   "name": "python3"
  },
  "language_info": {
   "codemirror_mode": {
    "name": "ipython",
    "version": 3
   },
   "file_extension": ".py",
   "mimetype": "text/x-python",
   "name": "python",
   "nbconvert_exporter": "python",
   "pygments_lexer": "ipython3",
   "version": "3.7.6-final"
  }
 },
 "nbformat": 4,
 "nbformat_minor": 4
}