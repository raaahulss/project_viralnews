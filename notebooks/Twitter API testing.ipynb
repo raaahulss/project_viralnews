{
 "cells": [
  {
   "cell_type": "code",
   "execution_count": 1,
   "metadata": {},
   "outputs": [],
   "source": [
    "import tweepy\n",
    "import requests\n",
    "import time"
   ]
  },
  {
   "cell_type": "markdown",
   "metadata": {},
   "source": [
    "### Given valid consumer key and secret the authentication is performed successfully "
   ]
  },
  {
   "cell_type": "code",
   "execution_count": 2,
   "metadata": {},
   "outputs": [
    {
     "name": "stdout",
     "output_type": "stream",
     "text": [
      "https://api.twitter.com/oauth/authorize?oauth_token=NkyjjAAAAAABDRhgAAABcpJPu5Y\n"
     ]
    }
   ],
   "source": [
    "consumer_key='58wlGpzEOwum6nghvA8tj6nz6'\n",
    "consumer_secret='b04KqyzRyquIiYGwqv9B12hRqjEj9tvOp53DtoFZJtetaZ7cZE'\n",
    "\n",
    "auth = tweepy.OAuthHandler(consumer_key, consumer_secret)\n",
    "print(auth.get_authorization_url())"
   ]
  },
  {
   "cell_type": "markdown",
   "metadata": {},
   "source": [
    "### Given invalid or empty or None consumer key and/or secret the authentication is fails"
   ]
  },
  {
   "cell_type": "code",
   "execution_count": 3,
   "metadata": {},
   "outputs": [
    {
     "name": "stdout",
     "output_type": "stream",
     "text": [
      "Error occured Token request failed with code 400, response was '{\"errors\":[{\"code\":215,\"message\":\"Bad Authentication data.\"}]}'.\n",
      "Error occured Token request failed with code 401, response was '{\"errors\":[{\"code\":32,\"message\":\"Could not authenticate you.\"}]}'.\n",
      "Error occured Token request failed with code 400, response was '{\"errors\":[{\"code\":215,\"message\":\"Bad Authentication data.\"}]}'.\n"
     ]
    }
   ],
   "source": [
    "consumer_key=''\n",
    "consumer_secret=''\n",
    "\n",
    "auth = tweepy.OAuthHandler(consumer_key, consumer_secret)\n",
    "try:\n",
    "    print(auth.get_authorization_url())\n",
    "except tweepy.TweepError as e:\n",
    "    print(\"Error occured\",str(e))\n",
    "    auth = None\n",
    "    \n",
    "consumer_key='a'\n",
    "consumer_secret='b'\n",
    "\n",
    "auth = tweepy.OAuthHandler(consumer_key, consumer_secret)\n",
    "try:\n",
    "    print(auth.get_authorization_url())\n",
    "except tweepy.TweepError as e:\n",
    "    print(\"Error occured\",str(e))\n",
    "    auth = None\n",
    "\n",
    "consumer_key=''\n",
    "consumer_secret=None\n",
    "\n",
    "auth = tweepy.OAuthHandler(consumer_key, consumer_secret)\n",
    "try:\n",
    "    print(auth.get_authorization_url())\n",
    "except tweepy.TweepError as e:\n",
    "    print(\"Error occured\",str(e))\n",
    "    auth = None"
   ]
  },
  {
   "cell_type": "markdown",
   "metadata": {},
   "source": [
    "### Given autheticated handler and valid access tokens and valid twitter id, the system returns an appropriate twitter object"
   ]
  },
  {
   "cell_type": "code",
   "execution_count": 4,
   "metadata": {},
   "outputs": [
    {
     "name": "stdout",
     "output_type": "stream",
     "text": [
      "https://api.twitter.com/oauth/authorize?oauth_token=bbd7zQAAAAABDRhgAAABcpJPv10\n"
     ]
    },
    {
     "data": {
      "text/plain": [
       "1267366725588185091"
      ]
     },
     "execution_count": 4,
     "metadata": {},
     "output_type": "execute_result"
    }
   ],
   "source": [
    "consumer_key='58wlGpzEOwum6nghvA8tj6nz6'\n",
    "consumer_secret='b04KqyzRyquIiYGwqv9B12hRqjEj9tvOp53DtoFZJtetaZ7cZE'\n",
    "access_token_key='1243275961824612358-65qxIlXTEhjw0jlbBaK4I0olH9nRP9'\n",
    "access_token_secret='wYdkYaNCakb7sX5PnHjF1u0oJc7Y73iijqbJ4VeB4yyEd'\n",
    "auth = tweepy.OAuthHandler(consumer_key, consumer_secret)\n",
    "print(auth.get_authorization_url())\n",
    "auth.set_access_token(access_token_key, access_token_secret)\n",
    "\n",
    "api = tweepy.API(auth)\n",
    "api.get_status(1267366725588185091, tweet_mode=\"extended\").id"
   ]
  },
  {
   "cell_type": "markdown",
   "metadata": {},
   "source": [
    "### Given autheticated handler and valid access tokens and invalid twitter id, the system returns an appropriate twitter object"
   ]
  },
  {
   "cell_type": "code",
   "execution_count": 5,
   "metadata": {},
   "outputs": [
    {
     "name": "stdout",
     "output_type": "stream",
     "text": [
      "https://api.twitter.com/oauth/authorize?oauth_token=rbdeDAAAAAABDRhgAAABcpJPwRU\n",
      "error occured [{'code': 8, 'message': 'No data available for specified ID.'}]\n"
     ]
    }
   ],
   "source": [
    "consumer_key='58wlGpzEOwum6nghvA8tj6nz6'\n",
    "consumer_secret='b04KqyzRyquIiYGwqv9B12hRqjEj9tvOp53DtoFZJtetaZ7cZE'\n",
    "access_token_key='1243275961824612358-65qxIlXTEhjw0jlbBaK4I0olH9nRP9'\n",
    "access_token_secret='wYdkYaNCakb7sX5PnHjF1u0oJc7Y73iijqbJ4VeB4yyEd'\n",
    "auth = tweepy.OAuthHandler(consumer_key, consumer_secret)\n",
    "print(auth.get_authorization_url())\n",
    "auth.set_access_token(access_token_key, access_token_secret)\n",
    "\n",
    "api = tweepy.API(auth)\n",
    "try:\n",
    "    api.get_status(12673667255881851212121091, tweet_mode=\"extended\").id\n",
    "except tweepy.TweepError as e:\n",
    "    print(\"error occured\",str(e))"
   ]
  },
  {
   "cell_type": "markdown",
   "metadata": {},
   "source": [
    "### Given autheticated handler and invalid or empy access tokens, the system returns an error while quering for status"
   ]
  },
  {
   "cell_type": "code",
   "execution_count": 6,
   "metadata": {},
   "outputs": [
    {
     "name": "stdout",
     "output_type": "stream",
     "text": [
      "https://api.twitter.com/oauth/authorize?oauth_token=tDHxKwAAAAABDRhgAAABcpJPwoM\n",
      "Error occured [{'code': 32, 'message': 'Could not authenticate you.'}]\n",
      "https://api.twitter.com/oauth/authorize?oauth_token=1tLzTQAAAAABDRhgAAABcpJPxG8\n",
      "Error occured [{'code': 89, 'message': 'Invalid or expired token.'}]\n"
     ]
    }
   ],
   "source": [
    "consumer_key='58wlGpzEOwum6nghvA8tj6nz6'\n",
    "consumer_secret='b04KqyzRyquIiYGwqv9B12hRqjEj9tvOp53DtoFZJtetaZ7cZE'\n",
    "access_token_key=''\n",
    "access_token_secret='wYdkYaNCakb7sX5PnHjF1u0oJc7Y73iijqbJ4VeB4yyEd'\n",
    "auth = tweepy.OAuthHandler(consumer_key, consumer_secret)\n",
    "print(auth.get_authorization_url())\n",
    "auth.set_access_token(access_token_key, access_token_secret)\n",
    "\n",
    "api = tweepy.API(auth)\n",
    "try:\n",
    "    api.get_status(1267366725588185091, tweet_mode=\"extended\").id\n",
    "except tweepy.TweepError as e:\n",
    "    print(\"Error occured\", str(e))\n",
    "\n",
    "\n",
    "consumer_key='58wlGpzEOwum6nghvA8tj6nz6'\n",
    "consumer_secret='b04KqyzRyquIiYGwqv9B12hRqjEj9tvOp53DtoFZJtetaZ7cZE'\n",
    "access_token_key='a'\n",
    "access_token_secret='b'\n",
    "auth = tweepy.OAuthHandler(consumer_key, consumer_secret)\n",
    "print(auth.get_authorization_url())\n",
    "auth.set_access_token(access_token_key, access_token_secret)\n",
    "\n",
    "api = tweepy.API(auth)\n",
    "try:\n",
    "    api.get_status(1267366725588185091, tweet_mode=\"extended\").id\n",
    "except tweepy.TweepError as e:\n",
    "    print(\"Error occured\", e)\n"
   ]
  },
  {
   "cell_type": "code",
   "execution_count": 17,
   "metadata": {},
   "outputs": [
    {
     "name": "stdout",
     "output_type": "stream",
     "text": [
      "https://api.twitter.com/oauth/authorize?oauth_token=5ldi2wAAAAABDRhgAAABcpKZUIc\n",
      "True\n",
      "{'/search/tweets': {'limit': 180, 'remaining': 180, 'reset': 1591598321}}\n"
     ]
    }
   ],
   "source": [
    "consumer_key='58wlGpzEOwum6nghvA8tj6nz6'\n",
    "consumer_secret='b04KqyzRyquIiYGwqv9B12hRqjEj9tvOp53DtoFZJtetaZ7cZE'\n",
    "access_token_key='1243275961824612358-65qxIlXTEhjw0jlbBaK4I0olH9nRP9'\n",
    "access_token_secret='wYdkYaNCakb7sX5PnHjF1u0oJc7Y73iijqbJ4VeB4yyEd'\n",
    "auth = tweepy.OAuthHandler(consumer_key, consumer_secret)\n",
    "print(auth.get_authorization_url())\n",
    "auth.set_access_token(access_token_key, access_token_secret)\n",
    "\n",
    "api = tweepy.API(auth)\n",
    "tweet = api.get_status(1267366725588185091, tweet_mode=\"extended\")\n",
    "print(tweet.in_reply_to_status_id_str==None)\n",
    "print(api.rate_limit_status()['resources']['search'])"
   ]
  },
  {
   "cell_type": "markdown",
   "metadata": {},
   "source": [
    "### Original tweet has a in_reply_to_status_id as None and retweet has a valid value for this key"
   ]
  },
  {
   "cell_type": "code",
   "execution_count": 2,
   "metadata": {},
   "outputs": [
    {
     "name": "stdout",
     "output_type": "stream",
     "text": [
      "https://api.twitter.com/oauth/authorize?oauth_token=_q7wIwAAAAABDRhgAAABcpVI0Mk\n",
      "None True The New York Times\n",
      "1269460338329739264 False Jane\n"
     ]
    }
   ],
   "source": [
    "\n",
    "consumer_key='58wlGpzEOwum6nghvA8tj6nz6'\n",
    "consumer_secret='b04KqyzRyquIiYGwqv9B12hRqjEj9tvOp53DtoFZJtetaZ7cZE'\n",
    "access_token_key='1243275961824612358-65qxIlXTEhjw0jlbBaK4I0olH9nRP9'\n",
    "access_token_secret='wYdkYaNCakb7sX5PnHjF1u0oJc7Y73iijqbJ4VeB4yyEd'\n",
    "original_tweet = 1269460338329739264  \n",
    "retweet_tweet = 1269461026795393025\n",
    "auth = tweepy.OAuthHandler(consumer_key, consumer_secret)\n",
    "print(auth.get_authorization_url())\n",
    "auth.set_access_token(access_token_key, access_token_secret)\n",
    "\n",
    "api = tweepy.API(auth)\n",
    "tweet_o = api.get_status(original_tweet, tweet_mode=\"extended\")\n",
    "print(tweet_o.in_reply_to_status_id, tweet_o.in_reply_to_status_id_str==None, tweet_o.author.name)\n",
    "tweet_r = api.get_status(retweet_tweet, tweet_mode=\"extended\")\n",
    "print(tweet_r.in_reply_to_status_id, tweet_r.in_reply_to_status_id_str==None, tweet_r.author.name)"
   ]
  },
  {
   "cell_type": "code",
   "execution_count": 6,
   "metadata": {},
   "outputs": [
    {
     "data": {
      "text/plain": [
       "'https://t.co/zHv8ocIPXj'"
      ]
     },
     "execution_count": 6,
     "metadata": {},
     "output_type": "execute_result"
    }
   ],
   "source": [
    "tweet_o.entities[\"urls\"][0][\"url\"]"
   ]
  },
  {
   "cell_type": "code",
   "execution_count": 7,
   "metadata": {},
   "outputs": [
    {
     "data": {
      "text/plain": [
       "'https://www.nytimes.com/2020/06/06/us/protests-today-police-george-floyd.html?smtyp=cur&smid=tw-nytimes'"
      ]
     },
     "execution_count": 7,
     "metadata": {},
     "output_type": "execute_result"
    }
   ],
   "source": [
    "resp = requests.get(tweet_o.entities[\"urls\"][0][\"url\"])\n",
    "resp.url"
   ]
  },
  {
   "cell_type": "code",
   "execution_count": 12,
   "metadata": {},
   "outputs": [],
   "source": []
  },
  {
   "cell_type": "code",
   "execution_count": 53,
   "metadata": {},
   "outputs": [
    {
     "name": "stdout",
     "output_type": "stream",
     "text": [
      "https://api.twitter.com/oauth/authorize?oauth_token=qOU9zQAAAAABDRhgAAABcpLX_Ug\n",
      "Starting with limit 177\n",
      "Started!!\n",
      "17700 1662 Twitter error response: status code = 429\n",
      "98.92451238632202\n",
      "1662\n",
      "remaining limit  177 {'/search/tweets': {'limit': 180, 'remaining': 0, 'reset': 1591602361}}\n"
     ]
    }
   ],
   "source": [
    "# consumer_key='jgEpawjd9vW6Rldr9ipAMiSpI'\n",
    "# consumer_secret='BOxMYACTAsq8pPc6RtuSaz6MxjtHdxQrJfPD7XenUZldQFbEBD'\n",
    "# access_token = \"1241834718041079813-JFGUXnRT8SpduKugapyvHdVkFCNZ6s\"\n",
    "# access_token_secret = \"vMwxlk6jh7Ugbw65joxASEn01JzLCZeq6pDAfdb8XTonn\"\n",
    "\n",
    "consumer_key='58wlGpzEOwum6nghvA8tj6nz6'\n",
    "consumer_secret='b04KqyzRyquIiYGwqv9B12hRqjEj9tvOp53DtoFZJtetaZ7cZE'\n",
    "access_token_key='1243275961824612358-65qxIlXTEhjw0jlbBaK4I0olH9nRP9'\n",
    "access_token_secret='wYdkYaNCakb7sX5PnHjF1u0oJc7Y73iijqbJ4VeB4yyEd'\n",
    "\n",
    "original_tweet = 1269761532033937412  \n",
    "\n",
    "auth = tweepy.OAuthHandler(consumer_key, consumer_secret)\n",
    "print(auth.get_authorization_url())\n",
    "auth.set_access_token(access_token_key, access_token_secret)\n",
    "api = tweepy.API(auth,wait_on_rate_limit_notify=True,)# wait_on_rate_limit=True, )\n",
    "# print(api.rate_limit_status())\n",
    "limit = api.rate_limit_status()['resources']['search']['/search/tweets']['remaining']\n",
    "def get_twitter_url(user_name, status_id):\n",
    "    return \"https://twitter.com/\" + str(user_name) + \"/status/\" + str(status_id)\n",
    "\n",
    "\n",
    "def update_urls(tweet, api, urls):\n",
    "    tweet_id = tweet.id\n",
    "    user_name = tweet.user.screen_name\n",
    "    max_id = None\n",
    "    replies = tweepy.Cursor(api.search, q='to:{}'.format(user_name), count=100, result_type=\"mixed\",\n",
    "                                since_id=tweet_id, max_id=max_id, tweet_mode='extended').items()\n",
    "    count = 0\n",
    "    try:\n",
    "        for reply in replies:\n",
    "            if count == 0:\n",
    "                print(\"Started!!\")\n",
    "            count +=1\n",
    "#             if count%500 == 0:\n",
    "#                 print(count)\n",
    "            if(reply.in_reply_to_status_id == tweet_id):\n",
    "    #             print(reply.id)\n",
    "                urls.append(get_twitter_url(user_name, reply.id))\n",
    "#                 if len(urls) % 100 == 0:\n",
    "#                     print(len(urls))\n",
    "    #             try:\n",
    "    #                 for reply_to_reply in update_urls(reply, api, urls):\n",
    "    #                     pass\n",
    "    #             except Exception:\n",
    "    #                 pass\n",
    "            max_id = reply.id\n",
    "    except tweepy.TweepError as e:\n",
    "        print(count, len(urls), str(e))\n",
    "    return urls\n",
    "if limit == 177:\n",
    "    print(\"Starting with limit\",limit)\n",
    "    urls = []\n",
    "    tweet = api.get_status(original_tweet)\n",
    "    current = time.time()\n",
    "    urls = update_urls(tweet, api, urls)\n",
    "    print(time.time()- current)\n",
    "    print(len(urls))\n",
    "    print(\"remaining limit \",limit,api.rate_limit_status()['resources']['search'])\n",
    "else:\n",
    "    print(\"Can't with limit\",limit,api.rate_limit_status()['resources']['search'])"
   ]
  },
  {
   "cell_type": "markdown",
   "metadata": {},
   "source": [
    "Query : to:@realDonaldTrump since:tweet_id\n",
    "```\n",
    "https://api.twitter.com/oauth/authorize?oauth_token=_b7-3QAAAAABDRhgAAABcpKu-tw\n",
    "Starting with limit 180\n",
    "Started!!\n",
    "2644 227 Twitter error response: status code = 429\n",
    "64.68031620979309\n",
    "227\n",
    "```"
   ]
  },
  {
   "cell_type": "markdown",
   "metadata": {},
   "source": [
    "Query : to:@realDonaldTrump since:tweet_id count=100\n",
    "\n",
    "key = 58wlGpzEOwum6nghvA8tj6nz6\n",
    "```\n",
    "https://api.twitter.com/oauth/authorize?oauth_token=fAy7pgAAAAABDRhgAAABcpLFIq4\n",
    "Starting with limit 180\n",
    "Started!!\n",
    "17905 1641 Twitter error response: status code = 429\n",
    "110.11769199371338\n",
    "1641\n",
    "remaining limit  180 {'/search/tweets': {'limit': 180, 'remaining': 0, 'reset': 1591601193}}\n",
    "\n",
    "```"
   ]
  },
  {
   "cell_type": "code",
   "execution_count": 6,
   "metadata": {},
   "outputs": [
    {
     "data": {
      "text/plain": [
       "{'/search/tweets': {'limit': 180, 'remaining': 180, 'reset': 1591714333}}"
      ]
     },
     "execution_count": 6,
     "metadata": {},
     "output_type": "execute_result"
    }
   ],
   "source": [
    "consumer_key='58wlGpzEOwum6nghvA8tj6nz6'\n",
    "consumer_secret='b04KqyzRyquIiYGwqv9B12hRqjEj9tvOp53DtoFZJtetaZ7cZE'\n",
    "access_token_key='1243275961824612358-65qxIlXTEhjw0jlbBaK4I0olH9nRP9'\n",
    "access_token_secret='wYdkYaNCakb7sX5PnHjF1u0oJc7Y73iijqbJ4VeB4yyEd'\n",
    "\n",
    "original_tweet = 1269761532033937412  \n",
    "\n",
    "auth = tweepy.OAuthHandler(consumer_key, consumer_secret)\n",
    "auth.set_access_token(access_token_key, access_token_secret)\n",
    "# print(auth.access_token)\n",
    "api = tweepy.API(auth,wait_on_rate_limit_notify=True,)# wait_on_rate_limit=True, )\n",
    "\n",
    "api.rate_limit_status()['resources']['search']"
   ]
  },
  {
   "cell_type": "code",
   "execution_count": 9,
   "metadata": {},
   "outputs": [
    {
     "data": {
      "text/plain": [
       "[]"
      ]
     },
     "execution_count": 9,
     "metadata": {},
     "output_type": "execute_result"
    }
   ],
   "source": [
    "consumer_key='58wlGpzEOwum6nghvA8tj6nz6'\n",
    "consumer_secret='b04KqyzRyquIiYGwqv9B12hRqjEj9tvOp53DtoFZJtetaZ7cZE'\n",
    "access_token_key='1243275961824612358-65qxIlXTEhjw0jlbBaK4I0olH9nRP9'\n",
    "access_token_secret='wYdkYaNCakb7sX5PnHjF1u0oJc7Y73iijqbJ4VeB4yyEd'\n",
    "\n",
    "no_url_tweet = 1267202944904151043  \n",
    "\n",
    "auth = tweepy.OAuthHandler(consumer_key, consumer_secret)\n",
    "auth.set_access_token(access_token_key, access_token_secret)\n",
    "# print(auth.access_token)\n",
    "api = tweepy.API(auth,wait_on_rate_limit_notify=True,)# wait_on_rate_limit=True, )\n",
    "\n",
    "resp = api.get_status(no_url_tweet, tweet_mode=\"extended\")\n",
    "resp.entities[\"urls\"]"
   ]
  },
  {
   "cell_type": "code",
   "execution_count": null,
   "metadata": {},
   "outputs": [],
   "source": []
  }
 ],
 "metadata": {
  "kernelspec": {
   "display_name": "Python 3",
   "language": "python",
   "name": "python3"
  },
  "language_info": {
   "codemirror_mode": {
    "name": "ipython",
    "version": 3
   },
   "file_extension": ".py",
   "mimetype": "text/x-python",
   "name": "python",
   "nbconvert_exporter": "python",
   "pygments_lexer": "ipython3",
   "version": "3.7.6"
  }
 },
 "nbformat": 4,
 "nbformat_minor": 4
}
